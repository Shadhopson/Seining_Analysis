{
 "cells": [
  {
   "cell_type": "code",
   "execution_count": 38,
   "metadata": {
    "collapsed": true
   },
   "outputs": [],
   "source": [
    "import pandas as pd\n",
    "import numpy as np\n",
    "import unicodecsv\n",
    "import csv\n",
    "import math\n",
    "import matplotlib.pyplot as plt\n",
    "from datetime import datetime as dt"
   ]
  },
  {
   "cell_type": "code",
   "execution_count": 39,
   "metadata": {
    "collapsed": false
   },
   "outputs": [],
   "source": [
    "fish_df = pd.read_csv('filled_sein.csv')"
   ]
  },
  {
   "cell_type": "code",
   "execution_count": 40,
   "metadata": {
    "collapsed": true
   },
   "outputs": [],
   "source": [
    "drop_list = ['Instructors/ Seine Staff:','# of visitors (Public Seine ONLY)','DO','# student seiners (CLASSES ONLY)',\n",
    "             '# Brought to Ed Center','Salinity','Other info (Gender, Length, Dead/Alive, other physical description)',\n",
    "             'NOTES FROM SEINEING SEASON:','pH']"
   ]
  },
  {
   "cell_type": "code",
   "execution_count": 41,
   "metadata": {
    "collapsed": true
   },
   "outputs": [],
   "source": [
    "fish_df = fish_df.drop(drop_list, axis=1)"
   ]
  },
  {
   "cell_type": "code",
   "execution_count": 42,
   "metadata": {
    "collapsed": true
   },
   "outputs": [],
   "source": [
    "fish_df = fish_df.dropna(subset = ['Common Name'])"
   ]
  },
  {
   "cell_type": "code",
   "execution_count": 45,
   "metadata": {
    "collapsed": false
   },
   "outputs": [
    {
     "data": {
      "text/plain": [
       "{'alewife',\n",
       " 'american eel',\n",
       " 'american shad',\n",
       " 'asian shore crab',\n",
       " 'asian shore crabs',\n",
       " 'atlantic menhaden',\n",
       " 'atlantic silverside',\n",
       " 'atlantic tomcod',\n",
       " 'bay anchovy',\n",
       " 'black sea bass',\n",
       " 'blue crab',\n",
       " 'blue fish',\n",
       " 'blueback herring',\n",
       " 'clams',\n",
       " 'comb jellies',\n",
       " 'comb jelly',\n",
       " 'comb jellys',\n",
       " 'cunner',\n",
       " 'glass shrimp',\n",
       " 'glass shrimp shore shrimp',\n",
       " 'herring',\n",
       " 'lady crab',\n",
       " 'menhaden',\n",
       " 'moon jelly',\n",
       " 'moon jellys',\n",
       " 'mud crab',\n",
       " 'mud snail',\n",
       " 'mud snails',\n",
       " 'muslces',\n",
       " 'mussel',\n",
       " 'northern kingfish',\n",
       " 'northern pipefish',\n",
       " 'oyster drill',\n",
       " 'oyster drill snail',\n",
       " 'oyster drills',\n",
       " 'oyster toad fish',\n",
       " 'oysters',\n",
       " 'pipefish',\n",
       " 'sand shrimp',\n",
       " 'sandworm',\n",
       " 'sea squirt',\n",
       " 'seq squirts',\n",
       " 'shore shrimp',\n",
       " 'silverside',\n",
       " 'silversides',\n",
       " 'snail eggs',\n",
       " 'striped bass',\n",
       " 'stripped bass',\n",
       " 'tautog',\n",
       " 'tunicate sponge',\n",
       " 'winter flounder'}"
      ]
     },
     "execution_count": 45,
     "metadata": {},
     "output_type": "execute_result"
    }
   ],
   "source": [
    "import re\n",
    "fish_list = [re.sub(r'([^\\s\\w]|_)+', '', f) for f in fish_df['Common Name']]\n",
    "fish_list = [f.lower().replace('yoy', '') for f in fish_list]\n",
    "fish_list = [f.strip() for f in fish_list]\n",
    "\n",
    "fish_list = list(set(fish_list))\n",
    "set(fish_list)"
   ]
  },
  {
   "cell_type": "code",
   "execution_count": 46,
   "metadata": {
    "collapsed": true
   },
   "outputs": [],
   "source": [
    "from difflib import SequenceMatcher"
   ]
  },
  {
   "cell_type": "code",
   "execution_count": 47,
   "metadata": {
    "collapsed": true
   },
   "outputs": [],
   "source": [
    "def similar(a, b):\n",
    "    return SequenceMatcher(None, a, b).ratio()"
   ]
  },
  {
   "cell_type": "code",
   "execution_count": 48,
   "metadata": {
    "collapsed": false
   },
   "outputs": [],
   "source": [
    "count = 0\n",
    "for i in range(len(fish_list)):\n",
    "    for j in range(i+1, len(fish_list)):\n",
    "        if similar(fish_list[i], fish_list[j]) > 0.75:\n",
    "            if len(fish_list[i]) < len(fish_list[j]):\n",
    "                fish_list[j] = fish_list[i]\n",
    "            else:\n",
    "                fish_list[i] = fish_list[j]"
   ]
  },
  {
   "cell_type": "code",
   "execution_count": 49,
   "metadata": {
    "collapsed": true
   },
   "outputs": [],
   "source": [
    "fish_list = set(fish_list)"
   ]
  },
  {
   "cell_type": "code",
   "execution_count": 50,
   "metadata": {
    "collapsed": false
   },
   "outputs": [
    {
     "data": {
      "text/plain": [
       "{'alewife',\n",
       " 'american eel',\n",
       " 'american shad',\n",
       " 'asian shore crab',\n",
       " 'atlantic menhaden',\n",
       " 'atlantic silverside',\n",
       " 'atlantic tomcod',\n",
       " 'bay anchovy',\n",
       " 'black sea bass',\n",
       " 'blue crab',\n",
       " 'blue fish',\n",
       " 'blueback herring',\n",
       " 'clams',\n",
       " 'comb jelly',\n",
       " 'cunner',\n",
       " 'glass shrimp',\n",
       " 'glass shrimp shore shrimp',\n",
       " 'herring',\n",
       " 'lady crab',\n",
       " 'menhaden',\n",
       " 'moon jelly',\n",
       " 'mud crab',\n",
       " 'mud snail',\n",
       " 'muslces',\n",
       " 'mussel',\n",
       " 'northern kingfish',\n",
       " 'oyster drill',\n",
       " 'oyster toad fish',\n",
       " 'oysters',\n",
       " 'pipefish',\n",
       " 'sand shrimp',\n",
       " 'sandworm',\n",
       " 'sea squirt',\n",
       " 'shore shrimp',\n",
       " 'silverside',\n",
       " 'snail eggs',\n",
       " 'striped bass',\n",
       " 'tautog',\n",
       " 'tunicate sponge',\n",
       " 'winter flounder'}"
      ]
     },
     "execution_count": 50,
     "metadata": {},
     "output_type": "execute_result"
    }
   ],
   "source": [
    "fish_list"
   ]
  },
  {
   "cell_type": "code",
   "execution_count": null,
   "metadata": {
    "collapsed": true
   },
   "outputs": [],
   "source": []
  },
  {
   "cell_type": "code",
   "execution_count": null,
   "metadata": {
    "collapsed": true
   },
   "outputs": [],
   "source": []
  }
 ],
 "metadata": {
  "anaconda-cloud": {},
  "kernelspec": {
   "display_name": "Python [conda root]",
   "language": "python",
   "name": "conda-root-py"
  },
  "language_info": {
   "codemirror_mode": {
    "name": "ipython",
    "version": 2
   },
   "file_extension": ".py",
   "mimetype": "text/x-python",
   "name": "python",
   "nbconvert_exporter": "python",
   "pygments_lexer": "ipython2",
   "version": "2.7.12"
  }
 },
 "nbformat": 4,
 "nbformat_minor": 1
}
