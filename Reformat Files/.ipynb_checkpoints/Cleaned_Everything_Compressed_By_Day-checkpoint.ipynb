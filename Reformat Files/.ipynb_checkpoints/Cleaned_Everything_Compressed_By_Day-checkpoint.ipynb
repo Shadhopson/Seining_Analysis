{
 "cells": [
  {
   "cell_type": "code",
   "execution_count": 1,
   "metadata": {
    "collapsed": true
   },
   "outputs": [],
   "source": [
    "import pandas as pd\n",
    "import numpy as np\n"
   ]
  },
  {
   "cell_type": "markdown",
   "metadata": {},
   "source": [
    "### Error in CLeaned for analysis all data found. Need to address before further progress can be made. Na's and out of orders show up in our new columns. This appears to come from the process of making Cleaned_For_Analysis_All_Data.csv"
   ]
  },
  {
   "cell_type": "code",
   "execution_count": 5,
   "metadata": {
    "collapsed": false
   },
   "outputs": [],
   "source": [
    "df = pd.read_csv('../Created CSVs/Cleaned_For_Analysis_All_Data.csv')"
   ]
  },
  {
   "cell_type": "code",
   "execution_count": 6,
   "metadata": {
    "collapsed": false
   },
   "outputs": [],
   "source": [
    "df = df.drop(['Unnamed: 0', 'Unnamed: 0.1', 'index'], axis =1)"
   ]
  },
  {
   "cell_type": "code",
   "execution_count": 7,
   "metadata": {
    "collapsed": false
   },
   "outputs": [
    {
     "data": {
      "text/html": [
       "<div>\n",
       "<table border=\"1\" class=\"dataframe\">\n",
       "  <thead>\n",
       "    <tr style=\"text-align: right;\">\n",
       "      <th></th>\n",
       "      <th>Date</th>\n",
       "      <th>Time</th>\n",
       "      <th>Weather &amp; Air Temp:</th>\n",
       "      <th>Water Temp:</th>\n",
       "      <th>Tide Times</th>\n",
       "      <th>Tide is moving</th>\n",
       "      <th>DO</th>\n",
       "      <th>pH</th>\n",
       "      <th>Salinity</th>\n",
       "      <th>Turbidity</th>\n",
       "      <th>...</th>\n",
       "      <th>Other info (Gender, Length, Dead/Alive, other physical description)</th>\n",
       "      <th>NOTES FROM SEINEING SEASON:</th>\n",
       "      <th>Corrected pH</th>\n",
       "      <th>Corrected Water Temp:</th>\n",
       "      <th>Corrected Salinity</th>\n",
       "      <th>Corrected DO</th>\n",
       "      <th>Corrected Quantity</th>\n",
       "      <th>Corrected # Hauls</th>\n",
       "      <th>Grouped Corrected Common Name</th>\n",
       "      <th>Corrected Common Name</th>\n",
       "    </tr>\n",
       "  </thead>\n",
       "  <tbody>\n",
       "    <tr>\n",
       "      <th>0</th>\n",
       "      <td>2008-09-13</td>\n",
       "      <td>NaN</td>\n",
       "      <td>NaN</td>\n",
       "      <td>NaN</td>\n",
       "      <td>NaN</td>\n",
       "      <td>NaN</td>\n",
       "      <td>NaN</td>\n",
       "      <td>NaN</td>\n",
       "      <td>NaN</td>\n",
       "      <td>NaN</td>\n",
       "      <td>...</td>\n",
       "      <td>NaN</td>\n",
       "      <td>NaN</td>\n",
       "      <td>NaN</td>\n",
       "      <td>NaN</td>\n",
       "      <td>NaN</td>\n",
       "      <td>NaN</td>\n",
       "      <td>1</td>\n",
       "      <td>NaN</td>\n",
       "      <td>tunicates</td>\n",
       "      <td>sea squirt</td>\n",
       "    </tr>\n",
       "    <tr>\n",
       "      <th>1</th>\n",
       "      <td>2008-09-13</td>\n",
       "      <td>NaN</td>\n",
       "      <td>NaN</td>\n",
       "      <td>NaN</td>\n",
       "      <td>NaN</td>\n",
       "      <td>NaN</td>\n",
       "      <td>NaN</td>\n",
       "      <td>NaN</td>\n",
       "      <td>NaN</td>\n",
       "      <td>NaN</td>\n",
       "      <td>...</td>\n",
       "      <td>NaN</td>\n",
       "      <td>NaN</td>\n",
       "      <td>NaN</td>\n",
       "      <td>NaN</td>\n",
       "      <td>NaN</td>\n",
       "      <td>NaN</td>\n",
       "      <td>1</td>\n",
       "      <td>NaN</td>\n",
       "      <td>shrimp</td>\n",
       "      <td>shore shrimp</td>\n",
       "    </tr>\n",
       "    <tr>\n",
       "      <th>2</th>\n",
       "      <td>2008-09-13</td>\n",
       "      <td>NaN</td>\n",
       "      <td>NaN</td>\n",
       "      <td>NaN</td>\n",
       "      <td>NaN</td>\n",
       "      <td>NaN</td>\n",
       "      <td>NaN</td>\n",
       "      <td>NaN</td>\n",
       "      <td>NaN</td>\n",
       "      <td>NaN</td>\n",
       "      <td>...</td>\n",
       "      <td>NaN</td>\n",
       "      <td>NaN</td>\n",
       "      <td>NaN</td>\n",
       "      <td>NaN</td>\n",
       "      <td>NaN</td>\n",
       "      <td>NaN</td>\n",
       "      <td>1</td>\n",
       "      <td>NaN</td>\n",
       "      <td>shrimp</td>\n",
       "      <td>mantis shrimp</td>\n",
       "    </tr>\n",
       "    <tr>\n",
       "      <th>3</th>\n",
       "      <td>2008-09-13</td>\n",
       "      <td>NaN</td>\n",
       "      <td>NaN</td>\n",
       "      <td>NaN</td>\n",
       "      <td>NaN</td>\n",
       "      <td>NaN</td>\n",
       "      <td>NaN</td>\n",
       "      <td>NaN</td>\n",
       "      <td>NaN</td>\n",
       "      <td>NaN</td>\n",
       "      <td>...</td>\n",
       "      <td>NaN</td>\n",
       "      <td>NaN</td>\n",
       "      <td>NaN</td>\n",
       "      <td>NaN</td>\n",
       "      <td>NaN</td>\n",
       "      <td>NaN</td>\n",
       "      <td>1</td>\n",
       "      <td>NaN</td>\n",
       "      <td>shrimp</td>\n",
       "      <td>sand shrimp</td>\n",
       "    </tr>\n",
       "    <tr>\n",
       "      <th>4</th>\n",
       "      <td>2008-09-13</td>\n",
       "      <td>NaN</td>\n",
       "      <td>NaN</td>\n",
       "      <td>NaN</td>\n",
       "      <td>NaN</td>\n",
       "      <td>NaN</td>\n",
       "      <td>NaN</td>\n",
       "      <td>NaN</td>\n",
       "      <td>NaN</td>\n",
       "      <td>NaN</td>\n",
       "      <td>...</td>\n",
       "      <td>NaN</td>\n",
       "      <td>NaN</td>\n",
       "      <td>NaN</td>\n",
       "      <td>NaN</td>\n",
       "      <td>NaN</td>\n",
       "      <td>NaN</td>\n",
       "      <td>1</td>\n",
       "      <td>NaN</td>\n",
       "      <td>hermit crab</td>\n",
       "      <td>unidentified hermit crab</td>\n",
       "    </tr>\n",
       "  </tbody>\n",
       "</table>\n",
       "<p>5 rows × 28 columns</p>\n",
       "</div>"
      ],
      "text/plain": [
       "         Date Time Weather & Air Temp: Water Temp: Tide Times Tide is moving  \\\n",
       "0  2008-09-13  NaN                 NaN         NaN        NaN            NaN   \n",
       "1  2008-09-13  NaN                 NaN         NaN        NaN            NaN   \n",
       "2  2008-09-13  NaN                 NaN         NaN        NaN            NaN   \n",
       "3  2008-09-13  NaN                 NaN         NaN        NaN            NaN   \n",
       "4  2008-09-13  NaN                 NaN         NaN        NaN            NaN   \n",
       "\n",
       "    DO   pH Salinity Turbidity            ...             \\\n",
       "0  NaN  NaN      NaN       NaN            ...              \n",
       "1  NaN  NaN      NaN       NaN            ...              \n",
       "2  NaN  NaN      NaN       NaN            ...              \n",
       "3  NaN  NaN      NaN       NaN            ...              \n",
       "4  NaN  NaN      NaN       NaN            ...              \n",
       "\n",
       "  Other info (Gender, Length, Dead/Alive, other physical description)  \\\n",
       "0                                                NaN                    \n",
       "1                                                NaN                    \n",
       "2                                                NaN                    \n",
       "3                                                NaN                    \n",
       "4                                                NaN                    \n",
       "\n",
       "  NOTES FROM SEINEING SEASON: Corrected pH Corrected Water Temp:  \\\n",
       "0                         NaN          NaN                   NaN   \n",
       "1                         NaN          NaN                   NaN   \n",
       "2                         NaN          NaN                   NaN   \n",
       "3                         NaN          NaN                   NaN   \n",
       "4                         NaN          NaN                   NaN   \n",
       "\n",
       "  Corrected Salinity Corrected DO Corrected Quantity Corrected # Hauls  \\\n",
       "0                NaN          NaN                  1               NaN   \n",
       "1                NaN          NaN                  1               NaN   \n",
       "2                NaN          NaN                  1               NaN   \n",
       "3                NaN          NaN                  1               NaN   \n",
       "4                NaN          NaN                  1               NaN   \n",
       "\n",
       "  Grouped Corrected Common Name     Corrected Common Name  \n",
       "0                     tunicates                sea squirt  \n",
       "1                        shrimp              shore shrimp  \n",
       "2                        shrimp             mantis shrimp  \n",
       "3                        shrimp               sand shrimp  \n",
       "4                   hermit crab  unidentified hermit crab  \n",
       "\n",
       "[5 rows x 28 columns]"
      ]
     },
     "execution_count": 7,
     "metadata": {},
     "output_type": "execute_result"
    }
   ],
   "source": [
    "df.head()"
   ]
  },
  {
   "cell_type": "code",
   "execution_count": 8,
   "metadata": {
    "collapsed": false
   },
   "outputs": [],
   "source": [
    "grouped_df = df.groupby('Date')"
   ]
  },
  {
   "cell_type": "code",
   "execution_count": 62,
   "metadata": {
    "collapsed": false
   },
   "outputs": [
    {
     "data": {
      "text/plain": [
       "'blue crab,comb jelly,spider crab,jellyfish,tunicates,sea snail,atlantic silverside'"
      ]
     },
     "execution_count": 62,
     "metadata": {},
     "output_type": "execute_result"
    }
   ],
   "source": [
    "\",\".join(list(grouped_df.get_group('2011-07-12')['Grouped Corrected Common Name']))"
   ]
  },
  {
   "cell_type": "code",
   "execution_count": 41,
   "metadata": {
    "collapsed": false
   },
   "outputs": [
    {
     "name": "stdout",
     "output_type": "stream",
     "text": [
      "Date\n",
      "Time\n",
      "Weather & Air Temp:\n",
      "Water Temp:\n",
      "Tide Times\n",
      "Tide is moving\n",
      "DO\n",
      "pH\n",
      "Salinity\n",
      "Turbidity\n",
      "# student seiners (CLASSES ONLY)\n",
      "# of visitors (Public Seine ONLY)\n",
      "Instructors/ Seine Staff:\n",
      "# Hauls\n",
      "Scientific Name\n",
      "Common Name\n",
      "Quantity\n",
      "# Brought to Ed Center\n",
      "Other info (Gender, Length, Dead/Alive, other physical description)\n",
      "NOTES FROM SEINEING SEASON:\n",
      "Corrected pH\n",
      "Corrected Water Temp:\n",
      "Corrected Salinity\n",
      "Corrected DO\n",
      "Corrected Quantity\n",
      "Corrected # Hauls\n",
      "Grouped Corrected Common Name\n",
      "Corrected Common Name\n"
     ]
    }
   ],
   "source": [
    "for col in grouped_df.get_group('2011-07-12').columns:\n",
    "    print col"
   ]
  },
  {
   "cell_type": "code",
   "execution_count": 9,
   "metadata": {
    "collapsed": true
   },
   "outputs": [],
   "source": [
    "from collections import defaultdict"
   ]
  },
  {
   "cell_type": "code",
   "execution_count": 10,
   "metadata": {
    "collapsed": true
   },
   "outputs": [],
   "source": [
    "dict_df = defaultdict(list)"
   ]
  },
  {
   "cell_type": "code",
   "execution_count": 11,
   "metadata": {
    "collapsed": false
   },
   "outputs": [],
   "source": [
    "\n",
    "for date in grouped_df.groups:\n",
    "    for col in grouped_df.get_group(date).columns:\n",
    "        if col in ['Grouped Corrected Common Name','Corrected Common Name','Corrected Quantity', 'Common Name', 'Quantity']:\n",
    "            dict_df[col].append(\",\".join([str(x) for x in list(grouped_df.get_group(date)[col])]))\n",
    "        else:\n",
    "            dict_df[col].append(list(grouped_df.get_group(date)[col])[0])\n",
    "        "
   ]
  },
  {
   "cell_type": "code",
   "execution_count": 13,
   "metadata": {
    "collapsed": false
   },
   "outputs": [],
   "source": [
    "combined_df =  pd.DataFrame(dict_df)"
   ]
  },
  {
   "cell_type": "code",
   "execution_count": 24,
   "metadata": {
    "collapsed": false
   },
   "outputs": [
    {
     "data": {
      "text/plain": [
       "28"
      ]
     },
     "execution_count": 24,
     "metadata": {},
     "output_type": "execute_result"
    }
   ],
   "source": [
    "len(combined_df.columns)"
   ]
  },
  {
   "cell_type": "code",
   "execution_count": 27,
   "metadata": {
    "collapsed": false
   },
   "outputs": [],
   "source": [
    "combined_df = combined_df[['Date','Time','Weather & Air Temp:','Water Temp:','Corrected Water Temp:','pH','Corrected pH','DO',\n",
    "              'Corrected DO','Turbidity','Salinity',\n",
    "              'Corrected Salinity','Tide is moving','Tide Times','# Hauls','Corrected # Hauls','Common Name', 'Corrected Common Name', \n",
    "              'Grouped Corrected Common Name', 'Quantity', \n",
    "             'Corrected Quantity', 'Scientific Name',\n",
    "            'Instructors/ Seine Staff:','# student seiners (CLASSES ONLY)',\n",
    "             '# of visitors (Public Seine ONLY)', '# Brought to Ed Center',\n",
    "            'NOTES FROM SEINEING SEASON:']].sort_values(by = 'Date').reset_index().drop('index', axis=1)"
   ]
  },
  {
   "cell_type": "code",
   "execution_count": 29,
   "metadata": {
    "collapsed": false
   },
   "outputs": [],
   "source": [
    "combined_df.to_csv('../Created CSVs/Cleaned_For_Analysis_Compressed_By_Day.csv')"
   ]
  },
  {
   "cell_type": "code",
   "execution_count": null,
   "metadata": {
    "collapsed": true
   },
   "outputs": [],
   "source": []
  }
 ],
 "metadata": {
  "anaconda-cloud": {},
  "kernelspec": {
   "display_name": "Python [conda root]",
   "language": "python",
   "name": "conda-root-py"
  },
  "language_info": {
   "codemirror_mode": {
    "name": "ipython",
    "version": 2
   },
   "file_extension": ".py",
   "mimetype": "text/x-python",
   "name": "python",
   "nbconvert_exporter": "python",
   "pygments_lexer": "ipython2",
   "version": "2.7.12"
  }
 },
 "nbformat": 4,
 "nbformat_minor": 1
}
