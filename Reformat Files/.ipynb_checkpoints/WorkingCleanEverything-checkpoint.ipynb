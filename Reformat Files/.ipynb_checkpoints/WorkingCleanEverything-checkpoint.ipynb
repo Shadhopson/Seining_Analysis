{
 "cells": [
  {
   "cell_type": "code",
   "execution_count": 259,
   "metadata": {
    "collapsed": true
   },
   "outputs": [],
   "source": [
    "import pandas as pd\n",
    "import dateutil.parser\n",
    "import re\n",
    "import numpy as np"
   ]
  },
  {
   "cell_type": "markdown",
   "metadata": {},
   "source": [
    "## Something's wrong here. Why does all seins all data standard dates have 5 more rows than combined name corrected or the other one? And why in my finished df is the species out of order, atlantic menhaden is in the wrong spot and it shuffles it all around"
   ]
  },
  {
   "cell_type": "code",
   "execution_count": 260,
   "metadata": {
    "collapsed": true
   },
   "outputs": [],
   "source": [
    "df = pd.read_csv('../Created CSVs/all_seins_all_data_standard_dates.csv')"
   ]
  },
  {
   "cell_type": "code",
   "execution_count": 261,
   "metadata": {
    "collapsed": false
   },
   "outputs": [],
   "source": [
    "df['Date'] =  [dateutil.parser.parse(date) for date in list(df['Date'])]"
   ]
  },
  {
   "cell_type": "code",
   "execution_count": 262,
   "metadata": {
    "collapsed": true
   },
   "outputs": [],
   "source": [
    "def fix_ph(pH_li):\n",
    "    pH_list  = []\n",
    "    pH_li = pH_li.fillna('')\n",
    "    pH_lists  = [re.findall('\\d+\\.*', x ) for x in pH_li]\n",
    "\n",
    "    for pH in pH_lists:\n",
    "        if len(pH) == 0:\n",
    "            pH_list.append(np.NaN)\n",
    "        elif len(pH) ==  1:\n",
    "            pH_list.append(pH[0])\n",
    "            #print pH[0]\n",
    "        elif pH[0][-1] == '.':\n",
    "            pH_list.append(pH[0]+pH[1])\n",
    "            #print pH[0]+pH[1]\n",
    "        else:\n",
    "            pH_list.append(pH[0])\n",
    "            #print 'bad',pH[1], pH\n",
    "    #pHCompare['pH'] = pH_list\n",
    "    return [float(x) for x in pH_list]"
   ]
  },
  {
   "cell_type": "code",
   "execution_count": 263,
   "metadata": {
    "collapsed": true
   },
   "outputs": [],
   "source": [
    "df['Corrected pH'] = fix_ph(df['pH'])"
   ]
  },
  {
   "cell_type": "code",
   "execution_count": 264,
   "metadata": {
    "collapsed": false
   },
   "outputs": [],
   "source": [
    "def fix_water_temp(h20_temp_list):\n",
    "    water_temp_list = []\n",
    "    h20_temp_list = h20_temp_list.fillna('')\n",
    "    h20_temp_list  = [re.findall('\\d+\\.*', x ) for x in h20_temp_list]\n",
    "    for temp in h20_temp_list:\n",
    "        #print temp\n",
    "        if len(temp) == 0:\n",
    "            water_temp_list.append(np.NaN)\n",
    "        elif len(temp) ==  1:\n",
    "            if int(temp[0]) < 30:\n",
    "                new_temp = int(temp[0]) * 9.0/5 + 32\n",
    "                water_temp_list.append(str(new_temp))\n",
    "            else:\n",
    "                water_temp_list.append(temp[0])\n",
    "            #print pH[0]\n",
    "        elif temp[0][-1] == '.':\n",
    "            water_temp_list.append(temp[0]+temp[1])\n",
    "            #print pH[0]+pH[1]\n",
    "        else:\n",
    "            water_temp_list.append(temp[0])\n",
    "    \n",
    "    return [float(x) for x in water_temp_list]"
   ]
  },
  {
   "cell_type": "code",
   "execution_count": 265,
   "metadata": {
    "collapsed": true
   },
   "outputs": [],
   "source": [
    "df[\"Corrected Water Temp:\"] = fix_water_temp(df['Water Temp:'])"
   ]
  },
  {
   "cell_type": "code",
   "execution_count": 266,
   "metadata": {
    "collapsed": false
   },
   "outputs": [],
   "source": [
    "def fix_salinity(sal_list):\n",
    "    salinity = []\n",
    "    for sal in sal_list:\n",
    "        if sal != sal:\n",
    "            salinity.append(sal)\n",
    "        elif any(char.isdigit() for char in sal) == False:\n",
    "            salinity.append(np.NAN)\n",
    "        else:\n",
    "            first_num  = re.search(r'\\d+', sal).group()\n",
    "            salinity.append(first_num)\n",
    "    return [float(x) for x in salinity]"
   ]
  },
  {
   "cell_type": "code",
   "execution_count": 267,
   "metadata": {
    "collapsed": true
   },
   "outputs": [],
   "source": [
    "df['Corrected Salinity'] = fix_salinity(df['Salinity'])"
   ]
  },
  {
   "cell_type": "code",
   "execution_count": 268,
   "metadata": {
    "collapsed": false
   },
   "outputs": [],
   "source": [
    "def fix_DO(DO_list):\n",
    "    cleaned_list = []\n",
    "    DO_list = DO_list.fillna('')\n",
    "    DO_list  = [re.findall('\\d+\\.*', x ) for x in DO_list]\n",
    "\n",
    "    for DO in DO_list:\n",
    "        if len(DO) == 0:\n",
    "            cleaned_list.append(np.NaN)\n",
    "        else:\n",
    "            cleaned_list.append(int(DO[0]))\n",
    "       \n",
    "    return cleaned_list"
   ]
  },
  {
   "cell_type": "code",
   "execution_count": 269,
   "metadata": {
    "collapsed": true
   },
   "outputs": [],
   "source": [
    "df['Corrected DO'] = fix_DO(df['DO'])"
   ]
  },
  {
   "cell_type": "code",
   "execution_count": 270,
   "metadata": {
    "collapsed": true
   },
   "outputs": [],
   "source": [
    "df['Corrected Quantity'] = df['Quantity'].fillna(1)"
   ]
  },
  {
   "cell_type": "code",
   "execution_count": 271,
   "metadata": {
    "collapsed": true
   },
   "outputs": [],
   "source": [
    "def is_number(s):\n",
    "    try:\n",
    "        float(s)\n",
    "        return True\n",
    "    except ValueError:\n",
    "        return False"
   ]
  },
  {
   "cell_type": "code",
   "execution_count": 272,
   "metadata": {
    "collapsed": true
   },
   "outputs": [],
   "source": [
    "def fix_quantity(quant_list):\n",
    "    num_caught_list = []\n",
    "    for num in list(quant_list):\n",
    "        if type(num) ==  int:\n",
    "            num_caught_list.append(num)\n",
    "        elif is_number(num):\n",
    "            num_caught_list.append(int(float(num)))\n",
    "        else:\n",
    "            number = ''\n",
    "            started = False\n",
    "            for char in num:\n",
    "                if char.isdigit():\n",
    "                    number += char\n",
    "                    started = True\n",
    "                else:\n",
    "                    if char == '~':\n",
    "                        print started\n",
    "                    if started:\n",
    "                        break\n",
    "            if len(number):\n",
    "                num_caught_list.append(int(number))\n",
    "            else:\n",
    "                if num in ['Numerous', 'TMTC', 'Too Many To Count']:\n",
    "                    num_caught_list.append(30)\n",
    "                else:\n",
    "                    num_caught_list.append(1)\n",
    "    return num_caught_list"
   ]
  },
  {
   "cell_type": "code",
   "execution_count": 273,
   "metadata": {
    "collapsed": false
   },
   "outputs": [
    {
     "name": "stdout",
     "output_type": "stream",
     "text": [
      "False\n",
      "False\n",
      "False\n"
     ]
    }
   ],
   "source": [
    "df['Corrected Quantity'] = fix_quantity(df['Corrected Quantity'])"
   ]
  },
  {
   "cell_type": "code",
   "execution_count": 274,
   "metadata": {
    "collapsed": false
   },
   "outputs": [],
   "source": [
    "def fix_hauls(hauls_li):\n",
    "    #?, Many, and Unknown have all been gotten rid of and not replaced by a number.\n",
    "    clean_hauls = []\n",
    "    for haul in hauls_li:\n",
    "        if haul != haul:\n",
    "            clean_hauls.append(np.nan)\n",
    "        elif any(char.isdigit() for char in haul):\n",
    "            first_num  = re.search(r'\\d+', haul).group()\n",
    "            clean_hauls.append(first_num)\n",
    "        else:\n",
    "            clean_hauls.append(np.nan)\n",
    "    return clean_hauls"
   ]
  },
  {
   "cell_type": "code",
   "execution_count": 275,
   "metadata": {
    "collapsed": false
   },
   "outputs": [],
   "source": [
    "df['Corrected # Hauls'] = fix_hauls(df['# Hauls'])"
   ]
  },
  {
   "cell_type": "markdown",
   "metadata": {},
   "source": [
    "### Using CSV's made in *Severe_Correct_Fish_Names_In_All_Seins_CSV_And_Make_Name_Corrected_All_Seins_CSV.ipynb* and  *Correct_Fish_Names_In_All_Seins_CSV_And_Make_Non_Combined_Name_Corrected_All_Seins_CSV.ipynb* because these changes are extensive"
   ]
  },
  {
   "cell_type": "code",
   "execution_count": 276,
   "metadata": {
    "collapsed": true
   },
   "outputs": [],
   "source": [
    "df2 = pd.read_csv('../Created CSVs/Combined_Name_Corrected_All_Seins.csv')"
   ]
  },
  {
   "cell_type": "code",
   "execution_count": 277,
   "metadata": {
    "collapsed": false
   },
   "outputs": [],
   "source": [
    "#df2[df2['Date']=='2011-07-12 00:00:00']['Species']"
   ]
  },
  {
   "cell_type": "code",
   "execution_count": 278,
   "metadata": {
    "collapsed": false
   },
   "outputs": [],
   "source": [
    "#a = len(list(df2['Species']))"
   ]
  },
  {
   "cell_type": "code",
   "execution_count": 279,
   "metadata": {
    "collapsed": false
   },
   "outputs": [],
   "source": [
    "#print a"
   ]
  },
  {
   "cell_type": "code",
   "execution_count": 280,
   "metadata": {
    "collapsed": false
   },
   "outputs": [],
   "source": [
    "#df3.info()"
   ]
  },
  {
   "cell_type": "code",
   "execution_count": 281,
   "metadata": {
    "collapsed": false
   },
   "outputs": [],
   "source": [
    "#df.info()"
   ]
  },
  {
   "cell_type": "code",
   "execution_count": 282,
   "metadata": {
    "collapsed": false
   },
   "outputs": [],
   "source": [
    "df['Grouped Corrected Common Name'] = df2['Species']"
   ]
  },
  {
   "cell_type": "code",
   "execution_count": 283,
   "metadata": {
    "collapsed": true
   },
   "outputs": [],
   "source": [
    "df3 = pd.read_csv('../Created CSVs/Non_Combined_Name_Corrected_All_Seins.csv')"
   ]
  },
  {
   "cell_type": "code",
   "execution_count": 284,
   "metadata": {
    "collapsed": false
   },
   "outputs": [],
   "source": [
    "df['Corrected Common Name'] = df3['Species']"
   ]
  },
  {
   "cell_type": "code",
   "execution_count": 285,
   "metadata": {
    "collapsed": false
   },
   "outputs": [],
   "source": [
    "#df[df['Date'] == '2011-07-12']"
   ]
  },
  {
   "cell_type": "code",
   "execution_count": 286,
   "metadata": {
    "collapsed": false
   },
   "outputs": [],
   "source": [
    "#df.columns"
   ]
  },
  {
   "cell_type": "markdown",
   "metadata": {},
   "source": [
    "#### not yet cleaned: Time, Weather & Air Temp, Tide Times, Tide is Moving, Turbidity, # student seiners, # visitors, instructors, Scientific Name, Brought to Ed Center, Other Info, Notes from Seining\n",
    "#### Of these Weather & Air Temp, Tide Times Tide is Moving and Turbidity should be done. The rest probably don't matter\n",
    "#### I'd also like to see if we can pull from outside data for Weather & Air Temp, Water Temp, Tide Times, Tide is Moving, DO, pH, Salinity, and Turbidity. If so we could get better readings."
   ]
  },
  {
   "cell_type": "markdown",
   "metadata": {},
   "source": [
    "#### Time should be start time, end time, length of seine - 3 columns, Weather and Air Temp should be 2 Weather and Air Temp, plus both from other origin."
   ]
  },
  {
   "cell_type": "markdown",
   "metadata": {},
   "source": [
    "#### if you wanted to make a  further interesting and easy to work with csv, you can make one that combines all the animals caught list, and amount caught into one row with a comma separated string."
   ]
  },
  {
   "cell_type": "code",
   "execution_count": 186,
   "metadata": {
    "collapsed": true
   },
   "outputs": [],
   "source": [
    "df.to_csv('../Created CSVs/Cleaned_For_Analysis_All_Data.csv')"
   ]
  },
  {
   "cell_type": "code",
   "execution_count": 287,
   "metadata": {
    "collapsed": false
   },
   "outputs": [],
   "source": [
    "#df[df['Date'] == '2011-07-12'][['Common Name', 'Corrected Common Name', 'Grouped Corrected Common Name']]"
   ]
  },
  {
   "cell_type": "code",
   "execution_count": 154,
   "metadata": {
    "collapsed": false
   },
   "outputs": [],
   "source": [
    "#df[df['Date'] == '2011-07-12']"
   ]
  },
  {
   "cell_type": "code",
   "execution_count": null,
   "metadata": {
    "collapsed": true
   },
   "outputs": [],
   "source": []
  }
 ],
 "metadata": {
  "anaconda-cloud": {},
  "kernelspec": {
   "display_name": "Python [conda root]",
   "language": "python",
   "name": "conda-root-py"
  },
  "language_info": {
   "codemirror_mode": {
    "name": "ipython",
    "version": 2
   },
   "file_extension": ".py",
   "mimetype": "text/x-python",
   "name": "python",
   "nbconvert_exporter": "python",
   "pygments_lexer": "ipython2",
   "version": "2.7.12"
  }
 },
 "nbformat": 4,
 "nbformat_minor": 1
}
