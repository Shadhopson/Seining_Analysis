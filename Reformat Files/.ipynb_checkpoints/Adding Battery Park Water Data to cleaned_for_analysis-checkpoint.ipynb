{
 "cells": [
  {
   "cell_type": "markdown",
   "metadata": {},
   "source": [
    "## Let's go ahead and add in our water temperature from Battery Park"
   ]
  },
  {
   "cell_type": "markdown",
   "metadata": {},
   "source": [
    "### Non-functioning for now"
   ]
  },
  {
   "cell_type": "code",
   "execution_count": null,
   "metadata": {},
   "outputs": [],
   "source": [
    "df = pd.read_csv('../Created CSVs/Cleaned_For_Analysis_All_Data.csv')"
   ]
  },
  {
   "cell_type": "code",
   "execution_count": null,
   "metadata": {},
   "outputs": [],
   "source": [
    "import cPickle as pickle\n",
    "\n",
    "with open('../Created CSVs/water_temp_data.p', 'rb') as fp:\n",
    "    data = pickle.load(fp)\n",
    "\n",
    "\n",
    "\n",
    "#data['2010-08-10']\n",
    "\n",
    "#data\n",
    "\n",
    "temp_list = []\n",
    "for i in range(len(list(df['Date']))):\n",
    "    try:\n",
    "        temp_list.append(data[str(df['Date'][i])[:10]])\n",
    "    except:\n",
    "        temp_list.append('')\n",
    "\n",
    "df['Battery Park Water Temp'] = temp_list\n",
    "\n",
    "df['Battery Park Water Temp'] = df['Battery Park Water Temp'].replace('', np.NAN)\n",
    "\n",
    "df.columns\n",
    "\n",
    "import matplotlib.pyplot as plt\n",
    "%matplotlib inline\n",
    "\n",
    "plt.plot(df[['Corrected Water Temp:', 'Battery Park Water Temp']].dropna())\n",
    "\n",
    "df.to_csv('../Created CSVs/Cleaned_For_Analysis_All_Data.csv')\n",
    "\n",
    "#pd.options.display.max_rows = 999\n",
    "\n",
    "#Looks good!\n",
    "#df[['Salinity', 'Corrected Salinity', 'DO', 'Corrected DO', 'pH', 'Corrected pH', 'Quantity', 'Corrected Quantity', '# Hauls', 'Corrected # Hauls', 'Water Temp:', 'Corrected Water Temp:']]\n",
    "\n",
    "#checks out!\n",
    "#df[['Date','Corrected Quantity','Common Name', 'Corrected Common Name', 'Grouped Corrected Common Name']]"
   ]
  }
 ],
 "metadata": {
  "kernelspec": {
   "display_name": "Python 3",
   "language": "python",
   "name": "python3"
  },
  "language_info": {
   "codemirror_mode": {
    "name": "ipython",
    "version": 3
   },
   "file_extension": ".py",
   "mimetype": "text/x-python",
   "name": "python",
   "nbconvert_exporter": "python",
   "pygments_lexer": "ipython3",
   "version": "3.7.3"
  }
 },
 "nbformat": 4,
 "nbformat_minor": 2
}
