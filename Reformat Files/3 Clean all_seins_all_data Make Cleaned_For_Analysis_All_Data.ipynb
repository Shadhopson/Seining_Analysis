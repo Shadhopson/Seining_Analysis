{
 "cells": [
  {
   "cell_type": "code",
   "execution_count": 103,
   "metadata": {},
   "outputs": [],
   "source": [
    "import pandas as pd\n",
    "import dateutil.parser\n",
    "import re\n",
    "import numpy as np"
   ]
  },
  {
   "cell_type": "code",
   "execution_count": 104,
   "metadata": {},
   "outputs": [],
   "source": [
    "df = pd.read_csv('../Created CSVs/all_seins_all_data_standard_dates.csv')"
   ]
  },
  {
   "cell_type": "code",
   "execution_count": 105,
   "metadata": {},
   "outputs": [],
   "source": [
    "df['Date'] =  [dateutil.parser.parse(date) for date in list(df['Date'])]"
   ]
  },
  {
   "cell_type": "code",
   "execution_count": 106,
   "metadata": {},
   "outputs": [],
   "source": [
    "def fix_ph(pH_li):\n",
    "    pH_list  = []\n",
    "    pH_li = pH_li.fillna('')\n",
    "    pH_lists  = [re.findall('\\d+\\.*', x ) for x in pH_li]\n",
    "\n",
    "    for pH in pH_lists:\n",
    "        if len(pH) == 0:\n",
    "            pH_list.append(np.NaN)\n",
    "        elif len(pH) ==  1:\n",
    "            pH_list.append(pH[0])\n",
    "            #print pH[0]\n",
    "        elif pH[0][-1] == '.':\n",
    "            pH_list.append(pH[0]+pH[1])\n",
    "            #print pH[0]+pH[1]\n",
    "        else:\n",
    "            pH_list.append(pH[0])\n",
    "            #print 'bad',pH[1], pH\n",
    "    #pHCompare['pH'] = pH_list\n",
    "    return [float(x) for x in pH_list]"
   ]
  },
  {
   "cell_type": "code",
   "execution_count": 107,
   "metadata": {},
   "outputs": [],
   "source": [
    "df['Corrected pH'] = fix_ph(df['pH'])"
   ]
  },
  {
   "cell_type": "code",
   "execution_count": 108,
   "metadata": {},
   "outputs": [],
   "source": [
    "def fix_water_temp(h20_temp_list):\n",
    "    water_temp_list = []\n",
    "    h20_temp_list = h20_temp_list.fillna('')\n",
    "    h20_temp_list  = [re.findall('\\d+\\.*', x ) for x in h20_temp_list]\n",
    "    for temp in h20_temp_list:\n",
    "        #print temp\n",
    "        if len(temp) == 0:\n",
    "            water_temp_list.append(np.NaN)\n",
    "        elif len(temp) ==  1:\n",
    "            if int(temp[0]) < 30:\n",
    "                new_temp = int(temp[0]) * 9.0/5 + 32\n",
    "                water_temp_list.append(str(new_temp))\n",
    "            else:\n",
    "                water_temp_list.append(temp[0])\n",
    "            #print pH[0]\n",
    "        elif temp[0][-1] == '.':\n",
    "            water_temp_list.append(temp[0]+temp[1])\n",
    "            #print pH[0]+pH[1]\n",
    "        else:\n",
    "            water_temp_list.append(temp[0])\n",
    "    \n",
    "    return [float(x) for x in water_temp_list]"
   ]
  },
  {
   "cell_type": "code",
   "execution_count": 109,
   "metadata": {},
   "outputs": [],
   "source": [
    "df[\"Corrected Water Temp:\"] = fix_water_temp(df['Water Temp:'])"
   ]
  },
  {
   "cell_type": "code",
   "execution_count": 110,
   "metadata": {},
   "outputs": [],
   "source": [
    "def fix_salinity(sal_list):\n",
    "    salinity = []\n",
    "    for sal in sal_list:\n",
    "        if sal != sal:\n",
    "            salinity.append(sal)\n",
    "        elif any(char.isdigit() for char in sal) == False:\n",
    "            salinity.append(np.NAN)\n",
    "        else:\n",
    "            first_num  = re.search(r'\\d+', sal).group()\n",
    "            salinity.append(first_num)\n",
    "    return [float(x) for x in salinity]"
   ]
  },
  {
   "cell_type": "code",
   "execution_count": 111,
   "metadata": {},
   "outputs": [],
   "source": [
    "df['Corrected Salinity'] = fix_salinity(df['Salinity'])"
   ]
  },
  {
   "cell_type": "code",
   "execution_count": 112,
   "metadata": {},
   "outputs": [],
   "source": [
    "def fix_DO(DO_list):\n",
    "    cleaned_list = []\n",
    "    DO_list = DO_list.fillna('')\n",
    "    DO_list  = [re.findall('\\d+\\.*', x ) for x in DO_list]\n",
    "\n",
    "    for DO in DO_list:\n",
    "        if len(DO) == 0:\n",
    "            cleaned_list.append(np.NaN)\n",
    "        else:\n",
    "            cleaned_list.append(float(DO[0]))\n",
    "       \n",
    "    return cleaned_list"
   ]
  },
  {
   "cell_type": "code",
   "execution_count": 113,
   "metadata": {},
   "outputs": [],
   "source": [
    "df['Corrected DO'] = fix_DO(df['DO'])"
   ]
  },
  {
   "cell_type": "code",
   "execution_count": 114,
   "metadata": {},
   "outputs": [],
   "source": [
    "df['Corrected Quantity'] = df['Quantity'].fillna(1)"
   ]
  },
  {
   "cell_type": "code",
   "execution_count": 115,
   "metadata": {},
   "outputs": [],
   "source": [
    "def is_number(s):\n",
    "    try:\n",
    "        float(s)\n",
    "        return True\n",
    "    except ValueError:\n",
    "        return False"
   ]
  },
  {
   "cell_type": "code",
   "execution_count": 116,
   "metadata": {},
   "outputs": [],
   "source": [
    "def fix_quantity(quant_list):\n",
    "    num_caught_list = []\n",
    "    for num in list(quant_list):\n",
    "        if type(num) ==  int:\n",
    "            num_caught_list.append(num)\n",
    "        elif is_number(num):\n",
    "            num_caught_list.append(int(float(num)))\n",
    "        else:\n",
    "            number = ''\n",
    "            started = False\n",
    "            for char in num:\n",
    "                if char.isdigit():\n",
    "                    number += char\n",
    "                    started = True\n",
    "                else:\n",
    "                    if char == '~':\n",
    "                        print (started)\n",
    "                    if started:\n",
    "                        break\n",
    "            if len(number):\n",
    "                num_caught_list.append(int(number))\n",
    "            else:\n",
    "                if num in ['Numerous', 'TMTC', 'Too Many To Count']:\n",
    "                    num_caught_list.append(30)\n",
    "                else:\n",
    "                    num_caught_list.append(1)\n",
    "    return num_caught_list"
   ]
  },
  {
   "cell_type": "code",
   "execution_count": 117,
   "metadata": {},
   "outputs": [
    {
     "name": "stdout",
     "output_type": "stream",
     "text": [
      "False\n",
      "False\n",
      "False\n"
     ]
    }
   ],
   "source": [
    "df['Corrected Quantity'] = fix_quantity(df['Corrected Quantity'])"
   ]
  },
  {
   "cell_type": "code",
   "execution_count": 118,
   "metadata": {},
   "outputs": [],
   "source": [
    "def fix_hauls(hauls_li):\n",
    "    #?, Many, and Unknown have all been gotten rid of and not replaced by a number.\n",
    "    clean_hauls = []\n",
    "    for haul in hauls_li:\n",
    "        if haul != haul:\n",
    "            clean_hauls.append(np.nan)\n",
    "        elif any(char.isdigit() for char in haul):\n",
    "            first_num  = re.search(r'\\d+', haul).group()\n",
    "            clean_hauls.append(first_num)\n",
    "        else:\n",
    "            clean_hauls.append(np.nan)\n",
    "    return clean_hauls"
   ]
  },
  {
   "cell_type": "code",
   "execution_count": 119,
   "metadata": {},
   "outputs": [],
   "source": [
    "df['Corrected # Hauls'] = fix_hauls(df['# Hauls'])"
   ]
  },
  {
   "cell_type": "code",
   "execution_count": 120,
   "metadata": {},
   "outputs": [],
   "source": [
    "remove_row_list = ['two hemigrapsis molts were found on the beach', 'species caught', 'slipper snail shell', 'slipper snail shell', 'slipper shell', 'oyster shell','hemigraphis molt']"
   ]
  },
  {
   "cell_type": "code",
   "execution_count": 121,
   "metadata": {},
   "outputs": [],
   "source": [
    "fish_list = [re.sub(r'([^\\s\\w]|_)+', '', f) for f in df['Common Name']]\n",
    "fish_list = [f.lower() for f in fish_list]\n",
    "fish_list = [f.strip() for f in fish_list]"
   ]
  },
  {
   "cell_type": "code",
   "execution_count": 122,
   "metadata": {},
   "outputs": [],
   "source": [
    "df['Common Name'] = fish_list"
   ]
  },
  {
   "cell_type": "code",
   "execution_count": 123,
   "metadata": {},
   "outputs": [],
   "source": [
    "df = df[df['Common Name'].isin(remove_row_list) == False]"
   ]
  },
  {
   "cell_type": "code",
   "execution_count": 124,
   "metadata": {},
   "outputs": [],
   "source": [
    "df = df.reset_index()"
   ]
  },
  {
   "cell_type": "code",
   "execution_count": 125,
   "metadata": {},
   "outputs": [],
   "source": [
    "fish_list = [f.replace('yoy', '') for f in df['Common Name']]"
   ]
  },
  {
   "cell_type": "code",
   "execution_count": 126,
   "metadata": {},
   "outputs": [],
   "source": [
    "from difflib import SequenceMatcher"
   ]
  },
  {
   "cell_type": "code",
   "execution_count": 127,
   "metadata": {},
   "outputs": [],
   "source": [
    "def similar(a, b):\n",
    "    return SequenceMatcher(None, a, b).ratio()"
   ]
  },
  {
   "cell_type": "code",
   "execution_count": 128,
   "metadata": {},
   "outputs": [],
   "source": [
    "for i in range(len(fish_list)):\n",
    "    if fish_list[i] == \"pip fish\":\n",
    "        fish_list[i] = \"pipefish\""
   ]
  },
  {
   "cell_type": "code",
   "execution_count": 129,
   "metadata": {},
   "outputs": [],
   "source": [
    "count = 0\n",
    "fish_changes = []\n",
    "for i in range(len(fish_list)):\n",
    "    for j in range(i+1, len(fish_list)):\n",
    "        if fish_list[i] ==  fish_list[j]:\n",
    "            continue\n",
    "        if similar(fish_list[i], fish_list[j]) > 0.85:\n",
    "            fish_changes.append([fish_list[i], fish_list[j]])\n",
    "            if len(fish_list[i]) < len(fish_list[j]):\n",
    "                fish_list[j] = fish_list[i]\n",
    "            else:\n",
    "                fish_list[i] = fish_list[j]"
   ]
  },
  {
   "cell_type": "code",
   "execution_count": 130,
   "metadata": {},
   "outputs": [
    {
     "data": {
      "text/plain": [
       "193"
      ]
     },
     "execution_count": 130,
     "metadata": {},
     "output_type": "execute_result"
    }
   ],
   "source": [
    "len(set(fish_list))"
   ]
  },
  {
   "cell_type": "code",
   "execution_count": 131,
   "metadata": {},
   "outputs": [],
   "source": [
    "### Check for fish that have repeats in the excel document. Aka like the sea robin."
   ]
  },
  {
   "cell_type": "code",
   "execution_count": 132,
   "metadata": {},
   "outputs": [],
   "source": [
    "def overall_name_changes(fish_list):\n",
    "    name_changes = {\n",
    "                    'eel american n':'american eel',\n",
    "                    \"anchovy\": \"unidentified anchovy\",\n",
    "                        'anchovy bay n': 'bay anchovy',\n",
    "                        'anchovy striped n': 'striped anchovy',\n",
    "                    'shore crab': 'asian shore crab',\n",
    "                    \"menhaden\": \"unidentified menhaden\",\n",
    "                        'menhaden atlantic n':'atlantic menhaden',\n",
    "                    'needlefish atlantic n':'atlantic needlefish',\n",
    "                    'atlantic silverside menidia menidia': 'atlantic silverside','atlanticsilverside': 'atlantic silverside','silverside atlantic n':'atlantic silverside',\n",
    "                    \"silverside\": \"atlantic silverside\", \n",
    "                    'tomcod': 'atlantic tomcod','tomcod atlantic n': 'atlantic tomcod',\n",
    "                    'bass': 'unidentified bass',\n",
    "                        'juvenille stripped bass': 'striped bass', 'jvvenilee striped buss': 'striped bass', 'bass striped n':'striped bass',\n",
    "                        \"sea bass\": \"black sea bass\",\n",
    "                    'bluecrab': 'blue crab', 'crab blue crab':'blue crab', ' crab blue crab': 'blue crab',\n",
    "                    'bluefish juvenile': 'bluefish',\n",
    "                    \"mussel\": \"unidentified mussel\",\n",
    "                        'blue muscle': 'blue mussel',\n",
    "                    \"clams\":\"unidentified clam\", \"clam\": \"unidentified clam\",\n",
    "                        'softshell clam steamer clam':'softshell clam','soft shell clam':'softshell clam',\n",
    "                    'comb jelly': 'unidentified comb jelly','comb jellies': 'unidentified comb jelly','comb jellies ctenophores': 'unidentified comb jelly', 'ctenophore':'unidentified comb jelly','20 ctenophores': 'unidentified comb jelly',\n",
    "                    'cunner bergall chogy n':'cunner', \n",
    "                    \"oyster\":\"eastern oyster\",\n",
    "                    'larval fish': 'unidentified fish',\n",
    "                    \"flatfish\": \"unidentified flatfish\",\n",
    "                        \"flounder\":\"unidentified flounder\",\n",
    "                            \"flounder righteye\": \"winter flounder\",'winter flounder righteye': 'winter flounder','flounder winter n': 'winter flounder',\n",
    "                            'window pain':'windowpane flounder',\n",
    "                    'ghost shrimp':'glass shrimp','glass shrimp shore shrimp': 'glass shrimp',\n",
    "                    'golden star colonial tunicate': 'golden star tunicate','star tunicate':'golden star tunicate',\n",
    "                    'green crab carcinus maenas': 'green crab','green crab european':'green crab',\n",
    "                    'sculpin': 'unidentified sculpin',\n",
    "                        'grubby sculpin family': 'grubby',\n",
    "                    \"hermit crab\": \"unidentified hermit crab\",\n",
    "                        'hermit crab longwristed':'long clawed hermit crab',\n",
    "                    'herring spp pre metamorph': 'unidentified herring',\"herring\": \"unidentified herring\",\n",
    "                        \"blue back\": \"blueback herring\",'herring blueback n':'blueback herring',\n",
    "                        'herring atlantic n':'atlantic herring',\n",
    "                        ' american shad': 'american shad',\n",
    "                    'horseshoe crab atlantic': 'horseshoe crab',\n",
    "                    \"hydra medusa\": \"hydrozoa\", \"hydroid\": \"hydrozoa\", \"hydromedusae\": \"hydrozoa\",\n",
    "                    \"jelly fish\": \"unidentified jelly fish\",'true jellies': 'unidentified jelly fish','true jelly': 'unidentified jelly fish', 'true jelly fish': 'unidentified jelly fish',\n",
    "                        'lions mane jellyfish cyanea capillata': 'lions mane jellyfish',\n",
    "                        'hydromedusamoon jelly':'moon jelly',\n",
    "                    'mud crab': 'unidentified mud crab',\n",
    "                    'muslces':'unidentified mussel',\n",
    "                        'mussel blue':'blue mussel',\n",
    "                        'mussel ribbed':'ribbed mussel',\n",
    "                    'norther pipefish': 'northern pipefish', 'pipefish syngnathinae': 'northern pipefish',\"pipefish\":\"northern pipefish\",'pipefish northern n': 'northern pipefish',\n",
    "                    'the cutest northern puffer ever':'northern puffer','norther puffer': 'northern puffer', 'puffer': 'northern puffer','puffer northern n':'northern puffer',\n",
    "                    \"sea horse hippocampus\": \"northern seahorse\", \"sea horse\": \"northern seahorse\",\"seahorse\": \"northern seahorse\",'lined seahorse':'northern seahorse',\n",
    "                    \"sea robin\": \"northern sea robin\",\n",
    "                    'spot lafayette n':'spot',\n",
    "                    '1 oyster toadfish caught in traffic cone' : 'oyster toadfish','toadfish oyster n': 'oyster toadfish',  \n",
    "                    'porgy':'unidentified porgy', 'porgies':'unidentified porgy',\n",
    "                        'porgyscup': 'scup', \n",
    "                    \"poly worm\": \"unidentified polychaete worm\",\n",
    "                       'clam worm sandworm': 'sandworm', 'sand worm': 'sandworm','clam worm probably nereis spp':'sandworm',\n",
    "                    \"sea snail\": \"unidentified sea snail\",\"snail\": \"unidentified sea snail\",\"snail eggs\": \"unidentified sea snail\",\n",
    "                        'periwinkle common': 'common periwinkle snail', 'periwinkle': 'common periwinkle snail', 'periwinkle snail': 'common periwinkle snail',\n",
    "                        'mudsnail eastern': \"eastern mud snail\",\n",
    "                        'oyster drill': 'oyster drill snail',\n",
    "                    \"shrimp\": \"unidentified shrimp\",\"shrimp shore and mud\": \"unidentified shrimp\",\n",
    "                        'shrimp seven spine': 'sand shrimp',\"grass shrimp\": \"sand shrimp\",'seven spine shrimp': 'sand shrimp',\n",
    "                        'common shore shrimp': 'shore shrimp', \"glass shrimp\": \"shore shrimp\",'grass shrimp shore shrimp':'shore shrimp',\n",
    "                    'perch silver n': 'silver perch',\n",
    "                    'skillet fish': 'skilletfish',\n",
    "                    \"sponge\": \"unidentified sponge\",\n",
    "                    'common spider crab': 'spider crab',\"decoration crab\": \"spider crab\",\n",
    "                    'blackfish tautog': 'tautog', 'taotog': 'tautog','tautogblackfish': 'tautog',\n",
    "                    \"tunicates\": \"tunicate\", \"tunicate sponge\": \"tunicate\",\n",
    "                        'sea squirtsolitary tunicate': 'sea squirt',\n",
    "                    'perch white n': 'white perch',}\n",
    "    for i in range(len(fish_list)):\n",
    "        if fish_list[i] in name_changes:\n",
    "            fish_list[i] = name_changes[fish_list[i]]\n",
    "    return fish_list\n",
    "    "
   ]
  },
  {
   "cell_type": "code",
   "execution_count": 133,
   "metadata": {},
   "outputs": [],
   "source": [
    "# Should have replaced all the make_name_corrected_names"
   ]
  },
  {
   "cell_type": "code",
   "execution_count": 134,
   "metadata": {},
   "outputs": [],
   "source": [
    "def make_name_corrected_names(fish_list):\n",
    "    name_changes = {'1 oyster toadfish caught in traffic cone' : 'oyster toadfish', '20 ctenophores': 'ctenophore',\n",
    "               'atlantic silverside menidia menidia': 'atlantic silverside','atlanticsilverside': 'atlantic silverside',\n",
    "               'blackfish tautog': 'tautog', 'blue muscle': 'blue mussel', 'bluefish juvenile': 'bluefish',\n",
    "               'comb jellies': 'comb jelly','comb jellies ctenophores': 'comb jelly','common shore shrimp': 'shore shrimp',\n",
    "               'common spider crab': 'spider crab', 'bluecrab': 'blue crab', 'crab blue crab':'blue crab', ' crab blue crab': 'blue crab',\n",
    "               'juvenille stripped bass': 'striped bass', 'jvvenilee striped buss': 'striped bass', 'taotog': 'tautog',\n",
    "               'tautogblackfish': 'tautog', 'the cutest northern puffer ever':'northern puffer','window pain':'windowpane flounder',\n",
    "               'true jellies': 'jelly fish', 'true jelly': 'jelly fish', 'true jelly fish': 'jelly fish', 'sea squirtsolitary tunicate': 'sea squirt',\n",
    "               'oyster drill': 'oyster drill snail', 'green crab carcinus maenas': 'green crab','green crab european':'green crab',\n",
    "               'porgyscup': 'porgy', 'scup': 'porgy', 'norther puffer': 'northern puffer', 'norther pipefish': 'northern pipefish', 'ctenophore':'comb jelly',\n",
    "                'ghost shrimp':'glass shrimp','glass shrimp shore shrimp': 'glass shrimp', 'golden star colonial tunicate': 'golden star tunicate',\n",
    "               'lions mane jellyfish cyanea capillata': 'lions mane jellyfish', 'muslces':'mussel', 'pipefish syngnathinae': 'northern pipefish',\n",
    "               \"porgies\":\"porgy\", 'lined seahorse':'northern seahorse',\"sea horse hippocampus\": \"northern seahorse\", \"sea horse\": \"northern seahorse\", 'winter flounder righteye': 'winter flounder',\n",
    "               'shrimp seven spine': 'seven spine shrimp', 'star tunicate':'golden star tunicate', 'seven spine shrimp': 'sand shrimp',\n",
    "               'puffer': 'northern puffer', 'northern sea robin': 'sea robin', 'herring spp pre metamorph': 'herring', 'grubby sculpin family': 'grubby',\n",
    "               \"blue back\": \"blueback herring\", \"anchovy\": \"bay anchovy\", \"decoration crab\": \"spider crab\", \"flatfish\": \"unidentified flatfish\",\"flounder\":\"unidentified flatfish\",\n",
    "               \"flounder righteye\": \"winter flounder\", \"glass shrimp\": \"shore shrimp\", \"grass shrimp\": \"sand shrimp\",\"grubby sculpin family\": \"grubby\",\n",
    "               \"hermit crab\": \"unidentified hermit crab\", \"herring\": \"unidentified herring\", \"herring spp pre metamorph\":\"unidentified herring\",\n",
    "               \"hydra medusa\": \"hydrozoa\", \"hydroid\": \"hydrozoa\", \"hydromedusae\": \"hydrozoa\", \"jelly fish\": \"unidentified jelly fish\", \"menhaden\": \"atlantic menhaden\",\n",
    "               \"mussel\": \"unidentified mussel\", \"oyster\":\"eastern oyster\", \"pipefish\":\"northern pipefish\", \"poly worm\": \"sand worm\", \"sea bass\": \"black sea bass\",\n",
    "               \"sea robin\": \"northern sea robin\", \"sea snail\": \"unidentified sea snail\", \"seahorse\": \"northern seahorse\", \"shrimp\": \"unidentified shrimp\",\n",
    "               \"shrimp shore and mud\": \"unidentified shrimp\", \"silverside\": \"atlantic silverside\", \"snail\": \"unidentified snail\",\"snail eggs\": \"unidentified snail eggs\",\n",
    "               \"sponge\": \"unidentified sponge\", \"tunicates\": \"tunicate\", \"tunicate sponge\": \"tunicate\",' american shad': 'american shad', 'shore crab': 'asian shore crab',\n",
    "                   'tomcod': 'atlantic tomcod', 'skillet fish': 'skilletfish', 'bass': 'striped bass', \"clams\":\"clam\",'flounder winter n': 'winter flounder',\n",
    "                   'herring atlantic n':'atlantic herring','herring blueback n':'blueback herring','mudsnail eastern': \"mud snail\",'mussel blue':'blue mussel','mussel ribbed':'ribbed mussel',\n",
    "                   'periwinkle common': 'periwinkle','puffer northern n':'northern puffer','hermit crab longwristed':'long clawed hermit crab'}\n",
    "    for i in range(len(fish_list)):\n",
    "        if fish_list[i] in name_changes:\n",
    "            fish_list[i] = name_changes[fish_list[i]]\n",
    "    return fish_list"
   ]
  },
  {
   "cell_type": "code",
   "execution_count": null,
   "metadata": {},
   "outputs": [],
   "source": []
  },
  {
   "cell_type": "code",
   "execution_count": 135,
   "metadata": {},
   "outputs": [],
   "source": [
    "def make_name_corrected_and_grouped_names(fish_list):\n",
    "    name_changes = {'1 oyster toadfish caught in traffic cone' : 'oyster toadfish', '20 ctenophores': 'comb jelly',\n",
    "               'atlantic silverside menidia menidia': 'atlantic silverside','atlanticsilverside': 'atlantic silverside',\n",
    "               'blackfish tautog': 'tautog', 'blue muscle': 'mussel', 'bluefish juvenile': 'bluefish',\n",
    "               'comb jellies': 'comb jelly','comb jellies ctenophores': 'comb jelly','common shore shrimp': 'shrimp',\n",
    "               'common spider crab': 'spider crab', 'bluecrab': 'blue crab', 'crab blue crab':'blue crab', ' crab blue crab': 'blue crab', \n",
    "               'juvenille stripped bass': 'striped bass', 'jvvenilee striped buss': 'striped bass', 'taotog': 'tautog',\n",
    "               'tautogblackfish': 'tautog', 'the cutest northern puffer ever':'puffer','window pain':'flatfish',\n",
    "               'true jellies': 'jellyfish', 'true jelly': 'jellyfish', 'true jelly fish': 'jellyfish', 'sea squirtsolitary tunicate': 'tunicates',\n",
    "               'oyster drill': 'sea snail', 'green crab carcinus maenas': 'green crab','green crab european':'green crab',\n",
    "               'porgyscup': 'porgy', 'scup':'porgy', 'norther puffer': 'puffer', 'norther pipefish': 'northern pipefish', 'ctenophore':'comb jelly',\n",
    "                'ghost shrimp':'shrimp','glass shrimp shore shrimp': 'shrimp', 'golden star colonial tunicate': 'tunicates',\n",
    "               'lions mane jellyfish cyanea capillata': 'jellyfish', 'muslces':'mussel', 'pipefish syngnathinae': 'northern pipefish',\n",
    "               \"porgies\":\"porgy\",'lined seahorse':'northern seahorse',\"seahorse\":\"northern seahorse\", \"sea horse hippocampus\": \"northern seahorse\", \"sea horse\": \"northern seahorse\", 'winter flounder righteye': 'flatfish',\n",
    "               'shrimp seven spine': 'shrimp', 'star tunicate':'tunicates', 'seven spine shrimp': 'shrimp','pipefish': 'northern pipefish',\n",
    "               'northern puffer': 'puffer', 'northern sea robin': 'sea robin', 'herring spp pre metamorph': 'herring', 'grubby sculpin family': 'grubby',\n",
    "               \"blue back\": \"herring\", 'alewife':'herring', 'atlantic herring': 'herring', 'blueback herring': 'herring',\n",
    "               'colonial tunicate': 'tunicates', 'golden star tunicate': 'tunicates','sea squirt': 'tunicates', 'tunicate sponge': 'tunicates',\n",
    "               'shrimp shore and mud': 'shrimp', 'seven spine shrimp': 'shrimp', 'shore shrimp': 'shrimp', 'sand shrimp': 'shrimp', 'mantis shrimp': 'shrimp',\n",
    "               'grass shrimp': 'shrimp', 'glass shrimp': 'shrimp', 'flounder': 'flatfish', 'flounder righteye': 'flatfish', 'hogchoker': 'flatfish',\n",
    "               'summer flounder': 'flatfish', 'windowpane flounder': 'flatfish', 'winter flounder': 'flatfish', 'menhaden': 'atlantic menhaden',\n",
    "               'silverside': 'atlantic silverside', 'blue mussel': 'mussel', 'eastern oyster': 'oyster', 'anchovy': 'bay anchovy',\n",
    "                'moon jelly': 'jellyfish', 'jelly fish': 'jellyfish', 'lions mane jellyfish': 'jellyfish', 'scud': 'amphipod', 'ribbed mussel': 'mussel',\n",
    "               'mud snail': 'sea snail', 'periwinkle': 'sea snail', 'oyster drill snail': 'sea snail', 'snail': 'sea snail', 'whelk snail':'sea snail', 'snail eggs': 'sea snail', 'sea bass': 'black sea bass',\n",
    "               'sheepshead porgy': 'porgy', 'striped searobin': 'sea robin', 'black fingered mud crab': 'mud crab', 'clam worm probably nereis spp': 'polychaete worm',\n",
    "               'poly worm': 'polychaete worm', 'sandworm': 'polychaete worm', 'white fingered mud crab': 'mud crab', 'decoration crab': 'spider crab',\n",
    "               'hydra medusa': 'hydrozoa', 'hydroid': 'hydrozoa', 'hydromedusae' : 'hydrozoa', 'red beard sponge': 'sponge', ' american shad': 'american shad',\n",
    "                   \"long clawed hermit crab\": \"hermit crab\", 'shore crab': 'asian shore crab', 'tomcod': 'atlantic tomcod', 'skillet fish': 'skilletfish', 'pin fish': 'porgy', 'bass': 'striped bass',\n",
    "                   \"clams\": \"clam\",'flounder winter n': 'flatfish','grass shrimp shore shrimp':'shrimp','herring atlantic n':'herring','herring blueback n':\"herring\",'mudsnail eastern': \"sea snail\",\n",
    "                   'mussel blue':'mussel','mussel ribbed':'mussel','periwinkle common':'sea snail','puffer northern n':'puffer','hermit crab longwristed':'hermit crab','undetermined jelly':'jellyfish',\n",
    "                   \"comb jelly beroe\": \"comb jelly\", \"comb jelly leidyi\": \"comb jelly\", \"hydromedusamoon jelly\": \"jellyfish\", \"hydromedusa\":\"jellyfish\", \"larval fish\": \"unidentified fish\" }\n",
    "    for i in range(len(fish_list)):\n",
    "        if fish_list[i] in name_changes:\n",
    "            fish_list[i] = name_changes[fish_list[i]]\n",
    "    return fish_list"
   ]
  },
  {
   "cell_type": "code",
   "execution_count": 136,
   "metadata": {},
   "outputs": [],
   "source": [
    "def correcting_scientific(f_list):\n",
    "    name_changes = {'anchovy bay n': 'bay anchovy', 'anchovy striped n': 'striped anchovy','bass striped n':'striped bass',\n",
    "          'cunner bergall chogy n':'cunner', 'clam worm sandworm': 'polychaete worm','eel american n':'american eel',\n",
    "                    'horseshoe crab atlantic': 'horseshoe crab', 'menhaden atlantic n':'atlantic menhaden','needlefish atlantic n':'needlefish',\n",
    "                    'perch silver n': 'silver perch', 'perch white n': 'white perch','pipefish northern n': 'northern pipefish','silverside atlantic n':'atlantic silverside',\n",
    "                    'softshell clam steamer clam':'clam','spot lafayette n':'spot','toadfish oyster n': 'oyster toadfish', 'tomcod atlantic n': 'atlantic tomcod','soft shell clam':'clam',\n",
    "                    'softshell clam':'clam'\n",
    "                   }\n",
    "    for i in range(len(f_list)):\n",
    "        if f_list[i] in name_changes:\n",
    "            f_list[i] = name_changes[f_list[i]]\n",
    "    return f_list"
   ]
  },
  {
   "cell_type": "code",
   "execution_count": 137,
   "metadata": {},
   "outputs": [],
   "source": [
    "nogroup = make_name_corrected_names(fish_list[:])"
   ]
  },
  {
   "cell_type": "code",
   "execution_count": 138,
   "metadata": {},
   "outputs": [],
   "source": [
    "group = make_name_corrected_and_grouped_names(fish_list[:])"
   ]
  },
  {
   "cell_type": "code",
   "execution_count": 139,
   "metadata": {},
   "outputs": [],
   "source": [
    "nogroup = correcting_scientific(nogroup)"
   ]
  },
  {
   "cell_type": "code",
   "execution_count": 140,
   "metadata": {},
   "outputs": [],
   "source": [
    "group = correcting_scientific(group)"
   ]
  },
  {
   "cell_type": "code",
   "execution_count": null,
   "metadata": {},
   "outputs": [],
   "source": []
  },
  {
   "cell_type": "code",
   "execution_count": 141,
   "metadata": {},
   "outputs": [],
   "source": [
    "df['Grouped Corrected Common Name'] = group#df2['Species']"
   ]
  },
  {
   "cell_type": "code",
   "execution_count": 142,
   "metadata": {},
   "outputs": [],
   "source": [
    "df['Corrected Common Name'] = nogroup#df3['Species']"
   ]
  },
  {
   "cell_type": "markdown",
   "metadata": {},
   "source": [
    "#### not yet cleaned: Time, Weather & Air Temp, Tide Times, Tide is Moving, Turbidity, # student seiners, # visitors, instructors, Scientific Name, Brought to Ed Center, Other Info, Notes from Seining\n",
    "#### Of these Weather & Air Temp, Tide Times Tide is Moving and Turbidity should be done. The rest probably don't matter\n",
    "#### I'd also like to see if we can pull from outside data for Weather & Air Temp, Water Temp, Tide Times, Tide is Moving, DO, pH, Salinity, and Turbidity. If so we could get better readings."
   ]
  },
  {
   "cell_type": "markdown",
   "metadata": {},
   "source": [
    "#### Time should be start time, end time, length of seine - 3 columns, Weather and Air Temp should be 2 Weather and Air Temp, plus both from other origin."
   ]
  },
  {
   "cell_type": "markdown",
   "metadata": {},
   "source": [
    "#### if you wanted to make a  further interesting and easy to work with csv, you can make one that combines all the animals caught list, and amount caught into one row with a comma separated string."
   ]
  },
  {
   "cell_type": "code",
   "execution_count": 143,
   "metadata": {},
   "outputs": [],
   "source": [
    "df = df.drop(['index', 'Unnamed: 0'], axis=1)"
   ]
  },
  {
   "cell_type": "code",
   "execution_count": 144,
   "metadata": {},
   "outputs": [],
   "source": [
    "def find_dif(list1,list2):\n",
    "    for item in list1:\n",
    "        if item not in list2:\n",
    "            print (item)\n",
    "            \n",
    "    for item in list2:\n",
    "        if item not in list1:\n",
    "            print (item)"
   ]
  },
  {
   "cell_type": "code",
   "execution_count": 145,
   "metadata": {},
   "outputs": [],
   "source": [
    "df = df[['Date','Time','Weather & Air Temp:','Water Temp:','Corrected Water Temp:','Water Temp Probe','pH','Corrected pH','pH Probe','DO',\n",
    "              'Corrected DO','DO Probe','Turbidity','Turbidity Probe (NTU)','Salinity',\n",
    "              'Corrected Salinity','Salinity Probe','Tide is moving','Tide Times','# Hauls','Corrected # Hauls','Common Name', 'Corrected Common Name', \n",
    "              'Grouped Corrected Common Name', 'Quantity', \n",
    "             'Corrected Quantity', 'Scientific Name',\n",
    "            'Instructors/ Seine Staff:','# student seiners (CLASSES ONLY)',\n",
    "             '# of visitors (Public Seine ONLY)', '# Brought to Ed Center',\n",
    "        'Other info (Gender, Length, Dead/Alive, other physical description)',\n",
    "            'NOTES FROM SEINEING SEASON:','NOTES FROM SEINE:']].sort_values(by = 'Date').reset_index().drop('index', axis=1)"
   ]
  },
  {
   "cell_type": "code",
   "execution_count": 146,
   "metadata": {},
   "outputs": [],
   "source": [
    "df.to_csv('../Created CSVs/Cleaned_For_Analysis_All_Data.csv')"
   ]
  },
  {
   "cell_type": "code",
   "execution_count": null,
   "metadata": {},
   "outputs": [],
   "source": []
  }
 ],
 "metadata": {
  "anaconda-cloud": {},
  "kernelspec": {
   "display_name": "Python 3",
   "language": "python",
   "name": "python3"
  },
  "language_info": {
   "codemirror_mode": {
    "name": "ipython",
    "version": 3
   },
   "file_extension": ".py",
   "mimetype": "text/x-python",
   "name": "python",
   "nbconvert_exporter": "python",
   "pygments_lexer": "ipython3",
   "version": "3.7.3"
  }
 },
 "nbformat": 4,
 "nbformat_minor": 1
}
