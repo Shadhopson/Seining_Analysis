{
 "cells": [
  {
   "cell_type": "code",
   "execution_count": 1,
   "metadata": {
    "collapsed": true
   },
   "outputs": [],
   "source": [
    "import pandas as pd\n",
    "import dateutil.parser\n",
    "import re\n",
    "import numpy as np"
   ]
  },
  {
   "cell_type": "code",
   "execution_count": 2,
   "metadata": {
    "collapsed": true
   },
   "outputs": [],
   "source": [
    "df = pd.read_csv('../Created CSVs/all_seins_all_data_standard_dates.csv')"
   ]
  },
  {
   "cell_type": "code",
   "execution_count": 3,
   "metadata": {
    "collapsed": false
   },
   "outputs": [],
   "source": [
    "df['Date'] =  [dateutil.parser.parse(date) for date in list(df['Date'])]"
   ]
  },
  {
   "cell_type": "code",
   "execution_count": 4,
   "metadata": {
    "collapsed": true
   },
   "outputs": [],
   "source": [
    "def fix_ph(pH_li):\n",
    "    pH_list  = []\n",
    "    pH_li = pH_li.fillna('')\n",
    "    pH_lists  = [re.findall('\\d+\\.*', x ) for x in pH_li]\n",
    "\n",
    "    for pH in pH_lists:\n",
    "        if len(pH) == 0:\n",
    "            pH_list.append(np.NaN)\n",
    "        elif len(pH) ==  1:\n",
    "            pH_list.append(pH[0])\n",
    "            #print pH[0]\n",
    "        elif pH[0][-1] == '.':\n",
    "            pH_list.append(pH[0]+pH[1])\n",
    "            #print pH[0]+pH[1]\n",
    "        else:\n",
    "            pH_list.append(pH[0])\n",
    "            #print 'bad',pH[1], pH\n",
    "    #pHCompare['pH'] = pH_list\n",
    "    return [float(x) for x in pH_list]"
   ]
  },
  {
   "cell_type": "code",
   "execution_count": 5,
   "metadata": {
    "collapsed": true
   },
   "outputs": [],
   "source": [
    "df['pH'] = fix_ph(df['pH'])"
   ]
  },
  {
   "cell_type": "code",
   "execution_count": 6,
   "metadata": {
    "collapsed": false
   },
   "outputs": [],
   "source": [
    "def fix_water_temp(h20_temp_list):\n",
    "    water_temp_list = []\n",
    "    h20_temp_list = h20_temp_list.fillna('')\n",
    "    h20_temp_list  = [re.findall('\\d+\\.*', x ) for x in h20_temp_list]\n",
    "    for temp in h20_temp_list:\n",
    "        #print temp\n",
    "        if len(temp) == 0:\n",
    "            water_temp_list.append(np.NaN)\n",
    "        elif len(temp) ==  1:\n",
    "            if int(temp[0]) < 30:\n",
    "                new_temp = int(temp[0]) * 9.0/5 + 32\n",
    "                water_temp_list.append(str(new_temp))\n",
    "            else:\n",
    "                water_temp_list.append(temp[0])\n",
    "            #print pH[0]\n",
    "        elif temp[0][-1] == '.':\n",
    "            water_temp_list.append(temp[0]+temp[1])\n",
    "            #print pH[0]+pH[1]\n",
    "        else:\n",
    "            water_temp_list.append(temp[0])\n",
    "    \n",
    "    return [float(x) for x in water_temp_list]"
   ]
  },
  {
   "cell_type": "code",
   "execution_count": 7,
   "metadata": {
    "collapsed": true
   },
   "outputs": [],
   "source": [
    "df[\"Water Temp:\"] = fix_water_temp(df['Water Temp:'])"
   ]
  },
  {
   "cell_type": "code",
   "execution_count": 8,
   "metadata": {
    "collapsed": false
   },
   "outputs": [],
   "source": [
    "def fix_salinity(sal_list):\n",
    "    salinity = []\n",
    "    for sal in sal_list:\n",
    "        if sal != sal:\n",
    "            salinity.append(sal)\n",
    "        elif any(char.isdigit() for char in sal) == False:\n",
    "            salinity.append(np.NAN)\n",
    "        else:\n",
    "            first_num  = re.search(r'\\d+', sal).group()\n",
    "            salinity.append(first_num)\n",
    "    return [float(x) for x in salinity]"
   ]
  },
  {
   "cell_type": "code",
   "execution_count": 9,
   "metadata": {
    "collapsed": true
   },
   "outputs": [],
   "source": [
    "df['Salinity'] = fix_salinity(df['Salinity'])"
   ]
  },
  {
   "cell_type": "code",
   "execution_count": 10,
   "metadata": {
    "collapsed": false
   },
   "outputs": [],
   "source": [
    "def fix_DO(DO_list):\n",
    "    cleaned_list = []\n",
    "    DO_list = DO_list.fillna('')\n",
    "    DO_list  = [re.findall('\\d+\\.*', x ) for x in DO_list]\n",
    "\n",
    "    for DO in DO_list:\n",
    "        if len(DO) == 0:\n",
    "            cleaned_list.append(np.NaN)\n",
    "        else:\n",
    "            cleaned_list.append(int(DO[0]))\n",
    "       \n",
    "    return cleaned_list"
   ]
  },
  {
   "cell_type": "code",
   "execution_count": 11,
   "metadata": {
    "collapsed": true
   },
   "outputs": [],
   "source": [
    "df['DO'] = fix_DO(df['DO'])"
   ]
  },
  {
   "cell_type": "code",
   "execution_count": 14,
   "metadata": {
    "collapsed": true
   },
   "outputs": [],
   "source": [
    "df['Quantity'] = df['Quantity'].fillna(1)"
   ]
  },
  {
   "cell_type": "code",
   "execution_count": 18,
   "metadata": {
    "collapsed": true
   },
   "outputs": [],
   "source": [
    "def is_number(s):\n",
    "    try:\n",
    "        float(s)\n",
    "        return True\n",
    "    except ValueError:\n",
    "        return False"
   ]
  },
  {
   "cell_type": "code",
   "execution_count": 16,
   "metadata": {
    "collapsed": true
   },
   "outputs": [],
   "source": [
    "def fix_quantity(quant_list):\n",
    "    num_caught_list = []\n",
    "    for num in list(quant_list):\n",
    "        if type(num) ==  int:\n",
    "            num_caught_list.append(num)\n",
    "        elif is_number(num):\n",
    "            num_caught_list.append(int(float(num)))\n",
    "        else:\n",
    "            number = ''\n",
    "            started = False\n",
    "            for char in num:\n",
    "                if char.isdigit():\n",
    "                    number += char\n",
    "                    started = True\n",
    "                else:\n",
    "                    if char == '~':\n",
    "                        print started\n",
    "                    if started:\n",
    "                        break\n",
    "            if len(number):\n",
    "                num_caught_list.append(int(number))\n",
    "            else:\n",
    "                if num in ['Numerous', 'TMTC', 'Too Many To Count']:\n",
    "                    num_caught_list.append(30)\n",
    "                else:\n",
    "                    num_caught_list.append(1)\n",
    "    return num_caught_list"
   ]
  },
  {
   "cell_type": "code",
   "execution_count": 19,
   "metadata": {
    "collapsed": false
   },
   "outputs": [
    {
     "name": "stdout",
     "output_type": "stream",
     "text": [
      "False\n",
      "False\n",
      "False\n"
     ]
    }
   ],
   "source": [
    "df['Quantity'] = fix_quantity(df['Quantity'])"
   ]
  },
  {
   "cell_type": "code",
   "execution_count": null,
   "metadata": {
    "collapsed": true
   },
   "outputs": [],
   "source": []
  },
  {
   "cell_type": "code",
   "execution_count": 22,
   "metadata": {
    "collapsed": false
   },
   "outputs": [
    {
     "data": {
      "text/html": [
       "<div>\n",
       "<table border=\"1\" class=\"dataframe\">\n",
       "  <thead>\n",
       "    <tr style=\"text-align: right;\">\n",
       "      <th></th>\n",
       "      <th>Unnamed: 0</th>\n",
       "      <th>Date</th>\n",
       "      <th>Time</th>\n",
       "      <th>Weather &amp; Air Temp:</th>\n",
       "      <th>Water Temp:</th>\n",
       "      <th>Tide Times</th>\n",
       "      <th>Tide is moving</th>\n",
       "      <th>DO</th>\n",
       "      <th>pH</th>\n",
       "      <th>Salinity</th>\n",
       "      <th>...</th>\n",
       "      <th># student seiners (CLASSES ONLY)</th>\n",
       "      <th># of visitors (Public Seine ONLY)</th>\n",
       "      <th>Instructors/ Seine Staff:</th>\n",
       "      <th># Hauls</th>\n",
       "      <th>Scientific Name</th>\n",
       "      <th>Common Name</th>\n",
       "      <th>Quantity</th>\n",
       "      <th># Brought to Ed Center</th>\n",
       "      <th>Other info (Gender, Length, Dead/Alive, other physical description)</th>\n",
       "      <th>NOTES FROM SEINEING SEASON:</th>\n",
       "    </tr>\n",
       "  </thead>\n",
       "  <tbody>\n",
       "    <tr>\n",
       "      <th>181</th>\n",
       "      <td>181</td>\n",
       "      <td>2011-05-28</td>\n",
       "      <td>NaN</td>\n",
       "      <td>NaN</td>\n",
       "      <td>NaN</td>\n",
       "      <td>NaN</td>\n",
       "      <td>NaN</td>\n",
       "      <td>NaN</td>\n",
       "      <td>NaN</td>\n",
       "      <td>NaN</td>\n",
       "      <td>...</td>\n",
       "      <td>NaN</td>\n",
       "      <td>NaN</td>\n",
       "      <td>NaN</td>\n",
       "      <td>NaN</td>\n",
       "      <td>NaN</td>\n",
       "      <td>anchovy</td>\n",
       "      <td>73</td>\n",
       "      <td>NaN</td>\n",
       "      <td>NaN</td>\n",
       "      <td>NaN</td>\n",
       "    </tr>\n",
       "    <tr>\n",
       "      <th>575</th>\n",
       "      <td>575</td>\n",
       "      <td>2015-09-25</td>\n",
       "      <td>10:00-1:00 PM</td>\n",
       "      <td>70 F Sunny</td>\n",
       "      <td>NaN</td>\n",
       "      <td>NaN</td>\n",
       "      <td>NaN</td>\n",
       "      <td>4.0</td>\n",
       "      <td>7.0</td>\n",
       "      <td>22.0</td>\n",
       "      <td>...</td>\n",
       "      <td>NaN</td>\n",
       "      <td>70</td>\n",
       "      <td>Isa, Nim, Shellita, Beth, Andrew, Shawn, Chris...</td>\n",
       "      <td>NaN</td>\n",
       "      <td>Menidia Menidia</td>\n",
       "      <td>Atlantic Silverside</td>\n",
       "      <td>73</td>\n",
       "      <td>NaN</td>\n",
       "      <td>Alive</td>\n",
       "      <td>NaN</td>\n",
       "    </tr>\n",
       "  </tbody>\n",
       "</table>\n",
       "<p>2 rows × 21 columns</p>\n",
       "</div>"
      ],
      "text/plain": [
       "     Unnamed: 0       Date           Time Weather & Air Temp:  Water Temp:  \\\n",
       "181         181 2011-05-28            NaN                 NaN          NaN   \n",
       "575         575 2015-09-25  10:00-1:00 PM          70 F Sunny          NaN   \n",
       "\n",
       "    Tide Times Tide is moving   DO   pH  Salinity             ...              \\\n",
       "181        NaN            NaN  NaN  NaN       NaN             ...               \n",
       "575        NaN            NaN  4.0  7.0      22.0             ...               \n",
       "\n",
       "    # student seiners (CLASSES ONLY) # of visitors (Public Seine ONLY)  \\\n",
       "181                              NaN                               NaN   \n",
       "575                              NaN                                70   \n",
       "\n",
       "                             Instructors/ Seine Staff: # Hauls  \\\n",
       "181                                                NaN     NaN   \n",
       "575  Isa, Nim, Shellita, Beth, Andrew, Shawn, Chris...     NaN   \n",
       "\n",
       "     Scientific Name          Common Name Quantity  # Brought to Ed Center  \\\n",
       "181              NaN              anchovy       73                     NaN   \n",
       "575  Menidia Menidia  Atlantic Silverside       73                     NaN   \n",
       "\n",
       "    Other info (Gender, Length, Dead/Alive, other physical description)  \\\n",
       "181                                                NaN                    \n",
       "575                                              Alive                    \n",
       "\n",
       "    NOTES FROM SEINEING SEASON:  \n",
       "181                         NaN  \n",
       "575                         NaN  \n",
       "\n",
       "[2 rows x 21 columns]"
      ]
     },
     "execution_count": 22,
     "metadata": {},
     "output_type": "execute_result"
    }
   ],
   "source": []
  },
  {
   "cell_type": "code",
   "execution_count": null,
   "metadata": {
    "collapsed": true
   },
   "outputs": [],
   "source": []
  }
 ],
 "metadata": {
  "anaconda-cloud": {},
  "kernelspec": {
   "display_name": "Python [conda root]",
   "language": "python",
   "name": "conda-root-py"
  },
  "language_info": {
   "codemirror_mode": {
    "name": "ipython",
    "version": 2
   },
   "file_extension": ".py",
   "mimetype": "text/x-python",
   "name": "python",
   "nbconvert_exporter": "python",
   "pygments_lexer": "ipython2",
   "version": "2.7.12"
  }
 },
 "nbformat": 4,
 "nbformat_minor": 1
}
