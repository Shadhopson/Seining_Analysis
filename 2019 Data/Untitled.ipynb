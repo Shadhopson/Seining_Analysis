{
 "cells": [
  {
   "cell_type": "code",
   "execution_count": 2,
   "metadata": {},
   "outputs": [],
   "source": [
    "import pandas as pd"
   ]
  },
  {
   "cell_type": "code",
   "execution_count": 4,
   "metadata": {},
   "outputs": [],
   "source": [
    "julaugdf = pd.read_excel('ERFA_Data_Z9_JulyAug2019_PJP.xlsx', sheet_name='Fish (Pooled)')"
   ]
  },
  {
   "cell_type": "code",
   "execution_count": 5,
   "metadata": {},
   "outputs": [],
   "source": [
    "mayjundf = pd.read_excel('ERFA_Data_Z9_MayJune2019_PJP.xlsx', sheet_name='Fish (Pooled)')"
   ]
  },
  {
   "cell_type": "code",
   "execution_count": 8,
   "metadata": {},
   "outputs": [],
   "source": [
    "db = pd.concat([mayjundf,julaugdf])"
   ]
  },
  {
   "cell_type": "code",
   "execution_count": 9,
   "metadata": {},
   "outputs": [
    {
     "data": {
      "text/html": [
       "<div>\n",
       "<style scoped>\n",
       "    .dataframe tbody tr th:only-of-type {\n",
       "        vertical-align: middle;\n",
       "    }\n",
       "\n",
       "    .dataframe tbody tr th {\n",
       "        vertical-align: top;\n",
       "    }\n",
       "\n",
       "    .dataframe thead th {\n",
       "        text-align: right;\n",
       "    }\n",
       "</style>\n",
       "<table border=\"1\" class=\"dataframe\">\n",
       "  <thead>\n",
       "    <tr style=\"text-align: right;\">\n",
       "      <th></th>\n",
       "      <th>Common Name (or Taxon) - POOLED DATA</th>\n",
       "      <th>Scientific Name</th>\n",
       "      <th>Fish/Invert</th>\n",
       "      <th>Zone</th>\n",
       "      <th>Site</th>\n",
       "      <th>Date</th>\n",
       "      <th>Time (Range)</th>\n",
       "      <th>High Tide</th>\n",
       "      <th>Method</th>\n",
       "      <th>Quantity</th>\n",
       "      <th>...</th>\n",
       "      <th>Turbidity - Method</th>\n",
       "      <th>Turbidity - Tool</th>\n",
       "      <th>pH</th>\n",
       "      <th>pH - Time</th>\n",
       "      <th>pH - Method</th>\n",
       "      <th>pH - Tool</th>\n",
       "      <th>Microbe Load</th>\n",
       "      <th>Microbe - Time</th>\n",
       "      <th>Microbe - Method</th>\n",
       "      <th>Microbe - Tool</th>\n",
       "    </tr>\n",
       "  </thead>\n",
       "  <tbody>\n",
       "    <tr>\n",
       "      <th>70</th>\n",
       "      <td>Blue Crab</td>\n",
       "      <td>Callinectes sapidus</td>\n",
       "      <td>Invertebrate</td>\n",
       "      <td>Z9</td>\n",
       "      <td>Brooklyn Bridge Park - Pier 4</td>\n",
       "      <td>2019-08-10 00:00:00</td>\n",
       "      <td>11:00am-1:00pm</td>\n",
       "      <td>5:23am</td>\n",
       "      <td>Event - Seining</td>\n",
       "      <td>1</td>\n",
       "      <td>...</td>\n",
       "      <td>Secchi Tube (120cm)</td>\n",
       "      <td>NaN</td>\n",
       "      <td>NaN</td>\n",
       "      <td>NaN</td>\n",
       "      <td>NaN</td>\n",
       "      <td>NaN</td>\n",
       "      <td>NaN</td>\n",
       "      <td>NaN</td>\n",
       "      <td>NaN</td>\n",
       "      <td>NaN</td>\n",
       "    </tr>\n",
       "  </tbody>\n",
       "</table>\n",
       "<p>1 rows × 50 columns</p>\n",
       "</div>"
      ],
      "text/plain": [
       "   Common Name (or Taxon) - POOLED DATA       Scientific Name   Fish/Invert  \\\n",
       "70                             Blue Crab  Callinectes sapidus  Invertebrate   \n",
       "\n",
       "   Zone                          Site                  Date    Time (Range)  \\\n",
       "70   Z9  Brooklyn Bridge Park - Pier 4  2019-08-10 00:00:00  11:00am-1:00pm   \n",
       "\n",
       "   High Tide           Method  Quantity  ...  Turbidity - Method   \\\n",
       "70    5:23am  Event - Seining         1  ...  Secchi Tube (120cm)   \n",
       "\n",
       "    Turbidity - Tool  pH  pH - Time  pH - Method  pH - Tool  Microbe Load  \\\n",
       "70               NaN NaN        NaN          NaN        NaN           NaN   \n",
       "\n",
       "    Microbe - Time Microbe - Method  Microbe - Tool  \n",
       "70             NaN               NaN            NaN  \n",
       "\n",
       "[1 rows x 50 columns]"
      ]
     },
     "execution_count": 9,
     "metadata": {},
     "output_type": "execute_result"
    }
   ],
   "source": [
    "db[db.duplicated()]"
   ]
  },
  {
   "cell_type": "code",
   "execution_count": null,
   "metadata": {},
   "outputs": [],
   "source": []
  }
 ],
 "metadata": {
  "kernelspec": {
   "display_name": "Python 3",
   "language": "python",
   "name": "python3"
  },
  "language_info": {
   "codemirror_mode": {
    "name": "ipython",
    "version": 3
   },
   "file_extension": ".py",
   "mimetype": "text/x-python",
   "name": "python",
   "nbconvert_exporter": "python",
   "pygments_lexer": "ipython3",
   "version": "3.7.3"
  }
 },
 "nbformat": 4,
 "nbformat_minor": 2
}
