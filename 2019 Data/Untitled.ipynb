{
 "cells": [
  {
   "cell_type": "code",
   "execution_count": 151,
   "metadata": {},
   "outputs": [],
   "source": [
    "import pandas as pd"
   ]
  },
  {
   "cell_type": "code",
   "execution_count": 152,
   "metadata": {},
   "outputs": [],
   "source": [
    "julaugdf = pd.read_excel('ERFA_Data_Z9_JulyAug2019_PJP.xlsx', sheet_name='Fish (Pooled)')"
   ]
  },
  {
   "cell_type": "code",
   "execution_count": 153,
   "metadata": {},
   "outputs": [],
   "source": [
    "mayjundf = pd.read_excel('ERFA_Data_Z9_MayJune2019_PJP.xlsx', sheet_name='Fish (Pooled)')"
   ]
  },
  {
   "cell_type": "code",
   "execution_count": 154,
   "metadata": {},
   "outputs": [],
   "source": [
    "db = pd.concat([mayjundf,julaugdf])"
   ]
  },
  {
   "cell_type": "code",
   "execution_count": 155,
   "metadata": {},
   "outputs": [],
   "source": [
    "db = db[db.Method == 'Event - Seining']"
   ]
  },
  {
   "cell_type": "code",
   "execution_count": 157,
   "metadata": {},
   "outputs": [],
   "source": [
    "db[\"Date\"] = pd.to_datetime(db.Date)"
   ]
  },
  {
   "cell_type": "code",
   "execution_count": 158,
   "metadata": {},
   "outputs": [],
   "source": [
    "db[\"Weather & Air Temp (F)\"] = \"\""
   ]
  },
  {
   "cell_type": "code",
   "execution_count": 159,
   "metadata": {},
   "outputs": [],
   "source": [
    "db['# of student seiners (CLASSES ONLY)'] = \"\""
   ]
  },
  {
   "cell_type": "code",
   "execution_count": 160,
   "metadata": {},
   "outputs": [],
   "source": [
    "db[\"# of visitors (Public Seine ONLY)\"] = \"\""
   ]
  },
  {
   "cell_type": "code",
   "execution_count": 161,
   "metadata": {},
   "outputs": [],
   "source": [
    "db['Instructors/ Seine Staff:'] = \"\""
   ]
  },
  {
   "cell_type": "code",
   "execution_count": 162,
   "metadata": {},
   "outputs": [],
   "source": [
    "db['# Hauls'] = \"\""
   ]
  },
  {
   "cell_type": "code",
   "execution_count": 163,
   "metadata": {},
   "outputs": [],
   "source": [
    "db2 = db[['Date', 'Time (Range)','Weather & Air Temp (F)','H2O Temp. (°C/°F)', 'High Tide', 'DO (ppm)','pH','Salinity (ppt)','Turbidity (NTU)',\n",
    "   '# of student seiners (CLASSES ONLY)',\"# of visitors (Public Seine ONLY)\",'Instructors/ Seine Staff:',\n",
    "   \"# Hauls\", 'Common Name (or Taxon) - POOLED DATA ','Quantity','Kept/Released','Comments']]"
   ]
  },
  {
   "cell_type": "code",
   "execution_count": 164,
   "metadata": {},
   "outputs": [],
   "source": [
    "dupsummed = db2[db2[['Date','Common Name (or Taxon) - POOLED DATA ']].duplicated(keep=False)].groupby(['Date','Common Name (or Taxon) - POOLED DATA ']).sum().reset_index()"
   ]
  },
  {
   "cell_type": "code",
   "execution_count": 165,
   "metadata": {},
   "outputs": [],
   "source": [
    "db22 = db2[~db2[['Date','Common Name (or Taxon) - POOLED DATA ']].duplicated()]"
   ]
  },
  {
   "cell_type": "code",
   "execution_count": 166,
   "metadata": {},
   "outputs": [
    {
     "name": "stderr",
     "output_type": "stream",
     "text": [
      "C:\\Users\\shad\\Anaconda3\\lib\\site-packages\\pandas\\core\\indexing.py:543: SettingWithCopyWarning: \n",
      "A value is trying to be set on a copy of a slice from a DataFrame.\n",
      "Try using .loc[row_indexer,col_indexer] = value instead\n",
      "\n",
      "See the caveats in the documentation: http://pandas.pydata.org/pandas-docs/stable/indexing.html#indexing-view-versus-copy\n",
      "  self.obj[item] = s\n"
     ]
    }
   ],
   "source": [
    "for i, x in dupsummed.iterrows():\n",
    "    mask = (db22.Date == x.Date) & (db22['Common Name (or Taxon) - POOLED DATA '] == x['Common Name (or Taxon) - POOLED DATA '])\n",
    "    db22.loc[mask,\"Quantity\"] = int(x.Quantity)"
   ]
  },
  {
   "cell_type": "code",
   "execution_count": 171,
   "metadata": {},
   "outputs": [
    {
     "name": "stderr",
     "output_type": "stream",
     "text": [
      "C:\\Users\\shad\\Anaconda3\\lib\\site-packages\\ipykernel_launcher.py:1: SettingWithCopyWarning: \n",
      "A value is trying to be set on a copy of a slice from a DataFrame.\n",
      "Try using .loc[row_indexer,col_indexer] = value instead\n",
      "\n",
      "See the caveats in the documentation: http://pandas.pydata.org/pandas-docs/stable/indexing.html#indexing-view-versus-copy\n",
      "  \"\"\"Entry point for launching an IPython kernel.\n"
     ]
    }
   ],
   "source": [
    "db22['H2O Temp. (°C/°F)'] = db22['H2O Temp. (°C/°F)'].str.extract('(\\d+)')"
   ]
  },
  {
   "cell_type": "code",
   "execution_count": 172,
   "metadata": {},
   "outputs": [],
   "source": [
    "haul_julaugdf = pd.read_excel('ERFA_Data_Z9_JulyAug2019_PJP.xlsx', sheet_name='Seining')"
   ]
  },
  {
   "cell_type": "code",
   "execution_count": 173,
   "metadata": {},
   "outputs": [],
   "source": [
    "haul_mayjundf = pd.read_excel('ERFA_Data_Z9_MayJune2019_PJP.xlsx', sheet_name='Seining')"
   ]
  },
  {
   "cell_type": "code",
   "execution_count": 174,
   "metadata": {},
   "outputs": [],
   "source": [
    "haul_df = pd.concat([haul_julaugdf,haul_mayjundf])"
   ]
  },
  {
   "cell_type": "code",
   "execution_count": 175,
   "metadata": {},
   "outputs": [
    {
     "name": "stderr",
     "output_type": "stream",
     "text": [
      "C:\\Users\\shad\\Anaconda3\\lib\\site-packages\\pandas\\core\\indexing.py:543: SettingWithCopyWarning: \n",
      "A value is trying to be set on a copy of a slice from a DataFrame.\n",
      "Try using .loc[row_indexer,col_indexer] = value instead\n",
      "\n",
      "See the caveats in the documentation: http://pandas.pydata.org/pandas-docs/stable/indexing.html#indexing-view-versus-copy\n",
      "  self.obj[item] = s\n"
     ]
    }
   ],
   "source": [
    "for i, x in haul_df.iterrows():\n",
    "    mask = db22['Date'] == x.Date\n",
    "    column = \"# Hauls\"\n",
    "    db22.loc[mask, column] = x['# Hauls']"
   ]
  },
  {
   "cell_type": "code",
   "execution_count": 176,
   "metadata": {},
   "outputs": [],
   "source": [
    "db22.to_csv('google_sheets_format_sein_2019.csv')"
   ]
  },
  {
   "cell_type": "code",
   "execution_count": null,
   "metadata": {},
   "outputs": [],
   "source": []
  }
 ],
 "metadata": {
  "kernelspec": {
   "display_name": "Python 3",
   "language": "python",
   "name": "python3"
  },
  "language_info": {
   "codemirror_mode": {
    "name": "ipython",
    "version": 3
   },
   "file_extension": ".py",
   "mimetype": "text/x-python",
   "name": "python",
   "nbconvert_exporter": "python",
   "pygments_lexer": "ipython3",
   "version": "3.7.3"
  }
 },
 "nbformat": 4,
 "nbformat_minor": 2
}
