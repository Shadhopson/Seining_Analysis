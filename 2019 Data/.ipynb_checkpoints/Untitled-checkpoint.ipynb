{
 "cells": [
  {
   "cell_type": "code",
   "execution_count": 109,
   "metadata": {},
   "outputs": [],
   "source": [
    "import pandas as pd"
   ]
  },
  {
   "cell_type": "code",
   "execution_count": 110,
   "metadata": {},
   "outputs": [],
   "source": [
    "julaugdf = pd.read_excel('ERFA_Data_Z9_JulyAug2019_PJP.xlsx', sheet_name='Fish (Pooled)')"
   ]
  },
  {
   "cell_type": "code",
   "execution_count": 111,
   "metadata": {},
   "outputs": [],
   "source": [
    "mayjundf = pd.read_excel('ERFA_Data_Z9_MayJune2019_PJP.xlsx', sheet_name='Fish (Pooled)')"
   ]
  },
  {
   "cell_type": "code",
   "execution_count": 112,
   "metadata": {},
   "outputs": [],
   "source": [
    "db = pd.concat([mayjundf,julaugdf])"
   ]
  },
  {
   "cell_type": "code",
   "execution_count": 113,
   "metadata": {},
   "outputs": [],
   "source": [
    "db = db[db.Method == 'Event - Seining']"
   ]
  },
  {
   "cell_type": "code",
   "execution_count": 114,
   "metadata": {},
   "outputs": [],
   "source": [
    "db[\"Date\"] = pd.to_datetime(db.Date)"
   ]
  },
  {
   "cell_type": "code",
   "execution_count": 115,
   "metadata": {},
   "outputs": [],
   "source": [
    "db[\"Weather & Air Temp (F)\"] = \"\""
   ]
  },
  {
   "cell_type": "code",
   "execution_count": 116,
   "metadata": {},
   "outputs": [],
   "source": [
    "db['# of student seiners (CLASSES ONLY)'] = \"\""
   ]
  },
  {
   "cell_type": "code",
   "execution_count": 117,
   "metadata": {},
   "outputs": [],
   "source": [
    "db[\"# of visitors (Public Seine ONLY)\"] = \"\""
   ]
  },
  {
   "cell_type": "code",
   "execution_count": 118,
   "metadata": {},
   "outputs": [],
   "source": [
    "db['Instructors/ Seine Staff:'] = \"\""
   ]
  },
  {
   "cell_type": "code",
   "execution_count": 119,
   "metadata": {},
   "outputs": [],
   "source": [
    "db['# Hauls'] = \"\""
   ]
  },
  {
   "cell_type": "code",
   "execution_count": 120,
   "metadata": {},
   "outputs": [],
   "source": [
    "db2 = db[['Date', 'Time (Range)','Weather & Air Temp (F)','H2O Temp. (°C/°F)', 'High Tide', 'DO (ppm)','pH','Salinity (ppt)','Turbidity (NTU)',\n",
    "   '# of student seiners (CLASSES ONLY)',\"# of visitors (Public Seine ONLY)\",'Instructors/ Seine Staff:',\n",
    "   \"# Hauls\", 'Common Name (or Taxon) - POOLED DATA ','Quantity','Kept/Released','Comments']]"
   ]
  },
  {
   "cell_type": "code",
   "execution_count": 121,
   "metadata": {},
   "outputs": [],
   "source": [
    "dupsummed = db2[db2[['Date','Common Name (or Taxon) - POOLED DATA ']].duplicated(keep=False)].groupby(['Date','Common Name (or Taxon) - POOLED DATA ']).sum().reset_index()"
   ]
  },
  {
   "cell_type": "code",
   "execution_count": 122,
   "metadata": {},
   "outputs": [
    {
     "data": {
      "text/html": [
       "<div>\n",
       "<style scoped>\n",
       "    .dataframe tbody tr th:only-of-type {\n",
       "        vertical-align: middle;\n",
       "    }\n",
       "\n",
       "    .dataframe tbody tr th {\n",
       "        vertical-align: top;\n",
       "    }\n",
       "\n",
       "    .dataframe thead th {\n",
       "        text-align: right;\n",
       "    }\n",
       "</style>\n",
       "<table border=\"1\" class=\"dataframe\">\n",
       "  <thead>\n",
       "    <tr style=\"text-align: right;\">\n",
       "      <th></th>\n",
       "      <th>Date</th>\n",
       "      <th>Common Name (or Taxon) - POOLED DATA</th>\n",
       "      <th>pH</th>\n",
       "      <th>Turbidity (NTU)</th>\n",
       "      <th>Quantity</th>\n",
       "    </tr>\n",
       "  </thead>\n",
       "  <tbody>\n",
       "    <tr>\n",
       "      <th>0</th>\n",
       "      <td>2019-07-11</td>\n",
       "      <td>spot (Lafayette) (n)</td>\n",
       "      <td>23.10</td>\n",
       "      <td>93.0</td>\n",
       "      <td>3</td>\n",
       "    </tr>\n",
       "    <tr>\n",
       "      <th>1</th>\n",
       "      <td>2019-07-13</td>\n",
       "      <td>menhaden, Atlantic (n)</td>\n",
       "      <td>15.68</td>\n",
       "      <td>75.6</td>\n",
       "      <td>3</td>\n",
       "    </tr>\n",
       "    <tr>\n",
       "      <th>2</th>\n",
       "      <td>2019-08-10</td>\n",
       "      <td>Blue Crab</td>\n",
       "      <td>0.00</td>\n",
       "      <td>0.0</td>\n",
       "      <td>5</td>\n",
       "    </tr>\n",
       "    <tr>\n",
       "      <th>3</th>\n",
       "      <td>2019-08-10</td>\n",
       "      <td>pipefish, northern (n)</td>\n",
       "      <td>0.00</td>\n",
       "      <td>0.0</td>\n",
       "      <td>5</td>\n",
       "    </tr>\n",
       "  </tbody>\n",
       "</table>\n",
       "</div>"
      ],
      "text/plain": [
       "        Date Common Name (or Taxon) - POOLED DATA      pH  Turbidity (NTU)  \\\n",
       "0 2019-07-11                  spot (Lafayette) (n)  23.10             93.0   \n",
       "1 2019-07-13                menhaden, Atlantic (n)  15.68             75.6   \n",
       "2 2019-08-10                             Blue Crab   0.00              0.0   \n",
       "3 2019-08-10                pipefish, northern (n)   0.00              0.0   \n",
       "\n",
       "   Quantity  \n",
       "0         3  \n",
       "1         3  \n",
       "2         5  \n",
       "3         5  "
      ]
     },
     "execution_count": 122,
     "metadata": {},
     "output_type": "execute_result"
    }
   ],
   "source": [
    "dupsummed"
   ]
  },
  {
   "cell_type": "code",
   "execution_count": 137,
   "metadata": {},
   "outputs": [],
   "source": [
    "db22 = db2[~db2[['Date','Common Name (or Taxon) - POOLED DATA ']].duplicated()]"
   ]
  },
  {
   "cell_type": "code",
   "execution_count": 138,
   "metadata": {},
   "outputs": [],
   "source": [
    "for i, x in dupsummed.iterrows():\n",
    "    mask = (db22.Date == x.Date) & (db22['Common Name (or Taxon) - POOLED DATA '] == x['Common Name (or Taxon) - POOLED DATA '])\n",
    "    db22.loc[mask,\"Quantity\"] = int(x.Quantity)"
   ]
  },
  {
   "cell_type": "code",
   "execution_count": 139,
   "metadata": {},
   "outputs": [
    {
     "data": {
      "text/html": [
       "<div>\n",
       "<style scoped>\n",
       "    .dataframe tbody tr th:only-of-type {\n",
       "        vertical-align: middle;\n",
       "    }\n",
       "\n",
       "    .dataframe tbody tr th {\n",
       "        vertical-align: top;\n",
       "    }\n",
       "\n",
       "    .dataframe thead th {\n",
       "        text-align: right;\n",
       "    }\n",
       "</style>\n",
       "<table border=\"1\" class=\"dataframe\">\n",
       "  <thead>\n",
       "    <tr style=\"text-align: right;\">\n",
       "      <th></th>\n",
       "      <th>Date</th>\n",
       "      <th>Time (Range)</th>\n",
       "      <th>Weather &amp; Air Temp (F)</th>\n",
       "      <th>H2O Temp. (°C/°F)</th>\n",
       "      <th>High Tide</th>\n",
       "      <th>DO (ppm)</th>\n",
       "      <th>pH</th>\n",
       "      <th>Salinity (ppt)</th>\n",
       "      <th>Turbidity (NTU)</th>\n",
       "      <th># of student seiners (CLASSES ONLY)</th>\n",
       "      <th># of visitors (Public Seine ONLY)</th>\n",
       "      <th>Instructors/ Seine Staff:</th>\n",
       "      <th># Hauls</th>\n",
       "      <th>Common Name (or Taxon) - POOLED DATA</th>\n",
       "      <th>Quantity</th>\n",
       "      <th>Kept/Released</th>\n",
       "      <th>Comments</th>\n",
       "    </tr>\n",
       "  </thead>\n",
       "  <tbody>\n",
       "    <tr>\n",
       "      <th>21</th>\n",
       "      <td>2019-06-01</td>\n",
       "      <td>11:30am-1:00pm</td>\n",
       "      <td></td>\n",
       "      <td>64°F</td>\n",
       "      <td>7:57am</td>\n",
       "      <td>7-8</td>\n",
       "      <td>9.80</td>\n",
       "      <td>20</td>\n",
       "      <td>NaN</td>\n",
       "      <td></td>\n",
       "      <td></td>\n",
       "      <td></td>\n",
       "      <td></td>\n",
       "      <td>Blue Crab</td>\n",
       "      <td>3</td>\n",
       "      <td>Released</td>\n",
       "      <td>Length is Carapace Width</td>\n",
       "    </tr>\n",
       "    <tr>\n",
       "      <th>16</th>\n",
       "      <td>2019-07-11</td>\n",
       "      <td>10:00am-1:00pm</td>\n",
       "      <td></td>\n",
       "      <td>79.3°F</td>\n",
       "      <td>4:49am</td>\n",
       "      <td>7.73</td>\n",
       "      <td>7.70</td>\n",
       "      <td>21.68</td>\n",
       "      <td>31.0</td>\n",
       "      <td></td>\n",
       "      <td></td>\n",
       "      <td></td>\n",
       "      <td></td>\n",
       "      <td>Blue Crab</td>\n",
       "      <td>3</td>\n",
       "      <td>Released</td>\n",
       "      <td>all less than 1 inch (carapace?)</td>\n",
       "    </tr>\n",
       "    <tr>\n",
       "      <th>43</th>\n",
       "      <td>2019-07-25</td>\n",
       "      <td>10:00am-11:45am</td>\n",
       "      <td></td>\n",
       "      <td>80.6°F</td>\n",
       "      <td>2:54am</td>\n",
       "      <td>7</td>\n",
       "      <td>7.00</td>\n",
       "      <td>26</td>\n",
       "      <td>NaN</td>\n",
       "      <td></td>\n",
       "      <td></td>\n",
       "      <td></td>\n",
       "      <td></td>\n",
       "      <td>Blue Crab</td>\n",
       "      <td>1</td>\n",
       "      <td>Released</td>\n",
       "      <td>NaN</td>\n",
       "    </tr>\n",
       "    <tr>\n",
       "      <th>66</th>\n",
       "      <td>2019-08-10</td>\n",
       "      <td>11:00am-1:00pm</td>\n",
       "      <td></td>\n",
       "      <td>77°F</td>\n",
       "      <td>5:23am</td>\n",
       "      <td>7-8</td>\n",
       "      <td>NaN</td>\n",
       "      <td>24</td>\n",
       "      <td>NaN</td>\n",
       "      <td></td>\n",
       "      <td></td>\n",
       "      <td></td>\n",
       "      <td></td>\n",
       "      <td>Blue Crab</td>\n",
       "      <td>5</td>\n",
       "      <td>Released</td>\n",
       "      <td>Great Hudson River Fish Count</td>\n",
       "    </tr>\n",
       "    <tr>\n",
       "      <th>79</th>\n",
       "      <td>2019-08-14</td>\n",
       "      <td>10:00-11:20am</td>\n",
       "      <td></td>\n",
       "      <td>75.5°F</td>\n",
       "      <td>8:48am</td>\n",
       "      <td>5.18</td>\n",
       "      <td>8.07</td>\n",
       "      <td>23.32</td>\n",
       "      <td>7.5</td>\n",
       "      <td></td>\n",
       "      <td></td>\n",
       "      <td></td>\n",
       "      <td></td>\n",
       "      <td>Blue Crab</td>\n",
       "      <td>1</td>\n",
       "      <td>Released</td>\n",
       "      <td>school group</td>\n",
       "    </tr>\n",
       "    <tr>\n",
       "      <th>93</th>\n",
       "      <td>2019-08-31</td>\n",
       "      <td>4:10-6:00pm</td>\n",
       "      <td></td>\n",
       "      <td>75°F</td>\n",
       "      <td>9:49am</td>\n",
       "      <td>6.5</td>\n",
       "      <td>8.20</td>\n",
       "      <td>22.6</td>\n",
       "      <td>NaN</td>\n",
       "      <td></td>\n",
       "      <td></td>\n",
       "      <td></td>\n",
       "      <td></td>\n",
       "      <td>Blue Crab</td>\n",
       "      <td>1</td>\n",
       "      <td>Released</td>\n",
       "      <td>Public seine; carapace length</td>\n",
       "    </tr>\n",
       "  </tbody>\n",
       "</table>\n",
       "</div>"
      ],
      "text/plain": [
       "         Date     Time (Range) Weather & Air Temp (F) H2O Temp. (°C/°F)  \\\n",
       "21 2019-06-01   11:30am-1:00pm                                     64°F   \n",
       "16 2019-07-11   10:00am-1:00pm                                   79.3°F   \n",
       "43 2019-07-25  10:00am-11:45am                                   80.6°F   \n",
       "66 2019-08-10   11:00am-1:00pm                                     77°F   \n",
       "79 2019-08-14    10:00-11:20am                                   75.5°F   \n",
       "93 2019-08-31      4:10-6:00pm                                     75°F   \n",
       "\n",
       "   High Tide DO (ppm)    pH Salinity (ppt)  Turbidity (NTU)  \\\n",
       "21    7:57am      7-8  9.80             20              NaN   \n",
       "16    4:49am     7.73  7.70          21.68             31.0   \n",
       "43    2:54am        7  7.00             26              NaN   \n",
       "66    5:23am      7-8   NaN             24              NaN   \n",
       "79    8:48am     5.18  8.07          23.32              7.5   \n",
       "93    9:49am      6.5  8.20           22.6              NaN   \n",
       "\n",
       "   # of student seiners (CLASSES ONLY) # of visitors (Public Seine ONLY)  \\\n",
       "21                                                                         \n",
       "16                                                                         \n",
       "43                                                                         \n",
       "66                                                                         \n",
       "79                                                                         \n",
       "93                                                                         \n",
       "\n",
       "   Instructors/ Seine Staff: # Hauls Common Name (or Taxon) - POOLED DATA   \\\n",
       "21                                                               Blue Crab   \n",
       "16                                                               Blue Crab   \n",
       "43                                                               Blue Crab   \n",
       "66                                                               Blue Crab   \n",
       "79                                                               Blue Crab   \n",
       "93                                                               Blue Crab   \n",
       "\n",
       "    Quantity Kept/Released                          Comments  \n",
       "21         3      Released          Length is Carapace Width  \n",
       "16         3      Released  all less than 1 inch (carapace?)  \n",
       "43         1      Released                               NaN  \n",
       "66         5      Released     Great Hudson River Fish Count  \n",
       "79         1      Released                      school group  \n",
       "93         1      Released     Public seine; carapace length  "
      ]
     },
     "execution_count": 139,
     "metadata": {},
     "output_type": "execute_result"
    }
   ],
   "source": [
    "db22[db22['Common Name (or Taxon) - POOLED DATA '] == 'Blue Crab']"
   ]
  },
  {
   "cell_type": "code",
   "execution_count": null,
   "metadata": {},
   "outputs": [],
   "source": []
  }
 ],
 "metadata": {
  "kernelspec": {
   "display_name": "Python 3",
   "language": "python",
   "name": "python3"
  },
  "language_info": {
   "codemirror_mode": {
    "name": "ipython",
    "version": 3
   },
   "file_extension": ".py",
   "mimetype": "text/x-python",
   "name": "python",
   "nbconvert_exporter": "python",
   "pygments_lexer": "ipython3",
   "version": "3.7.3"
  }
 },
 "nbformat": 4,
 "nbformat_minor": 2
}
