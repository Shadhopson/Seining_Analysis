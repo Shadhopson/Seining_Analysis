{
 "cells": [
  {
   "cell_type": "code",
   "execution_count": 91,
   "metadata": {},
   "outputs": [],
   "source": [
    "import pandas as pd\n",
    "pd.set_option('display.max_rows', 500)"
   ]
  },
  {
   "cell_type": "markdown",
   "metadata": {},
   "source": [
    "### Combine june,may,july, aug, datasets, take only the seining data, add columns, and make dataframe of only the columns we want"
   ]
  },
  {
   "cell_type": "code",
   "execution_count": 92,
   "metadata": {},
   "outputs": [],
   "source": [
    "julaugdf = pd.read_excel('ERFA_Data_Z9_JulyAug2019_PJP.xlsx', sheet_name='Fish (Pooled)')"
   ]
  },
  {
   "cell_type": "code",
   "execution_count": 93,
   "metadata": {},
   "outputs": [],
   "source": [
    "mayjundf = pd.read_excel('ERFA_Data_Z9_MayJune2019_PJP.xlsx', sheet_name='Fish (Pooled)')"
   ]
  },
  {
   "cell_type": "code",
   "execution_count": 94,
   "metadata": {},
   "outputs": [],
   "source": [
    "db = pd.concat([mayjundf,julaugdf])"
   ]
  },
  {
   "cell_type": "code",
   "execution_count": 95,
   "metadata": {},
   "outputs": [],
   "source": [
    "db = db[db.Method == 'Event - Seining']"
   ]
  },
  {
   "cell_type": "code",
   "execution_count": 96,
   "metadata": {},
   "outputs": [],
   "source": [
    "db[\"Date\"] = pd.to_datetime(db.Date)"
   ]
  },
  {
   "cell_type": "code",
   "execution_count": 97,
   "metadata": {},
   "outputs": [],
   "source": [
    "db[\"Weather & Air Temp (F)\"] = \"\""
   ]
  },
  {
   "cell_type": "code",
   "execution_count": 98,
   "metadata": {},
   "outputs": [],
   "source": [
    "db['# of student seiners (CLASSES ONLY)'] = \"\""
   ]
  },
  {
   "cell_type": "code",
   "execution_count": 99,
   "metadata": {},
   "outputs": [],
   "source": [
    "db[\"# of visitors (Public Seine ONLY)\"] = \"\""
   ]
  },
  {
   "cell_type": "code",
   "execution_count": 100,
   "metadata": {},
   "outputs": [],
   "source": [
    "db['Instructors/ Seine Staff:'] = \"\""
   ]
  },
  {
   "cell_type": "code",
   "execution_count": 101,
   "metadata": {},
   "outputs": [],
   "source": [
    "db['# Hauls'] = \"\""
   ]
  },
  {
   "cell_type": "code",
   "execution_count": 102,
   "metadata": {},
   "outputs": [],
   "source": [
    "db['Tide is moving'] = \"\""
   ]
  },
  {
   "cell_type": "code",
   "execution_count": 103,
   "metadata": {},
   "outputs": [],
   "source": [
    "db['Tide Times'] = \"\""
   ]
  },
  {
   "cell_type": "code",
   "execution_count": 104,
   "metadata": {},
   "outputs": [],
   "source": [
    "db2 = db[['Date', 'Time (Range)','Weather & Air Temp (F)','H2O Temp. (°C/°F)', 'Tide Times','Tide is moving', 'DO (ppm)','pH','Salinity (ppt)','Turbidity (NTU)',\n",
    "   '# of student seiners (CLASSES ONLY)',\"# of visitors (Public Seine ONLY)\",'Instructors/ Seine Staff:',\n",
    "   \"# Hauls\", 'Common Name (or Taxon) - POOLED DATA ','Quantity','Kept/Released','Comments']]"
   ]
  },
  {
   "cell_type": "markdown",
   "metadata": {},
   "source": [
    "### Set a Kept column to be equal to quantity when we keep it. Also filling all NAs with empty strings for the groupby"
   ]
  },
  {
   "cell_type": "code",
   "execution_count": 105,
   "metadata": {},
   "outputs": [
    {
     "name": "stderr",
     "output_type": "stream",
     "text": [
      "C:\\Users\\shad\\Anaconda3\\lib\\site-packages\\ipykernel_launcher.py:1: SettingWithCopyWarning: \n",
      "A value is trying to be set on a copy of a slice from a DataFrame.\n",
      "Try using .loc[row_indexer,col_indexer] = value instead\n",
      "\n",
      "See the caveats in the documentation: http://pandas.pydata.org/pandas-docs/stable/indexing.html#indexing-view-versus-copy\n",
      "  \"\"\"Entry point for launching an IPython kernel.\n"
     ]
    }
   ],
   "source": [
    "db2['Kept'] = db2['Quantity']"
   ]
  },
  {
   "cell_type": "code",
   "execution_count": 106,
   "metadata": {},
   "outputs": [],
   "source": [
    "mask = db2['Kept/Released'] == \"Released\"\n",
    "db2.loc[mask, 'Kept'] = 0"
   ]
  },
  {
   "cell_type": "code",
   "execution_count": 109,
   "metadata": {},
   "outputs": [],
   "source": [
    "db2 = db2.fillna(\"\")"
   ]
  },
  {
   "cell_type": "markdown",
   "metadata": {},
   "source": [
    "### grouping to combine same species and summing their counts. Cleaning temp, and getting hauls"
   ]
  },
  {
   "cell_type": "code",
   "execution_count": 110,
   "metadata": {},
   "outputs": [],
   "source": [
    "grouped_csv  =db2.groupby(['Date', 'Time (Range)','Weather & Air Temp (F)','H2O Temp. (°C/°F)', 'Tide Times','Tide is moving', 'DO (ppm)','pH','Salinity (ppt)','Turbidity (NTU)',\n",
    "   '# of student seiners (CLASSES ONLY)',\"# of visitors (Public Seine ONLY)\",'Instructors/ Seine Staff:',\n",
    "   \"# Hauls\", 'Common Name (or Taxon) - POOLED DATA ']).sum().reset_index()"
   ]
  },
  {
   "cell_type": "code",
   "execution_count": 114,
   "metadata": {},
   "outputs": [],
   "source": [
    "grouped_csv['H2O Temp. (°C/°F)'] = grouped_csv['H2O Temp. (°C/°F)'].str.extract('(\\d+)')"
   ]
  },
  {
   "cell_type": "code",
   "execution_count": 115,
   "metadata": {},
   "outputs": [],
   "source": [
    "haul_julaugdf = pd.read_excel('ERFA_Data_Z9_JulyAug2019_PJP.xlsx', sheet_name='Seining')"
   ]
  },
  {
   "cell_type": "code",
   "execution_count": 116,
   "metadata": {},
   "outputs": [],
   "source": [
    "haul_mayjundf = pd.read_excel('ERFA_Data_Z9_MayJune2019_PJP.xlsx', sheet_name='Seining')"
   ]
  },
  {
   "cell_type": "code",
   "execution_count": 117,
   "metadata": {},
   "outputs": [],
   "source": [
    "haul_df = pd.concat([haul_julaugdf,haul_mayjundf])"
   ]
  },
  {
   "cell_type": "code",
   "execution_count": 118,
   "metadata": {},
   "outputs": [],
   "source": [
    "for i, x in haul_df.iterrows():\n",
    "    mask = grouped_csv['Date'] == x.Date\n",
    "    column = \"# Hauls\"\n",
    "    grouped_csv.loc[mask, column] = x['# Hauls']"
   ]
  },
  {
   "cell_type": "code",
   "execution_count": 119,
   "metadata": {},
   "outputs": [],
   "source": [
    "grouped_csv.to_csv('grouped_seining_data.csv')"
   ]
  }
 ],
 "metadata": {
  "kernelspec": {
   "display_name": "Python 3",
   "language": "python",
   "name": "python3"
  },
  "language_info": {
   "codemirror_mode": {
    "name": "ipython",
    "version": 3
   },
   "file_extension": ".py",
   "mimetype": "text/x-python",
   "name": "python",
   "nbconvert_exporter": "python",
   "pygments_lexer": "ipython3",
   "version": "3.7.3"
  }
 },
 "nbformat": 4,
 "nbformat_minor": 2
}
