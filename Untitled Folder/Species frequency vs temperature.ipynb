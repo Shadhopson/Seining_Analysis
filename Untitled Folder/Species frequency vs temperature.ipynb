{
 "cells": [
  {
   "cell_type": "code",
   "execution_count": 1,
   "metadata": {},
   "outputs": [],
   "source": [
    "import pandas as pd"
   ]
  },
  {
   "cell_type": "code",
   "execution_count": 6,
   "metadata": {},
   "outputs": [],
   "source": [
    "df =pd.read_csv('../Created CSVs/Cleaned_For_Analysis_All_Data.csv')"
   ]
  },
  {
   "cell_type": "code",
   "execution_count": 8,
   "metadata": {},
   "outputs": [
    {
     "data": {
      "text/plain": [
       "Index([u'Unnamed: 0', u'Date', u'Time', u'Weather & Air Temp:', u'Water Temp:',\n",
       "       u'Corrected Water Temp:', u'pH', u'Corrected pH', u'DO',\n",
       "       u'Corrected DO', u'Turbidity', u'Salinity', u'Corrected Salinity',\n",
       "       u'Tide is moving', u'Tide Times', u'# Hauls', u'Corrected # Hauls',\n",
       "       u'Common Name', u'Corrected Common Name',\n",
       "       u'Grouped Corrected Common Name', u'Quantity', u'Corrected Quantity',\n",
       "       u'Scientific Name', u'Instructors/ Seine Staff:',\n",
       "       u'# student seiners (CLASSES ONLY)',\n",
       "       u'# of visitors (Public Seine ONLY)', u'# Brought to Ed Center',\n",
       "       u'Other info (Gender, Length, Dead/Alive, other physical description)',\n",
       "       u'NOTES FROM SEINEING SEASON:', u'Battery Park Water Temp'],\n",
       "      dtype='object')"
      ]
     },
     "execution_count": 8,
     "metadata": {},
     "output_type": "execute_result"
    }
   ],
   "source": [
    "df.columns"
   ]
  },
  {
   "cell_type": "code",
   "execution_count": 15,
   "metadata": {},
   "outputs": [],
   "source": [
    "df = df[['Date', 'Battery Park Water Temp', 'Grouped Corrected Common Name', 'Corrected Quantity']]"
   ]
  },
  {
   "cell_type": "code",
   "execution_count": 18,
   "metadata": {},
   "outputs": [
    {
     "name": "stderr",
     "output_type": "stream",
     "text": [
      "C:\\Users\\seasonal\\AppData\\Local\\Continuum\\anaconda2\\lib\\site-packages\\ipykernel_launcher.py:1: SettingWithCopyWarning: \n",
      "A value is trying to be set on a copy of a slice from a DataFrame.\n",
      "Try using .loc[row_indexer,col_indexer] = value instead\n",
      "\n",
      "See the caveats in the documentation: http://pandas.pydata.org/pandas-docs/stable/indexing.html#indexing-view-versus-copy\n",
      "  \"\"\"Entry point for launching an IPython kernel.\n"
     ]
    }
   ],
   "source": [
    "df['Date'] = pd.to_datetime(df['Date'])"
   ]
  },
  {
   "cell_type": "code",
   "execution_count": 23,
   "metadata": {},
   "outputs": [],
   "source": [
    "df['Month'] = df['Date'].dt.month"
   ]
  },
  {
   "cell_type": "code",
   "execution_count": 34,
   "metadata": {},
   "outputs": [
    {
     "name": "stdout",
     "output_type": "stream",
     "text": [
      "<class 'pandas.core.frame.DataFrame'>\n",
      "DatetimeIndex: 130 entries, 2008-09-13 to 2018-10-18\n",
      "Data columns (total 3 columns):\n",
      "Battery Park Water Temp    108 non-null float64\n",
      "Corrected Quantity         130 non-null float64\n",
      "Month                      130 non-null float64\n",
      "dtypes: float64(3)\n",
      "memory usage: 4.1 KB\n"
     ]
    }
   ],
   "source": [
    "df.groupby(\"Date\").mean().info()"
   ]
  },
  {
   "cell_type": "code",
   "execution_count": 36,
   "metadata": {},
   "outputs": [],
   "source": [
    "#daily_df = pd.read_csv('../Created CSVs/Cleaned_For_Analysis_Compressed_By_Day.csv')"
   ]
  },
  {
   "cell_type": "code",
   "execution_count": 39,
   "metadata": {},
   "outputs": [],
   "source": [
    "#daily_df.tail()"
   ]
  },
  {
   "cell_type": "code",
   "execution_count": 42,
   "metadata": {},
   "outputs": [],
   "source": [
    "fish_count = {}\n",
    "for val in list(set(df[\"Grouped Corrected Common Name\"])):\n",
    "    fish_count[val] = 0"
   ]
  },
  {
   "cell_type": "code",
   "execution_count": 49,
   "metadata": {},
   "outputs": [],
   "source": [
    "temp_max = df['Battery Park Water Temp'].max()"
   ]
  },
  {
   "cell_type": "code",
   "execution_count": 50,
   "metadata": {},
   "outputs": [],
   "source": [
    "temp_min = df['Battery Park Water Temp'].min()"
   ]
  },
  {
   "cell_type": "code",
   "execution_count": 55,
   "metadata": {},
   "outputs": [],
   "source": [
    "#temp_intrvl = (temp_max - temp_min)/10"
   ]
  },
  {
   "cell_type": "code",
   "execution_count": 81,
   "metadata": {},
   "outputs": [
    {
     "data": {
      "text/plain": [
       "26.099999999999994"
      ]
     },
     "execution_count": 81,
     "metadata": {},
     "output_type": "execute_result"
    }
   ],
   "source": [
    "temp_max - temp_min "
   ]
  },
  {
   "cell_type": "code",
   "execution_count": 82,
   "metadata": {},
   "outputs": [],
   "source": [
    "df_cold = df[df[\"Battery Park Water Temp\"]<= temp_min + 5]"
   ]
  },
  {
   "cell_type": "code",
   "execution_count": 83,
   "metadata": {},
   "outputs": [],
   "source": [
    "df_cool = df[(df[\"Battery Park Water Temp\"]<= temp_min + 10) & (df[\"Battery Park Water Temp\"]> temp_min + 5)]"
   ]
  },
  {
   "cell_type": "code",
   "execution_count": 84,
   "metadata": {},
   "outputs": [],
   "source": [
    "df_tepid = df[(df[\"Battery Park Water Temp\"]<= temp_min + 15) & (df[\"Battery Park Water Temp\"]> temp_min + 10)]"
   ]
  },
  {
   "cell_type": "code",
   "execution_count": 85,
   "metadata": {},
   "outputs": [],
   "source": [
    "df_warm = df[(df[\"Battery Park Water Temp\"]<= temp_min + 20) & (df[\"Battery Park Water Temp\"]> temp_min + 15)]"
   ]
  },
  {
   "cell_type": "code",
   "execution_count": 91,
   "metadata": {},
   "outputs": [],
   "source": [
    "df_hot = df[(df[\"Battery Park Water Temp\"]<= temp_min + 25) & (df[\"Battery Park Water Temp\"]> temp_min + 20)]"
   ]
  },
  {
   "cell_type": "code",
   "execution_count": 93,
   "metadata": {},
   "outputs": [],
   "source": [
    "df_hot_tub = df[(df[\"Battery Park Water Temp\"]<= temp_min + 30) & (df[\"Battery Park Water Temp\"]> temp_min + 25)]"
   ]
  },
  {
   "cell_type": "code",
   "execution_count": 102,
   "metadata": {},
   "outputs": [
    {
     "data": {
      "text/plain": [
       "(115, 100, 765, 1215, 1665, 245)"
      ]
     },
     "execution_count": 102,
     "metadata": {},
     "output_type": "execute_result"
    }
   ],
   "source": [
    "df_cold.size, df_cool.size, df_tepid.size, df_warm.size, df_hot.size,df_hot_tub.size"
   ]
  },
  {
   "cell_type": "code",
   "execution_count": null,
   "metadata": {},
   "outputs": [],
   "source": []
  }
 ],
 "metadata": {
  "kernelspec": {
   "display_name": "Python 2",
   "language": "python",
   "name": "python2"
  },
  "language_info": {
   "codemirror_mode": {
    "name": "ipython",
    "version": 2
   },
   "file_extension": ".py",
   "mimetype": "text/x-python",
   "name": "python",
   "nbconvert_exporter": "python",
   "pygments_lexer": "ipython2",
   "version": "2.7.16"
  }
 },
 "nbformat": 4,
 "nbformat_minor": 2
}
