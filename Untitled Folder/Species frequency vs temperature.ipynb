{
 "cells": [
  {
   "cell_type": "code",
   "execution_count": 1,
   "metadata": {},
   "outputs": [],
   "source": [
    "import pandas as pd"
   ]
  },
  {
   "cell_type": "code",
   "execution_count": 2,
   "metadata": {},
   "outputs": [],
   "source": [
    "df =pd.read_csv('../Created CSVs/Cleaned_For_Analysis_All_Data.csv')"
   ]
  },
  {
   "cell_type": "code",
   "execution_count": 3,
   "metadata": {},
   "outputs": [
    {
     "data": {
      "text/plain": [
       "Index([u'Unnamed: 0', u'Date', u'Time', u'Weather & Air Temp:', u'Water Temp:',\n",
       "       u'Corrected Water Temp:', u'pH', u'Corrected pH', u'DO',\n",
       "       u'Corrected DO', u'Turbidity', u'Salinity', u'Corrected Salinity',\n",
       "       u'Tide is moving', u'Tide Times', u'# Hauls', u'Corrected # Hauls',\n",
       "       u'Common Name', u'Corrected Common Name',\n",
       "       u'Grouped Corrected Common Name', u'Quantity', u'Corrected Quantity',\n",
       "       u'Scientific Name', u'Instructors/ Seine Staff:',\n",
       "       u'# student seiners (CLASSES ONLY)',\n",
       "       u'# of visitors (Public Seine ONLY)', u'# Brought to Ed Center',\n",
       "       u'Other info (Gender, Length, Dead/Alive, other physical description)',\n",
       "       u'NOTES FROM SEINEING SEASON:', u'Battery Park Water Temp'],\n",
       "      dtype='object')"
      ]
     },
     "execution_count": 3,
     "metadata": {},
     "output_type": "execute_result"
    }
   ],
   "source": [
    "df.columns"
   ]
  },
  {
   "cell_type": "code",
   "execution_count": 4,
   "metadata": {},
   "outputs": [],
   "source": [
    "df = df[['Date', 'Battery Park Water Temp', 'Grouped Corrected Common Name', 'Corrected Quantity']]"
   ]
  },
  {
   "cell_type": "code",
   "execution_count": 5,
   "metadata": {},
   "outputs": [],
   "source": [
    "df['Date'] = pd.to_datetime(df['Date'])"
   ]
  },
  {
   "cell_type": "code",
   "execution_count": 6,
   "metadata": {},
   "outputs": [],
   "source": [
    "df['Month'] = df['Date'].dt.month"
   ]
  },
  {
   "cell_type": "code",
   "execution_count": 7,
   "metadata": {},
   "outputs": [
    {
     "name": "stdout",
     "output_type": "stream",
     "text": [
      "<class 'pandas.core.frame.DataFrame'>\n",
      "DatetimeIndex: 130 entries, 2008-09-13 to 2018-10-18\n",
      "Data columns (total 3 columns):\n",
      "Battery Park Water Temp    108 non-null float64\n",
      "Corrected Quantity         130 non-null float64\n",
      "Month                      130 non-null float64\n",
      "dtypes: float64(3)\n",
      "memory usage: 4.1 KB\n"
     ]
    }
   ],
   "source": [
    "df.groupby(\"Date\").mean().info()"
   ]
  },
  {
   "cell_type": "code",
   "execution_count": 8,
   "metadata": {},
   "outputs": [],
   "source": [
    "#daily_df = pd.read_csv('../Created CSVs/Cleaned_For_Analysis_Compressed_By_Day.csv')"
   ]
  },
  {
   "cell_type": "code",
   "execution_count": 9,
   "metadata": {},
   "outputs": [],
   "source": [
    "#daily_df.tail()"
   ]
  },
  {
   "cell_type": "code",
   "execution_count": 10,
   "metadata": {},
   "outputs": [],
   "source": [
    "fish_count = {}\n",
    "for val in list(set(df[\"Grouped Corrected Common Name\"])):\n",
    "    fish_count[val] = 0"
   ]
  },
  {
   "cell_type": "code",
   "execution_count": 11,
   "metadata": {},
   "outputs": [],
   "source": [
    "temp_max = df['Battery Park Water Temp'].max()"
   ]
  },
  {
   "cell_type": "code",
   "execution_count": 12,
   "metadata": {},
   "outputs": [],
   "source": [
    "temp_min = df['Battery Park Water Temp'].min()"
   ]
  },
  {
   "cell_type": "code",
   "execution_count": 13,
   "metadata": {},
   "outputs": [],
   "source": [
    "#temp_intrvl = (temp_max - temp_min)/10"
   ]
  },
  {
   "cell_type": "code",
   "execution_count": 14,
   "metadata": {},
   "outputs": [
    {
     "data": {
      "text/plain": [
       "26.099999999999994"
      ]
     },
     "execution_count": 14,
     "metadata": {},
     "output_type": "execute_result"
    }
   ],
   "source": [
    "temp_max - temp_min "
   ]
  },
  {
   "cell_type": "code",
   "execution_count": 44,
   "metadata": {},
   "outputs": [],
   "source": [
    "df_cold = df[df[\"Battery Park Water Temp\"]<= temp_min + 5]"
   ]
  },
  {
   "cell_type": "code",
   "execution_count": 16,
   "metadata": {},
   "outputs": [],
   "source": [
    "df_cool = df[(df[\"Battery Park Water Temp\"]<= temp_min + 10) & (df[\"Battery Park Water Temp\"]> temp_min + 5)]"
   ]
  },
  {
   "cell_type": "code",
   "execution_count": 17,
   "metadata": {},
   "outputs": [],
   "source": [
    "df_tepid = df[(df[\"Battery Park Water Temp\"]<= temp_min + 15) & (df[\"Battery Park Water Temp\"]> temp_min + 10)]"
   ]
  },
  {
   "cell_type": "code",
   "execution_count": 18,
   "metadata": {},
   "outputs": [],
   "source": [
    "df_warm = df[(df[\"Battery Park Water Temp\"]<= temp_min + 20) & (df[\"Battery Park Water Temp\"]> temp_min + 15)]"
   ]
  },
  {
   "cell_type": "code",
   "execution_count": 19,
   "metadata": {},
   "outputs": [],
   "source": [
    "df_hot = df[(df[\"Battery Park Water Temp\"]<= temp_min + 25) & (df[\"Battery Park Water Temp\"]> temp_min + 20)]"
   ]
  },
  {
   "cell_type": "code",
   "execution_count": 20,
   "metadata": {},
   "outputs": [],
   "source": [
    "df_hot_tub = df[(df[\"Battery Park Water Temp\"]<= temp_min + 30) & (df[\"Battery Park Water Temp\"]> temp_min + 25)]"
   ]
  },
  {
   "cell_type": "code",
   "execution_count": 21,
   "metadata": {},
   "outputs": [
    {
     "data": {
      "text/plain": [
       "(115, 100, 765, 1215, 1665, 245)"
      ]
     },
     "execution_count": 21,
     "metadata": {},
     "output_type": "execute_result"
    }
   ],
   "source": [
    "df_cold.size, df_cool.size, df_tepid.size, df_warm.size, df_hot.size,df_hot_tub.size"
   ]
  },
  {
   "cell_type": "code",
   "execution_count": 71,
   "metadata": {},
   "outputs": [],
   "source": [
    "cold = df_cold.groupby(\"Grouped Corrected Common Name\", as_index=False).sum()[[\"Corrected Quantity\",\"Grouped Corrected Common Name\"]]"
   ]
  },
  {
   "cell_type": "code",
   "execution_count": 73,
   "metadata": {},
   "outputs": [],
   "source": [
    "cold['Percentile'] =  cold[\"Corrected Quantity\"]/ cold[\"Corrected Quantity\"].sum()"
   ]
  },
  {
   "cell_type": "code",
   "execution_count": 77,
   "metadata": {},
   "outputs": [],
   "source": [
    "seine_count = df_cold.groupby(\"Grouped Corrected Common Name\").count()['Corrected Quantity']"
   ]
  },
  {
   "cell_type": "code",
   "execution_count": 80,
   "metadata": {},
   "outputs": [],
   "source": [
    "cold['Per Seine'] = cold['Corrected Quantity']/list(seine_count)"
   ]
  },
  {
   "cell_type": "code",
   "execution_count": 81,
   "metadata": {},
   "outputs": [
    {
     "data": {
      "text/html": [
       "<div>\n",
       "<style scoped>\n",
       "    .dataframe tbody tr th:only-of-type {\n",
       "        vertical-align: middle;\n",
       "    }\n",
       "\n",
       "    .dataframe tbody tr th {\n",
       "        vertical-align: top;\n",
       "    }\n",
       "\n",
       "    .dataframe thead th {\n",
       "        text-align: right;\n",
       "    }\n",
       "</style>\n",
       "<table border=\"1\" class=\"dataframe\">\n",
       "  <thead>\n",
       "    <tr style=\"text-align: right;\">\n",
       "      <th></th>\n",
       "      <th>Corrected Quantity</th>\n",
       "      <th>Grouped Corrected Common Name</th>\n",
       "      <th>Percentile</th>\n",
       "      <th>Per Seine</th>\n",
       "    </tr>\n",
       "  </thead>\n",
       "  <tbody>\n",
       "    <tr>\n",
       "      <th>0</th>\n",
       "      <td>2</td>\n",
       "      <td>amphipod</td>\n",
       "      <td>0.011905</td>\n",
       "      <td>2.0</td>\n",
       "    </tr>\n",
       "    <tr>\n",
       "      <th>1</th>\n",
       "      <td>11</td>\n",
       "      <td>asian shore crab</td>\n",
       "      <td>0.065476</td>\n",
       "      <td>5.5</td>\n",
       "    </tr>\n",
       "    <tr>\n",
       "      <th>2</th>\n",
       "      <td>33</td>\n",
       "      <td>atlantic silverside</td>\n",
       "      <td>0.196429</td>\n",
       "      <td>16.5</td>\n",
       "    </tr>\n",
       "    <tr>\n",
       "      <th>3</th>\n",
       "      <td>1</td>\n",
       "      <td>atlantic tomcod</td>\n",
       "      <td>0.005952</td>\n",
       "      <td>1.0</td>\n",
       "    </tr>\n",
       "    <tr>\n",
       "      <th>4</th>\n",
       "      <td>3</td>\n",
       "      <td>bay anchovy</td>\n",
       "      <td>0.017857</td>\n",
       "      <td>3.0</td>\n",
       "    </tr>\n",
       "    <tr>\n",
       "      <th>5</th>\n",
       "      <td>9</td>\n",
       "      <td>blue crab</td>\n",
       "      <td>0.053571</td>\n",
       "      <td>9.0</td>\n",
       "    </tr>\n",
       "    <tr>\n",
       "      <th>6</th>\n",
       "      <td>12</td>\n",
       "      <td>comb jelly</td>\n",
       "      <td>0.071429</td>\n",
       "      <td>4.0</td>\n",
       "    </tr>\n",
       "    <tr>\n",
       "      <th>7</th>\n",
       "      <td>2</td>\n",
       "      <td>flatfish</td>\n",
       "      <td>0.011905</td>\n",
       "      <td>2.0</td>\n",
       "    </tr>\n",
       "    <tr>\n",
       "      <th>8</th>\n",
       "      <td>1</td>\n",
       "      <td>hermit crab</td>\n",
       "      <td>0.005952</td>\n",
       "      <td>1.0</td>\n",
       "    </tr>\n",
       "    <tr>\n",
       "      <th>9</th>\n",
       "      <td>6</td>\n",
       "      <td>herring</td>\n",
       "      <td>0.035714</td>\n",
       "      <td>6.0</td>\n",
       "    </tr>\n",
       "    <tr>\n",
       "      <th>10</th>\n",
       "      <td>1</td>\n",
       "      <td>isopod</td>\n",
       "      <td>0.005952</td>\n",
       "      <td>1.0</td>\n",
       "    </tr>\n",
       "    <tr>\n",
       "      <th>11</th>\n",
       "      <td>4</td>\n",
       "      <td>jellyfish</td>\n",
       "      <td>0.023810</td>\n",
       "      <td>2.0</td>\n",
       "    </tr>\n",
       "    <tr>\n",
       "      <th>12</th>\n",
       "      <td>2</td>\n",
       "      <td>northern pipefish</td>\n",
       "      <td>0.011905</td>\n",
       "      <td>2.0</td>\n",
       "    </tr>\n",
       "    <tr>\n",
       "      <th>13</th>\n",
       "      <td>1</td>\n",
       "      <td>polychaete worm</td>\n",
       "      <td>0.005952</td>\n",
       "      <td>1.0</td>\n",
       "    </tr>\n",
       "    <tr>\n",
       "      <th>14</th>\n",
       "      <td>3</td>\n",
       "      <td>sea snail</td>\n",
       "      <td>0.017857</td>\n",
       "      <td>3.0</td>\n",
       "    </tr>\n",
       "    <tr>\n",
       "      <th>15</th>\n",
       "      <td>73</td>\n",
       "      <td>shrimp</td>\n",
       "      <td>0.434524</td>\n",
       "      <td>36.5</td>\n",
       "    </tr>\n",
       "    <tr>\n",
       "      <th>16</th>\n",
       "      <td>4</td>\n",
       "      <td>striped bass</td>\n",
       "      <td>0.023810</td>\n",
       "      <td>4.0</td>\n",
       "    </tr>\n",
       "  </tbody>\n",
       "</table>\n",
       "</div>"
      ],
      "text/plain": [
       "    Corrected Quantity Grouped Corrected Common Name  Percentile  Per Seine\n",
       "0                    2                      amphipod    0.011905        2.0\n",
       "1                   11              asian shore crab    0.065476        5.5\n",
       "2                   33           atlantic silverside    0.196429       16.5\n",
       "3                    1               atlantic tomcod    0.005952        1.0\n",
       "4                    3                   bay anchovy    0.017857        3.0\n",
       "5                    9                     blue crab    0.053571        9.0\n",
       "6                   12                    comb jelly    0.071429        4.0\n",
       "7                    2                      flatfish    0.011905        2.0\n",
       "8                    1                   hermit crab    0.005952        1.0\n",
       "9                    6                       herring    0.035714        6.0\n",
       "10                   1                        isopod    0.005952        1.0\n",
       "11                   4                     jellyfish    0.023810        2.0\n",
       "12                   2             northern pipefish    0.011905        2.0\n",
       "13                   1               polychaete worm    0.005952        1.0\n",
       "14                   3                     sea snail    0.017857        3.0\n",
       "15                  73                        shrimp    0.434524       36.5\n",
       "16                   4                  striped bass    0.023810        4.0"
      ]
     },
     "execution_count": 81,
     "metadata": {},
     "output_type": "execute_result"
    }
   ],
   "source": [
    "cold"
   ]
  },
  {
   "cell_type": "code",
   "execution_count": 75,
   "metadata": {},
   "outputs": [],
   "source": [
    "seine_count = df_cold.groupby(\"Grouped Corrected Common Name\").count()['Corrected Quantity']\n"
   ]
  },
  {
   "cell_type": "code",
   "execution_count": 76,
   "metadata": {},
   "outputs": [
    {
     "data": {
      "text/plain": [
       "Grouped Corrected Common Name\n",
       "amphipod               1\n",
       "asian shore crab       2\n",
       "atlantic silverside    2\n",
       "atlantic tomcod        1\n",
       "bay anchovy            1\n",
       "blue crab              1\n",
       "comb jelly             3\n",
       "flatfish               1\n",
       "hermit crab            1\n",
       "herring                1\n",
       "isopod                 1\n",
       "jellyfish              2\n",
       "northern pipefish      1\n",
       "polychaete worm        1\n",
       "sea snail              1\n",
       "shrimp                 2\n",
       "striped bass           1\n",
       "Name: Corrected Quantity, dtype: int64"
      ]
     },
     "execution_count": 76,
     "metadata": {},
     "output_type": "execute_result"
    }
   ],
   "source": [
    "seine_count"
   ]
  },
  {
   "cell_type": "code",
   "execution_count": 49,
   "metadata": {},
   "outputs": [
    {
     "data": {
      "text/plain": [
       "Grouped Corrected Common Name\n",
       "amphipod                2\n",
       "asian shore crab       11\n",
       "atlantic silverside    33\n",
       "atlantic tomcod         1\n",
       "bay anchovy             3\n",
       "blue crab               9\n",
       "comb jelly             12\n",
       "flatfish                2\n",
       "hermit crab             1\n",
       "herring                 6\n",
       "isopod                  1\n",
       "jellyfish               4\n",
       "northern pipefish       2\n",
       "polychaete worm         1\n",
       "sea snail               3\n",
       "shrimp                 73\n",
       "striped bass            4\n",
       "Name: Corrected Quantity, dtype: int64"
      ]
     },
     "execution_count": 49,
     "metadata": {},
     "output_type": "execute_result"
    }
   ],
   "source": [
    "cold"
   ]
  },
  {
   "cell_type": "code",
   "execution_count": null,
   "metadata": {},
   "outputs": [],
   "source": []
  }
 ],
 "metadata": {
  "kernelspec": {
   "display_name": "Python 2",
   "language": "python",
   "name": "python2"
  },
  "language_info": {
   "codemirror_mode": {
    "name": "ipython",
    "version": 2
   },
   "file_extension": ".py",
   "mimetype": "text/x-python",
   "name": "python",
   "nbconvert_exporter": "python",
   "pygments_lexer": "ipython2",
   "version": "2.7.16"
  }
 },
 "nbformat": 4,
 "nbformat_minor": 2
}
