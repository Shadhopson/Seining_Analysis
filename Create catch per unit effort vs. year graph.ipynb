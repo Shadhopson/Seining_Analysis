{
 "cells": [
  {
   "cell_type": "code",
   "execution_count": 29,
   "metadata": {},
   "outputs": [],
   "source": [
    "import pandas as pd\n",
    "import matplotlib.pyplot as plt\n",
    "import seaborn as sns\n",
    "%matplotlib inline"
   ]
  },
  {
   "cell_type": "markdown",
   "metadata": {},
   "source": [
    "## Okay! So here we're going to be exploring different year' catches per unit effort! That's the total amount of things caught, divided by how many times we went seining. Which should be equivalent to the average catch for each year."
   ]
  },
  {
   "cell_type": "code",
   "execution_count": 30,
   "metadata": {},
   "outputs": [],
   "source": [
    "db = pd.read_csv('Created CSVs/Cleaned_For_Analysis_All_Data.csv')"
   ]
  },
  {
   "cell_type": "markdown",
   "metadata": {},
   "source": [
    "## Here we're ditching comb jellies from the analysis, as our  marking of their catch is a it weird. That said, perhaps they should be included. Worth questioning"
   ]
  },
  {
   "cell_type": "code",
   "execution_count": 31,
   "metadata": {},
   "outputs": [],
   "source": [
    "\n",
    "nojelly_db = db[~db['Grouped Corrected Common Name'].isin(['comb jelly'])]\n",
    "#nojelly_db = db[db['Grouped Corrected Common Name'] != 'comb jelly']"
   ]
  },
  {
   "cell_type": "code",
   "execution_count": 32,
   "metadata": {},
   "outputs": [
    {
     "data": {
      "text/plain": [
       "Index(['Unnamed: 0', 'Date', 'Time', 'Weather & Air Temp:', 'Water Temp:',\n",
       "       'Corrected Water Temp:', 'Water Temp Probe', 'pH', 'Corrected pH',\n",
       "       'pH Probe', 'DO', 'Corrected DO', 'DO Probe', 'Turbidity',\n",
       "       'Turbidity Probe (NTU)', 'Salinity', 'Corrected Salinity',\n",
       "       'Salinity Probe', 'Tide is moving', 'Tide Times', '# Hauls',\n",
       "       'Corrected # Hauls', 'Common Name', 'Corrected Common Name',\n",
       "       'Grouped Corrected Common Name', 'Quantity', 'Corrected Quantity',\n",
       "       'Scientific Name', 'Instructors/ Seine Staff:',\n",
       "       '# student seiners (CLASSES ONLY)', '# of visitors (Public Seine ONLY)',\n",
       "       '# Brought to Ed Center',\n",
       "       'Other info (Gender, Length, Dead/Alive, other physical description)',\n",
       "       'NOTES FROM SEINEING SEASON:', 'NOTES FROM SEINE:'],\n",
       "      dtype='object')"
      ]
     },
     "execution_count": 32,
     "metadata": {},
     "output_type": "execute_result"
    }
   ],
   "source": [
    "db.columns"
   ]
  },
  {
   "cell_type": "code",
   "execution_count": 33,
   "metadata": {},
   "outputs": [],
   "source": [
    "graph_db = db[['Date','Time','Corrected # Hauls','Corrected Common Name','Corrected Quantity', 'Grouped Corrected Common Name' ]]"
   ]
  },
  {
   "cell_type": "code",
   "execution_count": 34,
   "metadata": {},
   "outputs": [],
   "source": [
    "nojellygraph_db = nojelly_db[['Date','Time','Corrected # Hauls','Corrected Common Name','Corrected Quantity' ]]"
   ]
  },
  {
   "cell_type": "code",
   "execution_count": 35,
   "metadata": {},
   "outputs": [],
   "source": [
    "import dateutil"
   ]
  },
  {
   "cell_type": "code",
   "execution_count": 36,
   "metadata": {},
   "outputs": [
    {
     "name": "stderr",
     "output_type": "stream",
     "text": [
      "C:\\Users\\shad\\Anaconda3\\lib\\site-packages\\ipykernel_launcher.py:1: SettingWithCopyWarning: \n",
      "A value is trying to be set on a copy of a slice from a DataFrame.\n",
      "Try using .loc[row_indexer,col_indexer] = value instead\n",
      "\n",
      "See the caveats in the documentation: http://pandas.pydata.org/pandas-docs/stable/indexing.html#indexing-view-versus-copy\n",
      "  \"\"\"Entry point for launching an IPython kernel.\n",
      "C:\\Users\\shad\\Anaconda3\\lib\\site-packages\\ipykernel_launcher.py:2: SettingWithCopyWarning: \n",
      "A value is trying to be set on a copy of a slice from a DataFrame.\n",
      "Try using .loc[row_indexer,col_indexer] = value instead\n",
      "\n",
      "See the caveats in the documentation: http://pandas.pydata.org/pandas-docs/stable/indexing.html#indexing-view-versus-copy\n",
      "  \n"
     ]
    }
   ],
   "source": [
    "graph_db['Date'] = [dateutil.parser.parse(date) for date in graph_db['Date']]\n",
    "nojellygraph_db['Date'] = [dateutil.parser.parse(date) for date in nojellygraph_db['Date']]"
   ]
  },
  {
   "cell_type": "code",
   "execution_count": 37,
   "metadata": {},
   "outputs": [
    {
     "name": "stderr",
     "output_type": "stream",
     "text": [
      "C:\\Users\\shad\\Anaconda3\\lib\\site-packages\\ipykernel_launcher.py:1: SettingWithCopyWarning: \n",
      "A value is trying to be set on a copy of a slice from a DataFrame.\n",
      "Try using .loc[row_indexer,col_indexer] = value instead\n",
      "\n",
      "See the caveats in the documentation: http://pandas.pydata.org/pandas-docs/stable/indexing.html#indexing-view-versus-copy\n",
      "  \"\"\"Entry point for launching an IPython kernel.\n",
      "C:\\Users\\shad\\Anaconda3\\lib\\site-packages\\ipykernel_launcher.py:2: SettingWithCopyWarning: \n",
      "A value is trying to be set on a copy of a slice from a DataFrame.\n",
      "Try using .loc[row_indexer,col_indexer] = value instead\n",
      "\n",
      "See the caveats in the documentation: http://pandas.pydata.org/pandas-docs/stable/indexing.html#indexing-view-versus-copy\n",
      "  \n"
     ]
    }
   ],
   "source": [
    "graph_db['Year'] = [date.year for date in graph_db['Date']]\n",
    "nojellygraph_db['Year'] = [date.year for date in nojellygraph_db['Date']]"
   ]
  },
  {
   "cell_type": "code",
   "execution_count": 38,
   "metadata": {},
   "outputs": [],
   "source": [
    "agraph_db = graph_db[graph_db['Year']>2010]\n",
    "anojellygraph_db = nojellygraph_db[nojellygraph_db['Year']>2010]"
   ]
  },
  {
   "cell_type": "code",
   "execution_count": 39,
   "metadata": {},
   "outputs": [],
   "source": [
    "grouped_graph_db = agraph_db.groupby('Date', as_index = False).sum()\n",
    "nojellygrouped_graph_db = anojellygraph_db.groupby('Date', as_index = False).sum()"
   ]
  },
  {
   "cell_type": "code",
   "execution_count": 40,
   "metadata": {},
   "outputs": [],
   "source": [
    "grouped_graph_db['Month'] =  [x.month for x in grouped_graph_db['Date']]\n",
    "nojellygrouped_graph_db['Month'] =  [x.month for x in nojellygrouped_graph_db['Date']]"
   ]
  },
  {
   "cell_type": "code",
   "execution_count": 41,
   "metadata": {},
   "outputs": [],
   "source": [
    "mgrouped_graph_db = grouped_graph_db.groupby('Month', as_index = False).median()\n",
    "\n",
    "mnojellygrouped_graph_db = nojellygrouped_graph_db.groupby('Month', as_index = False).median()"
   ]
  },
  {
   "cell_type": "code",
   "execution_count": 42,
   "metadata": {},
   "outputs": [
    {
     "data": {
      "text/html": [
       "<div>\n",
       "<style scoped>\n",
       "    .dataframe tbody tr th:only-of-type {\n",
       "        vertical-align: middle;\n",
       "    }\n",
       "\n",
       "    .dataframe tbody tr th {\n",
       "        vertical-align: top;\n",
       "    }\n",
       "\n",
       "    .dataframe thead th {\n",
       "        text-align: right;\n",
       "    }\n",
       "</style>\n",
       "<table border=\"1\" class=\"dataframe\">\n",
       "  <thead>\n",
       "    <tr style=\"text-align: right;\">\n",
       "      <th></th>\n",
       "      <th>Month</th>\n",
       "      <th>Corrected # Hauls</th>\n",
       "      <th>Corrected Quantity</th>\n",
       "      <th>Year</th>\n",
       "    </tr>\n",
       "  </thead>\n",
       "  <tbody>\n",
       "    <tr>\n",
       "      <th>0</th>\n",
       "      <td>4</td>\n",
       "      <td>0.0</td>\n",
       "      <td>23.0</td>\n",
       "      <td>10060.0</td>\n",
       "    </tr>\n",
       "    <tr>\n",
       "      <th>1</th>\n",
       "      <td>5</td>\n",
       "      <td>0.0</td>\n",
       "      <td>22.0</td>\n",
       "      <td>12066.0</td>\n",
       "    </tr>\n",
       "    <tr>\n",
       "      <th>2</th>\n",
       "      <td>6</td>\n",
       "      <td>0.0</td>\n",
       "      <td>43.0</td>\n",
       "      <td>14095.0</td>\n",
       "    </tr>\n",
       "    <tr>\n",
       "      <th>3</th>\n",
       "      <td>7</td>\n",
       "      <td>0.0</td>\n",
       "      <td>40.0</td>\n",
       "      <td>16136.0</td>\n",
       "    </tr>\n",
       "    <tr>\n",
       "      <th>4</th>\n",
       "      <td>8</td>\n",
       "      <td>0.0</td>\n",
       "      <td>117.0</td>\n",
       "      <td>14126.0</td>\n",
       "    </tr>\n",
       "    <tr>\n",
       "      <th>5</th>\n",
       "      <td>9</td>\n",
       "      <td>0.0</td>\n",
       "      <td>70.0</td>\n",
       "      <td>19122.5</td>\n",
       "    </tr>\n",
       "    <tr>\n",
       "      <th>6</th>\n",
       "      <td>10</td>\n",
       "      <td>0.0</td>\n",
       "      <td>24.0</td>\n",
       "      <td>14105.0</td>\n",
       "    </tr>\n",
       "  </tbody>\n",
       "</table>\n",
       "</div>"
      ],
      "text/plain": [
       "   Month  Corrected # Hauls  Corrected Quantity     Year\n",
       "0      4                0.0                23.0  10060.0\n",
       "1      5                0.0                22.0  12066.0\n",
       "2      6                0.0                43.0  14095.0\n",
       "3      7                0.0                40.0  16136.0\n",
       "4      8                0.0               117.0  14126.0\n",
       "5      9                0.0                70.0  19122.5\n",
       "6     10                0.0                24.0  14105.0"
      ]
     },
     "execution_count": 42,
     "metadata": {},
     "output_type": "execute_result"
    }
   ],
   "source": [
    "mgrouped_graph_db"
   ]
  },
  {
   "cell_type": "code",
   "execution_count": 43,
   "metadata": {},
   "outputs": [],
   "source": [
    "grouped_graph_db = grouped_graph_db.groupby('Month', as_index = False).mean()\n",
    "\n",
    "nojellygrouped_graph_db = nojellygrouped_graph_db.groupby('Month', as_index = False).mean()"
   ]
  },
  {
   "cell_type": "code",
   "execution_count": 44,
   "metadata": {},
   "outputs": [
    {
     "data": {
      "text/html": [
       "<div>\n",
       "<style scoped>\n",
       "    .dataframe tbody tr th:only-of-type {\n",
       "        vertical-align: middle;\n",
       "    }\n",
       "\n",
       "    .dataframe tbody tr th {\n",
       "        vertical-align: top;\n",
       "    }\n",
       "\n",
       "    .dataframe thead th {\n",
       "        text-align: right;\n",
       "    }\n",
       "</style>\n",
       "<table border=\"1\" class=\"dataframe\">\n",
       "  <thead>\n",
       "    <tr style=\"text-align: right;\">\n",
       "      <th></th>\n",
       "      <th>Month</th>\n",
       "      <th>Corrected # Hauls</th>\n",
       "      <th>Corrected Quantity</th>\n",
       "      <th>Year</th>\n",
       "    </tr>\n",
       "  </thead>\n",
       "  <tbody>\n",
       "    <tr>\n",
       "      <th>0</th>\n",
       "      <td>4</td>\n",
       "      <td>0.000000</td>\n",
       "      <td>23.000000</td>\n",
       "      <td>10060.000000</td>\n",
       "    </tr>\n",
       "    <tr>\n",
       "      <th>1</th>\n",
       "      <td>5</td>\n",
       "      <td>28.875000</td>\n",
       "      <td>54.312500</td>\n",
       "      <td>12335.000000</td>\n",
       "    </tr>\n",
       "    <tr>\n",
       "      <th>2</th>\n",
       "      <td>6</td>\n",
       "      <td>44.000000</td>\n",
       "      <td>57.266667</td>\n",
       "      <td>15517.266667</td>\n",
       "    </tr>\n",
       "    <tr>\n",
       "      <th>3</th>\n",
       "      <td>7</td>\n",
       "      <td>67.800000</td>\n",
       "      <td>63.440000</td>\n",
       "      <td>17577.640000</td>\n",
       "    </tr>\n",
       "    <tr>\n",
       "      <th>4</th>\n",
       "      <td>8</td>\n",
       "      <td>76.043478</td>\n",
       "      <td>148.782609</td>\n",
       "      <td>17268.521739</td>\n",
       "    </tr>\n",
       "    <tr>\n",
       "      <th>5</th>\n",
       "      <td>9</td>\n",
       "      <td>38.850000</td>\n",
       "      <td>110.900000</td>\n",
       "      <td>20551.350000</td>\n",
       "    </tr>\n",
       "    <tr>\n",
       "      <th>6</th>\n",
       "      <td>10</td>\n",
       "      <td>42.615385</td>\n",
       "      <td>88.615385</td>\n",
       "      <td>13030.153846</td>\n",
       "    </tr>\n",
       "  </tbody>\n",
       "</table>\n",
       "</div>"
      ],
      "text/plain": [
       "   Month  Corrected # Hauls  Corrected Quantity          Year\n",
       "0      4           0.000000           23.000000  10060.000000\n",
       "1      5          28.875000           54.312500  12335.000000\n",
       "2      6          44.000000           57.266667  15517.266667\n",
       "3      7          67.800000           63.440000  17577.640000\n",
       "4      8          76.043478          148.782609  17268.521739\n",
       "5      9          38.850000          110.900000  20551.350000\n",
       "6     10          42.615385           88.615385  13030.153846"
      ]
     },
     "execution_count": 44,
     "metadata": {},
     "output_type": "execute_result"
    }
   ],
   "source": [
    "grouped_graph_db"
   ]
  },
  {
   "cell_type": "code",
   "execution_count": 45,
   "metadata": {},
   "outputs": [
    {
     "data": {
      "text/html": [
       "<div>\n",
       "<style scoped>\n",
       "    .dataframe tbody tr th:only-of-type {\n",
       "        vertical-align: middle;\n",
       "    }\n",
       "\n",
       "    .dataframe tbody tr th {\n",
       "        vertical-align: top;\n",
       "    }\n",
       "\n",
       "    .dataframe thead th {\n",
       "        text-align: right;\n",
       "    }\n",
       "</style>\n",
       "<table border=\"1\" class=\"dataframe\">\n",
       "  <thead>\n",
       "    <tr style=\"text-align: right;\">\n",
       "      <th></th>\n",
       "      <th>Month</th>\n",
       "      <th>Corrected # Hauls</th>\n",
       "      <th>Corrected Quantity</th>\n",
       "      <th>Year</th>\n",
       "    </tr>\n",
       "  </thead>\n",
       "  <tbody>\n",
       "    <tr>\n",
       "      <th>0</th>\n",
       "      <td>4</td>\n",
       "      <td>0.000000</td>\n",
       "      <td>23.000000</td>\n",
       "      <td>10060.000000</td>\n",
       "    </tr>\n",
       "    <tr>\n",
       "      <th>1</th>\n",
       "      <td>5</td>\n",
       "      <td>29.666667</td>\n",
       "      <td>49.933333</td>\n",
       "      <td>12218.000000</td>\n",
       "    </tr>\n",
       "    <tr>\n",
       "      <th>2</th>\n",
       "      <td>6</td>\n",
       "      <td>41.666667</td>\n",
       "      <td>35.233333</td>\n",
       "      <td>14174.433333</td>\n",
       "    </tr>\n",
       "    <tr>\n",
       "      <th>3</th>\n",
       "      <td>7</td>\n",
       "      <td>65.160000</td>\n",
       "      <td>47.240000</td>\n",
       "      <td>16127.400000</td>\n",
       "    </tr>\n",
       "    <tr>\n",
       "      <th>4</th>\n",
       "      <td>8</td>\n",
       "      <td>70.173913</td>\n",
       "      <td>116.608696</td>\n",
       "      <td>15253.913043</td>\n",
       "    </tr>\n",
       "    <tr>\n",
       "      <th>5</th>\n",
       "      <td>9</td>\n",
       "      <td>35.750000</td>\n",
       "      <td>87.650000</td>\n",
       "      <td>18536.800000</td>\n",
       "    </tr>\n",
       "    <tr>\n",
       "      <th>6</th>\n",
       "      <td>10</td>\n",
       "      <td>39.916667</td>\n",
       "      <td>78.083333</td>\n",
       "      <td>12099.583333</td>\n",
       "    </tr>\n",
       "  </tbody>\n",
       "</table>\n",
       "</div>"
      ],
      "text/plain": [
       "   Month  Corrected # Hauls  Corrected Quantity          Year\n",
       "0      4           0.000000           23.000000  10060.000000\n",
       "1      5          29.666667           49.933333  12218.000000\n",
       "2      6          41.666667           35.233333  14174.433333\n",
       "3      7          65.160000           47.240000  16127.400000\n",
       "4      8          70.173913          116.608696  15253.913043\n",
       "5      9          35.750000           87.650000  18536.800000\n",
       "6     10          39.916667           78.083333  12099.583333"
      ]
     },
     "execution_count": 45,
     "metadata": {},
     "output_type": "execute_result"
    }
   ],
   "source": [
    "nojellygrouped_graph_db"
   ]
  },
  {
   "cell_type": "code",
   "execution_count": 46,
   "metadata": {},
   "outputs": [],
   "source": [
    "sns.set(rc={'figure.figsize':(7,4)})"
   ]
  },
  {
   "cell_type": "code",
   "execution_count": 47,
   "metadata": {},
   "outputs": [
    {
     "data": {
      "image/png": "[encoded data removed]",
      "text/plain": [
       "<Figure size 504x288 with 1 Axes>"
      ]
     },
     "metadata": {},
     "output_type": "display_data"
    }
   ],
   "source": [
    "\n",
    "ax = sns.barplot(x=\"Month\", y=\"Corrected Quantity\", data=grouped_graph_db, color= 'blue',saturation = 0.1)\n",
    "ax = sns.barplot(x=\"Month\", y=\"Corrected Quantity\", data=nojellygrouped_graph_db, saturation=1)\n",
    "ax.set_title(\"Average Number of Organisms Caught Per Seine Each Month\")\n",
    "ax.set_ylabel('Mean Quantity Caught')\n",
    "ax.text(0,-45,'*Greyed columns show values if comb jellies are included. \\n Accurate comb jelly catch numbers were not kept.\\n Consider these an underestimate.' )\n",
    "ax.figure.savefig('Graphs/Mean Catch Per Seine By Month', bbox_inches='tight')"
   ]
  },
  {
   "cell_type": "code",
   "execution_count": 48,
   "metadata": {},
   "outputs": [
    {
     "data": {
      "image/png": "[encoded data removed]",
      "text/plain": [
       "<Figure size 504x288 with 1 Axes>"
      ]
     },
     "metadata": {},
     "output_type": "display_data"
    }
   ],
   "source": [
    "ax = sns.barplot(x=\"Month\", y=\"Corrected Quantity\", data=mgrouped_graph_db, color= 'blue',saturation = 0.1)\n",
    "ax = sns.barplot(x=\"Month\", y=\"Corrected Quantity\", data=mnojellygrouped_graph_db, saturation=1)\n",
    "ax.set_title(\"Median Number of Organisms Caught Per Seine Each Month\")\n",
    "ax.set_ylabel('Median of Quantity Caught')\n",
    "ax.text(0,-30,'*Greyed columns show values if comb jellies are included. \\n Accurate comb jelly catch numbers were not kept.\\n Consider these an underestimate.' )\n",
    "ax.figure.savefig('Graphs/Median Catch Per Seine By Month', bbox_inches='tight')"
   ]
  },
  {
   "cell_type": "markdown",
   "metadata": {},
   "source": [
    "## And we've simplified our dataframe and added year to it"
   ]
  },
  {
   "cell_type": "markdown",
   "metadata": {},
   "source": [
    "## Let's make a general for funsies graph of catches per year.\n",
    "### This shows the results without jellies, and there is a bit of a difference."
   ]
  },
  {
   "cell_type": "code",
   "execution_count": 49,
   "metadata": {},
   "outputs": [],
   "source": [
    "grouped_db = graph_db.groupby('Year', as_index=False).sum()\n",
    "nojellygrouped_db =nojellygraph_db.groupby('Year', as_index=False).sum()"
   ]
  },
  {
   "cell_type": "code",
   "execution_count": 50,
   "metadata": {},
   "outputs": [
    {
     "data": {
      "text/html": [
       "<div>\n",
       "<style scoped>\n",
       "    .dataframe tbody tr th:only-of-type {\n",
       "        vertical-align: middle;\n",
       "    }\n",
       "\n",
       "    .dataframe tbody tr th {\n",
       "        vertical-align: top;\n",
       "    }\n",
       "\n",
       "    .dataframe thead th {\n",
       "        text-align: right;\n",
       "    }\n",
       "</style>\n",
       "<table border=\"1\" class=\"dataframe\">\n",
       "  <thead>\n",
       "    <tr style=\"text-align: right;\">\n",
       "      <th></th>\n",
       "      <th>Year</th>\n",
       "      <th>Corrected # Hauls</th>\n",
       "      <th>Corrected Quantity</th>\n",
       "    </tr>\n",
       "  </thead>\n",
       "  <tbody>\n",
       "    <tr>\n",
       "      <th>0</th>\n",
       "      <td>2008</td>\n",
       "      <td>0.0</td>\n",
       "      <td>17</td>\n",
       "    </tr>\n",
       "    <tr>\n",
       "      <th>1</th>\n",
       "      <td>2009</td>\n",
       "      <td>0.0</td>\n",
       "      <td>16</td>\n",
       "    </tr>\n",
       "    <tr>\n",
       "      <th>2</th>\n",
       "      <td>2010</td>\n",
       "      <td>0.0</td>\n",
       "      <td>123</td>\n",
       "    </tr>\n",
       "    <tr>\n",
       "      <th>3</th>\n",
       "      <td>2011</td>\n",
       "      <td>0.0</td>\n",
       "      <td>1345</td>\n",
       "    </tr>\n",
       "    <tr>\n",
       "      <th>4</th>\n",
       "      <td>2012</td>\n",
       "      <td>0.0</td>\n",
       "      <td>664</td>\n",
       "    </tr>\n",
       "    <tr>\n",
       "      <th>5</th>\n",
       "      <td>2013</td>\n",
       "      <td>0.0</td>\n",
       "      <td>687</td>\n",
       "    </tr>\n",
       "    <tr>\n",
       "      <th>6</th>\n",
       "      <td>2014</td>\n",
       "      <td>0.0</td>\n",
       "      <td>213</td>\n",
       "    </tr>\n",
       "    <tr>\n",
       "      <th>7</th>\n",
       "      <td>2015</td>\n",
       "      <td>0.0</td>\n",
       "      <td>1381</td>\n",
       "    </tr>\n",
       "    <tr>\n",
       "      <th>8</th>\n",
       "      <td>2016</td>\n",
       "      <td>1233.0</td>\n",
       "      <td>1699</td>\n",
       "    </tr>\n",
       "    <tr>\n",
       "      <th>9</th>\n",
       "      <td>2017</td>\n",
       "      <td>1413.0</td>\n",
       "      <td>921</td>\n",
       "    </tr>\n",
       "    <tr>\n",
       "      <th>10</th>\n",
       "      <td>2018</td>\n",
       "      <td>1487.0</td>\n",
       "      <td>994</td>\n",
       "    </tr>\n",
       "    <tr>\n",
       "      <th>11</th>\n",
       "      <td>2019</td>\n",
       "      <td>2424.0</td>\n",
       "      <td>3084</td>\n",
       "    </tr>\n",
       "  </tbody>\n",
       "</table>\n",
       "</div>"
      ],
      "text/plain": [
       "    Year  Corrected # Hauls  Corrected Quantity\n",
       "0   2008                0.0                  17\n",
       "1   2009                0.0                  16\n",
       "2   2010                0.0                 123\n",
       "3   2011                0.0                1345\n",
       "4   2012                0.0                 664\n",
       "5   2013                0.0                 687\n",
       "6   2014                0.0                 213\n",
       "7   2015                0.0                1381\n",
       "8   2016             1233.0                1699\n",
       "9   2017             1413.0                 921\n",
       "10  2018             1487.0                 994\n",
       "11  2019             2424.0                3084"
      ]
     },
     "execution_count": 50,
     "metadata": {},
     "output_type": "execute_result"
    }
   ],
   "source": [
    "grouped_db"
   ]
  },
  {
   "cell_type": "code",
   "execution_count": 51,
   "metadata": {},
   "outputs": [],
   "source": [
    "#grouped_db = grouped_db[grouped_db['Year']<2019]\n",
    "#nojellygrouped_db = nojellygrouped_db[nojellygrouped_db['Year']<2019]"
   ]
  },
  {
   "cell_type": "code",
   "execution_count": 52,
   "metadata": {},
   "outputs": [
    {
     "data": {
      "image/png": "[encoded data removed]",
      "text/plain": [
       "<Figure size 504x288 with 1 Axes>"
      ]
     },
     "metadata": {},
     "output_type": "display_data"
    }
   ],
   "source": [
    "ax = sns.barplot(x=\"Year\", y=\"Corrected Quantity\", data=grouped_db, color= 'blue',saturation = 0.1)\n",
    "ax = sns.barplot(x=\"Year\", y=\"Corrected Quantity\", data=nojellygrouped_db, saturation=1)\n",
    "ax.set_title(\"Number of Organisms Caught Per Year\")\n",
    "ax.set_ylabel('Quantity Caught')\n",
    "ax.text(0,-675,'*Greyed columns show values if comb jellies are included. \\n Accurate comb jelly catch numbers were not kept.\\n Consider these an underestimate.' )\n",
    "ax.figure.savefig('Graphs/Number of Organisms Caught Per Year (comb jelly shadows)', bbox_inches='tight')"
   ]
  },
  {
   "cell_type": "markdown",
   "metadata": {},
   "source": [
    "## Alright, let's find the average catch per year"
   ]
  },
  {
   "cell_type": "markdown",
   "metadata": {},
   "source": [
    "# Error here: there are multiple seins on the same date so this method does not work"
   ]
  },
  {
   "cell_type": "code",
   "execution_count": 53,
   "metadata": {},
   "outputs": [
    {
     "name": "stderr",
     "output_type": "stream",
     "text": [
      "C:\\Users\\shad\\Anaconda3\\lib\\site-packages\\ipykernel_launcher.py:1: SettingWithCopyWarning: \n",
      "A value is trying to be set on a copy of a slice from a DataFrame.\n",
      "Try using .loc[row_indexer,col_indexer] = value instead\n",
      "\n",
      "See the caveats in the documentation: http://pandas.pydata.org/pandas-docs/stable/indexing.html#indexing-view-versus-copy\n",
      "  \"\"\"Entry point for launching an IPython kernel.\n",
      "C:\\Users\\shad\\Anaconda3\\lib\\site-packages\\ipykernel_launcher.py:2: SettingWithCopyWarning: \n",
      "A value is trying to be set on a copy of a slice from a DataFrame.\n",
      "Try using .loc[row_indexer,col_indexer] = value instead\n",
      "\n",
      "See the caveats in the documentation: http://pandas.pydata.org/pandas-docs/stable/indexing.html#indexing-view-versus-copy\n",
      "  \n"
     ]
    }
   ],
   "source": [
    "graph_db['Date_Time'] = [str(x) for x in zip(list(graph_db['Date']), list(graph_db['Time']))]\n",
    "nojellygraph_db['Date_Time'] = [str(x) for x in zip(list(nojellygraph_db['Date']), list(nojellygraph_db['Time']))]"
   ]
  },
  {
   "cell_type": "code",
   "execution_count": null,
   "metadata": {},
   "outputs": [],
   "source": []
  },
  {
   "cell_type": "code",
   "execution_count": 54,
   "metadata": {},
   "outputs": [
    {
     "data": {
      "text/html": [
       "<div>\n",
       "<style scoped>\n",
       "    .dataframe tbody tr th:only-of-type {\n",
       "        vertical-align: middle;\n",
       "    }\n",
       "\n",
       "    .dataframe tbody tr th {\n",
       "        vertical-align: top;\n",
       "    }\n",
       "\n",
       "    .dataframe thead th {\n",
       "        text-align: right;\n",
       "    }\n",
       "</style>\n",
       "<table border=\"1\" class=\"dataframe\">\n",
       "  <thead>\n",
       "    <tr style=\"text-align: right;\">\n",
       "      <th></th>\n",
       "      <th>Date</th>\n",
       "      <th>Time</th>\n",
       "      <th>Corrected # Hauls</th>\n",
       "      <th>Corrected Common Name</th>\n",
       "      <th>Corrected Quantity</th>\n",
       "      <th>Grouped Corrected Common Name</th>\n",
       "      <th>Year</th>\n",
       "      <th>Date_Time</th>\n",
       "    </tr>\n",
       "  </thead>\n",
       "  <tbody>\n",
       "    <tr>\n",
       "      <th>1188</th>\n",
       "      <td>2019-10-22</td>\n",
       "      <td>10:15 AM- 12:45 PM</td>\n",
       "      <td>16.0</td>\n",
       "      <td>winter flounder</td>\n",
       "      <td>1</td>\n",
       "      <td>flatfish</td>\n",
       "      <td>2019</td>\n",
       "      <td>(Timestamp('2019-10-22 00:00:00'), '10:15 AM- ...</td>\n",
       "    </tr>\n",
       "    <tr>\n",
       "      <th>1189</th>\n",
       "      <td>2019-10-22</td>\n",
       "      <td>10:15 AM- 12:45 PM</td>\n",
       "      <td>16.0</td>\n",
       "      <td>striped anchovy</td>\n",
       "      <td>11</td>\n",
       "      <td>striped anchovy</td>\n",
       "      <td>2019</td>\n",
       "      <td>(Timestamp('2019-10-22 00:00:00'), '10:15 AM- ...</td>\n",
       "    </tr>\n",
       "    <tr>\n",
       "      <th>1190</th>\n",
       "      <td>2019-10-22</td>\n",
       "      <td>10:15 AM- 12:45 PM</td>\n",
       "      <td>16.0</td>\n",
       "      <td>atlantic silverside</td>\n",
       "      <td>584</td>\n",
       "      <td>atlantic silverside</td>\n",
       "      <td>2019</td>\n",
       "      <td>(Timestamp('2019-10-22 00:00:00'), '10:15 AM- ...</td>\n",
       "    </tr>\n",
       "    <tr>\n",
       "      <th>1191</th>\n",
       "      <td>2019-10-22</td>\n",
       "      <td>10:15 AM- 12:45 PM</td>\n",
       "      <td>16.0</td>\n",
       "      <td>northern pipefish</td>\n",
       "      <td>1</td>\n",
       "      <td>northern pipefish</td>\n",
       "      <td>2019</td>\n",
       "      <td>(Timestamp('2019-10-22 00:00:00'), '10:15 AM- ...</td>\n",
       "    </tr>\n",
       "    <tr>\n",
       "      <th>1192</th>\n",
       "      <td>2019-10-22</td>\n",
       "      <td>10:15 AM- 12:45 PM</td>\n",
       "      <td>16.0</td>\n",
       "      <td>comb jelly leidyi</td>\n",
       "      <td>21</td>\n",
       "      <td>comb jelly</td>\n",
       "      <td>2019</td>\n",
       "      <td>(Timestamp('2019-10-22 00:00:00'), '10:15 AM- ...</td>\n",
       "    </tr>\n",
       "  </tbody>\n",
       "</table>\n",
       "</div>"
      ],
      "text/plain": [
       "           Date                Time  Corrected # Hauls Corrected Common Name  \\\n",
       "1188 2019-10-22  10:15 AM- 12:45 PM               16.0       winter flounder   \n",
       "1189 2019-10-22  10:15 AM- 12:45 PM               16.0       striped anchovy   \n",
       "1190 2019-10-22  10:15 AM- 12:45 PM               16.0   atlantic silverside   \n",
       "1191 2019-10-22  10:15 AM- 12:45 PM               16.0     northern pipefish   \n",
       "1192 2019-10-22  10:15 AM- 12:45 PM               16.0     comb jelly leidyi   \n",
       "\n",
       "      Corrected Quantity Grouped Corrected Common Name  Year  \\\n",
       "1188                   1                      flatfish  2019   \n",
       "1189                  11               striped anchovy  2019   \n",
       "1190                 584           atlantic silverside  2019   \n",
       "1191                   1             northern pipefish  2019   \n",
       "1192                  21                    comb jelly  2019   \n",
       "\n",
       "                                              Date_Time  \n",
       "1188  (Timestamp('2019-10-22 00:00:00'), '10:15 AM- ...  \n",
       "1189  (Timestamp('2019-10-22 00:00:00'), '10:15 AM- ...  \n",
       "1190  (Timestamp('2019-10-22 00:00:00'), '10:15 AM- ...  \n",
       "1191  (Timestamp('2019-10-22 00:00:00'), '10:15 AM- ...  \n",
       "1192  (Timestamp('2019-10-22 00:00:00'), '10:15 AM- ...  "
      ]
     },
     "execution_count": 54,
     "metadata": {},
     "output_type": "execute_result"
    }
   ],
   "source": [
    "graph_db.tail()"
   ]
  },
  {
   "cell_type": "markdown",
   "metadata": {},
   "source": [
    "# Error here where if you only caught comb jellies the seine is not counted for the no comb jellies one"
   ]
  },
  {
   "cell_type": "code",
   "execution_count": 55,
   "metadata": {},
   "outputs": [],
   "source": [
    "D = {}\n",
    "Species_count = {}\n",
    "for year in list(set(graph_db['Year'])):\n",
    "    if  year < 2020:\n",
    "        year_data = graph_db[graph_db['Year'] == year]\n",
    "        #print year, set(year_data['Date'])\n",
    "        D[year] = len(list(set(year_data['Date_Time'])))\n",
    "        Species_count[year] = len(list(set(year_data['Corrected Common Name'])))\n",
    "        \n",
    "nojellyD = {}\n",
    "nojellySpecies_count = {}\n",
    "for year in list(set(nojellygraph_db['Year'])):\n",
    "    if  year < 2020:\n",
    "        year_data = nojellygraph_db[nojellygraph_db['Year'] == year]\n",
    "        #print year, set(year_data['Date'])\n",
    "        nojellyD[year] = len(list(set(year_data['Date_Time'])))\n",
    "        nojellySpecies_count[year] = len(list(set(year_data['Corrected Common Name'])))"
   ]
  },
  {
   "cell_type": "code",
   "execution_count": 56,
   "metadata": {},
   "outputs": [],
   "source": [
    "grouped_db['# of Seins'] = [D[x] for x in grouped_db['Year']]\n",
    "nojellygrouped_db['# of Seins'] = [D[x] for x in grouped_db['Year']]"
   ]
  },
  {
   "cell_type": "code",
   "execution_count": 57,
   "metadata": {},
   "outputs": [],
   "source": [
    "grouped_db['# of Species'] = [Species_count[x] for x in grouped_db['Year']]\n",
    "nojellygrouped_db['# of Species'] = [nojellySpecies_count[x] for x in nojellygrouped_db['Year']]"
   ]
  },
  {
   "cell_type": "code",
   "execution_count": 58,
   "metadata": {},
   "outputs": [],
   "source": [
    "grouped_db['Catch Per Seine'] = 1.0*grouped_db['Corrected Quantity'] /grouped_db['# of Seins']\n",
    "nojellygrouped_db['Catch Per Seine'] = 1.0*nojellygrouped_db['Corrected Quantity'] /nojellygrouped_db['# of Seins']"
   ]
  },
  {
   "cell_type": "code",
   "execution_count": 59,
   "metadata": {},
   "outputs": [
    {
     "data": {
      "text/html": [
       "<div>\n",
       "<style scoped>\n",
       "    .dataframe tbody tr th:only-of-type {\n",
       "        vertical-align: middle;\n",
       "    }\n",
       "\n",
       "    .dataframe tbody tr th {\n",
       "        vertical-align: top;\n",
       "    }\n",
       "\n",
       "    .dataframe thead th {\n",
       "        text-align: right;\n",
       "    }\n",
       "</style>\n",
       "<table border=\"1\" class=\"dataframe\">\n",
       "  <thead>\n",
       "    <tr style=\"text-align: right;\">\n",
       "      <th></th>\n",
       "      <th>Year</th>\n",
       "      <th>Corrected # Hauls</th>\n",
       "      <th>Corrected Quantity</th>\n",
       "      <th># of Seins</th>\n",
       "      <th># of Species</th>\n",
       "      <th>Catch Per Seine</th>\n",
       "    </tr>\n",
       "  </thead>\n",
       "  <tbody>\n",
       "    <tr>\n",
       "      <th>0</th>\n",
       "      <td>2008</td>\n",
       "      <td>0.0</td>\n",
       "      <td>17</td>\n",
       "      <td>1</td>\n",
       "      <td>17</td>\n",
       "      <td>17.000000</td>\n",
       "    </tr>\n",
       "    <tr>\n",
       "      <th>1</th>\n",
       "      <td>2009</td>\n",
       "      <td>0.0</td>\n",
       "      <td>16</td>\n",
       "      <td>2</td>\n",
       "      <td>15</td>\n",
       "      <td>8.000000</td>\n",
       "    </tr>\n",
       "    <tr>\n",
       "      <th>2</th>\n",
       "      <td>2010</td>\n",
       "      <td>0.0</td>\n",
       "      <td>123</td>\n",
       "      <td>14</td>\n",
       "      <td>33</td>\n",
       "      <td>8.785714</td>\n",
       "    </tr>\n",
       "    <tr>\n",
       "      <th>3</th>\n",
       "      <td>2011</td>\n",
       "      <td>0.0</td>\n",
       "      <td>1345</td>\n",
       "      <td>17</td>\n",
       "      <td>31</td>\n",
       "      <td>79.117647</td>\n",
       "    </tr>\n",
       "    <tr>\n",
       "      <th>4</th>\n",
       "      <td>2012</td>\n",
       "      <td>0.0</td>\n",
       "      <td>664</td>\n",
       "      <td>16</td>\n",
       "      <td>35</td>\n",
       "      <td>41.500000</td>\n",
       "    </tr>\n",
       "    <tr>\n",
       "      <th>5</th>\n",
       "      <td>2013</td>\n",
       "      <td>0.0</td>\n",
       "      <td>687</td>\n",
       "      <td>13</td>\n",
       "      <td>24</td>\n",
       "      <td>52.846154</td>\n",
       "    </tr>\n",
       "    <tr>\n",
       "      <th>6</th>\n",
       "      <td>2014</td>\n",
       "      <td>0.0</td>\n",
       "      <td>213</td>\n",
       "      <td>6</td>\n",
       "      <td>23</td>\n",
       "      <td>35.500000</td>\n",
       "    </tr>\n",
       "    <tr>\n",
       "      <th>7</th>\n",
       "      <td>2015</td>\n",
       "      <td>0.0</td>\n",
       "      <td>1381</td>\n",
       "      <td>16</td>\n",
       "      <td>38</td>\n",
       "      <td>86.312500</td>\n",
       "    </tr>\n",
       "    <tr>\n",
       "      <th>8</th>\n",
       "      <td>2016</td>\n",
       "      <td>1233.0</td>\n",
       "      <td>1699</td>\n",
       "      <td>21</td>\n",
       "      <td>52</td>\n",
       "      <td>80.904762</td>\n",
       "    </tr>\n",
       "    <tr>\n",
       "      <th>9</th>\n",
       "      <td>2017</td>\n",
       "      <td>1413.0</td>\n",
       "      <td>921</td>\n",
       "      <td>15</td>\n",
       "      <td>41</td>\n",
       "      <td>61.400000</td>\n",
       "    </tr>\n",
       "    <tr>\n",
       "      <th>10</th>\n",
       "      <td>2018</td>\n",
       "      <td>1487.0</td>\n",
       "      <td>994</td>\n",
       "      <td>12</td>\n",
       "      <td>33</td>\n",
       "      <td>82.833333</td>\n",
       "    </tr>\n",
       "    <tr>\n",
       "      <th>11</th>\n",
       "      <td>2019</td>\n",
       "      <td>2424.0</td>\n",
       "      <td>3084</td>\n",
       "      <td>15</td>\n",
       "      <td>49</td>\n",
       "      <td>205.600000</td>\n",
       "    </tr>\n",
       "  </tbody>\n",
       "</table>\n",
       "</div>"
      ],
      "text/plain": [
       "    Year  Corrected # Hauls  Corrected Quantity  # of Seins  # of Species  \\\n",
       "0   2008                0.0                  17           1            17   \n",
       "1   2009                0.0                  16           2            15   \n",
       "2   2010                0.0                 123          14            33   \n",
       "3   2011                0.0                1345          17            31   \n",
       "4   2012                0.0                 664          16            35   \n",
       "5   2013                0.0                 687          13            24   \n",
       "6   2014                0.0                 213           6            23   \n",
       "7   2015                0.0                1381          16            38   \n",
       "8   2016             1233.0                1699          21            52   \n",
       "9   2017             1413.0                 921          15            41   \n",
       "10  2018             1487.0                 994          12            33   \n",
       "11  2019             2424.0                3084          15            49   \n",
       "\n",
       "    Catch Per Seine  \n",
       "0         17.000000  \n",
       "1          8.000000  \n",
       "2          8.785714  \n",
       "3         79.117647  \n",
       "4         41.500000  \n",
       "5         52.846154  \n",
       "6         35.500000  \n",
       "7         86.312500  \n",
       "8         80.904762  \n",
       "9         61.400000  \n",
       "10        82.833333  \n",
       "11       205.600000  "
      ]
     },
     "execution_count": 59,
     "metadata": {},
     "output_type": "execute_result"
    }
   ],
   "source": [
    "grouped_db"
   ]
  },
  {
   "cell_type": "code",
   "execution_count": 60,
   "metadata": {},
   "outputs": [
    {
     "data": {
      "text/html": [
       "<div>\n",
       "<style scoped>\n",
       "    .dataframe tbody tr th:only-of-type {\n",
       "        vertical-align: middle;\n",
       "    }\n",
       "\n",
       "    .dataframe tbody tr th {\n",
       "        vertical-align: top;\n",
       "    }\n",
       "\n",
       "    .dataframe thead th {\n",
       "        text-align: right;\n",
       "    }\n",
       "</style>\n",
       "<table border=\"1\" class=\"dataframe\">\n",
       "  <thead>\n",
       "    <tr style=\"text-align: right;\">\n",
       "      <th></th>\n",
       "      <th>Year</th>\n",
       "      <th>Corrected # Hauls</th>\n",
       "      <th>Corrected Quantity</th>\n",
       "      <th># of Seins</th>\n",
       "      <th># of Species</th>\n",
       "      <th>Catch Per Seine</th>\n",
       "    </tr>\n",
       "  </thead>\n",
       "  <tbody>\n",
       "    <tr>\n",
       "      <th>0</th>\n",
       "      <td>2008</td>\n",
       "      <td>0.0</td>\n",
       "      <td>16</td>\n",
       "      <td>1</td>\n",
       "      <td>16</td>\n",
       "      <td>16.000000</td>\n",
       "    </tr>\n",
       "    <tr>\n",
       "      <th>1</th>\n",
       "      <td>2009</td>\n",
       "      <td>0.0</td>\n",
       "      <td>15</td>\n",
       "      <td>2</td>\n",
       "      <td>14</td>\n",
       "      <td>7.500000</td>\n",
       "    </tr>\n",
       "    <tr>\n",
       "      <th>2</th>\n",
       "      <td>2010</td>\n",
       "      <td>0.0</td>\n",
       "      <td>109</td>\n",
       "      <td>14</td>\n",
       "      <td>32</td>\n",
       "      <td>7.785714</td>\n",
       "    </tr>\n",
       "    <tr>\n",
       "      <th>3</th>\n",
       "      <td>2011</td>\n",
       "      <td>0.0</td>\n",
       "      <td>952</td>\n",
       "      <td>17</td>\n",
       "      <td>30</td>\n",
       "      <td>56.000000</td>\n",
       "    </tr>\n",
       "    <tr>\n",
       "      <th>4</th>\n",
       "      <td>2012</td>\n",
       "      <td>0.0</td>\n",
       "      <td>494</td>\n",
       "      <td>16</td>\n",
       "      <td>34</td>\n",
       "      <td>30.875000</td>\n",
       "    </tr>\n",
       "    <tr>\n",
       "      <th>5</th>\n",
       "      <td>2013</td>\n",
       "      <td>0.0</td>\n",
       "      <td>182</td>\n",
       "      <td>13</td>\n",
       "      <td>22</td>\n",
       "      <td>14.000000</td>\n",
       "    </tr>\n",
       "    <tr>\n",
       "      <th>6</th>\n",
       "      <td>2014</td>\n",
       "      <td>0.0</td>\n",
       "      <td>127</td>\n",
       "      <td>6</td>\n",
       "      <td>22</td>\n",
       "      <td>21.166667</td>\n",
       "    </tr>\n",
       "    <tr>\n",
       "      <th>7</th>\n",
       "      <td>2015</td>\n",
       "      <td>0.0</td>\n",
       "      <td>1323</td>\n",
       "      <td>16</td>\n",
       "      <td>37</td>\n",
       "      <td>82.687500</td>\n",
       "    </tr>\n",
       "    <tr>\n",
       "      <th>8</th>\n",
       "      <td>2016</td>\n",
       "      <td>1079.0</td>\n",
       "      <td>812</td>\n",
       "      <td>21</td>\n",
       "      <td>51</td>\n",
       "      <td>38.666667</td>\n",
       "    </tr>\n",
       "    <tr>\n",
       "      <th>9</th>\n",
       "      <td>2017</td>\n",
       "      <td>1278.0</td>\n",
       "      <td>574</td>\n",
       "      <td>15</td>\n",
       "      <td>40</td>\n",
       "      <td>38.266667</td>\n",
       "    </tr>\n",
       "    <tr>\n",
       "      <th>10</th>\n",
       "      <td>2018</td>\n",
       "      <td>1406.0</td>\n",
       "      <td>871</td>\n",
       "      <td>12</td>\n",
       "      <td>32</td>\n",
       "      <td>72.583333</td>\n",
       "    </tr>\n",
       "    <tr>\n",
       "      <th>11</th>\n",
       "      <td>2019</td>\n",
       "      <td>2369.0</td>\n",
       "      <td>3047</td>\n",
       "      <td>15</td>\n",
       "      <td>46</td>\n",
       "      <td>203.133333</td>\n",
       "    </tr>\n",
       "  </tbody>\n",
       "</table>\n",
       "</div>"
      ],
      "text/plain": [
       "    Year  Corrected # Hauls  Corrected Quantity  # of Seins  # of Species  \\\n",
       "0   2008                0.0                  16           1            16   \n",
       "1   2009                0.0                  15           2            14   \n",
       "2   2010                0.0                 109          14            32   \n",
       "3   2011                0.0                 952          17            30   \n",
       "4   2012                0.0                 494          16            34   \n",
       "5   2013                0.0                 182          13            22   \n",
       "6   2014                0.0                 127           6            22   \n",
       "7   2015                0.0                1323          16            37   \n",
       "8   2016             1079.0                 812          21            51   \n",
       "9   2017             1278.0                 574          15            40   \n",
       "10  2018             1406.0                 871          12            32   \n",
       "11  2019             2369.0                3047          15            46   \n",
       "\n",
       "    Catch Per Seine  \n",
       "0         16.000000  \n",
       "1          7.500000  \n",
       "2          7.785714  \n",
       "3         56.000000  \n",
       "4         30.875000  \n",
       "5         14.000000  \n",
       "6         21.166667  \n",
       "7         82.687500  \n",
       "8         38.666667  \n",
       "9         38.266667  \n",
       "10        72.583333  \n",
       "11       203.133333  "
      ]
     },
     "execution_count": 60,
     "metadata": {},
     "output_type": "execute_result"
    }
   ],
   "source": [
    "nojellygrouped_db"
   ]
  },
  {
   "cell_type": "markdown",
   "metadata": {},
   "source": [
    "## Keeping this graph"
   ]
  },
  {
   "cell_type": "code",
   "execution_count": 61,
   "metadata": {},
   "outputs": [
    {
     "data": {
      "image/png": "[encoded data removed]",
      "text/plain": [
       "<Figure size 504x288 with 1 Axes>"
      ]
     },
     "metadata": {},
     "output_type": "display_data"
    }
   ],
   "source": [
    "ax = sns.barplot(x=\"Year\", y=\"Catch Per Seine\", data=grouped_db,color = 'yellow',saturation =0.01)\n",
    "ax = sns.barplot(x=\"Year\", y=\"Catch Per Seine\", data=nojellygrouped_db, saturation = 1)\n",
    "ax.set_title('Average Catch Per Seine Through The Years')\n",
    "ax.text(0,-30,'*Greyed columns show values if comb jellies are included. \\n Accurate comb jelly catch numbers were not kept.\\n Consider these an underestimate.' )\n",
    "ax.figure.savefig('Graphs/Average Catch Per Seine (comb jelly shadows)', bbox_inches='tight')"
   ]
  },
  {
   "cell_type": "markdown",
   "metadata": {},
   "source": [
    "## And just looking at recent years"
   ]
  },
  {
   "cell_type": "code",
   "execution_count": 62,
   "metadata": {},
   "outputs": [],
   "source": [
    "recent_grouped_db =  grouped_db[grouped_db['Year'] >2013]\n",
    "recent_nojellygrouped_db = nojellygrouped_db[nojellygrouped_db['Year'] > 2013]"
   ]
  },
  {
   "cell_type": "code",
   "execution_count": 63,
   "metadata": {},
   "outputs": [
    {
     "data": {
      "image/png": "[encoded data removed]",
      "text/plain": [
       "<Figure size 504x288 with 1 Axes>"
      ]
     },
     "metadata": {},
     "output_type": "display_data"
    }
   ],
   "source": [
    "ax = sns.barplot(x=\"Year\", y=\"Catch Per Seine\", data=recent_grouped_db,color = 'yellow',saturation =0.01)\n",
    "ax = sns.barplot(x=\"Year\", y=\"Catch Per Seine\", data=recent_nojellygrouped_db, saturation = 1)\n",
    "ax.set_title('Average Catch Per Seine Through The Years')\n",
    "ax.text(0,-30,'*Greyed columns show values if comb jellies are included. \\n Accurate comb jelly catch numbers were not kept.\\n Consider these an underestimate.' )\n",
    "ax.figure.savefig('Graphs/Recent Average Catch Per Seine (comb jelly shadows)', bbox_inches='tight')"
   ]
  },
  {
   "cell_type": "markdown",
   "metadata": {},
   "source": [
    "## And this one"
   ]
  },
  {
   "cell_type": "code",
   "execution_count": 64,
   "metadata": {},
   "outputs": [
    {
     "data": {
      "image/png": "[encoded data removed]",
      "text/plain": [
       "<Figure size 504x288 with 1 Axes>"
      ]
     },
     "metadata": {},
     "output_type": "display_data"
    }
   ],
   "source": [
    "ax = sns.barplot(x=\"Year\", y=\"Catch Per Seine\", data=nojellygrouped_db, saturation = 1)\n",
    "ax.set_title('Average Catch Per Seine Through The Years')\n",
    "ax.text(6.7,-15,'*Comb jellies excluded' )\n",
    "ax.figure.savefig('Graphs/Average Catch Per Seine',  bbox_inches='tight')"
   ]
  },
  {
   "cell_type": "markdown",
   "metadata": {},
   "source": [
    "## Here's a nicer way of making that same graph"
   ]
  },
  {
   "cell_type": "code",
   "execution_count": 65,
   "metadata": {},
   "outputs": [
    {
     "data": {
      "text/plain": [
       "Text(0, 0.5, 'Quantity Caught')"
      ]
     },
     "execution_count": 65,
     "metadata": {},
     "output_type": "execute_result"
    },
    {
     "data": {
      "image/png": "[encoded data removed]",
      "text/plain": [
       "<Figure size 504x288 with 1 Axes>"
      ]
     },
     "metadata": {},
     "output_type": "display_data"
    }
   ],
   "source": [
    "dgrouped_db = graph_db.groupby('Date', as_index=False).sum()\n",
    "\n",
    "dgrouped_db = dgrouped_db[['Date', 'Corrected Quantity']]\n",
    "\n",
    "dgrouped_db['Year'] = [x.year for x in dgrouped_db.Date]\n",
    "\n",
    "dgrouped_db = dgrouped_db.groupby('Year', as_index=False).mean()\n",
    "\n",
    "ax = sns.barplot(x=\"Year\", y=\"Corrected Quantity\", data=dgrouped_db, color= 'blue',saturation = 1)\n",
    "#ax = sns.barplot(x=\"Year\", y=\"Corrected Quantity\", data=nojellygrouped_db, saturation=1)\n",
    "ax.set_title(\"Comparison of Organism Catch With Comb Jellies\")\n",
    "ax.set_ylabel('Quantity Caught')"
   ]
  },
  {
   "cell_type": "markdown",
   "metadata": {},
   "source": [
    "## And let's get the total count broken down by species"
   ]
  },
  {
   "cell_type": "code",
   "execution_count": 66,
   "metadata": {},
   "outputs": [],
   "source": [
    "df = graph_db[['Grouped Corrected Common Name', 'Corrected Quantity','Year']]\n"
   ]
  },
  {
   "cell_type": "code",
   "execution_count": 67,
   "metadata": {},
   "outputs": [],
   "source": [
    "new_li = []\n",
    "for value in df['Grouped Corrected Common Name']:\n",
    "    if value not in ['atlantic silverside','comb jelly', 'shrimp', 'tunicates', 'sea snail']:\n",
    "        new_li.append('Other Organisms')\n",
    "    else:\n",
    "        new_li.append(value)"
   ]
  },
  {
   "cell_type": "code",
   "execution_count": 68,
   "metadata": {},
   "outputs": [
    {
     "name": "stderr",
     "output_type": "stream",
     "text": [
      "C:\\Users\\shad\\Anaconda3\\lib\\site-packages\\ipykernel_launcher.py:1: SettingWithCopyWarning: \n",
      "A value is trying to be set on a copy of a slice from a DataFrame.\n",
      "Try using .loc[row_indexer,col_indexer] = value instead\n",
      "\n",
      "See the caveats in the documentation: http://pandas.pydata.org/pandas-docs/stable/indexing.html#indexing-view-versus-copy\n",
      "  \"\"\"Entry point for launching an IPython kernel.\n"
     ]
    }
   ],
   "source": [
    "df['Grouped Corrected Common Name'] = new_li"
   ]
  },
  {
   "cell_type": "code",
   "execution_count": 69,
   "metadata": {},
   "outputs": [
    {
     "data": {
      "text/html": [
       "<div>\n",
       "<style scoped>\n",
       "    .dataframe tbody tr th:only-of-type {\n",
       "        vertical-align: middle;\n",
       "    }\n",
       "\n",
       "    .dataframe tbody tr th {\n",
       "        vertical-align: top;\n",
       "    }\n",
       "\n",
       "    .dataframe thead th {\n",
       "        text-align: right;\n",
       "    }\n",
       "</style>\n",
       "<table border=\"1\" class=\"dataframe\">\n",
       "  <thead>\n",
       "    <tr style=\"text-align: right;\">\n",
       "      <th></th>\n",
       "      <th>Grouped Corrected Common Name</th>\n",
       "      <th>Corrected Quantity</th>\n",
       "      <th>Year</th>\n",
       "    </tr>\n",
       "  </thead>\n",
       "  <tbody>\n",
       "    <tr>\n",
       "      <th>1188</th>\n",
       "      <td>Other Organisms</td>\n",
       "      <td>1</td>\n",
       "      <td>2019</td>\n",
       "    </tr>\n",
       "    <tr>\n",
       "      <th>1189</th>\n",
       "      <td>Other Organisms</td>\n",
       "      <td>11</td>\n",
       "      <td>2019</td>\n",
       "    </tr>\n",
       "    <tr>\n",
       "      <th>1190</th>\n",
       "      <td>atlantic silverside</td>\n",
       "      <td>584</td>\n",
       "      <td>2019</td>\n",
       "    </tr>\n",
       "    <tr>\n",
       "      <th>1191</th>\n",
       "      <td>Other Organisms</td>\n",
       "      <td>1</td>\n",
       "      <td>2019</td>\n",
       "    </tr>\n",
       "    <tr>\n",
       "      <th>1192</th>\n",
       "      <td>comb jelly</td>\n",
       "      <td>21</td>\n",
       "      <td>2019</td>\n",
       "    </tr>\n",
       "  </tbody>\n",
       "</table>\n",
       "</div>"
      ],
      "text/plain": [
       "     Grouped Corrected Common Name  Corrected Quantity  Year\n",
       "1188               Other Organisms                   1  2019\n",
       "1189               Other Organisms                  11  2019\n",
       "1190           atlantic silverside                 584  2019\n",
       "1191               Other Organisms                   1  2019\n",
       "1192                    comb jelly                  21  2019"
      ]
     },
     "execution_count": 69,
     "metadata": {},
     "output_type": "execute_result"
    }
   ],
   "source": [
    "df.tail()"
   ]
  },
  {
   "cell_type": "code",
   "execution_count": 70,
   "metadata": {},
   "outputs": [],
   "source": [
    "our_df = df.groupby(['Grouped Corrected Common Name', 'Year'], as_index=False).sum()\n"
   ]
  },
  {
   "cell_type": "code",
   "execution_count": 71,
   "metadata": {},
   "outputs": [],
   "source": [
    "#our_df = our_df[our_df['Year'] != 2018]"
   ]
  },
  {
   "cell_type": "code",
   "execution_count": 72,
   "metadata": {},
   "outputs": [
    {
     "data": {
      "text/plain": [
       "{'Other Organisms',\n",
       " 'atlantic silverside',\n",
       " 'comb jelly',\n",
       " 'sea snail',\n",
       " 'shrimp',\n",
       " 'tunicates'}"
      ]
     },
     "execution_count": 72,
     "metadata": {},
     "output_type": "execute_result"
    }
   ],
   "source": [
    "set(our_df['Grouped Corrected Common Name'])"
   ]
  },
  {
   "cell_type": "code",
   "execution_count": 73,
   "metadata": {},
   "outputs": [],
   "source": [
    "animal_dict = {'Other Organisms':[], 'shrimp': [], 'atlantic silverside':[],'comb jelly': [], 'tunicates': [], 'sea snail' : [] }"
   ]
  },
  {
   "cell_type": "code",
   "execution_count": 74,
   "metadata": {},
   "outputs": [],
   "source": [
    "for year in range(2008,2020):\n",
    "    curr_df  = our_df[our_df['Year'] == year]\n",
    "    for animal in animal_dict:\n",
    "        if len(curr_df[curr_df['Grouped Corrected Common Name'] == animal]['Corrected Quantity']) < 1:\n",
    "            animal_dict[animal] += [0]\n",
    "        else:\n",
    "            animal_dict[animal] += list(curr_df[curr_df['Grouped Corrected Common Name'] == animal]['Corrected Quantity'])"
   ]
  },
  {
   "cell_type": "code",
   "execution_count": 75,
   "metadata": {},
   "outputs": [
    {
     "data": {
      "text/plain": [
       "{'Other Organisms': [11, 10, 78, 419, 145, 94, 76, 240, 354, 374, 260, 556],\n",
       " 'shrimp': [3, 2, 16, 129, 58, 10, 9, 24, 31, 74, 75, 129],\n",
       " 'atlantic silverside': [1, 1, 13, 255, 180, 74, 42, 1030, 250, 37, 477, 2118],\n",
       " 'comb jelly': [1, 1, 14, 393, 170, 505, 86, 58, 887, 347, 123, 37],\n",
       " 'tunicates': [1, 1, 0, 76, 89, 2, 0, 20, 64, 32, 0, 0],\n",
       " 'sea snail': [0, 1, 2, 73, 22, 2, 0, 9, 113, 57, 59, 244]}"
      ]
     },
     "execution_count": 75,
     "metadata": {},
     "output_type": "execute_result"
    }
   ],
   "source": [
    "animal_dict"
   ]
  },
  {
   "cell_type": "code",
   "execution_count": 76,
   "metadata": {},
   "outputs": [],
   "source": [
    "for animal in animal_dict:\n",
    "    animal_dict[animal].insert(0,animal)"
   ]
  },
  {
   "cell_type": "code",
   "execution_count": 78,
   "metadata": {},
   "outputs": [
    {
     "ename": "TypeError",
     "evalue": "can only concatenate list (not \"range\") to list",
     "output_type": "error",
     "traceback": [
      "\u001b[1;31m---------------------------------------------------------------------------\u001b[0m",
      "\u001b[1;31mTypeError\u001b[0m                                 Traceback (most recent call last)",
      "\u001b[1;32m<ipython-input-78-aed9314be912>\u001b[0m in \u001b[0;36m<module>\u001b[1;34m\u001b[0m\n\u001b[1;32m----> 1\u001b[1;33m \u001b[0mhead\u001b[0m \u001b[1;33m=\u001b[0m \u001b[1;33m[\u001b[0m\u001b[1;34m'species'\u001b[0m\u001b[1;33m]\u001b[0m \u001b[1;33m+\u001b[0m \u001b[0mrange\u001b[0m\u001b[1;33m(\u001b[0m\u001b[1;36m2008\u001b[0m\u001b[1;33m,\u001b[0m\u001b[1;36m2019\u001b[0m\u001b[1;33m)\u001b[0m\u001b[1;33m\u001b[0m\u001b[1;33m\u001b[0m\u001b[0m\n\u001b[0m",
      "\u001b[1;31mTypeError\u001b[0m: can only concatenate list (not \"range\") to list"
     ]
    }
   ],
   "source": [
    "head = ['species'] + range(2008,2019)"
   ]
  },
  {
   "cell_type": "markdown",
   "metadata": {},
   "source": [
    "bars1 = our_df[our_df['Grouped Corrected Common Name'] == 'Other Organisms']['Corrected Quantity']\n",
    "bars2 = our_df[our_df['Grouped Corrected Common Name'] == 'atlantic silverside']['Corrected Quantity']\n",
    "bars3 = our_df[our_df['Grouped Corrected Common Name'] == 'comb jelly']['Corrected Quantity']\n",
    "shrimp = our_df[our_df['Grouped Corrected Common Name'] == 'shrimp']['Corrected Quantity']\n",
    "tunicate = our_df[our_df['Grouped Corrected Common Name'] == 'tunicates']['Corrected Quantity']\n",
    "snail = our_df[our_df['Grouped Corrected Common Name'] == 'sea snail']['Corrected Quantity']\n",
    "print tunicate\n",
    "head = ['species'] + range(2008,2018)\n",
    "shrimp = list(shrimp)\n",
    "shrimp.insert(0,'shrimp')\n",
    "org =  list(bars1)\n",
    "org.insert(0, 'other organisms')\n",
    "atl = list(bars2)\n",
    "atl.insert(0, 'atlantic silverside')\n",
    "comb = list(bars3)\n",
    "comb.insert(0, 'comb jelly')\n",
    "tunicate = list(tunicate)\n",
    "tunicate.insert(0, 'tunicates')\n",
    "snail = list(snail)\n",
    "snail.insert(0, 'sea snail')"
   ]
  },
  {
   "cell_type": "code",
   "execution_count": 107,
   "metadata": {},
   "outputs": [],
   "source": [
    "df2 = pd.DataFrame(columns=head, data=[animal_dict['Other Organisms'], animal_dict['sea snail'],animal_dict['tunicates'], animal_dict['shrimp'], animal_dict['atlantic silverside'], animal_dict['comb jelly']])"
   ]
  },
  {
   "cell_type": "code",
   "execution_count": 108,
   "metadata": {},
   "outputs": [
    {
     "data": {
      "text/html": [
       "<div>\n",
       "<table border=\"1\" class=\"dataframe\">\n",
       "  <thead>\n",
       "    <tr style=\"text-align: right;\">\n",
       "      <th></th>\n",
       "      <th>species</th>\n",
       "      <th>2008</th>\n",
       "      <th>2009</th>\n",
       "      <th>2010</th>\n",
       "      <th>2011</th>\n",
       "      <th>2012</th>\n",
       "      <th>2013</th>\n",
       "      <th>2014</th>\n",
       "      <th>2015</th>\n",
       "      <th>2016</th>\n",
       "      <th>2017</th>\n",
       "      <th>2018</th>\n",
       "    </tr>\n",
       "  </thead>\n",
       "  <tbody>\n",
       "    <tr>\n",
       "      <th>0</th>\n",
       "      <td>Other Organisms</td>\n",
       "      <td>11</td>\n",
       "      <td>10</td>\n",
       "      <td>78</td>\n",
       "      <td>419</td>\n",
       "      <td>145</td>\n",
       "      <td>95</td>\n",
       "      <td>76</td>\n",
       "      <td>240</td>\n",
       "      <td>354</td>\n",
       "      <td>374</td>\n",
       "      <td>281</td>\n",
       "    </tr>\n",
       "    <tr>\n",
       "      <th>1</th>\n",
       "      <td>sea snail</td>\n",
       "      <td>0</td>\n",
       "      <td>1</td>\n",
       "      <td>2</td>\n",
       "      <td>73</td>\n",
       "      <td>22</td>\n",
       "      <td>2</td>\n",
       "      <td>0</td>\n",
       "      <td>9</td>\n",
       "      <td>113</td>\n",
       "      <td>57</td>\n",
       "      <td>38</td>\n",
       "    </tr>\n",
       "    <tr>\n",
       "      <th>2</th>\n",
       "      <td>tunicates</td>\n",
       "      <td>1</td>\n",
       "      <td>1</td>\n",
       "      <td>0</td>\n",
       "      <td>76</td>\n",
       "      <td>89</td>\n",
       "      <td>1</td>\n",
       "      <td>0</td>\n",
       "      <td>20</td>\n",
       "      <td>64</td>\n",
       "      <td>32</td>\n",
       "      <td>0</td>\n",
       "    </tr>\n",
       "    <tr>\n",
       "      <th>3</th>\n",
       "      <td>shrimp</td>\n",
       "      <td>3</td>\n",
       "      <td>2</td>\n",
       "      <td>16</td>\n",
       "      <td>129</td>\n",
       "      <td>58</td>\n",
       "      <td>10</td>\n",
       "      <td>9</td>\n",
       "      <td>24</td>\n",
       "      <td>31</td>\n",
       "      <td>74</td>\n",
       "      <td>75</td>\n",
       "    </tr>\n",
       "    <tr>\n",
       "      <th>4</th>\n",
       "      <td>atlantic silverside</td>\n",
       "      <td>1</td>\n",
       "      <td>1</td>\n",
       "      <td>13</td>\n",
       "      <td>255</td>\n",
       "      <td>180</td>\n",
       "      <td>74</td>\n",
       "      <td>42</td>\n",
       "      <td>1030</td>\n",
       "      <td>250</td>\n",
       "      <td>37</td>\n",
       "      <td>466</td>\n",
       "    </tr>\n",
       "    <tr>\n",
       "      <th>5</th>\n",
       "      <td>comb jelly</td>\n",
       "      <td>1</td>\n",
       "      <td>1</td>\n",
       "      <td>14</td>\n",
       "      <td>393</td>\n",
       "      <td>170</td>\n",
       "      <td>505</td>\n",
       "      <td>86</td>\n",
       "      <td>58</td>\n",
       "      <td>887</td>\n",
       "      <td>347</td>\n",
       "      <td>123</td>\n",
       "    </tr>\n",
       "  </tbody>\n",
       "</table>\n",
       "</div>"
      ],
      "text/plain": [
       "               species  2008  2009  2010  2011  2012  2013  2014  2015  2016  \\\n",
       "0      Other Organisms    11    10    78   419   145    95    76   240   354   \n",
       "1            sea snail     0     1     2    73    22     2     0     9   113   \n",
       "2            tunicates     1     1     0    76    89     1     0    20    64   \n",
       "3               shrimp     3     2    16   129    58    10     9    24    31   \n",
       "4  atlantic silverside     1     1    13   255   180    74    42  1030   250   \n",
       "5           comb jelly     1     1    14   393   170   505    86    58   887   \n",
       "\n",
       "   2017  2018  \n",
       "0   374   281  \n",
       "1    57    38  \n",
       "2    32     0  \n",
       "3    74    75  \n",
       "4    37   466  \n",
       "5   347   123  "
      ]
     },
     "execution_count": 108,
     "metadata": {},
     "output_type": "execute_result"
    }
   ],
   "source": [
    "df2"
   ]
  },
  {
   "cell_type": "markdown",
   "metadata": {},
   "source": [
    "## And this one"
   ]
  },
  {
   "cell_type": "code",
   "execution_count": 109,
   "metadata": {},
   "outputs": [
    {
     "data": {
      "image/png": "[encoded data removed]",
      "text/plain": [
       "<matplotlib.figure.Figure at 0xd272c18>"
      ]
     },
     "metadata": {},
     "output_type": "display_data"
    }
   ],
   "source": [
    "\n",
    "import seaborn as sns\n",
    "sns.set()\n",
    "df2.set_index('species').T.plot(kind='bar', stacked=True)\n",
    "plt.title('Number of Organisms Caught by Year')\n",
    "plt.xlabel('Year')\n",
    "plt.ylabel('Number of Organisms Caught')\n",
    "plt.savefig('Graphs/Specific Organisms Caught by Year, stacked bar chart')"
   ]
  },
  {
   "cell_type": "markdown",
   "metadata": {},
   "source": [
    "## Now we'll get a look at how many species get caught each year"
   ]
  },
  {
   "cell_type": "code",
   "execution_count": 111,
   "metadata": {},
   "outputs": [
    {
     "data": {
      "image/png": "[encoded data removed]",
      "text/plain": [
       "<matplotlib.figure.Figure at 0xc619198>"
      ]
     },
     "metadata": {},
     "output_type": "display_data"
    }
   ],
   "source": [
    "ax = sns.barplot(x=\"Year\", y=\"# of Species\", data=grouped_db)\n",
    "ax.set_title('Species Richness By Year')\n",
    "ax.set_ylabel('Species Richness')\n",
    "ax.figure.savefig('Graphs/Number of Distinct Species Caught By Year')"
   ]
  },
  {
   "cell_type": "markdown",
   "metadata": {},
   "source": [
    "## Distinct Species Caught Per Seine isn't useful."
   ]
  },
  {
   "cell_type": "code",
   "execution_count": 112,
   "metadata": {
    "collapsed": true
   },
   "outputs": [],
   "source": [
    "grouped_db['Number of Distinct Species Caught Per Seine'] = 1.0*grouped_db['# of Species'] /grouped_db['# of Seins']"
   ]
  },
  {
   "cell_type": "code",
   "execution_count": 113,
   "metadata": {},
   "outputs": [
    {
     "data": {
      "text/plain": [
       "<matplotlib.text.Text at 0xc7cc588>"
      ]
     },
     "execution_count": 113,
     "metadata": {},
     "output_type": "execute_result"
    },
    {
     "data": {
      "image/png": "[encoded data removed]",
      "text/plain": [
       "<matplotlib.figure.Figure at 0xc33eba8>"
      ]
     },
     "metadata": {},
     "output_type": "display_data"
    }
   ],
   "source": [
    "ax = sns.barplot(x=\"Year\", y='Number of Distinct Species Caught Per Seine', data=grouped_db)\n",
    "ax.set_title('Number of Distinct Species Caught Per Seine By Year')"
   ]
  },
  {
   "cell_type": "code",
   "execution_count": 114,
   "metadata": {},
   "outputs": [
    {
     "data": {
      "image/png": "[encoded data removed]",
      "text/plain": [
       "<matplotlib.figure.Figure at 0xc33e630>"
      ]
     },
     "metadata": {},
     "output_type": "display_data"
    }
   ],
   "source": [
    "ax = sns.barplot(x=\"Year\", y='# of Seins', data=grouped_db)\n",
    "ax.set_ylabel('Number of Seins')\n",
    "ax.set_title('Number of Seins Per Year')\n",
    "ax.figure.savefig('Graphs/Number of Seins Per Year')"
   ]
  },
  {
   "cell_type": "markdown",
   "metadata": {},
   "source": [
    "## But the average amount of distinct species caught per seine for the years is totally useful"
   ]
  },
  {
   "cell_type": "code",
   "execution_count": 115,
   "metadata": {
    "collapsed": true
   },
   "outputs": [],
   "source": [
    "Species_count_by_day = {}\n",
    "for date in list(set(graph_db['Date'])):\n",
    "    date_species = graph_db[graph_db['Date'] == date]\n",
    "    species_count  = len(list(set(date_species['Corrected Common Name'])))\n",
    "    Species_count_by_day[date] = species_count\n",
    "    "
   ]
  },
  {
   "cell_type": "code",
   "execution_count": 116,
   "metadata": {},
   "outputs": [],
   "source": [
    "species_group_db = graph_db.groupby('Date', as_index=False).sum()"
   ]
  },
  {
   "cell_type": "code",
   "execution_count": 117,
   "metadata": {
    "collapsed": true
   },
   "outputs": [],
   "source": [
    "species_group_db['Species Caught'] = [Species_count_by_day[date] for date in species_group_db['Date']]"
   ]
  },
  {
   "cell_type": "code",
   "execution_count": 118,
   "metadata": {},
   "outputs": [],
   "source": [
    "species_graph_db=species_group_db[['Date', 'Species Caught']]"
   ]
  },
  {
   "cell_type": "code",
   "execution_count": 119,
   "metadata": {},
   "outputs": [
    {
     "name": "stderr",
     "output_type": "stream",
     "text": [
      "C:\\Program Files\\Anaconda2\\lib\\site-packages\\ipykernel\\__main__.py:1: SettingWithCopyWarning: \n",
      "A value is trying to be set on a copy of a slice from a DataFrame.\n",
      "Try using .loc[row_indexer,col_indexer] = value instead\n",
      "\n",
      "See the caveats in the documentation: http://pandas.pydata.org/pandas-docs/stable/indexing.html#indexing-view-versus-copy\n",
      "  if __name__ == '__main__':\n"
     ]
    }
   ],
   "source": [
    "species_graph_db['Year'] = [x.year for x in species_graph_db['Date']]"
   ]
  },
  {
   "cell_type": "code",
   "execution_count": 120,
   "metadata": {},
   "outputs": [],
   "source": [
    "Avg_Species_Caught_db = species_graph_db.groupby('Year', as_index = False).mean()"
   ]
  },
  {
   "cell_type": "code",
   "execution_count": 121,
   "metadata": {
    "collapsed": true
   },
   "outputs": [],
   "source": [
    "#Avg_Species_Caught_db = Avg_Species_Caught_db[Avg_Species_Caught_db['Year']<2019]"
   ]
  },
  {
   "cell_type": "markdown",
   "metadata": {},
   "source": [
    "## Let's take this one"
   ]
  },
  {
   "cell_type": "code",
   "execution_count": 126,
   "metadata": {},
   "outputs": [
    {
     "data": {
      "image/png": "[encoded data removed]",
      "text/plain": [
       "<matplotlib.figure.Figure at 0xc617c50>"
      ]
     },
     "metadata": {},
     "output_type": "display_data"
    }
   ],
   "source": [
    "ax = sns.barplot(x=\"Year\", y='Species Caught', data=Avg_Species_Caught_db)\n",
    "ax.set_ylabel(\"Species Richness\")\n",
    "ax.set_title('Average Species Richness Per Seine By Year')\n",
    "ax.figure.savefig('Graphs/Average Number of Distinct Species Caught Per Seine By Year')"
   ]
  },
  {
   "cell_type": "code",
   "execution_count": 127,
   "metadata": {
    "collapsed": true
   },
   "outputs": [],
   "source": [
    "recent_Avg_Species_Caught_db = Avg_Species_Caught_db[Avg_Species_Caught_db['Year'] > 2013]"
   ]
  },
  {
   "cell_type": "code",
   "execution_count": 128,
   "metadata": {},
   "outputs": [
    {
     "data": {
      "image/png": "[encoded data removed]",
      "text/plain": [
       "<matplotlib.figure.Figure at 0xc105eb8>"
      ]
     },
     "metadata": {},
     "output_type": "display_data"
    }
   ],
   "source": [
    "ax = sns.barplot(x=\"Year\", y='Species Caught', data=recent_Avg_Species_Caught_db)\n",
    "ax.set_title('Average Number of Distinct Species Caught Per Seine By Year')\n",
    "ax.figure.savefig('Graphs/Recent Average Distinct Species Per Seine', bbox_inches='tight')"
   ]
  },
  {
   "cell_type": "code",
   "execution_count": null,
   "metadata": {
    "collapsed": true
   },
   "outputs": [],
   "source": []
  },
  {
   "cell_type": "code",
   "execution_count": null,
   "metadata": {
    "collapsed": true
   },
   "outputs": [],
   "source": []
  }
 ],
 "metadata": {
  "anaconda-cloud": {},
  "kernelspec": {
   "display_name": "Python 3",
   "language": "python",
   "name": "python3"
  },
  "language_info": {
   "codemirror_mode": {
    "name": "ipython",
    "version": 3
   },
   "file_extension": ".py",
   "mimetype": "text/x-python",
   "name": "python",
   "nbconvert_exporter": "python",
   "pygments_lexer": "ipython3",
   "version": "3.7.3"
  }
 },
 "nbformat": 4,
 "nbformat_minor": 1
}
