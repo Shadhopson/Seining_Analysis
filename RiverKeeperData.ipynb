{
 "cells": [
  {
   "cell_type": "code",
   "execution_count": 35,
   "metadata": {
    "collapsed": true
   },
   "outputs": [],
   "source": [
    "import pandas as pd"
   ]
  },
  {
   "cell_type": "code",
   "execution_count": 36,
   "metadata": {
    "collapsed": false
   },
   "outputs": [],
   "source": [
    "df = pd.read_csv('rvk_sites.csv')"
   ]
  },
  {
   "cell_type": "code",
   "execution_count": 60,
   "metadata": {
    "collapsed": true
   },
   "outputs": [],
   "source": [
    "our_df = pd.read_csv('Created CSVs/Cleaned_For_Analysis_All_Data.csv')"
   ]
  },
  {
   "cell_type": "code",
   "execution_count": 43,
   "metadata": {
    "collapsed": false
   },
   "outputs": [
    {
     "data": {
      "text/plain": [
       "Index([u'site_id', u'url', u'st', u'contact', u'agencies', u'latitude',\n",
       "       u'longitude', u'count', u'geomean', u'maximum', u'minimum', u'id',\n",
       "       u'location_id', u'site_name', u'sample_date', u'specimen_count',\n",
       "       u'specimen_count_int', u'temperature', u'salinity', u'chlorophyll',\n",
       "       u'turbidity', u'oxygen', u'rain_day_of', u'rain_prior_day',\n",
       "       u'rain_2_days_prior', u'rain_3_days_prior', u'rain_3_day_total',\n",
       "       u'rain_4_days_prior', u'rain_5_days_prior', u'rain_5_day_total',\n",
       "       u'site_type'],\n",
       "      dtype='object')"
      ]
     },
     "execution_count": 43,
     "metadata": {},
     "output_type": "execute_result"
    }
   ],
   "source": [
    "df.columns"
   ]
  },
  {
   "cell_type": "code",
   "execution_count": 38,
   "metadata": {
    "collapsed": false
   },
   "outputs": [],
   "source": [
    "df_names = df[['site_name', 'latitude', 'longitude']].drop_duplicates()"
   ]
  },
  {
   "cell_type": "code",
   "execution_count": 39,
   "metadata": {
    "collapsed": false
   },
   "outputs": [],
   "source": [
    "#df_names"
   ]
  },
  {
   "cell_type": "code",
   "execution_count": 40,
   "metadata": {
    "collapsed": false
   },
   "outputs": [],
   "source": [
    "near_by_sites = df[(((df['latitude'] >40.67) & (df['latitude'] <40.77)) & ((df['longitude'] <-73.93) & (df['longitude'] > -74.3)))]"
   ]
  },
  {
   "cell_type": "code",
   "execution_count": 51,
   "metadata": {
    "collapsed": false
   },
   "outputs": [],
   "source": [
    "keeping = near_by_sites.columns.values[13:]"
   ]
  },
  {
   "cell_type": "code",
   "execution_count": 52,
   "metadata": {
    "collapsed": false
   },
   "outputs": [
    {
     "data": {
      "text/plain": [
       "array(['site_name', 'sample_date', 'specimen_count', 'specimen_count_int',\n",
       "       'temperature', 'salinity', 'chlorophyll', 'turbidity', 'oxygen',\n",
       "       'rain_day_of', 'rain_prior_day', 'rain_2_days_prior',\n",
       "       'rain_3_days_prior', 'rain_3_day_total', 'rain_4_days_prior',\n",
       "       'rain_5_days_prior', 'rain_5_day_total', 'site_type'], dtype=object)"
      ]
     },
     "execution_count": 52,
     "metadata": {},
     "output_type": "execute_result"
    }
   ],
   "source": [
    "keeping"
   ]
  },
  {
   "cell_type": "code",
   "execution_count": 54,
   "metadata": {
    "collapsed": false
   },
   "outputs": [],
   "source": [
    "near_by_sites[keeping].to_csv('Created CSVs/RiverKeeperNearbyWaterData.csv')"
   ]
  },
  {
   "cell_type": "code",
   "execution_count": 56,
   "metadata": {
    "collapsed": false
   },
   "outputs": [
    {
     "data": {
      "text/plain": [
       "{'Castle Point, NJ',\n",
       " 'East River mid-channel at 23rd St.',\n",
       " 'East River mid-channel at Roosevelt Is.',\n",
       " 'Gowanus Canal',\n",
       " 'Newtown Creek- Dutch Kills',\n",
       " 'Newtown Creek- Metropolitan Ave. Bridge',\n",
       " 'The Battery mid-channel'}"
      ]
     },
     "execution_count": 56,
     "metadata": {},
     "output_type": "execute_result"
    }
   ],
   "source": [
    "set(near_by_sites['site_name'])"
   ]
  },
  {
   "cell_type": "code",
   "execution_count": 67,
   "metadata": {
    "collapsed": true
   },
   "outputs": [],
   "source": [
    "import dateutil"
   ]
  },
  {
   "cell_type": "code",
   "execution_count": 69,
   "metadata": {
    "collapsed": false
   },
   "outputs": [],
   "source": [
    "dates  = [dateutil.parser.parse(x) for x in list(set(near_by_sites['sample_date']))]"
   ]
  },
  {
   "cell_type": "code",
   "execution_count": null,
   "metadata": {
    "collapsed": false
   },
   "outputs": [],
   "source": []
  },
  {
   "cell_type": "code",
   "execution_count": 70,
   "metadata": {
    "collapsed": false
   },
   "outputs": [],
   "source": [
    "our_dates  = [dateutil.parser.parse(x) for x in list(set(our_df['Date']))]"
   ]
  },
  {
   "cell_type": "code",
   "execution_count": 73,
   "metadata": {
    "collapsed": false
   },
   "outputs": [
    {
     "data": {
      "text/plain": [
       "{'Castle Point, NJ',\n",
       " 'East River mid-channel at 23rd St.',\n",
       " 'East River mid-channel at Roosevelt Is.',\n",
       " 'Gowanus Canal',\n",
       " 'Newtown Creek- Dutch Kills',\n",
       " 'Newtown Creek- Metropolitan Ave. Bridge',\n",
       " 'The Battery mid-channel'}"
      ]
     },
     "execution_count": 73,
     "metadata": {},
     "output_type": "execute_result"
    }
   ],
   "source": [
    "set(near_by_sites['site_name'])"
   ]
  },
  {
   "cell_type": "code",
   "execution_count": 71,
   "metadata": {
    "collapsed": false
   },
   "outputs": [
    {
     "name": "stdout",
     "output_type": "stream",
     "text": [
      "2015-06-11 00:00:00\n",
      "2016-06-15 00:00:00\n",
      "2016-07-13 00:00:00\n",
      "2016-06-14 00:00:00\n",
      "2012-10-10 00:00:00\n",
      "2010-07-21 00:00:00\n"
     ]
    }
   ],
   "source": [
    "for date in our_dates:\n",
    "    if date in dates:\n",
    "        print date"
   ]
  },
  {
   "cell_type": "code",
   "execution_count": 78,
   "metadata": {
    "collapsed": false
   },
   "outputs": [
    {
     "name": "stderr",
     "output_type": "stream",
     "text": [
      "C:\\Program Files\\Anaconda2\\lib\\site-packages\\ipykernel\\__main__.py:1: SettingWithCopyWarning: \n",
      "A value is trying to be set on a copy of a slice from a DataFrame.\n",
      "Try using .loc[row_indexer,col_indexer] = value instead\n",
      "\n",
      "See the caveats in the documentation: http://pandas.pydata.org/pandas-docs/stable/indexing.html#indexing-view-versus-copy\n",
      "  if __name__ == '__main__':\n"
     ]
    }
   ],
   "source": [
    "near_by_sites['sample_date'] = [dateutil.parser.parse(x) for x in near_by_sites['sample_date']]"
   ]
  },
  {
   "cell_type": "code",
   "execution_count": 104,
   "metadata": {
    "collapsed": false
   },
   "outputs": [],
   "source": [
    "gr_1 = near_by_sites[near_by_sites['site_name'] == 'East River mid-channel at 23rd St.'][['sample_date','turbidity']]"
   ]
  },
  {
   "cell_type": "code",
   "execution_count": 105,
   "metadata": {
    "collapsed": true
   },
   "outputs": [],
   "source": [
    "import matplotlib.pyplot as plt\n",
    "%matplotlib inline\n",
    "import seaborn as sns"
   ]
  },
  {
   "cell_type": "code",
   "execution_count": 106,
   "metadata": {
    "collapsed": true
   },
   "outputs": [],
   "source": [
    "gr_1 = gr_1[gr_1['turbidity'] > 0]"
   ]
  },
  {
   "cell_type": "code",
   "execution_count": 107,
   "metadata": {
    "collapsed": false
   },
   "outputs": [],
   "source": [
    "gr_1 = gr_1.set_index('sample_date')"
   ]
  },
  {
   "cell_type": "code",
   "execution_count": 108,
   "metadata": {
    "collapsed": false
   },
   "outputs": [
    {
     "data": {
      "text/plain": [
       "[<matplotlib.lines.Line2D at 0xdb7ef98>]"
      ]
     },
     "execution_count": 108,
     "metadata": {},
     "output_type": "execute_result"
    },
    {
     "data": {
      "image/png": "[encoded data removed]",
      "text/plain": [
       "<matplotlib.figure.Figure at 0xd1500b8>"
      ]
     },
     "metadata": {},
     "output_type": "display_data"
    }
   ],
   "source": [
    "plt.plot(gr_1) "
   ]
  },
  {
   "cell_type": "code",
   "execution_count": null,
   "metadata": {
    "collapsed": true
   },
   "outputs": [],
   "source": []
  }
 ],
 "metadata": {
  "anaconda-cloud": {},
  "kernelspec": {
   "display_name": "Python [conda root]",
   "language": "python",
   "name": "conda-root-py"
  },
  "language_info": {
   "codemirror_mode": {
    "name": "ipython",
    "version": 2
   },
   "file_extension": ".py",
   "mimetype": "text/x-python",
   "name": "python",
   "nbconvert_exporter": "python",
   "pygments_lexer": "ipython2",
   "version": "2.7.12"
  }
 },
 "nbformat": 4,
 "nbformat_minor": 1
}
