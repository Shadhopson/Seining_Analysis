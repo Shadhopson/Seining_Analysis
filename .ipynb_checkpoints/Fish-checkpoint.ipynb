{
 "cells": [
  {
   "cell_type": "code",
   "execution_count": 62,
   "metadata": {
    "collapsed": true
   },
   "outputs": [],
   "source": [
    "import pandas as pd\n",
    "import numpy as np"
   ]
  },
  {
   "cell_type": "code",
   "execution_count": 63,
   "metadata": {
    "collapsed": true
   },
   "outputs": [],
   "source": [
    "#fish_df =  pd.read_csv('Seining Data 2008-2017 - 2016 Catch.csv')\n",
    "#fish2_df = pd.read_csv('fish_Catch_2.csv')"
   ]
  },
  {
   "cell_type": "code",
   "execution_count": 64,
   "metadata": {
    "collapsed": false
   },
   "outputs": [],
   "source": [
    "#fish2_df.head(25)"
   ]
  },
  {
   "cell_type": "code",
   "execution_count": 65,
   "metadata": {
    "collapsed": true
   },
   "outputs": [],
   "source": [
    "import unicodecsv\n",
    "import math\n",
    "import matplotlib.pyplot as plt\n",
    "from datetime import datetime as dt\n",
    "import numpy as np\n",
    "import pandas as pd\n",
    "\n",
    "def read_csv(filename):\n",
    "    with open(filename, 'rb') as f:\n",
    "        reader = unicodecsv.DictReader(f)\n",
    "        return list(reader)"
   ]
  },
  {
   "cell_type": "code",
   "execution_count": 66,
   "metadata": {
    "collapsed": true
   },
   "outputs": [],
   "source": [
    "csv_list = []\n",
    "fish = read_csv('Seining Data 2008-2017 - 2016 Catch.csv')"
   ]
  },
  {
   "cell_type": "code",
   "execution_count": 67,
   "metadata": {
    "collapsed": false
   },
   "outputs": [
    {
     "data": {
      "text/plain": [
       "{u'# Brought to Ed Center': u'11',\n",
       " u'# Hauls': u'~7',\n",
       " u'# of visitors (Public Seine)': u'N/A',\n",
       " u'# student seiners (12+)': u'~ 18, St. Francis',\n",
       " u'Common Name': u'Comb Jelly ',\n",
       " u'DO': u'6',\n",
       " u'Date': u'5/26/2016',\n",
       " u'Instructors/ Seine Staff:': u'Christina ',\n",
       " u'Other info (Gender, Length, Dead/Alive, other physical description)': u'died because of bubbler',\n",
       " u'Quantity': u'11',\n",
       " u'Salinity': u'35 ppt',\n",
       " u'Scientific Name': u'Ctenophora',\n",
       " u'Time': u'4:30-5:30 PM',\n",
       " u'Water Temp:': u'70 F',\n",
       " u'Weather (exact air temp):': u'86 F',\n",
       " u'pH': u'did not do'}"
      ]
     },
     "execution_count": 67,
     "metadata": {},
     "output_type": "execute_result"
    }
   ],
   "source": [
    "fish[0]"
   ]
  },
  {
   "cell_type": "code",
   "execution_count": 68,
   "metadata": {
    "collapsed": true
   },
   "outputs": [],
   "source": [
    "def parse_date(date):\n",
    "    if date == '':\n",
    "        return None\n",
    "    else:\n",
    "        try:\n",
    "            return dt.strptime(date, '%m/%d/%Y')\n",
    "        except:\n",
    "            return dt.strptime(date, '%m/%d/%y')"
   ]
  },
  {
   "cell_type": "code",
   "execution_count": 69,
   "metadata": {
    "collapsed": true
   },
   "outputs": [],
   "source": [
    "for row in fish:\n",
    "    try:\n",
    "        if len(row['Date']) > 4:\n",
    "            new_date = row['Date']\n",
    "        row['Date'] = parse_date(new_date)\n",
    "    except:\n",
    "        print row['Date']"
   ]
  },
  {
   "cell_type": "code",
   "execution_count": 70,
   "metadata": {
    "collapsed": false
   },
   "outputs": [],
   "source": [
    "for row in fish:\n",
    "    try:\n",
    "        if len(row['# Hauls']) > 0:\n",
    "            new_hauls = row['# Hauls']\n",
    "        row['# Hauls'] =  new_hauls\n",
    "    except:\n",
    "        print row['# Hauls']"
   ]
  },
  {
   "cell_type": "code",
   "execution_count": 71,
   "metadata": {
    "collapsed": false
   },
   "outputs": [],
   "source": [
    "for row in fish:\n",
    "    try: \n",
    "        if len(row['Time']) > 4:\n",
    "            new_time = row['Time']\n",
    "        row['Time'] = new_time\n",
    "    except:\n",
    "        print row['Time']"
   ]
  },
  {
   "cell_type": "code",
   "execution_count": 72,
   "metadata": {
    "collapsed": false
   },
   "outputs": [],
   "source": [
    "for row in fish:\n",
    "    try:\n",
    "        if len(row['Water Temp:']) > 0:\n",
    "            new_temp = row['Water Temp:']\n",
    "        row['Water Temp:'] = new_temp\n",
    "    except:\n",
    "        print row['Water Temp:']"
   ]
  },
  {
   "cell_type": "code",
   "execution_count": 73,
   "metadata": {
    "collapsed": true
   },
   "outputs": [],
   "source": [
    "for row in fish:\n",
    "    try:\n",
    "        if len(row['Weather (exact air temp):']) > 0:\n",
    "            new_weather = row['Weather (exact air temp):']\n",
    "        row['Weather (exact air temp):'] =  new_weather\n",
    "    except:\n",
    "        print row['Weather (exact air temp):']"
   ]
  },
  {
   "cell_type": "code",
   "execution_count": 74,
   "metadata": {
    "collapsed": false
   },
   "outputs": [],
   "source": [
    "#fish"
   ]
  },
  {
   "cell_type": "code",
   "execution_count": 75,
   "metadata": {
    "collapsed": false
   },
   "outputs": [],
   "source": [
    "#for row in fish:\n",
    "#    fish_df =  pd.concat([fish_df, pd.DataFrame.from_dict(row, orient = 'index' )], axis = 0)"
   ]
  },
  {
   "cell_type": "code",
   "execution_count": 87,
   "metadata": {
    "collapsed": false
   },
   "outputs": [],
   "source": [
    "fish_df = pd.DataFrame.from_dict(fish[0], orient = 'index')"
   ]
  },
  {
   "cell_type": "code",
   "execution_count": 88,
   "metadata": {
    "collapsed": false
   },
   "outputs": [
    {
     "data": {
      "text/html": [
       "<div>\n",
       "<table border=\"1\" class=\"dataframe\">\n",
       "  <thead>\n",
       "    <tr style=\"text-align: right;\">\n",
       "      <th></th>\n",
       "      <th>0</th>\n",
       "    </tr>\n",
       "  </thead>\n",
       "  <tbody>\n",
       "    <tr>\n",
       "      <th>DO</th>\n",
       "      <td>6</td>\n",
       "    </tr>\n",
       "    <tr>\n",
       "      <th>Instructors/ Seine Staff:</th>\n",
       "      <td>Christina</td>\n",
       "    </tr>\n",
       "    <tr>\n",
       "      <th># of visitors (Public Seine)</th>\n",
       "      <td>N/A</td>\n",
       "    </tr>\n",
       "    <tr>\n",
       "      <th># Hauls</th>\n",
       "      <td>~7</td>\n",
       "    </tr>\n",
       "    <tr>\n",
       "      <th># Brought to Ed Center</th>\n",
       "      <td>11</td>\n",
       "    </tr>\n",
       "    <tr>\n",
       "      <th># student seiners (12+)</th>\n",
       "      <td>~ 18, St. Francis</td>\n",
       "    </tr>\n",
       "    <tr>\n",
       "      <th>Water Temp:</th>\n",
       "      <td>70 F</td>\n",
       "    </tr>\n",
       "    <tr>\n",
       "      <th>Salinity</th>\n",
       "      <td>35 ppt</td>\n",
       "    </tr>\n",
       "    <tr>\n",
       "      <th>Scientific Name</th>\n",
       "      <td>Ctenophora</td>\n",
       "    </tr>\n",
       "    <tr>\n",
       "      <th>Other info (Gender, Length, Dead/Alive, other physical description)</th>\n",
       "      <td>died because of bubbler</td>\n",
       "    </tr>\n",
       "    <tr>\n",
       "      <th>Time</th>\n",
       "      <td>4:30-5:30 PM</td>\n",
       "    </tr>\n",
       "    <tr>\n",
       "      <th>Date</th>\n",
       "      <td>2016-05-26 00:00:00</td>\n",
       "    </tr>\n",
       "    <tr>\n",
       "      <th>Weather (exact air temp):</th>\n",
       "      <td>86 F</td>\n",
       "    </tr>\n",
       "    <tr>\n",
       "      <th>pH</th>\n",
       "      <td>did not do</td>\n",
       "    </tr>\n",
       "    <tr>\n",
       "      <th>Common Name</th>\n",
       "      <td>Comb Jelly</td>\n",
       "    </tr>\n",
       "    <tr>\n",
       "      <th>Quantity</th>\n",
       "      <td>11</td>\n",
       "    </tr>\n",
       "  </tbody>\n",
       "</table>\n",
       "</div>"
      ],
      "text/plain": [
       "                                                                          0\n",
       "DO                                                                        6\n",
       "Instructors/ Seine Staff:                                        Christina \n",
       "# of visitors (Public Seine)                                            N/A\n",
       "# Hauls                                                                  ~7\n",
       "# Brought to Ed Center                                                   11\n",
       "# student seiners (12+)                                   ~ 18, St. Francis\n",
       "Water Temp:                                                            70 F\n",
       "Salinity                                                             35 ppt\n",
       "Scientific Name                                                  Ctenophora\n",
       "Other info (Gender, Length, Dead/Alive, other p...  died because of bubbler\n",
       "Time                                                           4:30-5:30 PM\n",
       "Date                                                    2016-05-26 00:00:00\n",
       "Weather (exact air temp):                                              86 F\n",
       "pH                                                               did not do\n",
       "Common Name                                                     Comb Jelly \n",
       "Quantity                                                                 11"
      ]
     },
     "execution_count": 88,
     "metadata": {},
     "output_type": "execute_result"
    }
   ],
   "source": [
    "fish_df"
   ]
  },
  {
   "cell_type": "code",
   "execution_count": null,
   "metadata": {
    "collapsed": true
   },
   "outputs": [],
   "source": []
  }
 ],
 "metadata": {
  "anaconda-cloud": {},
  "kernelspec": {
   "display_name": "Python [conda root]",
   "language": "python",
   "name": "conda-root-py"
  },
  "language_info": {
   "codemirror_mode": {
    "name": "ipython",
    "version": 2
   },
   "file_extension": ".py",
   "mimetype": "text/x-python",
   "name": "python",
   "nbconvert_exporter": "python",
   "pygments_lexer": "ipython2",
   "version": "2.7.12"
  }
 },
 "nbformat": 4,
 "nbformat_minor": 1
}
