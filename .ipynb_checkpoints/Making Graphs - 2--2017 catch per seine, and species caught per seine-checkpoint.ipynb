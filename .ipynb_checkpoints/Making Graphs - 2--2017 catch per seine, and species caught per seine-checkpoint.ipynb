{
 "cells": [
  {
   "cell_type": "code",
   "execution_count": 1,
   "metadata": {
    "collapsed": true
   },
   "outputs": [],
   "source": [
    "#date, species, do I have a compiled version of the creatures?"
   ]
  },
  {
   "cell_type": "code",
   "execution_count": 31,
   "metadata": {
    "collapsed": false
   },
   "outputs": [],
   "source": [
    "import pandas as pd\n",
    "import matplotlib.pyplot as plt\n",
    "import seaborn as sns\n",
    "%matplotlib inline\n",
    "import dateutil"
   ]
  },
  {
   "cell_type": "code",
   "execution_count": 32,
   "metadata": {
    "collapsed": true
   },
   "outputs": [],
   "source": [
    "df_non_combine = pd.read_csv('Created CSVs/Non_Combined_Name_Corrected_All_Seins.csv')"
   ]
  },
  {
   "cell_type": "code",
   "execution_count": 33,
   "metadata": {
    "collapsed": true
   },
   "outputs": [],
   "source": [
    "df_combine  = pd.read_csv('Created CSVs/Combined_Name_Corrected_All_Seins.csv')"
   ]
  },
  {
   "cell_type": "code",
   "execution_count": 34,
   "metadata": {
    "collapsed": false
   },
   "outputs": [],
   "source": [
    "df_non_combine['Date'] =  [dateutil.parser.parse(date) for date in list(df['Date'])]"
   ]
  },
  {
   "cell_type": "code",
   "execution_count": 35,
   "metadata": {
    "collapsed": true
   },
   "outputs": [],
   "source": [
    "df_non_combine['Number Caught'] = df_combine['Number Caught'].fillna(1)"
   ]
  },
  {
   "cell_type": "code",
   "execution_count": 36,
   "metadata": {
    "collapsed": true
   },
   "outputs": [],
   "source": [
    "def is_number(s):\n",
    "    try:\n",
    "        float(s)\n",
    "        return True\n",
    "    except ValueError:\n",
    "        return False"
   ]
  },
  {
   "cell_type": "code",
   "execution_count": 37,
   "metadata": {
    "collapsed": true
   },
   "outputs": [],
   "source": [
    "def fix_quantity(quant_list):\n",
    "    num_caught_list = []\n",
    "    for num in list(quant_list):\n",
    "        if type(num) ==  int:\n",
    "            num_caught_list.append(num)\n",
    "        elif is_number(num):\n",
    "            num_caught_list.append(int(float(num)))\n",
    "        else:\n",
    "            number = ''\n",
    "            started = False\n",
    "            for char in num:\n",
    "                if char.isdigit():\n",
    "                    number += char\n",
    "                    started = True\n",
    "                else:\n",
    "                    if char == '~':\n",
    "                        print started\n",
    "                    if started:\n",
    "                        break\n",
    "            if len(number):\n",
    "                num_caught_list.append(int(number))\n",
    "            else:\n",
    "                if num in ['Numerous', 'TMTC', 'Too Many To Count']:\n",
    "                    num_caught_list.append(30)\n",
    "                else:\n",
    "                    num_caught_list.append(1)\n",
    "    return [int(x) for x in num_caught_list]"
   ]
  },
  {
   "cell_type": "code",
   "execution_count": 38,
   "metadata": {
    "collapsed": false
   },
   "outputs": [
    {
     "name": "stdout",
     "output_type": "stream",
     "text": [
      "False\n",
      "False\n",
      "False\n"
     ]
    }
   ],
   "source": [
    "df_non_combine['Number Caught'] = fix_quantity(df_non_combine['Number Caught'])"
   ]
  },
  {
   "cell_type": "code",
   "execution_count": null,
   "metadata": {
    "collapsed": true
   },
   "outputs": [],
   "source": []
  },
  {
   "cell_type": "code",
   "execution_count": 40,
   "metadata": {
    "collapsed": false
   },
   "outputs": [
    {
     "name": "stdout",
     "output_type": "stream",
     "text": [
      "<class 'pandas.core.frame.DataFrame'>\n",
      "RangeIndex: 892 entries, 0 to 891\n",
      "Data columns (total 4 columns):\n",
      "Unnamed: 0       892 non-null int64\n",
      "Date             892 non-null datetime64[ns]\n",
      "Number Caught    892 non-null int64\n",
      "Species          892 non-null object\n",
      "dtypes: datetime64[ns](1), int64(2), object(1)\n",
      "memory usage: 27.9+ KB\n"
     ]
    }
   ],
   "source": [
    "df_non_combine.info()"
   ]
  },
  {
   "cell_type": "code",
   "execution_count": 42,
   "metadata": {
    "collapsed": false
   },
   "outputs": [],
   "source": [
    "df_non_combine['year'] = [x.year for x in df_non_combine['Date']]"
   ]
  },
  {
   "cell_type": "code",
   "execution_count": 45,
   "metadata": {
    "collapsed": false
   },
   "outputs": [],
   "source": [
    "df_2017 = df_non_combine[df_non_combine['year'] == 2017]"
   ]
  },
  {
   "cell_type": "code",
   "execution_count": 47,
   "metadata": {
    "collapsed": false
   },
   "outputs": [
    {
     "data": {
      "text/html": [
       "<div>\n",
       "<table border=\"1\" class=\"dataframe\">\n",
       "  <thead>\n",
       "    <tr style=\"text-align: right;\">\n",
       "      <th></th>\n",
       "      <th>Unnamed: 0</th>\n",
       "      <th>Date</th>\n",
       "      <th>Number Caught</th>\n",
       "      <th>Species</th>\n",
       "      <th>year</th>\n",
       "    </tr>\n",
       "  </thead>\n",
       "  <tbody>\n",
       "    <tr>\n",
       "      <th>750</th>\n",
       "      <td>756</td>\n",
       "      <td>2017-06-03</td>\n",
       "      <td>30</td>\n",
       "      <td>comb jelly</td>\n",
       "      <td>2017</td>\n",
       "    </tr>\n",
       "    <tr>\n",
       "      <th>751</th>\n",
       "      <td>757</td>\n",
       "      <td>2017-06-03</td>\n",
       "      <td>1</td>\n",
       "      <td>atlantic menhaden</td>\n",
       "      <td>2017</td>\n",
       "    </tr>\n",
       "    <tr>\n",
       "      <th>752</th>\n",
       "      <td>758</td>\n",
       "      <td>2017-06-03</td>\n",
       "      <td>14</td>\n",
       "      <td>blueback herring</td>\n",
       "      <td>2017</td>\n",
       "    </tr>\n",
       "    <tr>\n",
       "      <th>753</th>\n",
       "      <td>759</td>\n",
       "      <td>2017-06-03</td>\n",
       "      <td>1</td>\n",
       "      <td>american shad</td>\n",
       "      <td>2017</td>\n",
       "    </tr>\n",
       "    <tr>\n",
       "      <th>754</th>\n",
       "      <td>760</td>\n",
       "      <td>2017-06-03</td>\n",
       "      <td>1</td>\n",
       "      <td>striped bass</td>\n",
       "      <td>2017</td>\n",
       "    </tr>\n",
       "  </tbody>\n",
       "</table>\n",
       "</div>"
      ],
      "text/plain": [
       "     Unnamed: 0       Date  Number Caught            Species  year\n",
       "750         756 2017-06-03             30         comb jelly  2017\n",
       "751         757 2017-06-03              1  atlantic menhaden  2017\n",
       "752         758 2017-06-03             14   blueback herring  2017\n",
       "753         759 2017-06-03              1      american shad  2017\n",
       "754         760 2017-06-03              1       striped bass  2017"
      ]
     },
     "execution_count": 47,
     "metadata": {},
     "output_type": "execute_result"
    }
   ],
   "source": [
    "df_2017.head()"
   ]
  },
  {
   "cell_type": "code",
   "execution_count": 48,
   "metadata": {
    "collapsed": true
   },
   "outputs": [],
   "source": [
    "spec_count =  pd.DataFrame({'Date':[], 'Species Count': []})"
   ]
  },
  {
   "cell_type": "code",
   "execution_count": 50,
   "metadata": {
    "collapsed": false
   },
   "outputs": [],
   "source": [
    "grouped_2017 =df_2017.groupby('Date')"
   ]
  },
  {
   "cell_type": "code",
   "execution_count": 55,
   "metadata": {
    "collapsed": false
   },
   "outputs": [],
   "source": [
    "dates = list(grouped_2017.groups)"
   ]
  },
  {
   "cell_type": "code",
   "execution_count": 67,
   "metadata": {
    "collapsed": false
   },
   "outputs": [
    {
     "data": {
      "text/plain": [
       "861                      tautog\n",
       "862                striped bass\n",
       "863           atlantic menhaden\n",
       "864         atlantic silverside\n",
       "865                silver perch\n",
       "866             winter flounder\n",
       "867        unidentified herring\n",
       "868                 sand shrimp\n",
       "869                 sand shrimp\n",
       "870                    mud crab\n",
       "871    unidentified hermit crab\n",
       "872            asian shore crab\n",
       "873                   blue crab\n",
       "874                   mud snail\n",
       "875          oyster drill snail\n",
       "876                  comb jelly\n",
       "877                  moon jelly\n",
       "Name: Species, dtype: object"
      ]
     },
     "execution_count": 67,
     "metadata": {},
     "output_type": "execute_result"
    }
   ],
   "source": [
    "grouped_2017.get_group(dates[2])['Species']"
   ]
  },
  {
   "cell_type": "code",
   "execution_count": 63,
   "metadata": {
    "collapsed": true
   },
   "outputs": [],
   "source": [
    "species_caught_list = []\n",
    "for date in dates:\n",
    "    species_caught = len(set(grouped_2017.get_group(date)['Species']))\n",
    "    species_caught_list.append(species_caught)"
   ]
  },
  {
   "cell_type": "code",
   "execution_count": 64,
   "metadata": {
    "collapsed": true
   },
   "outputs": [],
   "source": [
    "spec_count['Date'] = dates\n",
    "spec_count['Species Count'] = species_caught_list"
   ]
  },
  {
   "cell_type": "code",
   "execution_count": 79,
   "metadata": {
    "collapsed": false
   },
   "outputs": [],
   "source": [
    "spec_count = spec_count.set_index('Date')"
   ]
  },
  {
   "cell_type": "code",
   "execution_count": 87,
   "metadata": {
    "collapsed": false
   },
   "outputs": [],
   "source": [
    "spec_count = spec_count.sort_index()"
   ]
  },
  {
   "cell_type": "code",
   "execution_count": 88,
   "metadata": {
    "collapsed": false
   },
   "outputs": [
    {
     "name": "stdout",
     "output_type": "stream",
     "text": [
      "<class 'pandas.core.frame.DataFrame'>\n",
      "DatetimeIndex: 14 entries, 2017-06-03 to 2017-10-07\n",
      "Data columns (total 1 columns):\n",
      "Species Count    14 non-null int64\n",
      "dtypes: int64(1)\n",
      "memory usage: 224.0 bytes\n"
     ]
    }
   ],
   "source": [
    "spec_count.info()"
   ]
  },
  {
   "cell_type": "code",
   "execution_count": 102,
   "metadata": {
    "collapsed": false
   },
   "outputs": [
    {
     "data": {
      "image/png": "[encoded data removed]",
      "text/plain": [
       "<matplotlib.figure.Figure at 0x7ff0f0179550>"
      ]
     },
     "metadata": {},
     "output_type": "display_data"
    }
   ],
   "source": [
    "plt.figure(figsize=(10,5))\n",
    "plt.title('Number of Species Caught Per Seine')\n",
    "plt.xlabel('Date')\n",
    "plt.ylabel('Number of Species')\n",
    "plt.ylim(0,20)\n",
    "ax = plt.plot(spec_count)"
   ]
  },
  {
   "cell_type": "code",
   "execution_count": 117,
   "metadata": {
    "collapsed": false
   },
   "outputs": [],
   "source": [
    "spec_count['Day of the Year'] =  [x.timetuple().tm_yday for x in spec_count.index]"
   ]
  },
  {
   "cell_type": "code",
   "execution_count": 139,
   "metadata": {
    "collapsed": false
   },
   "outputs": [
    {
     "data": {
      "text/plain": [
       "<matplotlib.text.Text at 0x7ff0ef211590>"
      ]
     },
     "execution_count": 139,
     "metadata": {},
     "output_type": "execute_result"
    },
    {
     "data": {
      "image/png": "[encoded data removed]",
      "text/plain": [
       "<matplotlib.figure.Figure at 0x7ff0ef272e90>"
      ]
     },
     "metadata": {},
     "output_type": "display_data"
    }
   ],
   "source": [
    "plt.figure(figsize=(10,5))\n",
    "ax  = sns.regplot(spec_count['Day of the Year'], spec_count['Species Count'],ci=False)\n",
    "ax.set_title('2017 Species Caught Per Seine')\n"
   ]
  },
  {
   "cell_type": "code",
   "execution_count": 123,
   "metadata": {
    "collapsed": false
   },
   "outputs": [
    {
     "data": {
      "text/plain": [
       "Index([u'Unnamed: 0', u'Date', u'Number Caught', u'Species', u'year'], dtype='object')"
      ]
     },
     "execution_count": 123,
     "metadata": {},
     "output_type": "execute_result"
    }
   ],
   "source": [
    "df_2017.columns"
   ]
  },
  {
   "cell_type": "code",
   "execution_count": 127,
   "metadata": {
    "collapsed": false
   },
   "outputs": [],
   "source": [
    "no_comb_df = df_2017[df_2017['Species'] != 'comb jelly']"
   ]
  },
  {
   "cell_type": "code",
   "execution_count": 132,
   "metadata": {
    "collapsed": false
   },
   "outputs": [],
   "source": [
    "plt_data = no_comb_df.groupby('Date').sum()['Number Caught']"
   ]
  },
  {
   "cell_type": "code",
   "execution_count": 135,
   "metadata": {
    "collapsed": false
   },
   "outputs": [
    {
     "data": {
      "text/plain": [
       "[<matplotlib.lines.Line2D at 0x7ff0efea48d0>]"
      ]
     },
     "execution_count": 135,
     "metadata": {},
     "output_type": "execute_result"
    },
    {
     "data": {
      "image/png": "[encoded data removed]",
      "text/plain": [
       "<matplotlib.figure.Figure at 0x7ff0ef684790>"
      ]
     },
     "metadata": {},
     "output_type": "display_data"
    }
   ],
   "source": [
    "plt.figure(figsize=(10,5))\n",
    "plt.title('Number Caught Per Seine')\n",
    "plt.xlabel('Date')\n",
    "plt.ylabel('Number of Organisms')\n",
    "plt.plot(plt_data)"
   ]
  },
  {
   "cell_type": "code",
   "execution_count": 140,
   "metadata": {
    "collapsed": false
   },
   "outputs": [
    {
     "data": {
      "text/html": [
       "<div>\n",
       "<table border=\"1\" class=\"dataframe\">\n",
       "  <thead>\n",
       "    <tr style=\"text-align: right;\">\n",
       "      <th></th>\n",
       "      <th>Unnamed: 0</th>\n",
       "      <th>Date</th>\n",
       "      <th>Number Caught</th>\n",
       "      <th>Species</th>\n",
       "      <th>year</th>\n",
       "    </tr>\n",
       "  </thead>\n",
       "  <tbody>\n",
       "    <tr>\n",
       "      <th>750</th>\n",
       "      <td>756</td>\n",
       "      <td>2017-06-03</td>\n",
       "      <td>30</td>\n",
       "      <td>comb jelly</td>\n",
       "      <td>2017</td>\n",
       "    </tr>\n",
       "    <tr>\n",
       "      <th>751</th>\n",
       "      <td>757</td>\n",
       "      <td>2017-06-03</td>\n",
       "      <td>1</td>\n",
       "      <td>atlantic menhaden</td>\n",
       "      <td>2017</td>\n",
       "    </tr>\n",
       "    <tr>\n",
       "      <th>752</th>\n",
       "      <td>758</td>\n",
       "      <td>2017-06-03</td>\n",
       "      <td>14</td>\n",
       "      <td>blueback herring</td>\n",
       "      <td>2017</td>\n",
       "    </tr>\n",
       "    <tr>\n",
       "      <th>753</th>\n",
       "      <td>759</td>\n",
       "      <td>2017-06-03</td>\n",
       "      <td>1</td>\n",
       "      <td>american shad</td>\n",
       "      <td>2017</td>\n",
       "    </tr>\n",
       "    <tr>\n",
       "      <th>754</th>\n",
       "      <td>760</td>\n",
       "      <td>2017-06-03</td>\n",
       "      <td>1</td>\n",
       "      <td>striped bass</td>\n",
       "      <td>2017</td>\n",
       "    </tr>\n",
       "    <tr>\n",
       "      <th>755</th>\n",
       "      <td>761</td>\n",
       "      <td>2017-06-03</td>\n",
       "      <td>2</td>\n",
       "      <td>shore shrimp</td>\n",
       "      <td>2017</td>\n",
       "    </tr>\n",
       "    <tr>\n",
       "      <th>756</th>\n",
       "      <td>762</td>\n",
       "      <td>2017-06-03</td>\n",
       "      <td>3</td>\n",
       "      <td>mud snail</td>\n",
       "      <td>2017</td>\n",
       "    </tr>\n",
       "    <tr>\n",
       "      <th>757</th>\n",
       "      <td>763</td>\n",
       "      <td>2017-06-03</td>\n",
       "      <td>1</td>\n",
       "      <td>oyster drill snail</td>\n",
       "      <td>2017</td>\n",
       "    </tr>\n",
       "    <tr>\n",
       "      <th>758</th>\n",
       "      <td>764</td>\n",
       "      <td>2017-06-03</td>\n",
       "      <td>1</td>\n",
       "      <td>blue crab</td>\n",
       "      <td>2017</td>\n",
       "    </tr>\n",
       "    <tr>\n",
       "      <th>759</th>\n",
       "      <td>765</td>\n",
       "      <td>2017-06-03</td>\n",
       "      <td>2</td>\n",
       "      <td>asian shore crab</td>\n",
       "      <td>2017</td>\n",
       "    </tr>\n",
       "    <tr>\n",
       "      <th>760</th>\n",
       "      <td>766</td>\n",
       "      <td>2017-06-03</td>\n",
       "      <td>1</td>\n",
       "      <td>unidentified snail eggs</td>\n",
       "      <td>2017</td>\n",
       "    </tr>\n",
       "    <tr>\n",
       "      <th>761</th>\n",
       "      <td>767</td>\n",
       "      <td>2017-06-09</td>\n",
       "      <td>38</td>\n",
       "      <td>blueback herring</td>\n",
       "      <td>2017</td>\n",
       "    </tr>\n",
       "    <tr>\n",
       "      <th>762</th>\n",
       "      <td>768</td>\n",
       "      <td>2017-06-09</td>\n",
       "      <td>20</td>\n",
       "      <td>comb jelly</td>\n",
       "      <td>2017</td>\n",
       "    </tr>\n",
       "    <tr>\n",
       "      <th>763</th>\n",
       "      <td>769</td>\n",
       "      <td>2017-06-09</td>\n",
       "      <td>1</td>\n",
       "      <td>striped bass</td>\n",
       "      <td>2017</td>\n",
       "    </tr>\n",
       "    <tr>\n",
       "      <th>764</th>\n",
       "      <td>770</td>\n",
       "      <td>2017-06-09</td>\n",
       "      <td>1</td>\n",
       "      <td>bay anchovy</td>\n",
       "      <td>2017</td>\n",
       "    </tr>\n",
       "    <tr>\n",
       "      <th>765</th>\n",
       "      <td>771</td>\n",
       "      <td>2017-06-09</td>\n",
       "      <td>2</td>\n",
       "      <td>northern pipefish</td>\n",
       "      <td>2017</td>\n",
       "    </tr>\n",
       "    <tr>\n",
       "      <th>766</th>\n",
       "      <td>772</td>\n",
       "      <td>2017-06-09</td>\n",
       "      <td>16</td>\n",
       "      <td>sand shrimp</td>\n",
       "      <td>2017</td>\n",
       "    </tr>\n",
       "    <tr>\n",
       "      <th>767</th>\n",
       "      <td>773</td>\n",
       "      <td>2017-06-09</td>\n",
       "      <td>1</td>\n",
       "      <td>asian shore crab</td>\n",
       "      <td>2017</td>\n",
       "    </tr>\n",
       "    <tr>\n",
       "      <th>768</th>\n",
       "      <td>774</td>\n",
       "      <td>2017-06-09</td>\n",
       "      <td>1</td>\n",
       "      <td>glass shrimp</td>\n",
       "      <td>2017</td>\n",
       "    </tr>\n",
       "    <tr>\n",
       "      <th>769</th>\n",
       "      <td>775</td>\n",
       "      <td>2017-06-09</td>\n",
       "      <td>2</td>\n",
       "      <td>mud snail</td>\n",
       "      <td>2017</td>\n",
       "    </tr>\n",
       "    <tr>\n",
       "      <th>770</th>\n",
       "      <td>776</td>\n",
       "      <td>2017-06-10</td>\n",
       "      <td>5</td>\n",
       "      <td>blueback herring</td>\n",
       "      <td>2017</td>\n",
       "    </tr>\n",
       "    <tr>\n",
       "      <th>771</th>\n",
       "      <td>777</td>\n",
       "      <td>2017-06-10</td>\n",
       "      <td>1</td>\n",
       "      <td>northern pipefish</td>\n",
       "      <td>2017</td>\n",
       "    </tr>\n",
       "    <tr>\n",
       "      <th>772</th>\n",
       "      <td>778</td>\n",
       "      <td>2017-06-10</td>\n",
       "      <td>2</td>\n",
       "      <td>blue crab</td>\n",
       "      <td>2017</td>\n",
       "    </tr>\n",
       "    <tr>\n",
       "      <th>773</th>\n",
       "      <td>779</td>\n",
       "      <td>2017-06-10</td>\n",
       "      <td>3</td>\n",
       "      <td>asian shore crab</td>\n",
       "      <td>2017</td>\n",
       "    </tr>\n",
       "    <tr>\n",
       "      <th>774</th>\n",
       "      <td>780</td>\n",
       "      <td>2017-06-10</td>\n",
       "      <td>2</td>\n",
       "      <td>sand shrimp</td>\n",
       "      <td>2017</td>\n",
       "    </tr>\n",
       "    <tr>\n",
       "      <th>775</th>\n",
       "      <td>781</td>\n",
       "      <td>2017-06-10</td>\n",
       "      <td>7</td>\n",
       "      <td>sand shrimp</td>\n",
       "      <td>2017</td>\n",
       "    </tr>\n",
       "    <tr>\n",
       "      <th>776</th>\n",
       "      <td>782</td>\n",
       "      <td>2017-06-10</td>\n",
       "      <td>6</td>\n",
       "      <td>mud snail</td>\n",
       "      <td>2017</td>\n",
       "    </tr>\n",
       "    <tr>\n",
       "      <th>777</th>\n",
       "      <td>783</td>\n",
       "      <td>2017-06-10</td>\n",
       "      <td>7</td>\n",
       "      <td>oyster drill snail</td>\n",
       "      <td>2017</td>\n",
       "    </tr>\n",
       "    <tr>\n",
       "      <th>778</th>\n",
       "      <td>784</td>\n",
       "      <td>2017-06-10</td>\n",
       "      <td>2</td>\n",
       "      <td>unidentified mussel</td>\n",
       "      <td>2017</td>\n",
       "    </tr>\n",
       "    <tr>\n",
       "      <th>779</th>\n",
       "      <td>785</td>\n",
       "      <td>2017-06-10</td>\n",
       "      <td>1</td>\n",
       "      <td>moon jelly</td>\n",
       "      <td>2017</td>\n",
       "    </tr>\n",
       "    <tr>\n",
       "      <th>...</th>\n",
       "      <td>...</td>\n",
       "      <td>...</td>\n",
       "      <td>...</td>\n",
       "      <td>...</td>\n",
       "      <td>...</td>\n",
       "    </tr>\n",
       "    <tr>\n",
       "      <th>862</th>\n",
       "      <td>868</td>\n",
       "      <td>2017-08-20</td>\n",
       "      <td>8</td>\n",
       "      <td>striped bass</td>\n",
       "      <td>2017</td>\n",
       "    </tr>\n",
       "    <tr>\n",
       "      <th>863</th>\n",
       "      <td>869</td>\n",
       "      <td>2017-08-20</td>\n",
       "      <td>1</td>\n",
       "      <td>atlantic menhaden</td>\n",
       "      <td>2017</td>\n",
       "    </tr>\n",
       "    <tr>\n",
       "      <th>864</th>\n",
       "      <td>870</td>\n",
       "      <td>2017-08-20</td>\n",
       "      <td>16</td>\n",
       "      <td>atlantic silverside</td>\n",
       "      <td>2017</td>\n",
       "    </tr>\n",
       "    <tr>\n",
       "      <th>865</th>\n",
       "      <td>871</td>\n",
       "      <td>2017-08-20</td>\n",
       "      <td>6</td>\n",
       "      <td>silver perch</td>\n",
       "      <td>2017</td>\n",
       "    </tr>\n",
       "    <tr>\n",
       "      <th>866</th>\n",
       "      <td>872</td>\n",
       "      <td>2017-08-20</td>\n",
       "      <td>1</td>\n",
       "      <td>winter flounder</td>\n",
       "      <td>2017</td>\n",
       "    </tr>\n",
       "    <tr>\n",
       "      <th>867</th>\n",
       "      <td>873</td>\n",
       "      <td>2017-08-20</td>\n",
       "      <td>10</td>\n",
       "      <td>unidentified herring</td>\n",
       "      <td>2017</td>\n",
       "    </tr>\n",
       "    <tr>\n",
       "      <th>868</th>\n",
       "      <td>874</td>\n",
       "      <td>2017-08-20</td>\n",
       "      <td>2</td>\n",
       "      <td>sand shrimp</td>\n",
       "      <td>2017</td>\n",
       "    </tr>\n",
       "    <tr>\n",
       "      <th>869</th>\n",
       "      <td>875</td>\n",
       "      <td>2017-08-20</td>\n",
       "      <td>1</td>\n",
       "      <td>sand shrimp</td>\n",
       "      <td>2017</td>\n",
       "    </tr>\n",
       "    <tr>\n",
       "      <th>870</th>\n",
       "      <td>876</td>\n",
       "      <td>2017-08-20</td>\n",
       "      <td>3</td>\n",
       "      <td>mud crab</td>\n",
       "      <td>2017</td>\n",
       "    </tr>\n",
       "    <tr>\n",
       "      <th>871</th>\n",
       "      <td>877</td>\n",
       "      <td>2017-08-20</td>\n",
       "      <td>1</td>\n",
       "      <td>unidentified hermit crab</td>\n",
       "      <td>2017</td>\n",
       "    </tr>\n",
       "    <tr>\n",
       "      <th>872</th>\n",
       "      <td>878</td>\n",
       "      <td>2017-08-20</td>\n",
       "      <td>4</td>\n",
       "      <td>asian shore crab</td>\n",
       "      <td>2017</td>\n",
       "    </tr>\n",
       "    <tr>\n",
       "      <th>873</th>\n",
       "      <td>879</td>\n",
       "      <td>2017-08-20</td>\n",
       "      <td>2</td>\n",
       "      <td>blue crab</td>\n",
       "      <td>2017</td>\n",
       "    </tr>\n",
       "    <tr>\n",
       "      <th>874</th>\n",
       "      <td>880</td>\n",
       "      <td>2017-08-20</td>\n",
       "      <td>5</td>\n",
       "      <td>mud snail</td>\n",
       "      <td>2017</td>\n",
       "    </tr>\n",
       "    <tr>\n",
       "      <th>875</th>\n",
       "      <td>881</td>\n",
       "      <td>2017-08-20</td>\n",
       "      <td>2</td>\n",
       "      <td>oyster drill snail</td>\n",
       "      <td>2017</td>\n",
       "    </tr>\n",
       "    <tr>\n",
       "      <th>876</th>\n",
       "      <td>882</td>\n",
       "      <td>2017-08-20</td>\n",
       "      <td>7</td>\n",
       "      <td>comb jelly</td>\n",
       "      <td>2017</td>\n",
       "    </tr>\n",
       "    <tr>\n",
       "      <th>877</th>\n",
       "      <td>883</td>\n",
       "      <td>2017-08-20</td>\n",
       "      <td>1</td>\n",
       "      <td>moon jelly</td>\n",
       "      <td>2017</td>\n",
       "    </tr>\n",
       "    <tr>\n",
       "      <th>878</th>\n",
       "      <td>884</td>\n",
       "      <td>2017-09-17</td>\n",
       "      <td>6</td>\n",
       "      <td>atlantic silverside</td>\n",
       "      <td>2017</td>\n",
       "    </tr>\n",
       "    <tr>\n",
       "      <th>879</th>\n",
       "      <td>885</td>\n",
       "      <td>2017-09-17</td>\n",
       "      <td>1</td>\n",
       "      <td>spotted whiff</td>\n",
       "      <td>2017</td>\n",
       "    </tr>\n",
       "    <tr>\n",
       "      <th>880</th>\n",
       "      <td>886</td>\n",
       "      <td>2017-09-17</td>\n",
       "      <td>1</td>\n",
       "      <td>striped bass</td>\n",
       "      <td>2017</td>\n",
       "    </tr>\n",
       "    <tr>\n",
       "      <th>881</th>\n",
       "      <td>887</td>\n",
       "      <td>2017-09-17</td>\n",
       "      <td>5</td>\n",
       "      <td>blue crab</td>\n",
       "      <td>2017</td>\n",
       "    </tr>\n",
       "    <tr>\n",
       "      <th>882</th>\n",
       "      <td>888</td>\n",
       "      <td>2017-09-17</td>\n",
       "      <td>1</td>\n",
       "      <td>lady crab</td>\n",
       "      <td>2017</td>\n",
       "    </tr>\n",
       "    <tr>\n",
       "      <th>883</th>\n",
       "      <td>889</td>\n",
       "      <td>2017-09-17</td>\n",
       "      <td>12</td>\n",
       "      <td>asian shore crab</td>\n",
       "      <td>2017</td>\n",
       "    </tr>\n",
       "    <tr>\n",
       "      <th>884</th>\n",
       "      <td>890</td>\n",
       "      <td>2017-09-17</td>\n",
       "      <td>1</td>\n",
       "      <td>atlantic silverside</td>\n",
       "      <td>2017</td>\n",
       "    </tr>\n",
       "    <tr>\n",
       "      <th>885</th>\n",
       "      <td>891</td>\n",
       "      <td>2017-09-17</td>\n",
       "      <td>1</td>\n",
       "      <td>grubby</td>\n",
       "      <td>2017</td>\n",
       "    </tr>\n",
       "    <tr>\n",
       "      <th>886</th>\n",
       "      <td>892</td>\n",
       "      <td>2017-09-17</td>\n",
       "      <td>30</td>\n",
       "      <td>comb jelly</td>\n",
       "      <td>2017</td>\n",
       "    </tr>\n",
       "    <tr>\n",
       "      <th>887</th>\n",
       "      <td>893</td>\n",
       "      <td>2017-09-17</td>\n",
       "      <td>2</td>\n",
       "      <td>shore shrimp</td>\n",
       "      <td>2017</td>\n",
       "    </tr>\n",
       "    <tr>\n",
       "      <th>888</th>\n",
       "      <td>894</td>\n",
       "      <td>2017-10-07</td>\n",
       "      <td>30</td>\n",
       "      <td>comb jelly</td>\n",
       "      <td>2017</td>\n",
       "    </tr>\n",
       "    <tr>\n",
       "      <th>889</th>\n",
       "      <td>895</td>\n",
       "      <td>2017-10-07</td>\n",
       "      <td>14</td>\n",
       "      <td>asian shore crab</td>\n",
       "      <td>2017</td>\n",
       "    </tr>\n",
       "    <tr>\n",
       "      <th>890</th>\n",
       "      <td>896</td>\n",
       "      <td>2017-10-07</td>\n",
       "      <td>4</td>\n",
       "      <td>oyster drill snail</td>\n",
       "      <td>2017</td>\n",
       "    </tr>\n",
       "    <tr>\n",
       "      <th>891</th>\n",
       "      <td>897</td>\n",
       "      <td>2017-10-07</td>\n",
       "      <td>9</td>\n",
       "      <td>mud snail</td>\n",
       "      <td>2017</td>\n",
       "    </tr>\n",
       "  </tbody>\n",
       "</table>\n",
       "<p>142 rows × 5 columns</p>\n",
       "</div>"
      ],
      "text/plain": [
       "     Unnamed: 0       Date  Number Caught                   Species  year\n",
       "750         756 2017-06-03             30                comb jelly  2017\n",
       "751         757 2017-06-03              1         atlantic menhaden  2017\n",
       "752         758 2017-06-03             14          blueback herring  2017\n",
       "753         759 2017-06-03              1             american shad  2017\n",
       "754         760 2017-06-03              1              striped bass  2017\n",
       "755         761 2017-06-03              2              shore shrimp  2017\n",
       "756         762 2017-06-03              3                 mud snail  2017\n",
       "757         763 2017-06-03              1        oyster drill snail  2017\n",
       "758         764 2017-06-03              1                 blue crab  2017\n",
       "759         765 2017-06-03              2          asian shore crab  2017\n",
       "760         766 2017-06-03              1   unidentified snail eggs  2017\n",
       "761         767 2017-06-09             38          blueback herring  2017\n",
       "762         768 2017-06-09             20                comb jelly  2017\n",
       "763         769 2017-06-09              1              striped bass  2017\n",
       "764         770 2017-06-09              1               bay anchovy  2017\n",
       "765         771 2017-06-09              2         northern pipefish  2017\n",
       "766         772 2017-06-09             16               sand shrimp  2017\n",
       "767         773 2017-06-09              1          asian shore crab  2017\n",
       "768         774 2017-06-09              1              glass shrimp  2017\n",
       "769         775 2017-06-09              2                 mud snail  2017\n",
       "770         776 2017-06-10              5          blueback herring  2017\n",
       "771         777 2017-06-10              1         northern pipefish  2017\n",
       "772         778 2017-06-10              2                 blue crab  2017\n",
       "773         779 2017-06-10              3          asian shore crab  2017\n",
       "774         780 2017-06-10              2               sand shrimp  2017\n",
       "775         781 2017-06-10              7               sand shrimp  2017\n",
       "776         782 2017-06-10              6                 mud snail  2017\n",
       "777         783 2017-06-10              7        oyster drill snail  2017\n",
       "778         784 2017-06-10              2       unidentified mussel  2017\n",
       "779         785 2017-06-10              1                moon jelly  2017\n",
       "..          ...        ...            ...                       ...   ...\n",
       "862         868 2017-08-20              8              striped bass  2017\n",
       "863         869 2017-08-20              1         atlantic menhaden  2017\n",
       "864         870 2017-08-20             16       atlantic silverside  2017\n",
       "865         871 2017-08-20              6              silver perch  2017\n",
       "866         872 2017-08-20              1           winter flounder  2017\n",
       "867         873 2017-08-20             10      unidentified herring  2017\n",
       "868         874 2017-08-20              2               sand shrimp  2017\n",
       "869         875 2017-08-20              1               sand shrimp  2017\n",
       "870         876 2017-08-20              3                  mud crab  2017\n",
       "871         877 2017-08-20              1  unidentified hermit crab  2017\n",
       "872         878 2017-08-20              4          asian shore crab  2017\n",
       "873         879 2017-08-20              2                 blue crab  2017\n",
       "874         880 2017-08-20              5                 mud snail  2017\n",
       "875         881 2017-08-20              2        oyster drill snail  2017\n",
       "876         882 2017-08-20              7                comb jelly  2017\n",
       "877         883 2017-08-20              1                moon jelly  2017\n",
       "878         884 2017-09-17              6       atlantic silverside  2017\n",
       "879         885 2017-09-17              1             spotted whiff  2017\n",
       "880         886 2017-09-17              1              striped bass  2017\n",
       "881         887 2017-09-17              5                 blue crab  2017\n",
       "882         888 2017-09-17              1                 lady crab  2017\n",
       "883         889 2017-09-17             12          asian shore crab  2017\n",
       "884         890 2017-09-17              1       atlantic silverside  2017\n",
       "885         891 2017-09-17              1                    grubby  2017\n",
       "886         892 2017-09-17             30                comb jelly  2017\n",
       "887         893 2017-09-17              2              shore shrimp  2017\n",
       "888         894 2017-10-07             30                comb jelly  2017\n",
       "889         895 2017-10-07             14          asian shore crab  2017\n",
       "890         896 2017-10-07              4        oyster drill snail  2017\n",
       "891         897 2017-10-07              9                 mud snail  2017\n",
       "\n",
       "[142 rows x 5 columns]"
      ]
     },
     "execution_count": 140,
     "metadata": {},
     "output_type": "execute_result"
    }
   ],
   "source": [
    "df_2017"
   ]
  },
  {
   "cell_type": "code",
   "execution_count": null,
   "metadata": {
    "collapsed": true
   },
   "outputs": [],
   "source": []
  }
 ],
 "metadata": {
  "anaconda-cloud": {},
  "kernelspec": {
   "display_name": "Python [conda root]",
   "language": "python",
   "name": "conda-root-py"
  },
  "language_info": {
   "codemirror_mode": {
    "name": "ipython",
    "version": 2
   },
   "file_extension": ".py",
   "mimetype": "text/x-python",
   "name": "python",
   "nbconvert_exporter": "python",
   "pygments_lexer": "ipython2",
   "version": "2.7.12"
  }
 },
 "nbformat": 4,
 "nbformat_minor": 1
}
