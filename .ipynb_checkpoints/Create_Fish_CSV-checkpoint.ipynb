{
 "cells": [
  {
   "cell_type": "code",
   "execution_count": 12,
   "metadata": {
    "collapsed": true
   },
   "outputs": [],
   "source": [
    "import csv\n",
    "import unicodecsv"
   ]
  },
  {
   "cell_type": "code",
   "execution_count": 13,
   "metadata": {
    "collapsed": true
   },
   "outputs": [],
   "source": [
    "def read_csv(filename):\n",
    "    with open(filename, 'rb') as f:\n",
    "        reader = unicodecsv.DictReader(f)\n",
    "        return list(reader)"
   ]
  },
  {
   "cell_type": "code",
   "execution_count": 14,
   "metadata": {
    "collapsed": true
   },
   "outputs": [],
   "source": [
    "sein ={}"
   ]
  },
  {
   "cell_type": "code",
   "execution_count": 15,
   "metadata": {
    "collapsed": true
   },
   "outputs": [],
   "source": [
    "base_file_start = \"Sein_Data/Seining Data 2008-2017 - \""
   ]
  },
  {
   "cell_type": "code",
   "execution_count": 16,
   "metadata": {
    "collapsed": true
   },
   "outputs": [],
   "source": [
    "base_file_end = \" Catch.csv\""
   ]
  },
  {
   "cell_type": "code",
   "execution_count": 17,
   "metadata": {
    "collapsed": true
   },
   "outputs": [],
   "source": [
    "for i in range(2008, 2018):\n",
    "    key_str = \"sein\" + str(i)\n",
    "    file_str =  base_file_start + str(i) + base_file_end\n",
    "    sein[key_str] = read_csv(file_str)"
   ]
  },
  {
   "cell_type": "code",
   "execution_count": 10,
   "metadata": {
    "collapsed": false,
    "scrolled": true
   },
   "outputs": [],
   "source": [
    "sein2 = read_csv(\"Sein_Data/Seining Data 2008-2017 - 2008 Catch.csv\")"
   ]
  },
  {
   "cell_type": "code",
   "execution_count": 29,
   "metadata": {
    "collapsed": false
   },
   "outputs": [
    {
     "name": "stdout",
     "output_type": "stream",
     "text": [
      "[{u'': u'', u'Seining catch 2009': u''}, {u'': u'', u'Seining catch 2009': u''}, {u'': u'Notes', u'Seining catch 2009': u'Species caught'}, {u'': u'', u'Seining catch 2009': u'bay anchovy'}, {u'': u'', u'Seining catch 2009': u'northern pipefish'}, {u'': u'', u'Seining catch 2009': u'striped bass'}, {u'': u'', u'Seining catch 2009': u'shore shrimp'}, {u'': u'', u'Seining catch 2009': u'sand shrimp'}, {u'': u'(molgula, probably sea grape),', u'Seining catch 2009': u'sea squirts'}, {u'': u'', u'Seining catch 2009': u'blue crab'}, {u'': u'', u'Seining catch 2009': u'comb jelly'}, {u'': u'probably tubularian, but possibly feather', u'Seining catch 2009': u'hydroids'}, {u'': u'', u'Seining catch 2009': u'hermit crab,'}, {u'': u'', u'Seining catch 2009': u'snails'}, {u'': u'', u'Seining catch 2009': u'Two hemigrapsis molts were found on the beach.'}, {u'': u'', u'Seining catch 2009': u''}, {u'': u'', u'Seining catch 2009': u'Species list for photos'}, {u'': u'', u'Seining catch 2009': u''}, {u'': u'', u'Seining catch 2009': u\"Lion's mane Jellyfish (Cyanea capillata)\"}, {u'': u'', u'Seining catch 2009': u'Green Crab (Carcinus maenas)'}, {u'': u'', u'Seining catch 2009': u'Atlantic Silverside (Menidia menidia)'}, {u'': u'', u'Seining catch 2009': u'Sea Horse (Hippocampus)'}, {u'': u'', u'Seining catch 2009': u'Pipefish (Syngnathinae)'}]\n"
     ]
    }
   ],
   "source": [
    "print sein['sein2009']"
   ]
  },
  {
   "cell_type": "code",
   "execution_count": 31,
   "metadata": {
    "collapsed": false
   },
   "outputs": [
    {
     "ename": "IndexError",
     "evalue": "list index out of range",
     "output_type": "error",
     "traceback": [
      "\u001b[0;31m---------------------------------------------------------------------------\u001b[0m",
      "\u001b[0;31mIndexError\u001b[0m                                Traceback (most recent call last)",
      "\u001b[0;32m<ipython-input-31-3ac10b0cd303>\u001b[0m in \u001b[0;36m<module>\u001b[0;34m()\u001b[0m\n\u001b[1;32m      3\u001b[0m \u001b[0msein_list\u001b[0m \u001b[0;34m=\u001b[0m  \u001b[0;34m{\u001b[0m\u001b[0;34m}\u001b[0m\u001b[0;34m\u001b[0m\u001b[0m\n\u001b[1;32m      4\u001b[0m \u001b[0;32mfor\u001b[0m \u001b[0mindex\u001b[0m \u001b[0;32min\u001b[0m \u001b[0mrange\u001b[0m\u001b[0;34m(\u001b[0m\u001b[0mlen\u001b[0m\u001b[0;34m(\u001b[0m\u001b[0msein_keys\u001b[0m\u001b[0;34m)\u001b[0m\u001b[0;34m)\u001b[0m\u001b[0;34m:\u001b[0m\u001b[0;34m\u001b[0m\u001b[0m\n\u001b[0;32m----> 5\u001b[0;31m     \u001b[0msein_list\u001b[0m\u001b[0;34m[\u001b[0m\u001b[0msein_keys\u001b[0m\u001b[0;34m[\u001b[0m\u001b[0mi\u001b[0m\u001b[0;34m]\u001b[0m\u001b[0;34m]\u001b[0m \u001b[0;34m=\u001b[0m \u001b[0;34m[\u001b[0m\u001b[0;34m]\u001b[0m\u001b[0;34m\u001b[0m\u001b[0m\n\u001b[0m\u001b[1;32m      6\u001b[0m     \u001b[0;32mfor\u001b[0m \u001b[0mitem\u001b[0m \u001b[0;32min\u001b[0m \u001b[0msein\u001b[0m\u001b[0;34m[\u001b[0m\u001b[0msein_keys\u001b[0m\u001b[0;34m[\u001b[0m\u001b[0mi\u001b[0m\u001b[0;34m]\u001b[0m\u001b[0;34m]\u001b[0m\u001b[0;34m:\u001b[0m\u001b[0;34m\u001b[0m\u001b[0m\n\u001b[1;32m      7\u001b[0m         \u001b[0;32mif\u001b[0m \u001b[0mlen\u001b[0m\u001b[0;34m(\u001b[0m\u001b[0mitem\u001b[0m\u001b[0;34m[\u001b[0m\u001b[0mcolumn_keys\u001b[0m\u001b[0;34m[\u001b[0m\u001b[0mi\u001b[0m\u001b[0;34m]\u001b[0m\u001b[0;34m]\u001b[0m \u001b[0;34m)\u001b[0m \u001b[0;34m>\u001b[0m \u001b[0;36m0\u001b[0m \u001b[0;32mand\u001b[0m \u001b[0mitem\u001b[0m\u001b[0;34m[\u001b[0m\u001b[0mcolumn_keys\u001b[0m\u001b[0;34m[\u001b[0m\u001b[0mi\u001b[0m\u001b[0;34m]\u001b[0m\u001b[0;34m]\u001b[0m \u001b[0;34m!=\u001b[0m \u001b[0;34m\"Species caught\"\u001b[0m\u001b[0;34m:\u001b[0m\u001b[0;34m\u001b[0m\u001b[0m\n",
      "\u001b[0;31mIndexError\u001b[0m: list index out of range"
     ]
    }
   ],
   "source": [
    "sein_keys = ['sein2008', 'sein2009', 'sein2010']\n",
    "column_keys = ['Seining catch 2008','Seining catch 2009','Seining catch 2010']\n",
    "sein_list =  {}\n",
    "for index in range(len(sein_keys)):\n",
    "    sein_list[sein_keys[i]] = []\n",
    "    for item in sein[sein_keys[i]]:\n",
    "        if len(item[column_keys[i]] ) > 0 and item[column_keys[i]] != \"Species caught\":\n",
    "            sein_list[sein_keys[i]].append(item[column_keys])"
   ]
  },
  {
   "cell_type": "code",
   "execution_count": 28,
   "metadata": {
    "collapsed": false
   },
   "outputs": [
    {
     "name": "stdout",
     "output_type": "stream",
     "text": [
      "[u'sea squirt', u'shore shrimp', u'mantis shrimp', u'sand shrimp', u'hermit crab', u'oyster toadfish', u'striped bass', u'northern kingfish', u'northern pipefish', u'striped searobin', u'Atlantic silverside', u'anchovy', u'blue crab', u'lady crab', u'winter flounder', u'comb jelly', u\"lion's mane jellyfish\"]\n"
     ]
    }
   ],
   "source": [
    "print sein_list['sein2008']"
   ]
  },
  {
   "cell_type": "code",
   "execution_count": 11,
   "metadata": {
    "collapsed": false
   },
   "outputs": [
    {
     "name": "stdout",
     "output_type": "stream",
     "text": [
      "[{u'': u'', u'Seining catch 2008': u''}, {u'': u'', u'Seining catch 2008': u''}, {u'': u'Notes', u'Seining catch 2008': u'Species caught'}, {u'': u'(probably Mogula spp. of sea grape)', u'Seining catch 2008': u'sea squirt'}, {u'': u'', u'Seining catch 2008': u'shore shrimp'}, {u'': u'', u'Seining catch 2008': u'mantis shrimp'}, {u'': u'', u'Seining catch 2008': u'sand shrimp'}, {u'': u'', u'Seining catch 2008': u'hermit crab'}, {u'': u'', u'Seining catch 2008': u'oyster toadfish'}, {u'': u'', u'Seining catch 2008': u'striped bass'}, {u'': u'', u'Seining catch 2008': u'northern kingfish'}, {u'': u'', u'Seining catch 2008': u'northern pipefish'}, {u'': u'', u'Seining catch 2008': u'striped searobin'}, {u'': u'', u'Seining catch 2008': u'Atlantic silverside'}, {u'': u'(probably a bay anchovy, but was very small and was lost before distinguished)', u'Seining catch 2008': u'anchovy'}, {u'': u'', u'Seining catch 2008': u'blue crab'}, {u'': u'', u'Seining catch 2008': u'lady crab'}, {u'': u'', u'Seining catch 2008': u'winter flounder'}, {u'': u'', u'Seining catch 2008': u'comb jelly'}, {u'': u'', u'Seining catch 2008': u\"lion's mane jellyfish\"}]\n"
     ]
    }
   ],
   "source": [
    "print sein2"
   ]
  },
  {
   "cell_type": "code",
   "execution_count": null,
   "metadata": {
    "collapsed": true
   },
   "outputs": [],
   "source": []
  }
 ],
 "metadata": {
  "anaconda-cloud": {},
  "kernelspec": {
   "display_name": "Python [conda root]",
   "language": "python",
   "name": "conda-root-py"
  },
  "language_info": {
   "codemirror_mode": {
    "name": "ipython",
    "version": 2
   },
   "file_extension": ".py",
   "mimetype": "text/x-python",
   "name": "python",
   "nbconvert_exporter": "python",
   "pygments_lexer": "ipython2",
   "version": "2.7.12"
  }
 },
 "nbformat": 4,
 "nbformat_minor": 1
}
