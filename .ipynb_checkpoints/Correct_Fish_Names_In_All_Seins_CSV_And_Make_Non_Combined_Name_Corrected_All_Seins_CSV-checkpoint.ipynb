{
 "cells": [
  {
   "cell_type": "code",
   "execution_count": 85,
   "metadata": {
    "collapsed": true
   },
   "outputs": [],
   "source": [
    "import pandas as pd\n"
   ]
  },
  {
   "cell_type": "code",
   "execution_count": 86,
   "metadata": {
    "collapsed": false
   },
   "outputs": [],
   "source": [
    "fish_df = pd.read_csv('Created CSVs/all_seins.csv')[['Date', 'Number Caught', 'Species']]"
   ]
  },
  {
   "cell_type": "code",
   "execution_count": 87,
   "metadata": {
    "collapsed": false
   },
   "outputs": [
    {
     "data": {
      "text/plain": [
       "292"
      ]
     },
     "execution_count": 87,
     "metadata": {},
     "output_type": "execute_result"
    }
   ],
   "source": [
    "len(set(fish_df[['Species']].values.ravel()))"
   ]
  },
  {
   "cell_type": "code",
   "execution_count": 88,
   "metadata": {
    "collapsed": false
   },
   "outputs": [],
   "source": [
    "import re\n",
    "fish_list = [re.sub(r'([^\\s\\w]|_)+', '', f) for f in fish_df['Species']]\n",
    "fish_list = [f.lower().replace('yoy', '') for f in fish_list]\n",
    "fish_list = [f.strip() for f in fish_list]\n",
    "\n",
    "#fish_list = list(set(fish_list))\n",
    "first_set = set(fish_list)"
   ]
  },
  {
   "cell_type": "code",
   "execution_count": 89,
   "metadata": {
    "collapsed": false
   },
   "outputs": [],
   "source": [
    "from difflib import SequenceMatcher"
   ]
  },
  {
   "cell_type": "code",
   "execution_count": 90,
   "metadata": {
    "collapsed": true
   },
   "outputs": [],
   "source": [
    "def similar(a, b):\n",
    "    return SequenceMatcher(None, a, b).ratio()"
   ]
  },
  {
   "cell_type": "code",
   "execution_count": 91,
   "metadata": {
    "collapsed": false
   },
   "outputs": [],
   "source": [
    "count = 0\n",
    "fish_changes = []\n",
    "for i in range(len(fish_list)):\n",
    "    for j in range(i+1, len(fish_list)):\n",
    "        if fish_list[i] ==  fish_list[j]:\n",
    "            continue\n",
    "        if similar(fish_list[i], fish_list[j]) > 0.85:\n",
    "            fish_changes.append([fish_list[i], fish_list[j]])\n",
    "            if len(fish_list[i]) < len(fish_list[j]):\n",
    "                fish_list[j] = fish_list[i]\n",
    "            else:\n",
    "                fish_list[i] = fish_list[j]"
   ]
  },
  {
   "cell_type": "code",
   "execution_count": 92,
   "metadata": {
    "collapsed": true
   },
   "outputs": [],
   "source": [
    "second_set = set(fish_list)"
   ]
  },
  {
   "cell_type": "code",
   "execution_count": 93,
   "metadata": {
    "collapsed": false
   },
   "outputs": [
    {
     "data": {
      "text/plain": [
       "194"
      ]
     },
     "execution_count": 93,
     "metadata": {},
     "output_type": "execute_result"
    }
   ],
   "source": [
    "len(first_set)"
   ]
  },
  {
   "cell_type": "code",
   "execution_count": 94,
   "metadata": {
    "collapsed": false
   },
   "outputs": [
    {
     "data": {
      "text/plain": [
       "152"
      ]
     },
     "execution_count": 94,
     "metadata": {},
     "output_type": "execute_result"
    }
   ],
   "source": [
    "len(second_set)"
   ]
  },
  {
   "cell_type": "code",
   "execution_count": 95,
   "metadata": {
    "collapsed": false
   },
   "outputs": [
    {
     "data": {
      "text/plain": [
       "898"
      ]
     },
     "execution_count": 95,
     "metadata": {},
     "output_type": "execute_result"
    }
   ],
   "source": [
    "len(fish_list)"
   ]
  },
  {
   "cell_type": "code",
   "execution_count": 96,
   "metadata": {
    "collapsed": false
   },
   "outputs": [],
   "source": [
    "name_changes = {'1 oyster toadfish caught in traffic cone' : 'oyster toadfish', '20 ctenophores': 'ctenophore',\n",
    "               'atlantic silverside menidia menidia': 'atlantic silverside','atlanticsilverside': 'atlantic silverside',\n",
    "               'blackfish tautog': 'tautog', 'blue muscle': 'blue mussel', 'bluefish juvenile': 'bluefish',\n",
    "               'comb jellies': 'comb jelly','comb jellies ctenophores': 'comb jelly','common shore shrimp': 'shore shrimp',\n",
    "               'common spider crab': 'spider crab', 'bluecrab': 'blue crab', 'crab blue crab':'blue crab', \n",
    "               'juvenille stripped bass': 'striped bass', 'jvvenilee striped buss': 'striped bass', 'taotog': 'tautog',\n",
    "               'tautogblackfish': 'tautog', 'the cutest northern puffer ever':'northern puffer','window pain':'windowpane flounder',\n",
    "               'true jellies': 'jelly fish', 'true jelly': 'jelly fish', 'true jelly fish': 'jelly fish', 'sea squirtsolitary tunicate': 'sea squirt',\n",
    "               'oyster drill': 'oyster drill snail', 'green crab carcinus maenas': 'green crab','green crab european':'green crab',\n",
    "               'porgyscup': 'porgy', 'norther puffer': 'northern puffer', 'norther pipefish': 'northern pipefish', 'ctenophore':'comb jelly',\n",
    "                'ghost shrimp':'glass shrimp','glass shrimp shore shrimp': 'glass shrimp', 'golden star colonial tunicate': 'golden star tunicate',\n",
    "               'lions mane jellyfish cyanea capillata': 'lions mane jellyfish', 'muslces':'mussel', 'pipefish syngnathinae': 'northern pipefish',\n",
    "               \"porgies\":\"porgy\", \"sea horse hippocampus\": \"seahorse\", \"sea horse\": \"seahorse\", 'winter flounder righteye': 'winter flounder',\n",
    "               'shrimp seven spine': 'seven spine shrimp', 'star tunicate':'golden star tunicate', 'seven spine shrimp': 'sand shrimp',\n",
    "               'puffer': 'northern puffer', 'northern sea robin': 'sea robin', 'herring spp pre metamorph': 'herring', 'grubby sculpin family': 'grubby',\n",
    "               \"blue back\": \"blueback herring\", \"anchovy\": \"bay anchovy\", \"decoration crab\": \"spider crab\", \"flatfish\": \"unidentified flatfish\",\"flounder\":\"unidentified flatfish\",\n",
    "               \"flounder righteye\": \"winter flounder\", \"glass shrimp\": \"shore shrimp\", \"grass shrimp\": \"sand shrimp\",\"grubby sculpin family\": \"grubby\",\n",
    "               \"hermit crab\": \"unidentified hermit crab\", \"herring\": \"unidentified herring\", \"herring spp pre metamorph\":\"unidentified herring\",\n",
    "               \"hydra medusa\": \"hydrozoa\", \"hydroid\": \"hydrozoa\", \"hydromedusae\": \"hydrozoa\", \"jelly fish\": \"unidentified jelly fish\", \"menhaden\": \"atlantic menhaden\",\n",
    "               \"mussel\": \"unidentified mussel\", \"oyster\":\"eastern oyster\", \"pipefish\":\"northern pipefish\", \"poly worm\": \"sand worm\", \"sea bass\": \"black sea bass\",\n",
    "               \"sea robin\": \"northern sea robin\", \"sea snail\": \"unidentified sea snail\", \"seahorse\": \"northern seahorse\", \"shrimp\": \"unidentified shrimp\",\n",
    "               \"shrimp shore and mud\": \"unidentified shrimp\", \"silverside\": \"atlantic silverside\", \"snail\": \"unidentified snail\",\"snail eggs\": \"unidentified snail eggs\",\n",
    "               \"sponge\": \"unidentified sponge\", \"tunicates\": \"tunicate\", \"tunicate sponge\": \"tunicate\"}"
   ]
  },
  {
   "cell_type": "code",
   "execution_count": 97,
   "metadata": {
    "collapsed": true
   },
   "outputs": [],
   "source": [
    "for i in range(len(fish_list)):\n",
    "    if fish_list[i] in name_changes:\n",
    "        fish_list[i] = name_changes[fish_list[i]]"
   ]
  },
  {
   "cell_type": "code",
   "execution_count": 98,
   "metadata": {
    "collapsed": false
   },
   "outputs": [
    {
     "data": {
      "text/plain": [
       "101"
      ]
     },
     "execution_count": 98,
     "metadata": {},
     "output_type": "execute_result"
    }
   ],
   "source": [
    "len(list(set(fish_list)))"
   ]
  },
  {
   "cell_type": "code",
   "execution_count": 99,
   "metadata": {
    "collapsed": false
   },
   "outputs": [
    {
     "data": {
      "text/plain": [
       "{'alewife',\n",
       " 'american eel',\n",
       " 'american shad',\n",
       " 'amphipod',\n",
       " 'anemone',\n",
       " 'asian shore crab',\n",
       " 'atlantic herring',\n",
       " 'atlantic menhaden',\n",
       " 'atlantic silverside',\n",
       " 'atlantic tomcod',\n",
       " 'bay anchovy',\n",
       " 'black fingered mud crab',\n",
       " 'black sea bass',\n",
       " 'blue crab',\n",
       " 'blue mussel',\n",
       " 'blueback herring',\n",
       " 'bluefish',\n",
       " 'bluespotted cornetfish',\n",
       " 'box crab',\n",
       " 'clam worm probably nereis spp',\n",
       " 'clams',\n",
       " 'colonial tunicate',\n",
       " 'comb jelly',\n",
       " 'ctenophore',\n",
       " 'cunner',\n",
       " 'eastern oyster',\n",
       " 'glass shrimp',\n",
       " 'golden star tunicate',\n",
       " 'green crab',\n",
       " 'grubby',\n",
       " 'hemigraphis molt',\n",
       " 'hogchoker',\n",
       " 'hydrozoa',\n",
       " 'isopod',\n",
       " 'jelly fish',\n",
       " 'lady crab',\n",
       " 'lions mane jellyfish',\n",
       " 'mantis shrimp',\n",
       " 'mole crab',\n",
       " 'moon jelly',\n",
       " 'mud crab',\n",
       " 'mud snail',\n",
       " 'mussel',\n",
       " 'naked goby',\n",
       " 'northern kingfish',\n",
       " 'northern pipefish',\n",
       " 'northern puffer',\n",
       " 'northern sea robin',\n",
       " 'northern stargazer',\n",
       " 'oyster drill snail',\n",
       " 'oyster shell',\n",
       " 'oyster toadfish',\n",
       " 'porgy',\n",
       " 'red beard sponge',\n",
       " 'ribbed mussel',\n",
       " 'sand shrimp',\n",
       " 'sand worm',\n",
       " 'sandworm',\n",
       " 'scud',\n",
       " 'sea robin',\n",
       " 'sea squirt',\n",
       " 'seaboard goby',\n",
       " 'seahorse',\n",
       " 'sennet',\n",
       " 'seven spine shrimp',\n",
       " 'sheepshead porgy',\n",
       " 'shore shrimp',\n",
       " 'silver perch',\n",
       " 'skillet fish',\n",
       " 'slipper shell',\n",
       " 'slipper snail shell',\n",
       " 'species caught',\n",
       " 'spider crab',\n",
       " 'spotted hake',\n",
       " 'spotted whiff',\n",
       " 'striped bass',\n",
       " 'striped searobin',\n",
       " 'summer flounder',\n",
       " 'tautog',\n",
       " 'tube worm',\n",
       " 'tunicate',\n",
       " 'two hemigrapsis molts were found on the beach',\n",
       " 'unidentified fish',\n",
       " 'unidentified flatfish',\n",
       " 'unidentified hermit crab',\n",
       " 'unidentified herring',\n",
       " 'unidentified jelly fish',\n",
       " 'unidentified mussel',\n",
       " 'unidentified sea snail',\n",
       " 'unidentified shrimp',\n",
       " 'unidentified snail',\n",
       " 'unidentified snail eggs',\n",
       " 'unidentified sponge',\n",
       " 'western mosquito fish',\n",
       " 'whelk snail',\n",
       " 'white fingered mud crab',\n",
       " 'white mullet',\n",
       " 'white perch',\n",
       " 'windowpane flounder',\n",
       " 'winter flounder',\n",
       " 'wrasel sea bass'}"
      ]
     },
     "execution_count": 99,
     "metadata": {},
     "output_type": "execute_result"
    }
   ],
   "source": [
    "set(fish_list)"
   ]
  },
  {
   "cell_type": "code",
   "execution_count": 100,
   "metadata": {
    "collapsed": true
   },
   "outputs": [],
   "source": [
    "remove_row_list = ['two hemigrapsis molts were found on the beach', 'species caught', 'slipper snail shell', 'slipper snail shell', 'slipper shell', 'oyster shell','hemigraphis molt']"
   ]
  },
  {
   "cell_type": "code",
   "execution_count": 101,
   "metadata": {
    "collapsed": false
   },
   "outputs": [],
   "source": [
    "#fish_list\n",
    "fish_df[['Species']].head()\n",
    "fish_df.drop('Species', axis = 1, inplace = True)"
   ]
  },
  {
   "cell_type": "code",
   "execution_count": 102,
   "metadata": {
    "collapsed": false
   },
   "outputs": [],
   "source": [
    "fish_df['Species'] =  fish_list"
   ]
  },
  {
   "cell_type": "code",
   "execution_count": 103,
   "metadata": {
    "collapsed": false
   },
   "outputs": [],
   "source": [
    "fish_df = fish_df[fish_df['Species'].isin(remove_row_list) == False]"
   ]
  },
  {
   "cell_type": "code",
   "execution_count": 104,
   "metadata": {
    "collapsed": false
   },
   "outputs": [
    {
     "data": {
      "text/plain": [
       "{'alewife',\n",
       " 'american eel',\n",
       " 'american shad',\n",
       " 'amphipod',\n",
       " 'anemone',\n",
       " 'asian shore crab',\n",
       " 'atlantic herring',\n",
       " 'atlantic menhaden',\n",
       " 'atlantic silverside',\n",
       " 'atlantic tomcod',\n",
       " 'bay anchovy',\n",
       " 'black fingered mud crab',\n",
       " 'black sea bass',\n",
       " 'blue crab',\n",
       " 'blue mussel',\n",
       " 'blueback herring',\n",
       " 'bluefish',\n",
       " 'bluespotted cornetfish',\n",
       " 'box crab',\n",
       " 'clam worm probably nereis spp',\n",
       " 'clams',\n",
       " 'colonial tunicate',\n",
       " 'comb jelly',\n",
       " 'ctenophore',\n",
       " 'cunner',\n",
       " 'eastern oyster',\n",
       " 'glass shrimp',\n",
       " 'golden star tunicate',\n",
       " 'green crab',\n",
       " 'grubby',\n",
       " 'hogchoker',\n",
       " 'hydrozoa',\n",
       " 'isopod',\n",
       " 'jelly fish',\n",
       " 'lady crab',\n",
       " 'lions mane jellyfish',\n",
       " 'mantis shrimp',\n",
       " 'mole crab',\n",
       " 'moon jelly',\n",
       " 'mud crab',\n",
       " 'mud snail',\n",
       " 'mussel',\n",
       " 'naked goby',\n",
       " 'northern kingfish',\n",
       " 'northern pipefish',\n",
       " 'northern puffer',\n",
       " 'northern sea robin',\n",
       " 'northern stargazer',\n",
       " 'oyster drill snail',\n",
       " 'oyster toadfish',\n",
       " 'porgy',\n",
       " 'red beard sponge',\n",
       " 'ribbed mussel',\n",
       " 'sand shrimp',\n",
       " 'sand worm',\n",
       " 'sandworm',\n",
       " 'scud',\n",
       " 'sea robin',\n",
       " 'sea squirt',\n",
       " 'seaboard goby',\n",
       " 'seahorse',\n",
       " 'sennet',\n",
       " 'seven spine shrimp',\n",
       " 'sheepshead porgy',\n",
       " 'shore shrimp',\n",
       " 'silver perch',\n",
       " 'skillet fish',\n",
       " 'spider crab',\n",
       " 'spotted hake',\n",
       " 'spotted whiff',\n",
       " 'striped bass',\n",
       " 'striped searobin',\n",
       " 'summer flounder',\n",
       " 'tautog',\n",
       " 'tube worm',\n",
       " 'tunicate',\n",
       " 'unidentified fish',\n",
       " 'unidentified flatfish',\n",
       " 'unidentified hermit crab',\n",
       " 'unidentified herring',\n",
       " 'unidentified jelly fish',\n",
       " 'unidentified mussel',\n",
       " 'unidentified sea snail',\n",
       " 'unidentified shrimp',\n",
       " 'unidentified snail',\n",
       " 'unidentified snail eggs',\n",
       " 'unidentified sponge',\n",
       " 'western mosquito fish',\n",
       " 'whelk snail',\n",
       " 'white fingered mud crab',\n",
       " 'white mullet',\n",
       " 'white perch',\n",
       " 'windowpane flounder',\n",
       " 'winter flounder',\n",
       " 'wrasel sea bass'}"
      ]
     },
     "execution_count": 104,
     "metadata": {},
     "output_type": "execute_result"
    }
   ],
   "source": [
    "set(list(fish_df['Species']))"
   ]
  },
  {
   "cell_type": "code",
   "execution_count": 105,
   "metadata": {
    "collapsed": true
   },
   "outputs": [],
   "source": [
    "fish_df.to_csv('Created CSVs/Non_Combined_Name_Corrected_All_Seins.csv')"
   ]
  },
  {
   "cell_type": "code",
   "execution_count": null,
   "metadata": {
    "collapsed": true
   },
   "outputs": [],
   "source": []
  },
  {
   "cell_type": "markdown",
   "metadata": {},
   "source": []
  },
  {
   "cell_type": "code",
   "execution_count": null,
   "metadata": {
    "collapsed": true
   },
   "outputs": [],
   "source": []
  }
 ],
 "metadata": {
  "anaconda-cloud": {},
  "kernelspec": {
   "display_name": "Python [conda root]",
   "language": "python",
   "name": "conda-root-py"
  },
  "language_info": {
   "codemirror_mode": {
    "name": "ipython",
    "version": 2
   },
   "file_extension": ".py",
   "mimetype": "text/x-python",
   "name": "python",
   "nbconvert_exporter": "python",
   "pygments_lexer": "ipython2",
   "version": "2.7.12"
  }
 },
 "nbformat": 4,
 "nbformat_minor": 1
}
