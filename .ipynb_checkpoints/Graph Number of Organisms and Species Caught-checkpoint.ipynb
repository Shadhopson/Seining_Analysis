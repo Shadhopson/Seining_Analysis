{
 "cells": [
  {
   "cell_type": "code",
   "execution_count": 115,
   "metadata": {
    "collapsed": true
   },
   "outputs": [],
   "source": [
    "import pandas as pd\n",
    "import datetime\n",
    "import seaborn as sns\n",
    "import numpy as np"
   ]
  },
  {
   "cell_type": "code",
   "execution_count": 116,
   "metadata": {
    "collapsed": true
   },
   "outputs": [],
   "source": [
    "fish_df = pd.read_csv('Name_Corrected_All_Seins.csv')"
   ]
  },
  {
   "cell_type": "code",
   "execution_count": 117,
   "metadata": {
    "collapsed": false
   },
   "outputs": [
    {
     "data": {
      "text/html": [
       "<div>\n",
       "<table border=\"1\" class=\"dataframe\">\n",
       "  <thead>\n",
       "    <tr style=\"text-align: right;\">\n",
       "      <th></th>\n",
       "      <th>Unnamed: 0</th>\n",
       "      <th>Date</th>\n",
       "      <th>Number Caught</th>\n",
       "      <th>Species</th>\n",
       "    </tr>\n",
       "  </thead>\n",
       "  <tbody>\n",
       "    <tr>\n",
       "      <th>0</th>\n",
       "      <td>0</td>\n",
       "      <td>2008-09-13 00:00:00</td>\n",
       "      <td>NaN</td>\n",
       "      <td>tunicates</td>\n",
       "    </tr>\n",
       "    <tr>\n",
       "      <th>1</th>\n",
       "      <td>1</td>\n",
       "      <td>2008-09-13 00:00:00</td>\n",
       "      <td>NaN</td>\n",
       "      <td>shrimp</td>\n",
       "    </tr>\n",
       "    <tr>\n",
       "      <th>2</th>\n",
       "      <td>2</td>\n",
       "      <td>2008-09-13 00:00:00</td>\n",
       "      <td>NaN</td>\n",
       "      <td>shrimp</td>\n",
       "    </tr>\n",
       "    <tr>\n",
       "      <th>3</th>\n",
       "      <td>3</td>\n",
       "      <td>2008-09-13 00:00:00</td>\n",
       "      <td>NaN</td>\n",
       "      <td>shrimp</td>\n",
       "    </tr>\n",
       "    <tr>\n",
       "      <th>4</th>\n",
       "      <td>4</td>\n",
       "      <td>2008-09-13 00:00:00</td>\n",
       "      <td>NaN</td>\n",
       "      <td>hermit crab</td>\n",
       "    </tr>\n",
       "  </tbody>\n",
       "</table>\n",
       "</div>"
      ],
      "text/plain": [
       "   Unnamed: 0                 Date Number Caught      Species\n",
       "0           0  2008-09-13 00:00:00           NaN    tunicates\n",
       "1           1  2008-09-13 00:00:00           NaN       shrimp\n",
       "2           2  2008-09-13 00:00:00           NaN       shrimp\n",
       "3           3  2008-09-13 00:00:00           NaN       shrimp\n",
       "4           4  2008-09-13 00:00:00           NaN  hermit crab"
      ]
     },
     "execution_count": 117,
     "metadata": {},
     "output_type": "execute_result"
    }
   ],
   "source": [
    "fish_df.head()"
   ]
  },
  {
   "cell_type": "code",
   "execution_count": 118,
   "metadata": {
    "collapsed": false
   },
   "outputs": [],
   "source": [
    "fish_df = fish_df.drop('Unnamed: 0', axis= 1)"
   ]
  },
  {
   "cell_type": "code",
   "execution_count": 119,
   "metadata": {
    "collapsed": false
   },
   "outputs": [],
   "source": [
    "fish_df['Date'] = pd.to_datetime(fish_df['Date'])"
   ]
  },
  {
   "cell_type": "code",
   "execution_count": 120,
   "metadata": {
    "collapsed": false
   },
   "outputs": [],
   "source": [
    "year_group =fish_df.groupby(fish_df['Date'].map(lambda x: x.year))"
   ]
  },
  {
   "cell_type": "code",
   "execution_count": 121,
   "metadata": {
    "collapsed": true
   },
   "outputs": [],
   "source": [
    "yearly_distinct_fish_count = {'year_2008':0, 'year_2009':0, 'year_2010':0,'year_2011':0, 'year_2012':0, 'year_2013':0, 'year_2014':0,\n",
    "                              'year_2015':0,'year_2016':0, 'year_2017':0}"
   ]
  },
  {
   "cell_type": "code",
   "execution_count": 122,
   "metadata": {
    "collapsed": false
   },
   "outputs": [],
   "source": [
    "years = ['year_2008', 'year_2009', 'year_2010','year_2011', 'year_2012', 'year_2013', 'year_2014',\n",
    "                              'year_2015','year_2016', 'year_2017']"
   ]
  },
  {
   "cell_type": "code",
   "execution_count": 123,
   "metadata": {
    "collapsed": true
   },
   "outputs": [],
   "source": [
    "yearly_fish_total = {}"
   ]
  },
  {
   "cell_type": "code",
   "execution_count": 124,
   "metadata": {
    "collapsed": false
   },
   "outputs": [
    {
     "data": {
      "text/plain": [
       "1345"
      ]
     },
     "execution_count": 124,
     "metadata": {},
     "output_type": "execute_result"
    }
   ],
   "source": [
    "sum([int(filter(lambda y: y.isdigit(), x)) for x in list(year_group.get_group(2011)['Number Caught'])])"
   ]
  },
  {
   "cell_type": "code",
   "execution_count": 125,
   "metadata": {
    "collapsed": false
   },
   "outputs": [
    {
     "data": {
      "text/plain": [
       "1384"
      ]
     },
     "execution_count": 125,
     "metadata": {},
     "output_type": "execute_result"
    }
   ],
   "source": [
    "sum([int('0'+filter(lambda y: y.isdigit(), x)) for x in list(year_group.get_group(2012)['Number Caught'])])"
   ]
  },
  {
   "cell_type": "code",
   "execution_count": 126,
   "metadata": {
    "collapsed": false
   },
   "outputs": [
    {
     "data": {
      "text/plain": [
       "685"
      ]
     },
     "execution_count": 126,
     "metadata": {},
     "output_type": "execute_result"
    }
   ],
   "source": [
    "sum([int('0'+filter(lambda y: y.isdigit(), x)) for x in list(year_group.get_group(2013)['Number Caught'])])"
   ]
  },
  {
   "cell_type": "code",
   "execution_count": 127,
   "metadata": {
    "collapsed": false
   },
   "outputs": [
    {
     "data": {
      "text/plain": [
       "141"
      ]
     },
     "execution_count": 127,
     "metadata": {},
     "output_type": "execute_result"
    }
   ],
   "source": [
    "sum([int('0'+filter(lambda y: y.isdigit(), x)) for x in list(year_group.get_group(2014)['Number Caught']) if type(x) is str])"
   ]
  },
  {
   "cell_type": "code",
   "execution_count": 128,
   "metadata": {
    "collapsed": false
   },
   "outputs": [
    {
     "data": {
      "text/plain": [
       "1796"
      ]
     },
     "execution_count": 128,
     "metadata": {},
     "output_type": "execute_result"
    }
   ],
   "source": [
    "sum([int('0'+filter(lambda y: y.isdigit(), x)) for x in list(year_group.get_group(2015)['Number Caught']) if type(x) is str])"
   ]
  },
  {
   "cell_type": "code",
   "execution_count": 129,
   "metadata": {
    "collapsed": false
   },
   "outputs": [
    {
     "data": {
      "text/plain": [
       "1259"
      ]
     },
     "execution_count": 129,
     "metadata": {},
     "output_type": "execute_result"
    }
   ],
   "source": [
    "sum([int('0'+filter(lambda y: y.isdigit(), x)) for x in list(year_group.get_group(2016)['Number Caught']) if type(x) is str])"
   ]
  },
  {
   "cell_type": "code",
   "execution_count": 130,
   "metadata": {
    "collapsed": false
   },
   "outputs": [
    {
     "data": {
      "text/plain": [
       "639"
      ]
     },
     "execution_count": 130,
     "metadata": {},
     "output_type": "execute_result"
    }
   ],
   "source": [
    "sum([int('0'+filter(lambda y: y.isdigit(), x)) for x in list(year_group.get_group(2017)['Number Caught']) if type(x) is str])"
   ]
  },
  {
   "cell_type": "code",
   "execution_count": 131,
   "metadata": {
    "collapsed": false
   },
   "outputs": [],
   "source": [
    "curr_year = 2008\n",
    "for i in range(10):\n",
    "    str_year = 'year_'+str(curr_year)\n",
    "    fish_amount = len(set(list(year_group.get_group(curr_year)['Species'])))\n",
    "    fish_count = len(list(year_group.get_group(curr_year)['Species']))\n",
    "    yearly_distinct_fish_count[str_year] = fish_amount\n",
    "    yearly_fish_total[str_year] = fish_count\n",
    "    curr_year += 1\n",
    "                                   \n"
   ]
  },
  {
   "cell_type": "code",
   "execution_count": 132,
   "metadata": {
    "collapsed": true
   },
   "outputs": [],
   "source": [
    "import matplotlib.pyplot as plt"
   ]
  },
  {
   "cell_type": "code",
   "execution_count": 133,
   "metadata": {
    "collapsed": true
   },
   "outputs": [],
   "source": [
    "%matplotlib inline"
   ]
  },
  {
   "cell_type": "code",
   "execution_count": 134,
   "metadata": {
    "collapsed": true
   },
   "outputs": [],
   "source": [
    "fish_caught = []\n",
    "fish_count = []\n",
    "for year in years:\n",
    "    fish_caught.append(yearly_distinct_fish_count[year])\n",
    "    fish_count.append(yearly_fish_total[year])\n",
    "    "
   ]
  },
  {
   "cell_type": "code",
   "execution_count": 135,
   "metadata": {
    "collapsed": false
   },
   "outputs": [
    {
     "name": "stdout",
     "output_type": "stream",
     "text": [
      "[2, 6, 1, 2, 2, 3, 3, 27, 9, 1, 2, 1, 6, 1, 2, 68, 4, 36, 4, 45, 1, 2, 2, 1, 73, 1, 2, 3, 1, 1, 20, 1, 6, 9, 1, 1, 1, 37, 2, 2, 1, 2, 2, 1, 1, 1, 4, 5, 2, 1, 8, 1, 2, 12, 1, 3, 3, 1, 5, 18, 60, 1, 1, 30, 1, 15, 10, 4, 1, 1, 5, 1, 20, 1, 5, 2, 40, 1, 5, 10, 10, 3, 2, 20, 1, 1, 1, 6, 1, 20, 1, 0, 10, 20, 1, 1, 0, 75, 3, 45, 2, 2, 2, 75, 1, 50, 1, 50, 30, 1, 3, 0, 1, 6, 10, 3, 25, 2, 1, 2, 1, 4, 1, 1, 0, 12, 2, 5, 2, 20, 2, 2, 2, 15, 1, 1, 2, 50, 50, 4, 70, 120, 20, 10, 10, 7, 4, 1, 50, 1, 7, 6, 2, 1, 15, 1, 2, 7, 6, 5, 1, 1, 1, 1, 1, 1, 1, 7, 2, 1, 1, 2, 1, 1, 1, 3, 3, 23, 6, 1, 1, 1, 5, 4, 8, 2, 1, 1, 5, 3, 2, 2, 19, 2, 2, 2, 1, 50, 1, 1, 25, 1, 3, 1, 14, 20, 50, 1, 2, 35, 10, 20, 1, 3, 3, 20, 3, 1, 10, 4, 1, 1, 1, 60, 10, 150, 10, 50, 10, 30, 41, 1, 4, 20, 1, 10, 10, 10, 10, 80, 10, 10, 30, 20, 10, 10, 10, 10, 10, 10, 1, 1, 1, 1, 1, 15, 1, 1, 1, 20, 50, 1, 30, 15, 1, 2, 20, 2, 1, 1, 4, 1, 1, 20, 1, 5, 15, 7, 10, 20, 8, 1, 17, 100, 25, 100, 1, 5, 10, 1, 100, 1, 1, 2, 2, 2, 1, 2, 1, 50, 5, 9, 8, 2, 1, 2, 3, 2, 0, 1, 2, 1, 1, 1, 1, 5, 1, 5, 8, 1, 3, 1, 11, 6, 1, 1, 1, 1, 3, 15, 10, 4, 3, 23, 3, 1, 1, 1, 2, 3, 9, 1, 1, 1, 8, 1, 1, 6, 1, 1, 1015, 4, 4, 5, 1, 2, 16, 1, 1, 4, 9, 1, 23, 1, 1, 1, 1, 1, 9, 1, 2, 2, 5, 1, 2, 12, 2, 1, 4, 1, 1, 2, 1, 3, 3, 10, 40, 15, 1, 1, 4, 1, 4, 8, 140, 12, 2, 2, 4, 1, 2, 20, 1, 23, 201, 2, 1, 1, 2, 1, 2, 2, 73, 1, 2, 1, 1, 8, 1, 5, 3, 1, 1, 6, 1, 1, 8, 11, 1, 4, 1, 1, 3, 2, 20, 6, 50, 2, 1, 1, 5, 1, 2, 25, 1, 2, 1, 72, 80, 1, 11, 2, 7, 1, 2, 4, 1, 8, 11, 2, 1, 75, 4, 1, 1, 2, 1, 200, 1, 1, 1, 10, 6, 1, 28, 1, 1, 1, 1, 1, 1, 1, 1, 6, 1, 45, 1, 1, 2, 1, 2, 1, 1, 1, 2, 2, 10, 1, 20, 14, 1, 1, 1, 3, 2, 1, 1, 1, 50, 11, 5, 6, 1, 1, 1, 1, 1, 1, 1, 1, 1, 25, 10, 2, 50, 2, 1, 3, 7, 1, 6, 1, 1, 0, 0, 1, 22, 1, 1, 1, 0, 2, 4, 2, 1, 1, 12, 21, 32, 4, 3, 2, 0, 23, 1, 63, 1, 1, 1, 0, 1, 1, 1, 0, 3, 2, 2, 0, 0, 1, 0, 1, 1, 1, 21, 2, 3, 1, 0, 4, 1, 0, 1, 10, 2, 2, 1, 1, 1, 0, 1, 14, 1, 1, 2, 3, 1, 1, 2, 0, 38, 20, 1, 1, 2, 16, 1, 1, 2, 5, 1, 2, 3, 2, 7, 6, 7, 2, 1, 0, 0, 1, 20, 23, 2, 1, 1, 2, 1, 1, 25, 2, 5, 1, 1, 1, 0, 1, 1, 4, 3, 2, 1, 1, 5, 1, 0, 2, 2, 1, 5, 1, 1, 5, 5, 4, 1, 9, 1, 8, 1, 50, 2, 1, 3, 1, 1, 2, 2, 1, 1, 8, 1, 2, 2, 1, 1, 9, 2, 0, 12, 4, 1, 4, 34, 1, 1, 1, 2, 3, 1, 7, 3, 0, 43, 8, 1, 8, 1, 16, 6, 1, 10, 2, 1, 3, 1, 4, 2, 5, 2, 7, 1, 6, 1, 1, 5, 1, 12, 1, 1, 0, 2, 0, 14, 4, 9]\n"
     ]
    }
   ],
   "source": [
    "fish_df.head()\n",
    "num_caught_list = []\n",
    "summed_df = fish_df[['Date','Number Caught']].dropna()\n",
    "for val in list(summed_df['Number Caught']):\n",
    "    num_caught_list.append(int('0'+filter(lambda x: x.isdigit(), val)))\n",
    "    \n",
    "print num_caught_list\n",
    "summed_df['Number Caught'] = num_caught_list"
   ]
  },
  {
   "cell_type": "code",
   "execution_count": 136,
   "metadata": {
    "collapsed": false
   },
   "outputs": [],
   "source": [
    "summed_df =summed_df[['Date', 'Number Caught']].groupby('Date').sum()"
   ]
  },
  {
   "cell_type": "code",
   "execution_count": 137,
   "metadata": {
    "collapsed": false
   },
   "outputs": [
    {
     "data": {
      "text/html": [
       "<div>\n",
       "<table border=\"1\" class=\"dataframe\">\n",
       "  <thead>\n",
       "    <tr style=\"text-align: right;\">\n",
       "      <th></th>\n",
       "      <th>Number Caught</th>\n",
       "    </tr>\n",
       "    <tr>\n",
       "      <th>Date</th>\n",
       "      <th></th>\n",
       "    </tr>\n",
       "  </thead>\n",
       "  <tbody>\n",
       "    <tr>\n",
       "      <th>2011-05-10</th>\n",
       "      <td>16</td>\n",
       "    </tr>\n",
       "    <tr>\n",
       "      <th>2011-05-14</th>\n",
       "      <td>124</td>\n",
       "    </tr>\n",
       "    <tr>\n",
       "      <th>2011-05-20</th>\n",
       "      <td>91</td>\n",
       "    </tr>\n",
       "    <tr>\n",
       "      <th>2011-05-28</th>\n",
       "      <td>81</td>\n",
       "    </tr>\n",
       "    <tr>\n",
       "      <th>2011-06-11</th>\n",
       "      <td>76</td>\n",
       "    </tr>\n",
       "    <tr>\n",
       "      <th>2011-06-14</th>\n",
       "      <td>23</td>\n",
       "    </tr>\n",
       "    <tr>\n",
       "      <th>2011-06-26</th>\n",
       "      <td>32</td>\n",
       "    </tr>\n",
       "    <tr>\n",
       "      <th>2011-07-10</th>\n",
       "      <td>147</td>\n",
       "    </tr>\n",
       "    <tr>\n",
       "      <th>2011-07-11</th>\n",
       "      <td>27</td>\n",
       "    </tr>\n",
       "    <tr>\n",
       "      <th>2011-07-12</th>\n",
       "      <td>73</td>\n",
       "    </tr>\n",
       "    <tr>\n",
       "      <th>2011-07-13</th>\n",
       "      <td>28</td>\n",
       "    </tr>\n",
       "    <tr>\n",
       "      <th>2011-08-02</th>\n",
       "      <td>28</td>\n",
       "    </tr>\n",
       "    <tr>\n",
       "      <th>2011-08-09</th>\n",
       "      <td>32</td>\n",
       "    </tr>\n",
       "    <tr>\n",
       "      <th>2011-08-10</th>\n",
       "      <td>129</td>\n",
       "    </tr>\n",
       "    <tr>\n",
       "      <th>2011-09-10</th>\n",
       "      <td>212</td>\n",
       "    </tr>\n",
       "    <tr>\n",
       "      <th>2011-09-20</th>\n",
       "      <td>68</td>\n",
       "    </tr>\n",
       "    <tr>\n",
       "      <th>2011-09-26</th>\n",
       "      <td>158</td>\n",
       "    </tr>\n",
       "    <tr>\n",
       "      <th>2012-04-25</th>\n",
       "      <td>230</td>\n",
       "    </tr>\n",
       "    <tr>\n",
       "      <th>2012-05-16</th>\n",
       "      <td>79</td>\n",
       "    </tr>\n",
       "    <tr>\n",
       "      <th>2012-05-19</th>\n",
       "      <td>25</td>\n",
       "    </tr>\n",
       "    <tr>\n",
       "      <th>2012-05-30</th>\n",
       "      <td>13</td>\n",
       "    </tr>\n",
       "    <tr>\n",
       "      <th>2012-05-31</th>\n",
       "      <td>16</td>\n",
       "    </tr>\n",
       "    <tr>\n",
       "      <th>2012-06-01</th>\n",
       "      <td>8</td>\n",
       "    </tr>\n",
       "    <tr>\n",
       "      <th>2012-06-02</th>\n",
       "      <td>68</td>\n",
       "    </tr>\n",
       "    <tr>\n",
       "      <th>2012-06-14</th>\n",
       "      <td>26</td>\n",
       "    </tr>\n",
       "    <tr>\n",
       "      <th>2012-07-31</th>\n",
       "      <td>81</td>\n",
       "    </tr>\n",
       "    <tr>\n",
       "      <th>2012-08-14</th>\n",
       "      <td>86</td>\n",
       "    </tr>\n",
       "    <tr>\n",
       "      <th>2012-08-15</th>\n",
       "      <td>68</td>\n",
       "    </tr>\n",
       "    <tr>\n",
       "      <th>2012-09-15</th>\n",
       "      <td>47</td>\n",
       "    </tr>\n",
       "    <tr>\n",
       "      <th>2012-09-27</th>\n",
       "      <td>320</td>\n",
       "    </tr>\n",
       "    <tr>\n",
       "      <th>...</th>\n",
       "      <td>...</td>\n",
       "    </tr>\n",
       "    <tr>\n",
       "      <th>2016-05-26</th>\n",
       "      <td>11</td>\n",
       "    </tr>\n",
       "    <tr>\n",
       "      <th>2016-05-31</th>\n",
       "      <td>88</td>\n",
       "    </tr>\n",
       "    <tr>\n",
       "      <th>2016-06-01</th>\n",
       "      <td>41</td>\n",
       "    </tr>\n",
       "    <tr>\n",
       "      <th>2016-06-04</th>\n",
       "      <td>202</td>\n",
       "    </tr>\n",
       "    <tr>\n",
       "      <th>2016-06-14</th>\n",
       "      <td>80</td>\n",
       "    </tr>\n",
       "    <tr>\n",
       "      <th>2016-06-15</th>\n",
       "      <td>206</td>\n",
       "    </tr>\n",
       "    <tr>\n",
       "      <th>2016-07-01</th>\n",
       "      <td>12</td>\n",
       "    </tr>\n",
       "    <tr>\n",
       "      <th>2016-07-13</th>\n",
       "      <td>35</td>\n",
       "    </tr>\n",
       "    <tr>\n",
       "      <th>2016-07-16</th>\n",
       "      <td>8</td>\n",
       "    </tr>\n",
       "    <tr>\n",
       "      <th>2016-07-28</th>\n",
       "      <td>57</td>\n",
       "    </tr>\n",
       "    <tr>\n",
       "      <th>2016-07-29</th>\n",
       "      <td>40</td>\n",
       "    </tr>\n",
       "    <tr>\n",
       "      <th>2016-08-12</th>\n",
       "      <td>75</td>\n",
       "    </tr>\n",
       "    <tr>\n",
       "      <th>2016-08-13</th>\n",
       "      <td>118</td>\n",
       "    </tr>\n",
       "    <tr>\n",
       "      <th>2016-09-18</th>\n",
       "      <td>56</td>\n",
       "    </tr>\n",
       "    <tr>\n",
       "      <th>2016-09-19</th>\n",
       "      <td>207</td>\n",
       "    </tr>\n",
       "    <tr>\n",
       "      <th>2016-09-25</th>\n",
       "      <td>23</td>\n",
       "    </tr>\n",
       "    <tr>\n",
       "      <th>2017-06-03</th>\n",
       "      <td>26</td>\n",
       "    </tr>\n",
       "    <tr>\n",
       "      <th>2017-06-09</th>\n",
       "      <td>82</td>\n",
       "    </tr>\n",
       "    <tr>\n",
       "      <th>2017-06-10</th>\n",
       "      <td>37</td>\n",
       "    </tr>\n",
       "    <tr>\n",
       "      <th>2017-06-18</th>\n",
       "      <td>51</td>\n",
       "    </tr>\n",
       "    <tr>\n",
       "      <th>2017-06-25</th>\n",
       "      <td>35</td>\n",
       "    </tr>\n",
       "    <tr>\n",
       "      <th>2017-07-06</th>\n",
       "      <td>13</td>\n",
       "    </tr>\n",
       "    <tr>\n",
       "      <th>2017-07-15</th>\n",
       "      <td>23</td>\n",
       "    </tr>\n",
       "    <tr>\n",
       "      <th>2017-07-19</th>\n",
       "      <td>89</td>\n",
       "    </tr>\n",
       "    <tr>\n",
       "      <th>2017-07-22</th>\n",
       "      <td>18</td>\n",
       "    </tr>\n",
       "    <tr>\n",
       "      <th>2017-08-02</th>\n",
       "      <td>24</td>\n",
       "    </tr>\n",
       "    <tr>\n",
       "      <th>2017-08-05</th>\n",
       "      <td>113</td>\n",
       "    </tr>\n",
       "    <tr>\n",
       "      <th>2017-08-20</th>\n",
       "      <td>71</td>\n",
       "    </tr>\n",
       "    <tr>\n",
       "      <th>2017-09-17</th>\n",
       "      <td>30</td>\n",
       "    </tr>\n",
       "    <tr>\n",
       "      <th>2017-10-07</th>\n",
       "      <td>27</td>\n",
       "    </tr>\n",
       "  </tbody>\n",
       "</table>\n",
       "<p>92 rows × 1 columns</p>\n",
       "</div>"
      ],
      "text/plain": [
       "            Number Caught\n",
       "Date                     \n",
       "2011-05-10             16\n",
       "2011-05-14            124\n",
       "2011-05-20             91\n",
       "2011-05-28             81\n",
       "2011-06-11             76\n",
       "2011-06-14             23\n",
       "2011-06-26             32\n",
       "2011-07-10            147\n",
       "2011-07-11             27\n",
       "2011-07-12             73\n",
       "2011-07-13             28\n",
       "2011-08-02             28\n",
       "2011-08-09             32\n",
       "2011-08-10            129\n",
       "2011-09-10            212\n",
       "2011-09-20             68\n",
       "2011-09-26            158\n",
       "2012-04-25            230\n",
       "2012-05-16             79\n",
       "2012-05-19             25\n",
       "2012-05-30             13\n",
       "2012-05-31             16\n",
       "2012-06-01              8\n",
       "2012-06-02             68\n",
       "2012-06-14             26\n",
       "2012-07-31             81\n",
       "2012-08-14             86\n",
       "2012-08-15             68\n",
       "2012-09-15             47\n",
       "2012-09-27            320\n",
       "...                   ...\n",
       "2016-05-26             11\n",
       "2016-05-31             88\n",
       "2016-06-01             41\n",
       "2016-06-04            202\n",
       "2016-06-14             80\n",
       "2016-06-15            206\n",
       "2016-07-01             12\n",
       "2016-07-13             35\n",
       "2016-07-16              8\n",
       "2016-07-28             57\n",
       "2016-07-29             40\n",
       "2016-08-12             75\n",
       "2016-08-13            118\n",
       "2016-09-18             56\n",
       "2016-09-19            207\n",
       "2016-09-25             23\n",
       "2017-06-03             26\n",
       "2017-06-09             82\n",
       "2017-06-10             37\n",
       "2017-06-18             51\n",
       "2017-06-25             35\n",
       "2017-07-06             13\n",
       "2017-07-15             23\n",
       "2017-07-19             89\n",
       "2017-07-22             18\n",
       "2017-08-02             24\n",
       "2017-08-05            113\n",
       "2017-08-20             71\n",
       "2017-09-17             30\n",
       "2017-10-07             27\n",
       "\n",
       "[92 rows x 1 columns]"
      ]
     },
     "execution_count": 137,
     "metadata": {},
     "output_type": "execute_result"
    }
   ],
   "source": [
    "summed_df"
   ]
  },
  {
   "cell_type": "code",
   "execution_count": 138,
   "metadata": {
    "collapsed": false
   },
   "outputs": [
    {
     "data": {
      "text/plain": [
       "<matplotlib.text.Text at 0xe0c52b0>"
      ]
     },
     "execution_count": 138,
     "metadata": {},
     "output_type": "execute_result"
    },
    {
     "data": {
      "image/png": "[encoded data removed]",
      "text/plain": [
       "<matplotlib.figure.Figure at 0xe110d68>"
      ]
     },
     "metadata": {},
     "output_type": "display_data"
    }
   ],
   "source": [
    "plt.bar( summed_df.index,summed_df['Number Caught'])\n",
    "plt.ylim(0,400)\n",
    "plt.title('Amount of Fish Caught Over Time')\n",
    "plt.xlabel('Date')\n",
    "plt.ylabel('Number of Animals Caught')"
   ]
  },
  {
   "cell_type": "code",
   "execution_count": 139,
   "metadata": {
    "collapsed": false
   },
   "outputs": [],
   "source": [
    "summed_df['Date'] = summed_df.index\n",
    "year_group_sum = summed_df.groupby(summed_df['Date'].map(lambda x: x.year))"
   ]
  },
  {
   "cell_type": "code",
   "execution_count": 140,
   "metadata": {
    "collapsed": false
   },
   "outputs": [],
   "source": [
    "year_group_sum =  year_group_sum.sum()"
   ]
  },
  {
   "cell_type": "code",
   "execution_count": 141,
   "metadata": {
    "collapsed": false
   },
   "outputs": [],
   "source": [
    "year_group_sum['Date'] = ['2011','2012','2013','2014','2015','2016','2017']"
   ]
  },
  {
   "cell_type": "code",
   "execution_count": 142,
   "metadata": {
    "collapsed": false
   },
   "outputs": [
    {
     "data": {
      "text/html": [
       "<div>\n",
       "<table border=\"1\" class=\"dataframe\">\n",
       "  <thead>\n",
       "    <tr style=\"text-align: right;\">\n",
       "      <th></th>\n",
       "      <th>Number Caught</th>\n",
       "      <th>Date</th>\n",
       "    </tr>\n",
       "    <tr>\n",
       "      <th>Date</th>\n",
       "      <th></th>\n",
       "      <th></th>\n",
       "    </tr>\n",
       "  </thead>\n",
       "  <tbody>\n",
       "    <tr>\n",
       "      <th>2011</th>\n",
       "      <td>1345</td>\n",
       "      <td>2011</td>\n",
       "    </tr>\n",
       "    <tr>\n",
       "      <th>2012</th>\n",
       "      <td>1384</td>\n",
       "      <td>2012</td>\n",
       "    </tr>\n",
       "    <tr>\n",
       "      <th>2013</th>\n",
       "      <td>685</td>\n",
       "      <td>2013</td>\n",
       "    </tr>\n",
       "    <tr>\n",
       "      <th>2014</th>\n",
       "      <td>141</td>\n",
       "      <td>2014</td>\n",
       "    </tr>\n",
       "    <tr>\n",
       "      <th>2015</th>\n",
       "      <td>1796</td>\n",
       "      <td>2015</td>\n",
       "    </tr>\n",
       "    <tr>\n",
       "      <th>2016</th>\n",
       "      <td>1259</td>\n",
       "      <td>2016</td>\n",
       "    </tr>\n",
       "    <tr>\n",
       "      <th>2017</th>\n",
       "      <td>639</td>\n",
       "      <td>2017</td>\n",
       "    </tr>\n",
       "  </tbody>\n",
       "</table>\n",
       "</div>"
      ],
      "text/plain": [
       "      Number Caught  Date\n",
       "Date                     \n",
       "2011           1345  2011\n",
       "2012           1384  2012\n",
       "2013            685  2013\n",
       "2014            141  2014\n",
       "2015           1796  2015\n",
       "2016           1259  2016\n",
       "2017            639  2017"
      ]
     },
     "execution_count": 142,
     "metadata": {},
     "output_type": "execute_result"
    }
   ],
   "source": [
    "year_group_sum"
   ]
  },
  {
   "cell_type": "code",
   "execution_count": 143,
   "metadata": {
    "collapsed": false
   },
   "outputs": [
    {
     "data": {
      "text/plain": [
       "<matplotlib.text.Text at 0xdd30630>"
      ]
     },
     "execution_count": 143,
     "metadata": {},
     "output_type": "execute_result"
    },
    {
     "data": {
      "image/png": "[encoded data removed]",
      "text/plain": [
       "<matplotlib.figure.Figure at 0xef34c88>"
      ]
     },
     "metadata": {},
     "output_type": "display_data"
    }
   ],
   "source": [
    "plt.figure(figsize=(15,5))\n",
    "plt.bar( range(len(year_group_sum['Date'])),year_group_sum['Number Caught'])\n",
    "plt.xticks(range(len(year_group_sum['Date'])), year_group_sum['Date'])\n",
    "plt.ylim(0,2000)\n",
    "plt.title('Amount of Fish Caught Over Time')\n",
    "plt.xlabel('Date')\n",
    "plt.ylabel('Number of Animals Caught')"
   ]
  },
  {
   "cell_type": "markdown",
   "metadata": {},
   "source": [
    "# Number of Species Caught"
   ]
  },
  {
   "cell_type": "code",
   "execution_count": 144,
   "metadata": {
    "collapsed": false
   },
   "outputs": [
    {
     "data": {
      "image/png": "[encoded data removed]",
      "text/plain": [
       "<matplotlib.figure.Figure at 0xe1101d0>"
      ]
     },
     "metadata": {},
     "output_type": "display_data"
    }
   ],
   "source": [
    "plt.figure(figsize=(15,5))\n",
    "plt.bar(range(len(yearly_distinct_fish_count)), fish_caught, align='center')\n",
    "plt.xticks(range(len(yearly_distinct_fish_count)), years)\n",
    "#plt.subplots_adjust(left=0.0, right=1.0, top=1.0, bottom=0.1)\n",
    "plt.show()"
   ]
  },
  {
   "cell_type": "code",
   "execution_count": 145,
   "metadata": {
    "collapsed": false
   },
   "outputs": [],
   "source": [
    "#plt.figure(figsize=(15,5))\n",
    "#plt.bar(range(len(yearly_distinct_fish_count)), fish_count, align='center')\n",
    "#plt.xticks(range(len(yearly_distinct_fish_count)), years)\n",
    "#plt.subplots_adjust(left=0.0, right=1.0, top=1.0, bottom=0.1)\n",
    "#plt.show()"
   ]
  },
  {
   "cell_type": "code",
   "execution_count": null,
   "metadata": {
    "collapsed": true
   },
   "outputs": [],
   "source": []
  },
  {
   "cell_type": "code",
   "execution_count": 146,
   "metadata": {
    "collapsed": true
   },
   "outputs": [],
   "source": [
    "fish = pd.read_csv('Species_Count_By_Year.csv')"
   ]
  },
  {
   "cell_type": "code",
   "execution_count": 147,
   "metadata": {
    "collapsed": false
   },
   "outputs": [
    {
     "data": {
      "text/html": [
       "<div>\n",
       "<table border=\"1\" class=\"dataframe\">\n",
       "  <thead>\n",
       "    <tr style=\"text-align: right;\">\n",
       "      <th></th>\n",
       "      <th>Species</th>\n",
       "      <th>2008</th>\n",
       "      <th>2009</th>\n",
       "      <th>2010</th>\n",
       "      <th>2011</th>\n",
       "      <th>2012</th>\n",
       "      <th>2013</th>\n",
       "      <th>2014</th>\n",
       "      <th>2015</th>\n",
       "      <th>2016</th>\n",
       "      <th>2017</th>\n",
       "      <th>Total Caught</th>\n",
       "      <th>Total Seasons</th>\n",
       "      <th>Unnamed: 13</th>\n",
       "      <th>Species.1</th>\n",
       "      <th>Total Caught.1</th>\n",
       "    </tr>\n",
       "  </thead>\n",
       "  <tbody>\n",
       "    <tr>\n",
       "      <th>0</th>\n",
       "      <td>american eel</td>\n",
       "      <td>0</td>\n",
       "      <td>0</td>\n",
       "      <td>0</td>\n",
       "      <td>0</td>\n",
       "      <td>2</td>\n",
       "      <td>3</td>\n",
       "      <td>0</td>\n",
       "      <td>0</td>\n",
       "      <td>1</td>\n",
       "      <td>1</td>\n",
       "      <td>7</td>\n",
       "      <td>4.0</td>\n",
       "      <td>NaN</td>\n",
       "      <td>Total Caught Per Year</td>\n",
       "      <td>6291</td>\n",
       "    </tr>\n",
       "    <tr>\n",
       "      <th>1</th>\n",
       "      <td>american shad</td>\n",
       "      <td>0</td>\n",
       "      <td>0</td>\n",
       "      <td>0</td>\n",
       "      <td>0</td>\n",
       "      <td>0</td>\n",
       "      <td>0</td>\n",
       "      <td>0</td>\n",
       "      <td>0</td>\n",
       "      <td>0</td>\n",
       "      <td>1</td>\n",
       "      <td>1</td>\n",
       "      <td>1.0</td>\n",
       "      <td>NaN</td>\n",
       "      <td>comb jelly</td>\n",
       "      <td>2356</td>\n",
       "    </tr>\n",
       "    <tr>\n",
       "      <th>2</th>\n",
       "      <td>amphipod</td>\n",
       "      <td>0</td>\n",
       "      <td>0</td>\n",
       "      <td>3</td>\n",
       "      <td>2</td>\n",
       "      <td>0</td>\n",
       "      <td>0</td>\n",
       "      <td>0</td>\n",
       "      <td>4</td>\n",
       "      <td>40</td>\n",
       "      <td>0</td>\n",
       "      <td>49</td>\n",
       "      <td>4.0</td>\n",
       "      <td>NaN</td>\n",
       "      <td>silverside</td>\n",
       "      <td>1274</td>\n",
       "    </tr>\n",
       "    <tr>\n",
       "      <th>3</th>\n",
       "      <td>anchovy</td>\n",
       "      <td>1</td>\n",
       "      <td>1</td>\n",
       "      <td>0</td>\n",
       "      <td>150</td>\n",
       "      <td>23</td>\n",
       "      <td>1</td>\n",
       "      <td>0</td>\n",
       "      <td>0</td>\n",
       "      <td>16</td>\n",
       "      <td>1</td>\n",
       "      <td>193</td>\n",
       "      <td>7.0</td>\n",
       "      <td>NaN</td>\n",
       "      <td>shrimp</td>\n",
       "      <td>351</td>\n",
       "    </tr>\n",
       "    <tr>\n",
       "      <th>4</th>\n",
       "      <td>anemone</td>\n",
       "      <td>0</td>\n",
       "      <td>0</td>\n",
       "      <td>2</td>\n",
       "      <td>0</td>\n",
       "      <td>0</td>\n",
       "      <td>0</td>\n",
       "      <td>0</td>\n",
       "      <td>0</td>\n",
       "      <td>0</td>\n",
       "      <td>0</td>\n",
       "      <td>2</td>\n",
       "      <td>1.0</td>\n",
       "      <td>NaN</td>\n",
       "      <td>tunicates</td>\n",
       "      <td>284</td>\n",
       "    </tr>\n",
       "  </tbody>\n",
       "</table>\n",
       "</div>"
      ],
      "text/plain": [
       "         Species  2008  2009  2010  2011  2012  2013  2014  2015  2016  2017  \\\n",
       "0   american eel     0     0     0     0     2     3     0     0     1     1   \n",
       "1  american shad     0     0     0     0     0     0     0     0     0     1   \n",
       "2       amphipod     0     0     3     2     0     0     0     4    40     0   \n",
       "3        anchovy     1     1     0   150    23     1     0     0    16     1   \n",
       "4        anemone     0     0     2     0     0     0     0     0     0     0   \n",
       "\n",
       "   Total Caught  Total Seasons  Unnamed: 13              Species.1  \\\n",
       "0             7            4.0          NaN  Total Caught Per Year   \n",
       "1             1            1.0          NaN             comb jelly   \n",
       "2            49            4.0          NaN             silverside   \n",
       "3           193            7.0          NaN                 shrimp   \n",
       "4             2            1.0          NaN              tunicates   \n",
       "\n",
       "   Total Caught.1  \n",
       "0            6291  \n",
       "1            2356  \n",
       "2            1274  \n",
       "3             351  \n",
       "4             284  "
      ]
     },
     "execution_count": 147,
     "metadata": {},
     "output_type": "execute_result"
    }
   ],
   "source": [
    "fish.head()"
   ]
  },
  {
   "cell_type": "code",
   "execution_count": 148,
   "metadata": {
    "collapsed": false
   },
   "outputs": [
    {
     "data": {
      "text/html": [
       "<div>\n",
       "<table border=\"1\" class=\"dataframe\">\n",
       "  <thead>\n",
       "    <tr style=\"text-align: right;\">\n",
       "      <th></th>\n",
       "      <th>Species</th>\n",
       "      <th>2008</th>\n",
       "      <th>2009</th>\n",
       "      <th>2010</th>\n",
       "      <th>2011</th>\n",
       "      <th>2012</th>\n",
       "      <th>2013</th>\n",
       "      <th>2014</th>\n",
       "      <th>2015</th>\n",
       "      <th>2016</th>\n",
       "      <th>2017</th>\n",
       "      <th>Total Caught</th>\n",
       "      <th>Total Seasons</th>\n",
       "      <th>Unnamed: 13</th>\n",
       "      <th>Species.1</th>\n",
       "      <th>Total Caught.1</th>\n",
       "    </tr>\n",
       "  </thead>\n",
       "  <tbody>\n",
       "    <tr>\n",
       "      <th>64</th>\n",
       "      <td>white fingered mud crab</td>\n",
       "      <td>0</td>\n",
       "      <td>0</td>\n",
       "      <td>0</td>\n",
       "      <td>0</td>\n",
       "      <td>1</td>\n",
       "      <td>0</td>\n",
       "      <td>0</td>\n",
       "      <td>0</td>\n",
       "      <td>0</td>\n",
       "      <td>0</td>\n",
       "      <td>1</td>\n",
       "      <td>1.0</td>\n",
       "      <td>NaN</td>\n",
       "      <td>seaboard goby</td>\n",
       "      <td>1</td>\n",
       "    </tr>\n",
       "    <tr>\n",
       "      <th>65</th>\n",
       "      <td>white mullet</td>\n",
       "      <td>0</td>\n",
       "      <td>0</td>\n",
       "      <td>0</td>\n",
       "      <td>0</td>\n",
       "      <td>2</td>\n",
       "      <td>0</td>\n",
       "      <td>0</td>\n",
       "      <td>0</td>\n",
       "      <td>0</td>\n",
       "      <td>0</td>\n",
       "      <td>2</td>\n",
       "      <td>1.0</td>\n",
       "      <td>NaN</td>\n",
       "      <td>sea squirt</td>\n",
       "      <td>1</td>\n",
       "    </tr>\n",
       "    <tr>\n",
       "      <th>66</th>\n",
       "      <td>white perch</td>\n",
       "      <td>0</td>\n",
       "      <td>0</td>\n",
       "      <td>0</td>\n",
       "      <td>1</td>\n",
       "      <td>0</td>\n",
       "      <td>0</td>\n",
       "      <td>0</td>\n",
       "      <td>4</td>\n",
       "      <td>0</td>\n",
       "      <td>0</td>\n",
       "      <td>5</td>\n",
       "      <td>2.0</td>\n",
       "      <td>NaN</td>\n",
       "      <td>poly worm</td>\n",
       "      <td>1</td>\n",
       "    </tr>\n",
       "    <tr>\n",
       "      <th>67</th>\n",
       "      <td>wrasel sea bass</td>\n",
       "      <td>0</td>\n",
       "      <td>0</td>\n",
       "      <td>0</td>\n",
       "      <td>0</td>\n",
       "      <td>3</td>\n",
       "      <td>0</td>\n",
       "      <td>0</td>\n",
       "      <td>0</td>\n",
       "      <td>0</td>\n",
       "      <td>0</td>\n",
       "      <td>3</td>\n",
       "      <td>1.0</td>\n",
       "      <td>NaN</td>\n",
       "      <td>mole crab</td>\n",
       "      <td>1</td>\n",
       "    </tr>\n",
       "    <tr>\n",
       "      <th>68</th>\n",
       "      <td>Total Caught Per Year</td>\n",
       "      <td>17</td>\n",
       "      <td>16</td>\n",
       "      <td>123</td>\n",
       "      <td>1345</td>\n",
       "      <td>664</td>\n",
       "      <td>685</td>\n",
       "      <td>175</td>\n",
       "      <td>792</td>\n",
       "      <td>1560</td>\n",
       "      <td>914</td>\n",
       "      <td>6291</td>\n",
       "      <td>NaN</td>\n",
       "      <td>NaN</td>\n",
       "      <td>northern stargazer</td>\n",
       "      <td>1</td>\n",
       "    </tr>\n",
       "  </tbody>\n",
       "</table>\n",
       "</div>"
      ],
      "text/plain": [
       "                    Species  2008  2009  2010  2011  2012  2013  2014  2015  \\\n",
       "64  white fingered mud crab     0     0     0     0     1     0     0     0   \n",
       "65             white mullet     0     0     0     0     2     0     0     0   \n",
       "66              white perch     0     0     0     1     0     0     0     4   \n",
       "67          wrasel sea bass     0     0     0     0     3     0     0     0   \n",
       "68    Total Caught Per Year    17    16   123  1345   664   685   175   792   \n",
       "\n",
       "    2016  2017  Total Caught  Total Seasons  Unnamed: 13           Species.1  \\\n",
       "64     0     0             1            1.0          NaN       seaboard goby   \n",
       "65     0     0             2            1.0          NaN          sea squirt   \n",
       "66     0     0             5            2.0          NaN           poly worm   \n",
       "67     0     0             3            1.0          NaN           mole crab   \n",
       "68  1560   914          6291            NaN          NaN  northern stargazer   \n",
       "\n",
       "    Total Caught.1  \n",
       "64               1  \n",
       "65               1  \n",
       "66               1  \n",
       "67               1  \n",
       "68               1  "
      ]
     },
     "execution_count": 148,
     "metadata": {},
     "output_type": "execute_result"
    }
   ],
   "source": [
    "fish.tail()"
   ]
  },
  {
   "cell_type": "code",
   "execution_count": 149,
   "metadata": {
    "collapsed": false
   },
   "outputs": [],
   "source": [
    "y = list(fish.loc[68])[1:11]"
   ]
  },
  {
   "cell_type": "code",
   "execution_count": 150,
   "metadata": {
    "collapsed": true
   },
   "outputs": [],
   "source": [
    "x = range(2008,2018)"
   ]
  },
  {
   "cell_type": "code",
   "execution_count": 151,
   "metadata": {
    "collapsed": false
   },
   "outputs": [
    {
     "data": {
      "text/plain": [
       "<Container object of 10 artists>"
      ]
     },
     "execution_count": 151,
     "metadata": {},
     "output_type": "execute_result"
    },
    {
     "data": {
      "image/png": "[encoded data removed]",
      "text/plain": [
       "<matplotlib.figure.Figure at 0xe261668>"
      ]
     },
     "metadata": {},
     "output_type": "display_data"
    }
   ],
   "source": [
    "plt.bar(x,y)"
   ]
  },
  {
   "cell_type": "code",
   "execution_count": 152,
   "metadata": {
    "collapsed": false
   },
   "outputs": [
    {
     "data": {
      "image/png": "[encoded data removed]",
      "text/plain": [
       "<matplotlib.figure.Figure at 0xf078b70>"
      ]
     },
     "metadata": {},
     "output_type": "display_data"
    }
   ],
   "source": [
    "plt.figure(figsize=(10,5))\n",
    "plt.bar(range(len(x)), y, align='center')\n",
    "plt.xticks(range(len(x)), x)\n",
    "plt.title('Number Caught Per Year')\n",
    "plt.xlabel('Year')\n",
    "plt.ylabel('Number Caught')\n",
    "\n",
    "plt.show()"
   ]
  },
  {
   "cell_type": "code",
   "execution_count": 153,
   "metadata": {
    "collapsed": true
   },
   "outputs": [],
   "source": [
    "sns.set_style(\"whitegrid\")"
   ]
  },
  {
   "cell_type": "code",
   "execution_count": 154,
   "metadata": {
    "collapsed": false
   },
   "outputs": [
    {
     "data": {
      "image/png": "[encoded data removed]",
      "text/plain": [
       "<matplotlib.figure.Figure at 0xeec37b8>"
      ]
     },
     "metadata": {},
     "output_type": "display_data"
    }
   ],
   "source": [
    "ax = sns.barplot(x,y)\n",
    "ax.set(xlabel  = 'Year', ylabel =\"Number of Organisms Caught\", title = \"Total Number of Organisms Caught Per Year\")\n",
    "fig = ax.get_figure()\n",
    "fig.savefig('Number_Caught_Per_Year_Graph')"
   ]
  },
  {
   "cell_type": "code",
   "execution_count": 155,
   "metadata": {
    "collapsed": false
   },
   "outputs": [
    {
     "data": {
      "text/html": [
       "<div>\n",
       "<table border=\"1\" class=\"dataframe\">\n",
       "  <thead>\n",
       "    <tr style=\"text-align: right;\">\n",
       "      <th></th>\n",
       "      <th>Species</th>\n",
       "      <th>2008</th>\n",
       "      <th>2009</th>\n",
       "      <th>2010</th>\n",
       "      <th>2011</th>\n",
       "      <th>2012</th>\n",
       "      <th>2013</th>\n",
       "      <th>2014</th>\n",
       "      <th>2015</th>\n",
       "      <th>2016</th>\n",
       "      <th>2017</th>\n",
       "      <th>Total Caught</th>\n",
       "      <th>Total Seasons</th>\n",
       "      <th>Unnamed: 13</th>\n",
       "      <th>Species.1</th>\n",
       "      <th>Total Caught.1</th>\n",
       "    </tr>\n",
       "  </thead>\n",
       "  <tbody>\n",
       "    <tr>\n",
       "      <th>64</th>\n",
       "      <td>white fingered mud crab</td>\n",
       "      <td>0</td>\n",
       "      <td>0</td>\n",
       "      <td>0</td>\n",
       "      <td>0</td>\n",
       "      <td>1</td>\n",
       "      <td>0</td>\n",
       "      <td>0</td>\n",
       "      <td>0</td>\n",
       "      <td>0</td>\n",
       "      <td>0</td>\n",
       "      <td>1</td>\n",
       "      <td>1.0</td>\n",
       "      <td>NaN</td>\n",
       "      <td>seaboard goby</td>\n",
       "      <td>1</td>\n",
       "    </tr>\n",
       "    <tr>\n",
       "      <th>65</th>\n",
       "      <td>white mullet</td>\n",
       "      <td>0</td>\n",
       "      <td>0</td>\n",
       "      <td>0</td>\n",
       "      <td>0</td>\n",
       "      <td>2</td>\n",
       "      <td>0</td>\n",
       "      <td>0</td>\n",
       "      <td>0</td>\n",
       "      <td>0</td>\n",
       "      <td>0</td>\n",
       "      <td>2</td>\n",
       "      <td>1.0</td>\n",
       "      <td>NaN</td>\n",
       "      <td>sea squirt</td>\n",
       "      <td>1</td>\n",
       "    </tr>\n",
       "    <tr>\n",
       "      <th>66</th>\n",
       "      <td>white perch</td>\n",
       "      <td>0</td>\n",
       "      <td>0</td>\n",
       "      <td>0</td>\n",
       "      <td>1</td>\n",
       "      <td>0</td>\n",
       "      <td>0</td>\n",
       "      <td>0</td>\n",
       "      <td>4</td>\n",
       "      <td>0</td>\n",
       "      <td>0</td>\n",
       "      <td>5</td>\n",
       "      <td>2.0</td>\n",
       "      <td>NaN</td>\n",
       "      <td>poly worm</td>\n",
       "      <td>1</td>\n",
       "    </tr>\n",
       "    <tr>\n",
       "      <th>67</th>\n",
       "      <td>wrasel sea bass</td>\n",
       "      <td>0</td>\n",
       "      <td>0</td>\n",
       "      <td>0</td>\n",
       "      <td>0</td>\n",
       "      <td>3</td>\n",
       "      <td>0</td>\n",
       "      <td>0</td>\n",
       "      <td>0</td>\n",
       "      <td>0</td>\n",
       "      <td>0</td>\n",
       "      <td>3</td>\n",
       "      <td>1.0</td>\n",
       "      <td>NaN</td>\n",
       "      <td>mole crab</td>\n",
       "      <td>1</td>\n",
       "    </tr>\n",
       "    <tr>\n",
       "      <th>68</th>\n",
       "      <td>Total Caught Per Year</td>\n",
       "      <td>17</td>\n",
       "      <td>16</td>\n",
       "      <td>123</td>\n",
       "      <td>1345</td>\n",
       "      <td>664</td>\n",
       "      <td>685</td>\n",
       "      <td>175</td>\n",
       "      <td>792</td>\n",
       "      <td>1560</td>\n",
       "      <td>914</td>\n",
       "      <td>6291</td>\n",
       "      <td>NaN</td>\n",
       "      <td>NaN</td>\n",
       "      <td>northern stargazer</td>\n",
       "      <td>1</td>\n",
       "    </tr>\n",
       "  </tbody>\n",
       "</table>\n",
       "</div>"
      ],
      "text/plain": [
       "                    Species  2008  2009  2010  2011  2012  2013  2014  2015  \\\n",
       "64  white fingered mud crab     0     0     0     0     1     0     0     0   \n",
       "65             white mullet     0     0     0     0     2     0     0     0   \n",
       "66              white perch     0     0     0     1     0     0     0     4   \n",
       "67          wrasel sea bass     0     0     0     0     3     0     0     0   \n",
       "68    Total Caught Per Year    17    16   123  1345   664   685   175   792   \n",
       "\n",
       "    2016  2017  Total Caught  Total Seasons  Unnamed: 13           Species.1  \\\n",
       "64     0     0             1            1.0          NaN       seaboard goby   \n",
       "65     0     0             2            1.0          NaN          sea squirt   \n",
       "66     0     0             5            2.0          NaN           poly worm   \n",
       "67     0     0             3            1.0          NaN           mole crab   \n",
       "68  1560   914          6291            NaN          NaN  northern stargazer   \n",
       "\n",
       "    Total Caught.1  \n",
       "64               1  \n",
       "65               1  \n",
       "66               1  \n",
       "67               1  \n",
       "68               1  "
      ]
     },
     "execution_count": 155,
     "metadata": {},
     "output_type": "execute_result"
    }
   ],
   "source": [
    "fish.tail()"
   ]
  },
  {
   "cell_type": "code",
   "execution_count": 156,
   "metadata": {
    "collapsed": true
   },
   "outputs": [],
   "source": [
    "species = pd.read_csv('Species_Check_List_By_Year.csv')"
   ]
  },
  {
   "cell_type": "code",
   "execution_count": 157,
   "metadata": {
    "collapsed": false
   },
   "outputs": [
    {
     "data": {
      "text/html": [
       "<div>\n",
       "<table border=\"1\" class=\"dataframe\">\n",
       "  <thead>\n",
       "    <tr style=\"text-align: right;\">\n",
       "      <th></th>\n",
       "      <th>Unnamed: 0</th>\n",
       "      <th>Species</th>\n",
       "      <th>2008</th>\n",
       "      <th>2009</th>\n",
       "      <th>2010</th>\n",
       "      <th>2011</th>\n",
       "      <th>2012</th>\n",
       "      <th>2013</th>\n",
       "      <th>2014</th>\n",
       "      <th>2015</th>\n",
       "      <th>2016</th>\n",
       "      <th>2017</th>\n",
       "    </tr>\n",
       "  </thead>\n",
       "  <tbody>\n",
       "    <tr>\n",
       "      <th>102</th>\n",
       "      <td>102</td>\n",
       "      <td>white mullet</td>\n",
       "      <td>No</td>\n",
       "      <td>No</td>\n",
       "      <td>No</td>\n",
       "      <td>No</td>\n",
       "      <td>Yes</td>\n",
       "      <td>No</td>\n",
       "      <td>No</td>\n",
       "      <td>No</td>\n",
       "      <td>No</td>\n",
       "      <td>No</td>\n",
       "    </tr>\n",
       "    <tr>\n",
       "      <th>103</th>\n",
       "      <td>103</td>\n",
       "      <td>white perch</td>\n",
       "      <td>No</td>\n",
       "      <td>No</td>\n",
       "      <td>No</td>\n",
       "      <td>Yes</td>\n",
       "      <td>No</td>\n",
       "      <td>No</td>\n",
       "      <td>No</td>\n",
       "      <td>Yes</td>\n",
       "      <td>No</td>\n",
       "      <td>No</td>\n",
       "    </tr>\n",
       "    <tr>\n",
       "      <th>104</th>\n",
       "      <td>104</td>\n",
       "      <td>windowpane flounder</td>\n",
       "      <td>No</td>\n",
       "      <td>No</td>\n",
       "      <td>No</td>\n",
       "      <td>No</td>\n",
       "      <td>No</td>\n",
       "      <td>No</td>\n",
       "      <td>Yes</td>\n",
       "      <td>No</td>\n",
       "      <td>Yes</td>\n",
       "      <td>No</td>\n",
       "    </tr>\n",
       "    <tr>\n",
       "      <th>105</th>\n",
       "      <td>105</td>\n",
       "      <td>winter flounder</td>\n",
       "      <td>Yes</td>\n",
       "      <td>No</td>\n",
       "      <td>Yes</td>\n",
       "      <td>No</td>\n",
       "      <td>No</td>\n",
       "      <td>No</td>\n",
       "      <td>Yes</td>\n",
       "      <td>Yes</td>\n",
       "      <td>Yes</td>\n",
       "      <td>Yes</td>\n",
       "    </tr>\n",
       "    <tr>\n",
       "      <th>106</th>\n",
       "      <td>106</td>\n",
       "      <td>wrasel sea bass</td>\n",
       "      <td>No</td>\n",
       "      <td>No</td>\n",
       "      <td>No</td>\n",
       "      <td>No</td>\n",
       "      <td>Yes</td>\n",
       "      <td>No</td>\n",
       "      <td>No</td>\n",
       "      <td>No</td>\n",
       "      <td>No</td>\n",
       "      <td>No</td>\n",
       "    </tr>\n",
       "  </tbody>\n",
       "</table>\n",
       "</div>"
      ],
      "text/plain": [
       "     Unnamed: 0              Species 2008 2009 2010 2011 2012 2013 2014 2015  \\\n",
       "102         102         white mullet   No   No   No   No  Yes   No   No   No   \n",
       "103         103          white perch   No   No   No  Yes   No   No   No  Yes   \n",
       "104         104  windowpane flounder   No   No   No   No   No   No  Yes   No   \n",
       "105         105      winter flounder  Yes   No  Yes   No   No   No  Yes  Yes   \n",
       "106         106      wrasel sea bass   No   No   No   No  Yes   No   No   No   \n",
       "\n",
       "    2016 2017  \n",
       "102   No   No  \n",
       "103   No   No  \n",
       "104  Yes   No  \n",
       "105  Yes  Yes  \n",
       "106   No   No  "
      ]
     },
     "execution_count": 157,
     "metadata": {},
     "output_type": "execute_result"
    }
   ],
   "source": [
    "species.tail()"
   ]
  },
  {
   "cell_type": "code",
   "execution_count": 158,
   "metadata": {
    "collapsed": true
   },
   "outputs": [],
   "source": [
    "count = []"
   ]
  },
  {
   "cell_type": "code",
   "execution_count": 159,
   "metadata": {
    "collapsed": false
   },
   "outputs": [],
   "source": [
    "for year in range(2008,2018):\n",
    "    counter = 0\n",
    "    for val in list(fish[str(year)]):\n",
    "        if val != 0:\n",
    "    #for val in list(species[str(year)]):\n",
    "        #if val == 'Yes':\n",
    "            counter +=1\n",
    "    count.append(counter)"
   ]
  },
  {
   "cell_type": "code",
   "execution_count": 160,
   "metadata": {
    "collapsed": false
   },
   "outputs": [
    {
     "data": {
      "text/plain": [
       "[16, 15, 28, 30, 32, 21, 21, 27, 40, 34]"
      ]
     },
     "execution_count": 160,
     "metadata": {},
     "output_type": "execute_result"
    }
   ],
   "source": [
    "count"
   ]
  },
  {
   "cell_type": "code",
   "execution_count": 162,
   "metadata": {
    "collapsed": false
   },
   "outputs": [
    {
     "data": {
      "image/png": "[encoded data removed]",
      "text/plain": [
       "<matplotlib.figure.Figure at 0xc4d7630>"
      ]
     },
     "metadata": {},
     "output_type": "display_data"
    }
   ],
   "source": [
    "a = sns.barplot(range(2008,2018),count)\n",
    "a.set(xlabel  = 'Year', ylabel =\"Species Caught\", title = \"Number of Species Caught Per Year\", ylim = [0,45])\n",
    "fig = a.get_figure()\n",
    "fig.savefig('Number_Species_Per_Year_Graph')"
   ]
  },
  {
   "cell_type": "code",
   "execution_count": null,
   "metadata": {
    "collapsed": true
   },
   "outputs": [],
   "source": []
  },
  {
   "cell_type": "code",
   "execution_count": null,
   "metadata": {
    "collapsed": true
   },
   "outputs": [],
   "source": []
  },
  {
   "cell_type": "code",
   "execution_count": null,
   "metadata": {
    "collapsed": true
   },
   "outputs": [],
   "source": []
  },
  {
   "cell_type": "code",
   "execution_count": null,
   "metadata": {
    "collapsed": true
   },
   "outputs": [],
   "source": []
  }
 ],
 "metadata": {
  "anaconda-cloud": {},
  "kernelspec": {
   "display_name": "Python [conda root]",
   "language": "python",
   "name": "conda-root-py"
  },
  "language_info": {
   "codemirror_mode": {
    "name": "ipython",
    "version": 2
   },
   "file_extension": ".py",
   "mimetype": "text/x-python",
   "name": "python",
   "nbconvert_exporter": "python",
   "pygments_lexer": "ipython2",
   "version": "2.7.12"
  }
 },
 "nbformat": 4,
 "nbformat_minor": 1
}
