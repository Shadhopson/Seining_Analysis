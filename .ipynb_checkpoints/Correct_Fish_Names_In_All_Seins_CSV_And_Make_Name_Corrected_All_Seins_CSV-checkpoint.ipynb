{
 "cells": [
  {
   "cell_type": "code",
   "execution_count": 1,
   "metadata": {
    "collapsed": true
   },
   "outputs": [],
   "source": [
    "import pandas as pd\n"
   ]
  },
  {
   "cell_type": "code",
   "execution_count": 2,
   "metadata": {
    "collapsed": false
   },
   "outputs": [],
   "source": [
    "fish_df = pd.read_csv('all_seins.csv')[['Date', 'Number Caught', 'Species']]"
   ]
  },
  {
   "cell_type": "code",
   "execution_count": 3,
   "metadata": {
    "collapsed": false
   },
   "outputs": [
    {
     "data": {
      "text/plain": [
       "292"
      ]
     },
     "execution_count": 3,
     "metadata": {},
     "output_type": "execute_result"
    }
   ],
   "source": [
    "len(set(fish_df[['Species']].values.ravel()))"
   ]
  },
  {
   "cell_type": "code",
   "execution_count": 4,
   "metadata": {
    "collapsed": false
   },
   "outputs": [],
   "source": [
    "import re\n",
    "fish_list = [re.sub(r'([^\\s\\w]|_)+', '', f) for f in fish_df['Species']]\n",
    "fish_list = [f.lower().replace('yoy', '') for f in fish_list]\n",
    "fish_list = [f.strip() for f in fish_list]\n",
    "\n",
    "#fish_list = list(set(fish_list))\n",
    "first_set = set(fish_list)"
   ]
  },
  {
   "cell_type": "code",
   "execution_count": 5,
   "metadata": {
    "collapsed": false
   },
   "outputs": [],
   "source": [
    "from difflib import SequenceMatcher"
   ]
  },
  {
   "cell_type": "code",
   "execution_count": 6,
   "metadata": {
    "collapsed": true
   },
   "outputs": [],
   "source": [
    "def similar(a, b):\n",
    "    return SequenceMatcher(None, a, b).ratio()"
   ]
  },
  {
   "cell_type": "code",
   "execution_count": 7,
   "metadata": {
    "collapsed": false
   },
   "outputs": [],
   "source": [
    "count = 0\n",
    "fish_changes = []\n",
    "for i in range(len(fish_list)):\n",
    "    for j in range(i+1, len(fish_list)):\n",
    "        if fish_list[i] ==  fish_list[j]:\n",
    "            continue\n",
    "        if similar(fish_list[i], fish_list[j]) > 0.85:\n",
    "            fish_changes.append([fish_list[i], fish_list[j]])\n",
    "            if len(fish_list[i]) < len(fish_list[j]):\n",
    "                fish_list[j] = fish_list[i]\n",
    "            else:\n",
    "                fish_list[i] = fish_list[j]"
   ]
  },
  {
   "cell_type": "code",
   "execution_count": 8,
   "metadata": {
    "collapsed": true
   },
   "outputs": [],
   "source": [
    "second_set = set(fish_list)"
   ]
  },
  {
   "cell_type": "code",
   "execution_count": 9,
   "metadata": {
    "collapsed": false
   },
   "outputs": [
    {
     "data": {
      "text/plain": [
       "194"
      ]
     },
     "execution_count": 9,
     "metadata": {},
     "output_type": "execute_result"
    }
   ],
   "source": [
    "len(first_set)"
   ]
  },
  {
   "cell_type": "code",
   "execution_count": 10,
   "metadata": {
    "collapsed": false
   },
   "outputs": [
    {
     "data": {
      "text/plain": [
       "152"
      ]
     },
     "execution_count": 10,
     "metadata": {},
     "output_type": "execute_result"
    }
   ],
   "source": [
    "len(second_set)"
   ]
  },
  {
   "cell_type": "code",
   "execution_count": 11,
   "metadata": {
    "collapsed": false
   },
   "outputs": [
    {
     "data": {
      "text/plain": [
       "898"
      ]
     },
     "execution_count": 11,
     "metadata": {},
     "output_type": "execute_result"
    }
   ],
   "source": [
    "len(fish_list)"
   ]
  },
  {
   "cell_type": "code",
   "execution_count": 12,
   "metadata": {
    "collapsed": false
   },
   "outputs": [],
   "source": [
    "name_changes = {'1 oyster toadfish caught in traffic cone' : 'oyster toadfish', '20 ctenophores': 'ctenophore',\n",
    "               'atlantic silverside menidia menidia': 'atlantic silverside','atlanticsilverside': 'atlantic silverside',\n",
    "               'blackfish tautog': 'tautog', 'blue muscle': 'blue mussel', 'bluefish juvenile': 'bluefish',\n",
    "               'comb jellies': 'comb jelly','comb jellies ctenophores': 'comb jelly','common shore shrimp': 'shore shrimp',\n",
    "               'common spider crab': 'spider crab', 'bluecrab': 'blue crab', 'crab blue crab':'blue crab', \n",
    "               'juvenille stripped bass': 'striped bass', 'jvvenilee striped buss': 'striped bass', 'taotog': 'tautog',\n",
    "               'tautogblackfish': 'tautog', 'the cutest northern puffer ever':'northern puffer','window pain':'windowpane flounder',\n",
    "               'true jellies': 'jelly fish', 'true jelly': 'jelly fish', 'true jelly fish': 'jelly fish', 'sea squirtsolitary tunicate': 'sea squirt',\n",
    "               'oyster drill': 'oyster drill snail', 'green crab carcinus maenas': 'green crab','green crab european':'green crab',\n",
    "               'porgyscup': 'porgy', 'norther puffer': 'puffer', 'norther pipefish': 'pipefish', 'ctenophore':'comb jelly',\n",
    "                'ghost shrimp':'glass shrimp','glass shrimp shore shrimp': 'glass shrimp', 'golden star colonial tunicate': 'golden star tunicate',\n",
    "               'lions mane jellyfish cyanea capillata': 'lions mane jellyfish', 'muslces':'mussel', 'pipefish syngnathinae': 'pipefish',\n",
    "               \"porgies\":\"porgy\", \"sea horse hippocampus\": \"seahorse\", \"sea horse\": \"seahorse\", 'winter flounder righteye': 'winter flounder',\n",
    "               'shrimp seven spine': 'seven spine shrimp', 'star tunicate':'golden star tunicate', 'seven spine shrimp': 'sand shrimp','northern pipefish': 'pipefish',\n",
    "               'northern puffer': 'puffer', 'northern sea robin': 'sea robin', 'herring spp pre metamorph': 'herring', 'grubby sculpin family': 'grubby',\n",
    "               \"blue back\": \"blueback herring\"}"
   ]
  },
  {
   "cell_type": "code",
   "execution_count": 13,
   "metadata": {
    "collapsed": true
   },
   "outputs": [],
   "source": [
    "for i in range(len(fish_list)):\n",
    "    if fish_list[i] in name_changes:\n",
    "        fish_list[i] = name_changes[fish_list[i]]"
   ]
  },
  {
   "cell_type": "code",
   "execution_count": 14,
   "metadata": {
    "collapsed": false
   },
   "outputs": [
    {
     "data": {
      "text/plain": [
       "113"
      ]
     },
     "execution_count": 14,
     "metadata": {},
     "output_type": "execute_result"
    }
   ],
   "source": [
    "len(list(set(fish_list)))"
   ]
  },
  {
   "cell_type": "code",
   "execution_count": 15,
   "metadata": {
    "collapsed": true
   },
   "outputs": [],
   "source": [
    "remove_row_list = ['two hemigrapsis molts were found on the beach', 'species caught', 'slipper snail shell', 'slipper snail shell', 'slipper shell', 'oyster shell','hemigraphis molt']"
   ]
  },
  {
   "cell_type": "code",
   "execution_count": 16,
   "metadata": {
    "collapsed": false
   },
   "outputs": [],
   "source": [
    "#fish_list\n",
    "fish_df[['Species']].head()\n",
    "fish_df.drop('Species', axis = 1, inplace = True)"
   ]
  },
  {
   "cell_type": "code",
   "execution_count": 17,
   "metadata": {
    "collapsed": false
   },
   "outputs": [],
   "source": [
    "fish_df['Species'] =  fish_list"
   ]
  },
  {
   "cell_type": "code",
   "execution_count": 18,
   "metadata": {
    "collapsed": false
   },
   "outputs": [],
   "source": [
    "fish_df = fish_df[fish_df['Species'].isin(remove_row_list) == False]"
   ]
  },
  {
   "cell_type": "code",
   "execution_count": 19,
   "metadata": {
    "collapsed": false
   },
   "outputs": [
    {
     "data": {
      "text/plain": [
       "{'alewife',\n",
       " 'american eel',\n",
       " 'american shad',\n",
       " 'amphipod',\n",
       " 'anchovy',\n",
       " 'anemone',\n",
       " 'asian shore crab',\n",
       " 'atlantic herring',\n",
       " 'atlantic menhaden',\n",
       " 'atlantic silverside',\n",
       " 'atlantic tomcod',\n",
       " 'bay anchovy',\n",
       " 'black fingered mud crab',\n",
       " 'black sea bass',\n",
       " 'blue back',\n",
       " 'blue crab',\n",
       " 'blue mussel',\n",
       " 'blueback herring',\n",
       " 'bluefish',\n",
       " 'bluespotted cornetfish',\n",
       " 'box crab',\n",
       " 'clam worm probably nereis spp',\n",
       " 'clams',\n",
       " 'colonial tunicate',\n",
       " 'comb jelly',\n",
       " 'ctenophore',\n",
       " 'cunner',\n",
       " 'decoration crab',\n",
       " 'eastern oyster',\n",
       " 'flatfish',\n",
       " 'flounder',\n",
       " 'flounder righteye',\n",
       " 'glass shrimp',\n",
       " 'golden star tunicate',\n",
       " 'grass shrimp',\n",
       " 'green crab',\n",
       " 'grubby',\n",
       " 'hermit crab',\n",
       " 'herring',\n",
       " 'hogchoker',\n",
       " 'hydra medusa',\n",
       " 'hydroid',\n",
       " 'hydromedusae',\n",
       " 'isopod',\n",
       " 'jelly fish',\n",
       " 'lady crab',\n",
       " 'lions mane jellyfish',\n",
       " 'mantis shrimp',\n",
       " 'menhaden',\n",
       " 'mole crab',\n",
       " 'moon jelly',\n",
       " 'mud crab',\n",
       " 'mud snail',\n",
       " 'mussel',\n",
       " 'naked goby',\n",
       " 'northern kingfish',\n",
       " 'northern puffer',\n",
       " 'northern stargazer',\n",
       " 'oyster',\n",
       " 'oyster drill snail',\n",
       " 'oyster toadfish',\n",
       " 'pipefish',\n",
       " 'poly worm',\n",
       " 'porgy',\n",
       " 'puffer',\n",
       " 'red beard sponge',\n",
       " 'ribbed mussel',\n",
       " 'sand shrimp',\n",
       " 'sandworm',\n",
       " 'scud',\n",
       " 'sea bass',\n",
       " 'sea robin',\n",
       " 'sea snail',\n",
       " 'sea squirt',\n",
       " 'seaboard goby',\n",
       " 'seahorse',\n",
       " 'sennet',\n",
       " 'seven spine shrimp',\n",
       " 'sheepshead porgy',\n",
       " 'shore shrimp',\n",
       " 'shrimp',\n",
       " 'shrimp shore and mud',\n",
       " 'silver perch',\n",
       " 'silverside',\n",
       " 'skillet fish',\n",
       " 'snail',\n",
       " 'snail eggs',\n",
       " 'spider crab',\n",
       " 'sponge',\n",
       " 'spotted hake',\n",
       " 'spotted whiff',\n",
       " 'striped bass',\n",
       " 'striped searobin',\n",
       " 'summer flounder',\n",
       " 'tautog',\n",
       " 'tube worm',\n",
       " 'tunicate sponge',\n",
       " 'tunicates',\n",
       " 'unidentified fish',\n",
       " 'western mosquito fish',\n",
       " 'whelk snail',\n",
       " 'white fingered mud crab',\n",
       " 'white mullet',\n",
       " 'white perch',\n",
       " 'windowpane flounder',\n",
       " 'winter flounder',\n",
       " 'wrasel sea bass'}"
      ]
     },
     "execution_count": 19,
     "metadata": {},
     "output_type": "execute_result"
    }
   ],
   "source": [
    "set(list(fish_df['Species']))"
   ]
  },
  {
   "cell_type": "code",
   "execution_count": 64,
   "metadata": {
    "collapsed": true
   },
   "outputs": [],
   "source": [
    "fish_df.to_csv('Name_Corrected_All_Seins.csv')"
   ]
  },
  {
   "cell_type": "code",
   "execution_count": null,
   "metadata": {
    "collapsed": true
   },
   "outputs": [],
   "source": []
  },
  {
   "cell_type": "markdown",
   "metadata": {},
   "source": []
  },
  {
   "cell_type": "code",
   "execution_count": null,
   "metadata": {
    "collapsed": true
   },
   "outputs": [],
   "source": []
  }
 ],
 "metadata": {
  "anaconda-cloud": {},
  "kernelspec": {
   "display_name": "Python [conda root]",
   "language": "python",
   "name": "conda-root-py"
  },
  "language_info": {
   "codemirror_mode": {
    "name": "ipython",
    "version": 2
   },
   "file_extension": ".py",
   "mimetype": "text/x-python",
   "name": "python",
   "nbconvert_exporter": "python",
   "pygments_lexer": "ipython2",
   "version": "2.7.12"
  }
 },
 "nbformat": 4,
 "nbformat_minor": 1
}
