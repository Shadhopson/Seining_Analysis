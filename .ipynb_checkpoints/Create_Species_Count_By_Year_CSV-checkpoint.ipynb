{
 "cells": [
  {
   "cell_type": "code",
   "execution_count": 1,
   "metadata": {
    "collapsed": true
   },
   "outputs": [],
   "source": [
    "import pandas as pd"
   ]
  },
  {
   "cell_type": "code",
   "execution_count": 2,
   "metadata": {
    "collapsed": false
   },
   "outputs": [],
   "source": [
    "fish_df = pd.read_csv('Created CSVs/Non_Combined_Name_Corrected_All_Seins.csv')"
   ]
  },
  {
   "cell_type": "code",
   "execution_count": 3,
   "metadata": {
    "collapsed": false
   },
   "outputs": [
    {
     "name": "stdout",
     "output_type": "stream",
     "text": [
      "<class 'pandas.core.frame.DataFrame'>\n",
      "RangeIndex: 892 entries, 0 to 891\n",
      "Data columns (total 4 columns):\n",
      "Unnamed: 0       892 non-null int64\n",
      "Date             892 non-null object\n",
      "Number Caught    727 non-null object\n",
      "Species          892 non-null object\n",
      "dtypes: int64(1), object(3)\n",
      "memory usage: 27.9+ KB\n"
     ]
    }
   ],
   "source": [
    "fish_df.info()"
   ]
  },
  {
   "cell_type": "code",
   "execution_count": 4,
   "metadata": {
    "collapsed": true
   },
   "outputs": [],
   "source": [
    "fish_df = fish_df.fillna(1)"
   ]
  },
  {
   "cell_type": "code",
   "execution_count": 5,
   "metadata": {
    "collapsed": false
   },
   "outputs": [
    {
     "name": "stdout",
     "output_type": "stream",
     "text": [
      "<class 'pandas.core.frame.DataFrame'>\n",
      "RangeIndex: 892 entries, 0 to 891\n",
      "Data columns (total 4 columns):\n",
      "Unnamed: 0       892 non-null int64\n",
      "Date             892 non-null object\n",
      "Number Caught    892 non-null object\n",
      "Species          892 non-null object\n",
      "dtypes: int64(1), object(3)\n",
      "memory usage: 27.9+ KB\n"
     ]
    }
   ],
   "source": [
    "fish_df.info()"
   ]
  },
  {
   "cell_type": "code",
   "execution_count": 6,
   "metadata": {
    "collapsed": false
   },
   "outputs": [
    {
     "data": {
      "text/html": [
       "<div>\n",
       "<table border=\"1\" class=\"dataframe\">\n",
       "  <thead>\n",
       "    <tr style=\"text-align: right;\">\n",
       "      <th></th>\n",
       "      <th>Unnamed: 0</th>\n",
       "      <th>Date</th>\n",
       "      <th>Number Caught</th>\n",
       "      <th>Species</th>\n",
       "    </tr>\n",
       "  </thead>\n",
       "  <tbody>\n",
       "    <tr>\n",
       "      <th>0</th>\n",
       "      <td>0</td>\n",
       "      <td>2008-09-13 00:00:00</td>\n",
       "      <td>1</td>\n",
       "      <td>sea squirt</td>\n",
       "    </tr>\n",
       "    <tr>\n",
       "      <th>1</th>\n",
       "      <td>1</td>\n",
       "      <td>2008-09-13 00:00:00</td>\n",
       "      <td>1</td>\n",
       "      <td>shore shrimp</td>\n",
       "    </tr>\n",
       "    <tr>\n",
       "      <th>2</th>\n",
       "      <td>2</td>\n",
       "      <td>2008-09-13 00:00:00</td>\n",
       "      <td>1</td>\n",
       "      <td>mantis shrimp</td>\n",
       "    </tr>\n",
       "    <tr>\n",
       "      <th>3</th>\n",
       "      <td>3</td>\n",
       "      <td>2008-09-13 00:00:00</td>\n",
       "      <td>1</td>\n",
       "      <td>sand shrimp</td>\n",
       "    </tr>\n",
       "    <tr>\n",
       "      <th>4</th>\n",
       "      <td>4</td>\n",
       "      <td>2008-09-13 00:00:00</td>\n",
       "      <td>1</td>\n",
       "      <td>unidentified hermit crab</td>\n",
       "    </tr>\n",
       "  </tbody>\n",
       "</table>\n",
       "</div>"
      ],
      "text/plain": [
       "   Unnamed: 0                 Date Number Caught                   Species\n",
       "0           0  2008-09-13 00:00:00             1                sea squirt\n",
       "1           1  2008-09-13 00:00:00             1              shore shrimp\n",
       "2           2  2008-09-13 00:00:00             1             mantis shrimp\n",
       "3           3  2008-09-13 00:00:00             1               sand shrimp\n",
       "4           4  2008-09-13 00:00:00             1  unidentified hermit crab"
      ]
     },
     "execution_count": 6,
     "metadata": {},
     "output_type": "execute_result"
    }
   ],
   "source": [
    "fish_df.head()"
   ]
  },
  {
   "cell_type": "code",
   "execution_count": 7,
   "metadata": {
    "collapsed": true
   },
   "outputs": [],
   "source": [
    "def is_number(s):\n",
    "    try:\n",
    "        float(s)\n",
    "        return True\n",
    "    except ValueError:\n",
    "        return False"
   ]
  },
  {
   "cell_type": "code",
   "execution_count": 8,
   "metadata": {
    "collapsed": false
   },
   "outputs": [
    {
     "name": "stdout",
     "output_type": "stream",
     "text": [
      "False\n",
      "False\n",
      "False\n"
     ]
    }
   ],
   "source": [
    "num_caught_list = []\n",
    "for num in list(fish_df['Number Caught']):\n",
    "    if type(num) ==  int:\n",
    "        num_caught_list.append(num)\n",
    "    elif is_number(num):\n",
    "        num_caught_list.append(int(float(num)))\n",
    "    else:\n",
    "        number = ''\n",
    "        started = False\n",
    "        for char in num:\n",
    "            if char.isdigit():\n",
    "                number += char\n",
    "                started = True\n",
    "            else:\n",
    "                if char == '~':\n",
    "                    print started\n",
    "                if started:\n",
    "                    break\n",
    "        if len(number):\n",
    "            num_caught_list.append(int(number))\n",
    "        else:\n",
    "            if num in ['Numerous', 'TMTC', 'Too Many To Count']:\n",
    "                num_caught_list.append(30)\n",
    "            else:\n",
    "                num_caught_list.append(1)"
   ]
  },
  {
   "cell_type": "code",
   "execution_count": 9,
   "metadata": {
    "collapsed": false
   },
   "outputs": [
    {
     "data": {
      "text/plain": [
       "892"
      ]
     },
     "execution_count": 9,
     "metadata": {},
     "output_type": "execute_result"
    }
   ],
   "source": [
    "len(num_caught_list)"
   ]
  },
  {
   "cell_type": "code",
   "execution_count": 10,
   "metadata": {
    "collapsed": true
   },
   "outputs": [],
   "source": [
    "fish_df['Number Caught'] = num_caught_list"
   ]
  },
  {
   "cell_type": "code",
   "execution_count": 11,
   "metadata": {
    "collapsed": false
   },
   "outputs": [
    {
     "name": "stdout",
     "output_type": "stream",
     "text": [
      "<class 'pandas.core.frame.DataFrame'>\n",
      "RangeIndex: 892 entries, 0 to 891\n",
      "Data columns (total 4 columns):\n",
      "Unnamed: 0       892 non-null int64\n",
      "Date             892 non-null object\n",
      "Number Caught    892 non-null int64\n",
      "Species          892 non-null object\n",
      "dtypes: int64(2), object(2)\n",
      "memory usage: 27.9+ KB\n"
     ]
    }
   ],
   "source": [
    "fish_df.info()"
   ]
  },
  {
   "cell_type": "code",
   "execution_count": 12,
   "metadata": {
    "collapsed": false
   },
   "outputs": [
    {
     "data": {
      "text/html": [
       "<div>\n",
       "<table border=\"1\" class=\"dataframe\">\n",
       "  <thead>\n",
       "    <tr style=\"text-align: right;\">\n",
       "      <th></th>\n",
       "      <th>Unnamed: 0</th>\n",
       "      <th>Date</th>\n",
       "      <th>Number Caught</th>\n",
       "      <th>Species</th>\n",
       "    </tr>\n",
       "  </thead>\n",
       "  <tbody>\n",
       "    <tr>\n",
       "      <th>0</th>\n",
       "      <td>0</td>\n",
       "      <td>2008-09-13 00:00:00</td>\n",
       "      <td>1</td>\n",
       "      <td>sea squirt</td>\n",
       "    </tr>\n",
       "    <tr>\n",
       "      <th>1</th>\n",
       "      <td>1</td>\n",
       "      <td>2008-09-13 00:00:00</td>\n",
       "      <td>1</td>\n",
       "      <td>shore shrimp</td>\n",
       "    </tr>\n",
       "    <tr>\n",
       "      <th>2</th>\n",
       "      <td>2</td>\n",
       "      <td>2008-09-13 00:00:00</td>\n",
       "      <td>1</td>\n",
       "      <td>mantis shrimp</td>\n",
       "    </tr>\n",
       "    <tr>\n",
       "      <th>3</th>\n",
       "      <td>3</td>\n",
       "      <td>2008-09-13 00:00:00</td>\n",
       "      <td>1</td>\n",
       "      <td>sand shrimp</td>\n",
       "    </tr>\n",
       "    <tr>\n",
       "      <th>4</th>\n",
       "      <td>4</td>\n",
       "      <td>2008-09-13 00:00:00</td>\n",
       "      <td>1</td>\n",
       "      <td>unidentified hermit crab</td>\n",
       "    </tr>\n",
       "  </tbody>\n",
       "</table>\n",
       "</div>"
      ],
      "text/plain": [
       "   Unnamed: 0                 Date  Number Caught                   Species\n",
       "0           0  2008-09-13 00:00:00              1                sea squirt\n",
       "1           1  2008-09-13 00:00:00              1              shore shrimp\n",
       "2           2  2008-09-13 00:00:00              1             mantis shrimp\n",
       "3           3  2008-09-13 00:00:00              1               sand shrimp\n",
       "4           4  2008-09-13 00:00:00              1  unidentified hermit crab"
      ]
     },
     "execution_count": 12,
     "metadata": {},
     "output_type": "execute_result"
    }
   ],
   "source": [
    "fish_df.head()"
   ]
  },
  {
   "cell_type": "code",
   "execution_count": 13,
   "metadata": {
    "collapsed": true
   },
   "outputs": [],
   "source": [
    "fish_names = set(list(fish_df['Species']))"
   ]
  },
  {
   "cell_type": "code",
   "execution_count": 14,
   "metadata": {
    "collapsed": true
   },
   "outputs": [],
   "source": [
    "fish_df['Date'] = pd.to_datetime(fish_df['Date'])"
   ]
  },
  {
   "cell_type": "code",
   "execution_count": 15,
   "metadata": {
    "collapsed": true
   },
   "outputs": [],
   "source": [
    "catch_by_year = fish_df[['Date', 'Species', 'Number Caught']].groupby(fish_df['Date'].map(lambda x: x.year))"
   ]
  },
  {
   "cell_type": "code",
   "execution_count": null,
   "metadata": {
    "collapsed": false
   },
   "outputs": [],
   "source": []
  },
  {
   "cell_type": "code",
   "execution_count": 16,
   "metadata": {
    "collapsed": false
   },
   "outputs": [],
   "source": [
    "year_fish_count = {}\n",
    "cat =catch_by_year.get_group(2010).groupby('Species').sum()\n",
    "cat.index\n",
    "\n",
    "for group in catch_by_year:\n",
    "    year_fish_count[group[0]] = []\n",
    "    fish_caught = catch_by_year.get_group(group[0]).groupby('Species').sum()\n",
    "    for name in sorted(list(fish_names)):\n",
    "        if name in list(fish_caught.index):\n",
    "            year_fish_count[group[0]].append(int(fish_caught.loc[name]))\n",
    "        else:\n",
    "            year_fish_count[group[0]].append(0)"
   ]
  },
  {
   "cell_type": "code",
   "execution_count": 17,
   "metadata": {
    "collapsed": false
   },
   "outputs": [],
   "source": [
    "#year_fish_count"
   ]
  },
  {
   "cell_type": "code",
   "execution_count": null,
   "metadata": {
    "collapsed": true
   },
   "outputs": [],
   "source": []
  },
  {
   "cell_type": "code",
   "execution_count": 18,
   "metadata": {
    "collapsed": true
   },
   "outputs": [],
   "source": [
    "fish_check_list = pd.DataFrame(data = sorted(list(fish_names)), columns = ['Species'] )"
   ]
  },
  {
   "cell_type": "code",
   "execution_count": 19,
   "metadata": {
    "collapsed": false
   },
   "outputs": [],
   "source": [
    "#fish_check_list"
   ]
  },
  {
   "cell_type": "code",
   "execution_count": 20,
   "metadata": {
    "collapsed": true
   },
   "outputs": [],
   "source": [
    "years = range(2008,2018)"
   ]
  },
  {
   "cell_type": "code",
   "execution_count": 21,
   "metadata": {
    "collapsed": false
   },
   "outputs": [],
   "source": [
    "for year in years:\n",
    "    fish_check_list[year] =  year_fish_count[year]"
   ]
  },
  {
   "cell_type": "code",
   "execution_count": 22,
   "metadata": {
    "collapsed": false
   },
   "outputs": [],
   "source": [
    "fish_check_list\n",
    "fish_check_list['Total Caught'] = fish_check_list[[2008, 2009, 2010, 2011,2012,2013,2014,2015,2016,2017]].sum(axis=1)"
   ]
  },
  {
   "cell_type": "code",
   "execution_count": 23,
   "metadata": {
    "collapsed": false
   },
   "outputs": [
    {
     "name": "stdout",
     "output_type": "stream",
     "text": [
      "['Total Caught Per Year', 17, 16, 123, 1345, 664, 685, 175, 792, 1560, 914, 6291]\n"
     ]
    }
   ],
   "source": [
    "total_by_year_list = ['Total Caught Per Year']\n",
    "\n",
    "for year in fish_check_list.columns.values:\n",
    "    if type(year) is int:\n",
    "        total_by_year_list.append(sum(list(fish_check_list[year])))\n",
    "total_by_year_list.append(sum(list(fish_check_list['Total Caught'])))\n",
    "print total_by_year_list\n",
    "fish_check_list.loc[fish_check_list.shape[0]] = total_by_year_list\n"
   ]
  },
  {
   "cell_type": "code",
   "execution_count": 24,
   "metadata": {
    "collapsed": false
   },
   "outputs": [],
   "source": [
    "#fish_check_list[['Species', 'Total Caught']].sort_values('Total Caught', ascending = False)"
   ]
  },
  {
   "cell_type": "code",
   "execution_count": 25,
   "metadata": {
    "collapsed": false
   },
   "outputs": [],
   "source": [
    "fish_check_list['Total Seasons'] =  (fish_check_list[[2008,2009,2010,2011,2012,2013,2014,2015,2016,2017]] > 0).sum(1)\n",
    "fish_check_list['' ] = ''"
   ]
  },
  {
   "cell_type": "code",
   "execution_count": 26,
   "metadata": {
    "collapsed": false
   },
   "outputs": [],
   "source": [
    "fish_check_list = pd.concat([fish_check_list,fish_check_list[['Species', 'Total Caught']].sort_values('Total Caught', ascending = False).reset_index()], axis = 1)"
   ]
  },
  {
   "cell_type": "code",
   "execution_count": null,
   "metadata": {
    "collapsed": false
   },
   "outputs": [],
   "source": []
  },
  {
   "cell_type": "code",
   "execution_count": 27,
   "metadata": {
    "collapsed": false
   },
   "outputs": [],
   "source": [
    "fish_check_list  = fish_check_list.drop('index', axis=1)\n"
   ]
  },
  {
   "cell_type": "code",
   "execution_count": null,
   "metadata": {
    "collapsed": false
   },
   "outputs": [],
   "source": []
  },
  {
   "cell_type": "code",
   "execution_count": 29,
   "metadata": {
    "collapsed": false
   },
   "outputs": [],
   "source": [
    "fish_check_list.to_csv('Created CSVs/Species_Count_By_Year.csv', index = False)"
   ]
  },
  {
   "cell_type": "code",
   "execution_count": null,
   "metadata": {
    "collapsed": true
   },
   "outputs": [],
   "source": []
  },
  {
   "cell_type": "code",
   "execution_count": null,
   "metadata": {
    "collapsed": true
   },
   "outputs": [],
   "source": []
  },
  {
   "cell_type": "code",
   "execution_count": null,
   "metadata": {
    "collapsed": true
   },
   "outputs": [],
   "source": []
  }
 ],
 "metadata": {
  "anaconda-cloud": {},
  "kernelspec": {
   "display_name": "Python [conda root]",
   "language": "python",
   "name": "conda-root-py"
  },
  "language_info": {
   "codemirror_mode": {
    "name": "ipython",
    "version": 2
   },
   "file_extension": ".py",
   "mimetype": "text/x-python",
   "name": "python",
   "nbconvert_exporter": "python",
   "pygments_lexer": "ipython2",
   "version": "2.7.12"
  }
 },
 "nbformat": 4,
 "nbformat_minor": 1
}
