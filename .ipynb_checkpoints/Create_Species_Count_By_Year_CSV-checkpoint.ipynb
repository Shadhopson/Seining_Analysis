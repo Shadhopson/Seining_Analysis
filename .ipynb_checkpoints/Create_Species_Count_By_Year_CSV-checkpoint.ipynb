{
 "cells": [
  {
   "cell_type": "code",
   "execution_count": 135,
   "metadata": {
    "collapsed": true
   },
   "outputs": [],
   "source": [
    "import pandas as pd"
   ]
  },
  {
   "cell_type": "code",
   "execution_count": 136,
   "metadata": {
    "collapsed": true
   },
   "outputs": [],
   "source": [
    "fish_df = pd.read_csv('Name_Corrected_All_Seins.csv')"
   ]
  },
  {
   "cell_type": "code",
   "execution_count": 137,
   "metadata": {
    "collapsed": false
   },
   "outputs": [
    {
     "name": "stdout",
     "output_type": "stream",
     "text": [
      "<class 'pandas.core.frame.DataFrame'>\n",
      "RangeIndex: 892 entries, 0 to 891\n",
      "Data columns (total 4 columns):\n",
      "Unnamed: 0       892 non-null int64\n",
      "Date             892 non-null object\n",
      "Number Caught    727 non-null object\n",
      "Species          892 non-null object\n",
      "dtypes: int64(1), object(3)\n",
      "memory usage: 27.9+ KB\n"
     ]
    }
   ],
   "source": [
    "fish_df.info()"
   ]
  },
  {
   "cell_type": "code",
   "execution_count": 138,
   "metadata": {
    "collapsed": true
   },
   "outputs": [],
   "source": [
    "fish_df = fish_df.fillna(1)"
   ]
  },
  {
   "cell_type": "code",
   "execution_count": 139,
   "metadata": {
    "collapsed": false
   },
   "outputs": [
    {
     "name": "stdout",
     "output_type": "stream",
     "text": [
      "<class 'pandas.core.frame.DataFrame'>\n",
      "RangeIndex: 892 entries, 0 to 891\n",
      "Data columns (total 4 columns):\n",
      "Unnamed: 0       892 non-null int64\n",
      "Date             892 non-null object\n",
      "Number Caught    892 non-null object\n",
      "Species          892 non-null object\n",
      "dtypes: int64(1), object(3)\n",
      "memory usage: 27.9+ KB\n"
     ]
    }
   ],
   "source": [
    "fish_df.info()"
   ]
  },
  {
   "cell_type": "code",
   "execution_count": 140,
   "metadata": {
    "collapsed": false
   },
   "outputs": [
    {
     "data": {
      "text/html": [
       "<div>\n",
       "<table border=\"1\" class=\"dataframe\">\n",
       "  <thead>\n",
       "    <tr style=\"text-align: right;\">\n",
       "      <th></th>\n",
       "      <th>Unnamed: 0</th>\n",
       "      <th>Date</th>\n",
       "      <th>Number Caught</th>\n",
       "      <th>Species</th>\n",
       "    </tr>\n",
       "  </thead>\n",
       "  <tbody>\n",
       "    <tr>\n",
       "      <th>0</th>\n",
       "      <td>0</td>\n",
       "      <td>2008-09-13 00:00:00</td>\n",
       "      <td>1</td>\n",
       "      <td>tunicates</td>\n",
       "    </tr>\n",
       "    <tr>\n",
       "      <th>1</th>\n",
       "      <td>1</td>\n",
       "      <td>2008-09-13 00:00:00</td>\n",
       "      <td>1</td>\n",
       "      <td>shrimp</td>\n",
       "    </tr>\n",
       "    <tr>\n",
       "      <th>2</th>\n",
       "      <td>2</td>\n",
       "      <td>2008-09-13 00:00:00</td>\n",
       "      <td>1</td>\n",
       "      <td>shrimp</td>\n",
       "    </tr>\n",
       "    <tr>\n",
       "      <th>3</th>\n",
       "      <td>3</td>\n",
       "      <td>2008-09-13 00:00:00</td>\n",
       "      <td>1</td>\n",
       "      <td>shrimp</td>\n",
       "    </tr>\n",
       "    <tr>\n",
       "      <th>4</th>\n",
       "      <td>4</td>\n",
       "      <td>2008-09-13 00:00:00</td>\n",
       "      <td>1</td>\n",
       "      <td>hermit crab</td>\n",
       "    </tr>\n",
       "  </tbody>\n",
       "</table>\n",
       "</div>"
      ],
      "text/plain": [
       "   Unnamed: 0                 Date Number Caught      Species\n",
       "0           0  2008-09-13 00:00:00             1    tunicates\n",
       "1           1  2008-09-13 00:00:00             1       shrimp\n",
       "2           2  2008-09-13 00:00:00             1       shrimp\n",
       "3           3  2008-09-13 00:00:00             1       shrimp\n",
       "4           4  2008-09-13 00:00:00             1  hermit crab"
      ]
     },
     "execution_count": 140,
     "metadata": {},
     "output_type": "execute_result"
    }
   ],
   "source": [
    "fish_df.head()"
   ]
  },
  {
   "cell_type": "code",
   "execution_count": 141,
   "metadata": {
    "collapsed": true
   },
   "outputs": [],
   "source": [
    "def is_number(s):\n",
    "    try:\n",
    "        float(s)\n",
    "        return True\n",
    "    except ValueError:\n",
    "        return False"
   ]
  },
  {
   "cell_type": "code",
   "execution_count": 142,
   "metadata": {
    "collapsed": false
   },
   "outputs": [
    {
     "name": "stdout",
     "output_type": "stream",
     "text": [
      "False\n",
      "False\n",
      "False\n"
     ]
    }
   ],
   "source": [
    "num_caught_list = []\n",
    "for num in list(fish_df['Number Caught']):\n",
    "    if type(num) ==  int:\n",
    "        num_caught_list.append(num)\n",
    "    elif is_number(num):\n",
    "        num_caught_list.append(int(float(num)))\n",
    "    else:\n",
    "        number = ''\n",
    "        started = False\n",
    "        for char in num:\n",
    "            if char.isdigit():\n",
    "                number += char\n",
    "                started = True\n",
    "            else:\n",
    "                if char == '~':\n",
    "                    print started\n",
    "                if started:\n",
    "                    break\n",
    "        if len(number):\n",
    "            num_caught_list.append(int(number))\n",
    "        else:\n",
    "            if num in ['Numerous', 'TMTC', 'Too Many To Count']:\n",
    "                num_caught_list.append(30)\n",
    "            else:\n",
    "                num_caught_list.append(1)"
   ]
  },
  {
   "cell_type": "code",
   "execution_count": 143,
   "metadata": {
    "collapsed": false
   },
   "outputs": [
    {
     "data": {
      "text/plain": [
       "892"
      ]
     },
     "execution_count": 143,
     "metadata": {},
     "output_type": "execute_result"
    }
   ],
   "source": [
    "len(num_caught_list)"
   ]
  },
  {
   "cell_type": "code",
   "execution_count": 144,
   "metadata": {
    "collapsed": true
   },
   "outputs": [],
   "source": [
    "fish_df['Number Caught'] = num_caught_list"
   ]
  },
  {
   "cell_type": "code",
   "execution_count": 145,
   "metadata": {
    "collapsed": false
   },
   "outputs": [
    {
     "name": "stdout",
     "output_type": "stream",
     "text": [
      "<class 'pandas.core.frame.DataFrame'>\n",
      "RangeIndex: 892 entries, 0 to 891\n",
      "Data columns (total 4 columns):\n",
      "Unnamed: 0       892 non-null int64\n",
      "Date             892 non-null object\n",
      "Number Caught    892 non-null int64\n",
      "Species          892 non-null object\n",
      "dtypes: int64(2), object(2)\n",
      "memory usage: 27.9+ KB\n"
     ]
    }
   ],
   "source": [
    "fish_df.info()"
   ]
  },
  {
   "cell_type": "code",
   "execution_count": 146,
   "metadata": {
    "collapsed": false
   },
   "outputs": [
    {
     "data": {
      "text/html": [
       "<div>\n",
       "<table border=\"1\" class=\"dataframe\">\n",
       "  <thead>\n",
       "    <tr style=\"text-align: right;\">\n",
       "      <th></th>\n",
       "      <th>Unnamed: 0</th>\n",
       "      <th>Date</th>\n",
       "      <th>Number Caught</th>\n",
       "      <th>Species</th>\n",
       "    </tr>\n",
       "  </thead>\n",
       "  <tbody>\n",
       "    <tr>\n",
       "      <th>0</th>\n",
       "      <td>0</td>\n",
       "      <td>2008-09-13 00:00:00</td>\n",
       "      <td>1</td>\n",
       "      <td>tunicates</td>\n",
       "    </tr>\n",
       "    <tr>\n",
       "      <th>1</th>\n",
       "      <td>1</td>\n",
       "      <td>2008-09-13 00:00:00</td>\n",
       "      <td>1</td>\n",
       "      <td>shrimp</td>\n",
       "    </tr>\n",
       "    <tr>\n",
       "      <th>2</th>\n",
       "      <td>2</td>\n",
       "      <td>2008-09-13 00:00:00</td>\n",
       "      <td>1</td>\n",
       "      <td>shrimp</td>\n",
       "    </tr>\n",
       "    <tr>\n",
       "      <th>3</th>\n",
       "      <td>3</td>\n",
       "      <td>2008-09-13 00:00:00</td>\n",
       "      <td>1</td>\n",
       "      <td>shrimp</td>\n",
       "    </tr>\n",
       "    <tr>\n",
       "      <th>4</th>\n",
       "      <td>4</td>\n",
       "      <td>2008-09-13 00:00:00</td>\n",
       "      <td>1</td>\n",
       "      <td>hermit crab</td>\n",
       "    </tr>\n",
       "  </tbody>\n",
       "</table>\n",
       "</div>"
      ],
      "text/plain": [
       "   Unnamed: 0                 Date  Number Caught      Species\n",
       "0           0  2008-09-13 00:00:00              1    tunicates\n",
       "1           1  2008-09-13 00:00:00              1       shrimp\n",
       "2           2  2008-09-13 00:00:00              1       shrimp\n",
       "3           3  2008-09-13 00:00:00              1       shrimp\n",
       "4           4  2008-09-13 00:00:00              1  hermit crab"
      ]
     },
     "execution_count": 146,
     "metadata": {},
     "output_type": "execute_result"
    }
   ],
   "source": [
    "fish_df.head()"
   ]
  },
  {
   "cell_type": "code",
   "execution_count": 147,
   "metadata": {
    "collapsed": true
   },
   "outputs": [],
   "source": [
    "fish_names = set(list(fish_df['Species']))"
   ]
  },
  {
   "cell_type": "code",
   "execution_count": 148,
   "metadata": {
    "collapsed": true
   },
   "outputs": [],
   "source": [
    "fish_df['Date'] = pd.to_datetime(fish_df['Date'])"
   ]
  },
  {
   "cell_type": "code",
   "execution_count": 149,
   "metadata": {
    "collapsed": true
   },
   "outputs": [],
   "source": [
    "catch_by_year = fish_df[['Date', 'Species', 'Number Caught']].groupby(fish_df['Date'].map(lambda x: x.year))"
   ]
  },
  {
   "cell_type": "code",
   "execution_count": null,
   "metadata": {
    "collapsed": false
   },
   "outputs": [],
   "source": []
  },
  {
   "cell_type": "code",
   "execution_count": 150,
   "metadata": {
    "collapsed": false
   },
   "outputs": [],
   "source": [
    "year_fish_count = {}\n",
    "cat =catch_by_year.get_group(2010).groupby('Species').sum()\n",
    "cat.index\n",
    "\n",
    "for group in catch_by_year:\n",
    "    year_fish_count[group[0]] = []\n",
    "    fish_caught = catch_by_year.get_group(group[0]).groupby('Species').sum()\n",
    "    for name in sorted(list(fish_names)):\n",
    "        if name in list(fish_caught.index):\n",
    "            year_fish_count[group[0]].append(int(fish_caught.loc[name]))\n",
    "        else:\n",
    "            year_fish_count[group[0]].append(0)"
   ]
  },
  {
   "cell_type": "code",
   "execution_count": 151,
   "metadata": {
    "collapsed": false
   },
   "outputs": [],
   "source": [
    "#year_fish_count"
   ]
  },
  {
   "cell_type": "code",
   "execution_count": null,
   "metadata": {
    "collapsed": true
   },
   "outputs": [],
   "source": []
  },
  {
   "cell_type": "code",
   "execution_count": 152,
   "metadata": {
    "collapsed": true
   },
   "outputs": [],
   "source": [
    "fish_check_list = pd.DataFrame(data = sorted(list(fish_names)), columns = ['Species'] )"
   ]
  },
  {
   "cell_type": "code",
   "execution_count": 153,
   "metadata": {
    "collapsed": false
   },
   "outputs": [],
   "source": [
    "#fish_check_list"
   ]
  },
  {
   "cell_type": "code",
   "execution_count": 154,
   "metadata": {
    "collapsed": true
   },
   "outputs": [],
   "source": [
    "years = range(2008,2018)"
   ]
  },
  {
   "cell_type": "code",
   "execution_count": 155,
   "metadata": {
    "collapsed": false
   },
   "outputs": [],
   "source": [
    "for year in years:\n",
    "    fish_check_list[year] =  year_fish_count[year]"
   ]
  },
  {
   "cell_type": "code",
   "execution_count": 156,
   "metadata": {
    "collapsed": false
   },
   "outputs": [],
   "source": [
    "fish_check_list\n",
    "fish_check_list['Total Caught'] = fish_check_list[[2008, 2009, 2010, 2011,2012,2013,2014,2015,2016,2017]].sum(axis=1)"
   ]
  },
  {
   "cell_type": "code",
   "execution_count": 157,
   "metadata": {
    "collapsed": false
   },
   "outputs": [
    {
     "name": "stdout",
     "output_type": "stream",
     "text": [
      "['Total Caught Per Year', 17, 16, 123, 1345, 664, 685, 175, 792, 1560, 914, 6291]\n"
     ]
    }
   ],
   "source": [
    "total_by_year_list = ['Total Caught Per Year']\n",
    "\n",
    "for year in fish_check_list.columns.values:\n",
    "    if type(year) is int:\n",
    "        total_by_year_list.append(sum(list(fish_check_list[year])))\n",
    "total_by_year_list.append(sum(list(fish_check_list['Total Caught'])))\n",
    "print total_by_year_list\n",
    "fish_check_list.loc[fish_check_list.shape[0]] = total_by_year_list\n"
   ]
  },
  {
   "cell_type": "code",
   "execution_count": 158,
   "metadata": {
    "collapsed": false
   },
   "outputs": [],
   "source": [
    "#fish_check_list[['Species', 'Total Caught']].sort_values('Total Caught', ascending = False)"
   ]
  },
  {
   "cell_type": "code",
   "execution_count": 159,
   "metadata": {
    "collapsed": false
   },
   "outputs": [],
   "source": [
    "fish_check_list['Total Seasons'] =  (fish_check_list[[2008,2009,2010,2011,2012,2013,2014,2015,2016,2017]] > 0).sum(1)\n",
    "fish_check_list['' ] = ''"
   ]
  },
  {
   "cell_type": "code",
   "execution_count": 160,
   "metadata": {
    "collapsed": false
   },
   "outputs": [],
   "source": [
    "fish_check_list = pd.concat([fish_check_list,fish_check_list[['Species', 'Total Caught']].sort_values('Total Caught', ascending = False).reset_index()], axis = 1)"
   ]
  },
  {
   "cell_type": "code",
   "execution_count": null,
   "metadata": {
    "collapsed": false
   },
   "outputs": [],
   "source": []
  },
  {
   "cell_type": "code",
   "execution_count": 161,
   "metadata": {
    "collapsed": false
   },
   "outputs": [],
   "source": [
    "fish_check_list  = fish_check_list.drop('index', axis=1)\n"
   ]
  },
  {
   "cell_type": "code",
   "execution_count": null,
   "metadata": {
    "collapsed": false
   },
   "outputs": [],
   "source": []
  },
  {
   "cell_type": "code",
   "execution_count": 162,
   "metadata": {
    "collapsed": false
   },
   "outputs": [],
   "source": [
    "fish_check_list.to_csv('Species_Count_By_Year.csv', index = False)"
   ]
  },
  {
   "cell_type": "code",
   "execution_count": null,
   "metadata": {
    "collapsed": true
   },
   "outputs": [],
   "source": []
  },
  {
   "cell_type": "code",
   "execution_count": null,
   "metadata": {
    "collapsed": true
   },
   "outputs": [],
   "source": []
  },
  {
   "cell_type": "code",
   "execution_count": null,
   "metadata": {
    "collapsed": true
   },
   "outputs": [],
   "source": []
  }
 ],
 "metadata": {
  "anaconda-cloud": {},
  "kernelspec": {
   "display_name": "Python [conda root]",
   "language": "python",
   "name": "conda-root-py"
  },
  "language_info": {
   "codemirror_mode": {
    "name": "ipython",
    "version": 2
   },
   "file_extension": ".py",
   "mimetype": "text/x-python",
   "name": "python",
   "nbconvert_exporter": "python",
   "pygments_lexer": "ipython2",
   "version": "2.7.12"
  }
 },
 "nbformat": 4,
 "nbformat_minor": 1
}
