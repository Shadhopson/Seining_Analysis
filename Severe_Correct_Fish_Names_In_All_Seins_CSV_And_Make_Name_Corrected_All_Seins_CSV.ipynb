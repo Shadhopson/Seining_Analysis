{
 "cells": [
  {
   "cell_type": "code",
   "execution_count": 126,
   "metadata": {
    "collapsed": true
   },
   "outputs": [],
   "source": [
    "import pandas as pd\n"
   ]
  },
  {
   "cell_type": "code",
   "execution_count": 127,
   "metadata": {
    "collapsed": false
   },
   "outputs": [],
   "source": [
    "fish_df = pd.read_csv('Created CSVs/all_seins.csv')[['Date', 'Number Caught', 'Species']]"
   ]
  },
  {
   "cell_type": "code",
   "execution_count": 128,
   "metadata": {
    "collapsed": false
   },
   "outputs": [
    {
     "data": {
      "text/plain": [
       "292"
      ]
     },
     "execution_count": 128,
     "metadata": {},
     "output_type": "execute_result"
    }
   ],
   "source": [
    "len(set(fish_df[['Species']].values.ravel()))"
   ]
  },
  {
   "cell_type": "code",
   "execution_count": 129,
   "metadata": {
    "collapsed": false
   },
   "outputs": [],
   "source": [
    "import re\n",
    "fish_list = [re.sub(r'([^\\s\\w]|_)+', '', f) for f in fish_df['Species']]\n",
    "fish_list = [f.lower().replace('yoy', '') for f in fish_list]\n",
    "fish_list = [f.strip() for f in fish_list]\n",
    "\n",
    "#fish_list = list(set(fish_list))\n",
    "first_set = set(fish_list)"
   ]
  },
  {
   "cell_type": "code",
   "execution_count": 130,
   "metadata": {
    "collapsed": false
   },
   "outputs": [],
   "source": [
    "from difflib import SequenceMatcher"
   ]
  },
  {
   "cell_type": "code",
   "execution_count": 131,
   "metadata": {
    "collapsed": true
   },
   "outputs": [],
   "source": [
    "def similar(a, b):\n",
    "    return SequenceMatcher(None, a, b).ratio()"
   ]
  },
  {
   "cell_type": "code",
   "execution_count": 132,
   "metadata": {
    "collapsed": false
   },
   "outputs": [],
   "source": [
    "count = 0\n",
    "fish_changes = []\n",
    "for i in range(len(fish_list)):\n",
    "    for j in range(i+1, len(fish_list)):\n",
    "        if fish_list[i] ==  fish_list[j]:\n",
    "            continue\n",
    "        if similar(fish_list[i], fish_list[j]) > 0.85:\n",
    "            fish_changes.append([fish_list[i], fish_list[j]])\n",
    "            if len(fish_list[i]) < len(fish_list[j]):\n",
    "                fish_list[j] = fish_list[i]\n",
    "            else:\n",
    "                fish_list[i] = fish_list[j]"
   ]
  },
  {
   "cell_type": "code",
   "execution_count": 133,
   "metadata": {
    "collapsed": true
   },
   "outputs": [],
   "source": [
    "second_set = set(fish_list)"
   ]
  },
  {
   "cell_type": "code",
   "execution_count": 134,
   "metadata": {
    "collapsed": false
   },
   "outputs": [
    {
     "data": {
      "text/plain": [
       "194"
      ]
     },
     "execution_count": 134,
     "metadata": {},
     "output_type": "execute_result"
    }
   ],
   "source": [
    "len(first_set)"
   ]
  },
  {
   "cell_type": "code",
   "execution_count": 135,
   "metadata": {
    "collapsed": false
   },
   "outputs": [
    {
     "data": {
      "text/plain": [
       "152"
      ]
     },
     "execution_count": 135,
     "metadata": {},
     "output_type": "execute_result"
    }
   ],
   "source": [
    "len(second_set)"
   ]
  },
  {
   "cell_type": "code",
   "execution_count": 136,
   "metadata": {
    "collapsed": false
   },
   "outputs": [
    {
     "data": {
      "text/plain": [
       "898"
      ]
     },
     "execution_count": 136,
     "metadata": {},
     "output_type": "execute_result"
    }
   ],
   "source": [
    "len(fish_list)"
   ]
  },
  {
   "cell_type": "code",
   "execution_count": 137,
   "metadata": {
    "collapsed": false
   },
   "outputs": [],
   "source": [
    "name_changes = {'1 oyster toadfish caught in traffic cone' : 'oyster toadfish', '20 ctenophores': 'comb jelly',\n",
    "               'atlantic silverside menidia menidia': 'atlantic silverside','atlanticsilverside': 'atlantic silverside',\n",
    "               'blackfish tautog': 'tautog', 'blue muscle': 'mussel', 'bluefish juvenile': 'bluefish',\n",
    "               'comb jellies': 'comb jelly','comb jellies ctenophores': 'comb jelly','common shore shrimp': 'shrimp',\n",
    "               'common spider crab': 'spider crab', 'bluecrab': 'blue crab', 'crab blue crab':'blue crab', \n",
    "               'juvenille stripped bass': 'striped bass', 'jvvenilee striped buss': 'striped bass', 'taotog': 'tautog',\n",
    "               'tautogblackfish': 'tautog', 'the cutest northern puffer ever':'puffer','window pain':'flatfish',\n",
    "               'true jellies': 'jellyfish', 'true jelly': 'jellyfish', 'true jelly fish': 'jellyfish', 'sea squirtsolitary tunicate': 'sea squirt',\n",
    "               'oyster drill': 'sea snail', 'green crab carcinus maenas': 'green crab','green crab european':'green crab',\n",
    "               'porgyscup': 'porgy', 'norther puffer': 'puffer', 'norther pipefish': 'northern pipefish', 'ctenophore':'comb jelly',\n",
    "                'ghost shrimp':'shrimp','glass shrimp shore shrimp': 'shrimp', 'golden star colonial tunicate': 'tunicates',\n",
    "               'lions mane jellyfish cyanea capillata': 'jellyfish', 'muslces':'mussel', 'pipefish syngnathinae': 'northern pipefish',\n",
    "               \"porgies\":\"porgy\",\"seahorse\":\"northern seahorse\", \"sea horse hippocampus\": \"northern seahorse\", \"sea horse\": \"northern seahorse\", 'winter flounder righteye': 'flatfish',\n",
    "               'shrimp seven spine': 'shrimp', 'star tunicate':'tunicates', 'seven spine shrimp': 'shrimp','pipefish': 'northern pipefish',\n",
    "               'northern puffer': 'puffer', 'northern sea robin': 'sea robin', 'herring spp pre metamorph': 'herring', 'grubby sculpin family': 'grubby',\n",
    "               \"blue back\": \"herring\", 'alewife':'herring', 'atlantic herring': 'herring', 'blueback herring': 'herring',\n",
    "               'colonial tunicate': 'tunicates', 'golden star tunicate': 'tunicates','sea squirt': 'tunicates', 'tunicate sponge': 'tunicates',\n",
    "               'shrimp shore and mud': 'shrimp', 'seven spine shrimp': 'shrimp', 'shore shrimp': 'shrimp', 'sand shrimp': 'shrimp', 'mantis shrimp': 'shrimp',\n",
    "               'grass shrimp': 'shrimp', 'glass shrimp': 'shrimp', 'flounder': 'flatfish', 'flounder righteye': 'flatfish', 'hogchoker': 'flatfish',\n",
    "               'summer flounder': 'flatfish', 'windowpane flounder': 'flatfish', 'winter flounder': 'flatfish', 'menhaden': 'atlantic menhaden',\n",
    "               'silverside': 'atlantic silverside', 'blue mussel': 'mussel', 'eastern oyster': 'oyster', 'anchovy': 'bay anchovy',\n",
    "                'moon jelly': 'jellyfish', 'jelly fish': 'jellyfish', 'lions mane jellyfish': 'jellyfish', 'scud': 'amphipod', 'ribbed mussel': 'mussel',\n",
    "               'mud snail': 'sea snail', 'oyster drill snail': 'sea snail', 'snail': 'sea snail', 'whelk snail':'sea snail', 'snail eggs': 'sea snail', 'sea bass': 'black sea bass',\n",
    "               'sheepshead porgy': 'porgy', 'striped searobin': 'sea robin', 'black fingered mud crab': 'mud crab', 'clam worm probably nereis spp': 'polychaete worm',\n",
    "               'poly worm': 'polychaete worm', 'sandworm': 'polychaete worm', 'white fingered mud crab': 'mud crab', 'decoration crab': 'spider crab',\n",
    "               'hydra medusa': 'hydrozoa', 'hydroid': 'hydrozoa', 'hydromedusae' : 'hydrozoa', 'red beard sponge': 'sponge'}"
   ]
  },
  {
   "cell_type": "code",
   "execution_count": 138,
   "metadata": {
    "collapsed": true
   },
   "outputs": [],
   "source": [
    "for i in range(len(fish_list)):\n",
    "    if fish_list[i] in name_changes:\n",
    "        fish_list[i] = name_changes[fish_list[i]]"
   ]
  },
  {
   "cell_type": "code",
   "execution_count": 139,
   "metadata": {
    "collapsed": false
   },
   "outputs": [
    {
     "data": {
      "text/plain": [
       "66"
      ]
     },
     "execution_count": 139,
     "metadata": {},
     "output_type": "execute_result"
    }
   ],
   "source": [
    "len(list(set(fish_list)))"
   ]
  },
  {
   "cell_type": "code",
   "execution_count": 140,
   "metadata": {
    "collapsed": false
   },
   "outputs": [
    {
     "data": {
      "text/plain": [
       "{'american eel',\n",
       " 'american shad',\n",
       " 'amphipod',\n",
       " 'anemone',\n",
       " 'asian shore crab',\n",
       " 'atlantic menhaden',\n",
       " 'atlantic silverside',\n",
       " 'atlantic tomcod',\n",
       " 'bay anchovy',\n",
       " 'black sea bass',\n",
       " 'blue crab',\n",
       " 'bluefish',\n",
       " 'bluespotted cornetfish',\n",
       " 'box crab',\n",
       " 'clams',\n",
       " 'comb jelly',\n",
       " 'cunner',\n",
       " 'flatfish',\n",
       " 'green crab',\n",
       " 'grubby',\n",
       " 'hemigraphis molt',\n",
       " 'hermit crab',\n",
       " 'herring',\n",
       " 'hydrozoa',\n",
       " 'isopod',\n",
       " 'jellyfish',\n",
       " 'lady crab',\n",
       " 'mole crab',\n",
       " 'mud crab',\n",
       " 'mussel',\n",
       " 'naked goby',\n",
       " 'northern kingfish',\n",
       " 'northern pipefish',\n",
       " 'northern seahorse',\n",
       " 'northern stargazer',\n",
       " 'oyster',\n",
       " 'oyster shell',\n",
       " 'oyster toadfish',\n",
       " 'polychaete worm',\n",
       " 'porgy',\n",
       " 'puffer',\n",
       " 'sea robin',\n",
       " 'sea snail',\n",
       " 'sea squirt',\n",
       " 'seaboard goby',\n",
       " 'sennet',\n",
       " 'shrimp',\n",
       " 'silver perch',\n",
       " 'skillet fish',\n",
       " 'slipper shell',\n",
       " 'slipper snail shell',\n",
       " 'species caught',\n",
       " 'spider crab',\n",
       " 'sponge',\n",
       " 'spotted hake',\n",
       " 'spotted whiff',\n",
       " 'striped bass',\n",
       " 'tautog',\n",
       " 'tube worm',\n",
       " 'tunicates',\n",
       " 'two hemigrapsis molts were found on the beach',\n",
       " 'unidentified fish',\n",
       " 'western mosquito fish',\n",
       " 'white mullet',\n",
       " 'white perch',\n",
       " 'wrasel sea bass'}"
      ]
     },
     "execution_count": 140,
     "metadata": {},
     "output_type": "execute_result"
    }
   ],
   "source": [
    "set(fish_list)"
   ]
  },
  {
   "cell_type": "code",
   "execution_count": 141,
   "metadata": {
    "collapsed": true
   },
   "outputs": [],
   "source": [
    "remove_row_list = ['two hemigrapsis molts were found on the beach', 'species caught', 'slipper snail shell', 'slipper snail shell', 'slipper shell', 'oyster shell','hemigraphis molt']"
   ]
  },
  {
   "cell_type": "code",
   "execution_count": 142,
   "metadata": {
    "collapsed": false
   },
   "outputs": [],
   "source": [
    "#fish_list\n",
    "fish_df[['Species']].head()\n",
    "fish_df.drop('Species', axis = 1, inplace = True)"
   ]
  },
  {
   "cell_type": "code",
   "execution_count": 143,
   "metadata": {
    "collapsed": false
   },
   "outputs": [],
   "source": [
    "fish_df['Species'] =  fish_list"
   ]
  },
  {
   "cell_type": "code",
   "execution_count": 144,
   "metadata": {
    "collapsed": false
   },
   "outputs": [],
   "source": [
    "fish_df = fish_df[fish_df['Species'].isin(remove_row_list) == False]"
   ]
  },
  {
   "cell_type": "code",
   "execution_count": 145,
   "metadata": {
    "collapsed": false
   },
   "outputs": [
    {
     "data": {
      "text/plain": [
       "{'american eel',\n",
       " 'american shad',\n",
       " 'amphipod',\n",
       " 'anemone',\n",
       " 'asian shore crab',\n",
       " 'atlantic menhaden',\n",
       " 'atlantic silverside',\n",
       " 'atlantic tomcod',\n",
       " 'bay anchovy',\n",
       " 'black sea bass',\n",
       " 'blue crab',\n",
       " 'bluefish',\n",
       " 'bluespotted cornetfish',\n",
       " 'box crab',\n",
       " 'clams',\n",
       " 'comb jelly',\n",
       " 'cunner',\n",
       " 'flatfish',\n",
       " 'green crab',\n",
       " 'grubby',\n",
       " 'hermit crab',\n",
       " 'herring',\n",
       " 'hydrozoa',\n",
       " 'isopod',\n",
       " 'jellyfish',\n",
       " 'lady crab',\n",
       " 'mole crab',\n",
       " 'mud crab',\n",
       " 'mussel',\n",
       " 'naked goby',\n",
       " 'northern kingfish',\n",
       " 'northern pipefish',\n",
       " 'northern seahorse',\n",
       " 'northern stargazer',\n",
       " 'oyster',\n",
       " 'oyster toadfish',\n",
       " 'polychaete worm',\n",
       " 'porgy',\n",
       " 'puffer',\n",
       " 'sea robin',\n",
       " 'sea snail',\n",
       " 'sea squirt',\n",
       " 'seaboard goby',\n",
       " 'sennet',\n",
       " 'shrimp',\n",
       " 'silver perch',\n",
       " 'skillet fish',\n",
       " 'spider crab',\n",
       " 'sponge',\n",
       " 'spotted hake',\n",
       " 'spotted whiff',\n",
       " 'striped bass',\n",
       " 'tautog',\n",
       " 'tube worm',\n",
       " 'tunicates',\n",
       " 'unidentified fish',\n",
       " 'western mosquito fish',\n",
       " 'white mullet',\n",
       " 'white perch',\n",
       " 'wrasel sea bass'}"
      ]
     },
     "execution_count": 145,
     "metadata": {},
     "output_type": "execute_result"
    }
   ],
   "source": [
    "set(list(fish_df['Species']))"
   ]
  },
  {
   "cell_type": "code",
   "execution_count": 146,
   "metadata": {
    "collapsed": true
   },
   "outputs": [],
   "source": [
    "fish_df.to_csv('Created CSVs/Combined_Name_Corrected_All_Seins.csv')"
   ]
  },
  {
   "cell_type": "code",
   "execution_count": null,
   "metadata": {
    "collapsed": true
   },
   "outputs": [],
   "source": []
  },
  {
   "cell_type": "code",
   "execution_count": null,
   "metadata": {
    "collapsed": true
   },
   "outputs": [],
   "source": []
  }
 ],
 "metadata": {
  "anaconda-cloud": {},
  "kernelspec": {
   "display_name": "Python [conda root]",
   "language": "python",
   "name": "conda-root-py"
  },
  "language_info": {
   "codemirror_mode": {
    "name": "ipython",
    "version": 2
   },
   "file_extension": ".py",
   "mimetype": "text/x-python",
   "name": "python",
   "nbconvert_exporter": "python",
   "pygments_lexer": "ipython2",
   "version": "2.7.12"
  }
 },
 "nbformat": 4,
 "nbformat_minor": 1
}
