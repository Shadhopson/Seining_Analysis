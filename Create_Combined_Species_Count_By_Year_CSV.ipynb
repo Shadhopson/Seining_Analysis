{
 "cells": [
  {
   "cell_type": "code",
   "execution_count": 248,
   "metadata": {
    "collapsed": true
   },
   "outputs": [],
   "source": [
    "import pandas as pd"
   ]
  },
  {
   "cell_type": "code",
   "execution_count": 249,
   "metadata": {
    "collapsed": false
   },
   "outputs": [],
   "source": [
    "fish_df = pd.read_csv(\"Created CSVs/Cleaned_For_Analysis_All_Data.csv\")"
   ]
  },
  {
   "cell_type": "code",
   "execution_count": null,
   "metadata": {
    "collapsed": true
   },
   "outputs": [],
   "source": []
  },
  {
   "cell_type": "code",
   "execution_count": 250,
   "metadata": {
    "collapsed": false
   },
   "outputs": [],
   "source": [
    "#fish_df = pd.read_csv('Created CSVs/Name_Corrected_All_Seins.csv')"
   ]
  },
  {
   "cell_type": "code",
   "execution_count": 251,
   "metadata": {
    "collapsed": false
   },
   "outputs": [
    {
     "name": "stdout",
     "output_type": "stream",
     "text": [
      "<class 'pandas.core.frame.DataFrame'>\n",
      "RangeIndex: 1022 entries, 0 to 1021\n",
      "Data columns (total 30 columns):\n",
      "Unnamed: 0                                                             1022 non-null int64\n",
      "Date                                                                   1022 non-null object\n",
      "Time                                                                   576 non-null object\n",
      "Weather & Air Temp:                                                    587 non-null object\n",
      "Water Temp:                                                            454 non-null object\n",
      "Corrected Water Temp:                                                  311 non-null float64\n",
      "pH                                                                     537 non-null object\n",
      "Corrected pH                                                           363 non-null float64\n",
      "DO                                                                     543 non-null object\n",
      "Corrected DO                                                           388 non-null float64\n",
      "Turbidity                                                              234 non-null object\n",
      "Salinity                                                               555 non-null object\n",
      "Corrected Salinity                                                     456 non-null float64\n",
      "Tide is moving                                                         234 non-null object\n",
      "Tide Times                                                             202 non-null object\n",
      "# Hauls                                                                405 non-null object\n",
      "Corrected # Hauls                                                      281 non-null float64\n",
      "Common Name                                                            1022 non-null object\n",
      "Corrected Common Name                                                  1022 non-null object\n",
      "Grouped Corrected Common Name                                          1022 non-null object\n",
      "Quantity                                                               865 non-null object\n",
      "Corrected Quantity                                                     1022 non-null int64\n",
      "Scientific Name                                                        142 non-null object\n",
      "Instructors/ Seine Staff:                                              543 non-null object\n",
      "# student seiners (CLASSES ONLY)                                       191 non-null object\n",
      "# of visitors (Public Seine ONLY)                                      393 non-null object\n",
      "# Brought to Ed Center                                                 201 non-null object\n",
      "Other info (Gender, Length, Dead/Alive, other physical description)    277 non-null object\n",
      "NOTES FROM SEINEING SEASON:                                            4 non-null object\n",
      "Battery Park Water Temp                                                0 non-null float64\n",
      "dtypes: float64(6), int64(2), object(22)\n",
      "memory usage: 239.6+ KB\n"
     ]
    }
   ],
   "source": [
    "fish_df.info()"
   ]
  },
  {
   "cell_type": "code",
   "execution_count": 252,
   "metadata": {
    "collapsed": false
   },
   "outputs": [],
   "source": [
    "fish_df = fish_df[[\"Date\",\"Corrected Common Name\", \"Grouped Corrected Common Name\", \"Corrected Quantity\"]]"
   ]
  },
  {
   "cell_type": "code",
   "execution_count": 253,
   "metadata": {
    "collapsed": true
   },
   "outputs": [],
   "source": [
    "#fish_df = fish_df.fillna(1)"
   ]
  },
  {
   "cell_type": "code",
   "execution_count": 254,
   "metadata": {
    "collapsed": false
   },
   "outputs": [
    {
     "name": "stdout",
     "output_type": "stream",
     "text": [
      "<class 'pandas.core.frame.DataFrame'>\n",
      "RangeIndex: 1022 entries, 0 to 1021\n",
      "Data columns (total 4 columns):\n",
      "Date                             1022 non-null object\n",
      "Corrected Common Name            1022 non-null object\n",
      "Grouped Corrected Common Name    1022 non-null object\n",
      "Corrected Quantity               1022 non-null int64\n",
      "dtypes: int64(1), object(3)\n",
      "memory usage: 32.0+ KB\n"
     ]
    }
   ],
   "source": [
    "fish_df.info()"
   ]
  },
  {
   "cell_type": "code",
   "execution_count": 255,
   "metadata": {
    "collapsed": false
   },
   "outputs": [
    {
     "data": {
      "text/html": [
       "<div>\n",
       "<table border=\"1\" class=\"dataframe\">\n",
       "  <thead>\n",
       "    <tr style=\"text-align: right;\">\n",
       "      <th></th>\n",
       "      <th>Date</th>\n",
       "      <th>Corrected Common Name</th>\n",
       "      <th>Grouped Corrected Common Name</th>\n",
       "      <th>Corrected Quantity</th>\n",
       "    </tr>\n",
       "  </thead>\n",
       "  <tbody>\n",
       "    <tr>\n",
       "      <th>1017</th>\n",
       "      <td>2018-10-06</td>\n",
       "      <td>mud snail</td>\n",
       "      <td>sea snail</td>\n",
       "      <td>2</td>\n",
       "    </tr>\n",
       "    <tr>\n",
       "      <th>1018</th>\n",
       "      <td>2018-10-18</td>\n",
       "      <td>striped bass</td>\n",
       "      <td>striped bass</td>\n",
       "      <td>8</td>\n",
       "    </tr>\n",
       "    <tr>\n",
       "      <th>1019</th>\n",
       "      <td>2018-10-18</td>\n",
       "      <td>atlantic silverside</td>\n",
       "      <td>atlantic silverside</td>\n",
       "      <td>13</td>\n",
       "    </tr>\n",
       "    <tr>\n",
       "      <th>1020</th>\n",
       "      <td>2018-10-18</td>\n",
       "      <td>unidentified flatfish</td>\n",
       "      <td>flatfish</td>\n",
       "      <td>1</td>\n",
       "    </tr>\n",
       "    <tr>\n",
       "      <th>1021</th>\n",
       "      <td>2018-10-18</td>\n",
       "      <td>unidentified herring</td>\n",
       "      <td>herring</td>\n",
       "      <td>2</td>\n",
       "    </tr>\n",
       "  </tbody>\n",
       "</table>\n",
       "</div>"
      ],
      "text/plain": [
       "            Date  Corrected Common Name Grouped Corrected Common Name  \\\n",
       "1017  2018-10-06              mud snail                     sea snail   \n",
       "1018  2018-10-18           striped bass                  striped bass   \n",
       "1019  2018-10-18    atlantic silverside           atlantic silverside   \n",
       "1020  2018-10-18  unidentified flatfish                      flatfish   \n",
       "1021  2018-10-18   unidentified herring                       herring   \n",
       "\n",
       "      Corrected Quantity  \n",
       "1017                   2  \n",
       "1018                   8  \n",
       "1019                  13  \n",
       "1020                   1  \n",
       "1021                   2  "
      ]
     },
     "execution_count": 255,
     "metadata": {},
     "output_type": "execute_result"
    }
   ],
   "source": [
    "fish_df.tail()"
   ]
  },
  {
   "cell_type": "code",
   "execution_count": 256,
   "metadata": {
    "collapsed": true
   },
   "outputs": [],
   "source": [
    "# I want a count of each species in each year"
   ]
  },
  {
   "cell_type": "code",
   "execution_count": 257,
   "metadata": {
    "collapsed": false
   },
   "outputs": [],
   "source": [
    "grouped_names = list(set(fish_df[\"Grouped Corrected Common Name\"]))"
   ]
  },
  {
   "cell_type": "code",
   "execution_count": 258,
   "metadata": {
    "collapsed": true
   },
   "outputs": [],
   "source": [
    "ungrouped_names = list(set(fish_df[\"Corrected Common Name\"]))"
   ]
  },
  {
   "cell_type": "code",
   "execution_count": 259,
   "metadata": {
    "collapsed": true
   },
   "outputs": [],
   "source": [
    "# def is_number(s):\n",
    "#     try:\n",
    "#         float(s)\n",
    "#         return True\n",
    "#     except ValueError:\n",
    "#         return False"
   ]
  },
  {
   "cell_type": "code",
   "execution_count": 260,
   "metadata": {
    "collapsed": false
   },
   "outputs": [],
   "source": [
    "#num_caught_list = []\n",
    "#for num in list(fish_df['Number Caught']):\n",
    "#    if type(num) ==  int:\n",
    "#        num_caught_list.append(num)\n",
    "#    elif is_number(num):\n",
    "#        num_caught_list.append(int(float(num)))\n",
    "#    else:\n",
    "#        number = ''\n",
    "#        started = False\n",
    "#        for char in num:\n",
    "#            if char.isdigit():\n",
    "#                number += char\n",
    "#                started = True\n",
    "#            else:\n",
    "#                if char == '~':\n",
    "#                    print started\n",
    "#                if started:\n",
    "#                    break\n",
    "#        if len(number):\n",
    "#            num_caught_list.append(int(number))\n",
    "#        else:\n",
    "#            if num in ['Numerous', 'TMTC', 'Too Many To Count']:\n",
    "#                num_caught_list.append(30)\n",
    "#            else:\n",
    "#                num_caught_list.append(1)"
   ]
  },
  {
   "cell_type": "code",
   "execution_count": 261,
   "metadata": {
    "collapsed": true
   },
   "outputs": [],
   "source": [
    "#fish_df['Number Caught'] = num_caught_list"
   ]
  },
  {
   "cell_type": "markdown",
   "metadata": {},
   "source": [
    "# Create Combined Species Count"
   ]
  },
  {
   "cell_type": "code",
   "execution_count": 262,
   "metadata": {
    "collapsed": true
   },
   "outputs": [],
   "source": [
    "fish_names = set(list(fish_df['Grouped Corrected Common Name']))"
   ]
  },
  {
   "cell_type": "code",
   "execution_count": 263,
   "metadata": {
    "collapsed": true
   },
   "outputs": [],
   "source": [
    "fish_df['Date'] = pd.to_datetime(fish_df['Date'])"
   ]
  },
  {
   "cell_type": "code",
   "execution_count": 264,
   "metadata": {
    "collapsed": false
   },
   "outputs": [],
   "source": [
    "catch_by_year = fish_df[['Date', 'Grouped Corrected Common Name', 'Corrected Quantity']].groupby(fish_df['Date'].map(lambda x: x.year))"
   ]
  },
  {
   "cell_type": "code",
   "execution_count": 265,
   "metadata": {
    "collapsed": false
   },
   "outputs": [
    {
     "data": {
      "text/plain": [
       "<pandas.core.groupby.DataFrameGroupBy object at 0x00000000094C0160>"
      ]
     },
     "execution_count": 265,
     "metadata": {},
     "output_type": "execute_result"
    }
   ],
   "source": [
    "catch_by_year"
   ]
  },
  {
   "cell_type": "code",
   "execution_count": 266,
   "metadata": {
    "collapsed": false
   },
   "outputs": [],
   "source": [
    "year_fish_count = {}\n",
    "#cat =catch_by_year.get_group(2010).groupby('Species').sum()\n",
    "#cat.index\n",
    "\n",
    "for group in catch_by_year:\n",
    "    year_fish_count[group[0]] = []\n",
    "    fish_caught = catch_by_year.get_group(group[0]).groupby('Grouped Corrected Common Name').sum()\n",
    "    for name in sorted(list(fish_names)):\n",
    "        if name in list(fish_caught.index):\n",
    "            year_fish_count[group[0]].append(int(fish_caught.loc[name]))\n",
    "        else:\n",
    "            year_fish_count[group[0]].append(0)"
   ]
  },
  {
   "cell_type": "code",
   "execution_count": 267,
   "metadata": {
    "collapsed": false
   },
   "outputs": [],
   "source": [
    "#year_fish_count"
   ]
  },
  {
   "cell_type": "code",
   "execution_count": 268,
   "metadata": {
    "collapsed": true
   },
   "outputs": [],
   "source": [
    "fish_check_list = pd.DataFrame(data = sorted(list(fish_names)), columns = ['Grouped Corrected Common Name'] )"
   ]
  },
  {
   "cell_type": "code",
   "execution_count": 269,
   "metadata": {
    "collapsed": false
   },
   "outputs": [],
   "source": [
    "#fish_check_list"
   ]
  },
  {
   "cell_type": "code",
   "execution_count": 270,
   "metadata": {
    "collapsed": true
   },
   "outputs": [],
   "source": [
    "years = range(2008,2019)"
   ]
  },
  {
   "cell_type": "code",
   "execution_count": 271,
   "metadata": {
    "collapsed": false
   },
   "outputs": [],
   "source": [
    "for year in years:\n",
    "    fish_check_list[year] =  year_fish_count[year]"
   ]
  },
  {
   "cell_type": "code",
   "execution_count": 272,
   "metadata": {
    "collapsed": false
   },
   "outputs": [],
   "source": [
    "fish_check_list\n",
    "fish_check_list['Total Caught'] = fish_check_list[[2008, 2009, 2010, 2011,2012,2013,2014,2015,2016,2017, 2018]].sum(axis=1)"
   ]
  },
  {
   "cell_type": "code",
   "execution_count": 273,
   "metadata": {
    "collapsed": false
   },
   "outputs": [
    {
     "name": "stdout",
     "output_type": "stream",
     "text": [
      "['Total Caught Per Year', 17, 16, 123, 1345, 664, 687, 213, 1381, 1699, 921, 983, 8049]\n"
     ]
    }
   ],
   "source": [
    "total_by_year_list = ['Total Caught Per Year']\n",
    "\n",
    "for year in fish_check_list.columns.values:\n",
    "    if type(year) is int:\n",
    "        total_by_year_list.append(sum(list(fish_check_list[year])))\n",
    "total_by_year_list.append(sum(list(fish_check_list['Total Caught'])))\n",
    "print total_by_year_list\n",
    "fish_check_list.loc[fish_check_list.shape[0]] = total_by_year_list\n"
   ]
  },
  {
   "cell_type": "code",
   "execution_count": 274,
   "metadata": {
    "collapsed": false
   },
   "outputs": [],
   "source": [
    "#fish_check_list[['Grouped Corrected Common Name', 'Total Caught']].sort_values('Total Caught', ascending = False)"
   ]
  },
  {
   "cell_type": "code",
   "execution_count": 275,
   "metadata": {
    "collapsed": false
   },
   "outputs": [],
   "source": [
    "fish_check_list['Total Seasons'] =  (fish_check_list[[2008,2009,2010,2011,2012,2013,2014,2015,2016,2017, 2018]] > 0).sum(1)\n",
    "fish_check_list['' ] = ''"
   ]
  },
  {
   "cell_type": "code",
   "execution_count": 276,
   "metadata": {
    "collapsed": false
   },
   "outputs": [],
   "source": [
    "fish_check_list = pd.concat([fish_check_list,fish_check_list[['Grouped Corrected Common Name', 'Total Caught']].sort_values('Total Caught', ascending = False).reset_index()], axis = 1)"
   ]
  },
  {
   "cell_type": "code",
   "execution_count": 277,
   "metadata": {
    "collapsed": false
   },
   "outputs": [],
   "source": [
    "fish_check_list  = fish_check_list.drop('index', axis=1)\n"
   ]
  },
  {
   "cell_type": "code",
   "execution_count": 278,
   "metadata": {
    "collapsed": false
   },
   "outputs": [],
   "source": [
    "fish_check_list.to_csv('Created CSVs/Combined_Species_Count_By_Year_2018.csv', index = False)"
   ]
  },
  {
   "cell_type": "code",
   "execution_count": null,
   "metadata": {
    "collapsed": true
   },
   "outputs": [],
   "source": []
  },
  {
   "cell_type": "markdown",
   "metadata": {
    "collapsed": true
   },
   "source": [
    "# Create  Uncombined Species Count"
   ]
  },
  {
   "cell_type": "code",
   "execution_count": 279,
   "metadata": {
    "collapsed": true
   },
   "outputs": [],
   "source": [
    "fish_names = set(list(fish_df['Corrected Common Name']))"
   ]
  },
  {
   "cell_type": "code",
   "execution_count": 280,
   "metadata": {
    "collapsed": true
   },
   "outputs": [],
   "source": [
    "fish_df['Date'] = pd.to_datetime(fish_df['Date'])"
   ]
  },
  {
   "cell_type": "code",
   "execution_count": 281,
   "metadata": {
    "collapsed": true
   },
   "outputs": [],
   "source": [
    "catch_by_year = fish_df[['Date', 'Corrected Common Name', 'Corrected Quantity']].groupby(fish_df['Date'].map(lambda x: x.year))"
   ]
  },
  {
   "cell_type": "code",
   "execution_count": 282,
   "metadata": {
    "collapsed": true
   },
   "outputs": [],
   "source": [
    "year_fish_count = {}\n",
    "#cat =catch_by_year.get_group(2010).groupby('Species').sum()\n",
    "#cat.index\n",
    "\n",
    "for group in catch_by_year:\n",
    "    year_fish_count[group[0]] = []\n",
    "    fish_caught = catch_by_year.get_group(group[0]).groupby('Corrected Common Name').sum()\n",
    "    for name in sorted(list(fish_names)):\n",
    "        if name in list(fish_caught.index):\n",
    "            year_fish_count[group[0]].append(int(fish_caught.loc[name]))\n",
    "        else:\n",
    "            year_fish_count[group[0]].append(0)"
   ]
  },
  {
   "cell_type": "code",
   "execution_count": 283,
   "metadata": {
    "collapsed": true
   },
   "outputs": [],
   "source": [
    "fish_check_list2 = pd.DataFrame(data = sorted(list(fish_names)), columns = ['Corrected Common Name'] )"
   ]
  },
  {
   "cell_type": "code",
   "execution_count": 284,
   "metadata": {
    "collapsed": true
   },
   "outputs": [],
   "source": [
    "years = range(2008,2019)"
   ]
  },
  {
   "cell_type": "code",
   "execution_count": 285,
   "metadata": {
    "collapsed": true
   },
   "outputs": [],
   "source": [
    "for year in years:\n",
    "    fish_check_list2[year] =  year_fish_count[year]"
   ]
  },
  {
   "cell_type": "code",
   "execution_count": 286,
   "metadata": {
    "collapsed": true
   },
   "outputs": [],
   "source": [
    "fish_check_list2\n",
    "fish_check_list2['Total Caught'] = fish_check_list2[[2008, 2009, 2010, 2011,2012,2013,2014,2015,2016,2017, 2018]].sum(axis=1)"
   ]
  },
  {
   "cell_type": "code",
   "execution_count": 287,
   "metadata": {
    "collapsed": false
   },
   "outputs": [
    {
     "name": "stdout",
     "output_type": "stream",
     "text": [
      "['Total Caught Per Year', 17, 16, 123, 1345, 664, 687, 213, 1381, 1699, 921, 983, 8049]\n"
     ]
    }
   ],
   "source": [
    "total_by_year_list = ['Total Caught Per Year']\n",
    "\n",
    "for year in fish_check_list2.columns.values:\n",
    "    if type(year) is int:\n",
    "        total_by_year_list.append(sum(list(fish_check_list2[year])))\n",
    "total_by_year_list.append(sum(list(fish_check_list2['Total Caught'])))\n",
    "print total_by_year_list\n",
    "fish_check_list2.loc[fish_check_list2.shape[0]] = total_by_year_list\n"
   ]
  },
  {
   "cell_type": "code",
   "execution_count": 288,
   "metadata": {
    "collapsed": true
   },
   "outputs": [],
   "source": [
    "fish_check_list2['Total Seasons'] =  (fish_check_list2[[2008,2009,2010,2011,2012,2013,2014,2015,2016,2017, 2018]] > 0).sum(1)\n",
    "fish_check_list2['' ] = ''"
   ]
  },
  {
   "cell_type": "code",
   "execution_count": 289,
   "metadata": {
    "collapsed": true
   },
   "outputs": [],
   "source": [
    "fish_check_list2 = pd.concat([fish_check_list2,fish_check_list2[['Corrected Common Name', 'Total Caught']].sort_values('Total Caught', ascending = False).reset_index()], axis = 1)"
   ]
  },
  {
   "cell_type": "code",
   "execution_count": 290,
   "metadata": {
    "collapsed": true
   },
   "outputs": [],
   "source": [
    "fish_check_list2  = fish_check_list2.drop('index', axis=1)"
   ]
  },
  {
   "cell_type": "code",
   "execution_count": 291,
   "metadata": {
    "collapsed": false
   },
   "outputs": [],
   "source": [
    "fish_check_list2.to_csv('Created CSVs/Species_Count_By_Year_2018.csv', index = False)"
   ]
  },
  {
   "cell_type": "markdown",
   "metadata": {},
   "source": [
    "# Checking differences from past years"
   ]
  },
  {
   "cell_type": "code",
   "execution_count": 292,
   "metadata": {
    "collapsed": true
   },
   "outputs": [],
   "source": [
    "old_fish_list =  pd.read_csv('Created CSVs/Combined_Species_Count_By_Year2017.csv')"
   ]
  },
  {
   "cell_type": "code",
   "execution_count": 293,
   "metadata": {
    "collapsed": false
   },
   "outputs": [],
   "source": [
    "old_list = list(old_fish_list[\"Species\"])"
   ]
  },
  {
   "cell_type": "code",
   "execution_count": 294,
   "metadata": {
    "collapsed": false
   },
   "outputs": [],
   "source": [
    "new_list = list(fish_check_list[\"Grouped Corrected Common Name\"].iloc[:,0])"
   ]
  },
  {
   "cell_type": "code",
   "execution_count": 295,
   "metadata": {
    "collapsed": false
   },
   "outputs": [],
   "source": [
    "#fish_check_list[\"Grouped Corrected Common Name\"].iloc[:,0]"
   ]
  },
  {
   "cell_type": "code",
   "execution_count": 296,
   "metadata": {
    "collapsed": false
   },
   "outputs": [
    {
     "name": "stdout",
     "output_type": "stream",
     "text": [
      "clam\n",
      "horseshoe crab\n",
      "mullet fish\n",
      "pollock\n",
      "sculpin\n",
      "skilletfish\n",
      "striped burrfish\n"
     ]
    }
   ],
   "source": [
    "for item in new_list:\n",
    "    if item not in old_list:\n",
    "        print item"
   ]
  },
  {
   "cell_type": "code",
   "execution_count": 297,
   "metadata": {
    "collapsed": true
   },
   "outputs": [],
   "source": [
    "#new creatures: horseshoe crab, mullet fish, burrfish, pollock\n",
    "# clam should be clams\n",
    "# bass should be striped bass?\n",
    "# pinfish is a porgy\n",
    "## sculpin, not a searobin?\n",
    "# scup is  a porgy\n",
    "# shore crab should be asian shore or green?\n",
    "# skilletfish should be skillet fish\n",
    "# tomcod is atlantic tomcod\n",
    "# periwinkle to sea snail"
   ]
  },
  {
   "cell_type": "code",
   "execution_count": 298,
   "metadata": {
    "collapsed": false
   },
   "outputs": [],
   "source": [
    "old_fish_list2 =  pd.read_csv('Created CSVs/Non_Combined_Species_Count_By_Year2017.csv')"
   ]
  },
  {
   "cell_type": "code",
   "execution_count": 299,
   "metadata": {
    "collapsed": true
   },
   "outputs": [],
   "source": [
    "old_list2 = list(old_fish_list2[\"Species\"])"
   ]
  },
  {
   "cell_type": "code",
   "execution_count": 300,
   "metadata": {
    "collapsed": false
   },
   "outputs": [],
   "source": [
    "new_list2 = list(fish_check_list2[\"Corrected Common Name\"].iloc[:,0])"
   ]
  },
  {
   "cell_type": "code",
   "execution_count": 301,
   "metadata": {
    "collapsed": false
   },
   "outputs": [
    {
     "name": "stdout",
     "output_type": "stream",
     "text": [
      "clam\n",
      "horseshoe crab\n",
      "long clawed hermit crab\n",
      "mullet fish\n",
      "northern seahorse\n",
      "periwinkle\n",
      "pin fish\n",
      "pollock\n",
      "sculpin\n",
      "skilletfish\n",
      "striped burrfish\n"
     ]
    }
   ],
   "source": [
    "for item in new_list2:\n",
    "    if item not in old_list2:\n",
    "        print item"
   ]
  },
  {
   "cell_type": "code",
   "execution_count": 302,
   "metadata": {
    "collapsed": true
   },
   "outputs": [],
   "source": [
    "#new creatures: horseshoe crab, mullet fish, burrfish, pollock, long clawed hermit crab?, periwinkle?\n",
    "#### shore crab should be asian shore\n",
    "### sculpin, not a searobin?\n",
    "### pinfish is a porgy\n",
    "\n",
    "\n",
    "# change seahorse to northern seahorse\n",
    "# clam should be clams\n",
    "# bass should be striped bass?\n",
    "### pinfish is a porgy\n",
    "### sculpin, not a searobin?\n",
    "# scup is  a porgy\n",
    "#### shore crab should be asian shore or green?\n",
    "# skilletfish should be skillet fish\n",
    "# tomcod is atlantic tomcod\n",
    "# periwinkle to sea snail"
   ]
  },
  {
   "cell_type": "code",
   "execution_count": null,
   "metadata": {
    "collapsed": true
   },
   "outputs": [],
   "source": []
  }
 ],
 "metadata": {
  "anaconda-cloud": {},
  "kernelspec": {
   "display_name": "Python [conda root]",
   "language": "python",
   "name": "conda-root-py"
  },
  "language_info": {
   "codemirror_mode": {
    "name": "ipython",
    "version": 2
   },
   "file_extension": ".py",
   "mimetype": "text/x-python",
   "name": "python",
   "nbconvert_exporter": "python",
   "pygments_lexer": "ipython2",
   "version": "2.7.12"
  }
 },
 "nbformat": 4,
 "nbformat_minor": 1
}
